{
 "cells": [
  {
   "cell_type": "markdown",
   "id": "1deb1ce6-2dd1-4c2c-b3ab-c9f88f2f4e7c",
   "metadata": {},
   "source": [
    "# OPEN WEATHER ONE CALL API FOR WEATHER VARIABLES\n",
    "---\n",
    "---"
   ]
  },
  {
   "cell_type": "code",
   "execution_count": 1,
   "id": "63f01acf-7587-4d17-8068-3693b59563b7",
   "metadata": {},
   "outputs": [],
   "source": [
    "# https://openweathermap.org/api/one-call-3\n",
    "# Lesson 5.01 - APIs\n",
    "# https://note.nkmk.me/en/python-unix-time-datetime/"
   ]
  },
  {
   "cell_type": "markdown",
   "id": "e90bc930-925f-4f2b-9064-3274c708c184",
   "metadata": {},
   "source": [
    "# Imports\n",
    "---"
   ]
  },
  {
   "cell_type": "code",
   "execution_count": 2,
   "id": "0a3dfebf-fd27-46af-a323-d391d7e9c384",
   "metadata": {},
   "outputs": [],
   "source": [
    "import pandas as pd\n",
    "from pandas import json_normalize\n",
    "import numpy as np\n",
    "import seaborn as sns\n",
    "import matplotlib.pyplot as plt\n",
    "\n",
    "import requests\n",
    "\n",
    "import datetime\n",
    "\n",
    "%matplotlib inline\n",
    "pd.set_option('display.max_columns', None)"
   ]
  },
  {
   "cell_type": "markdown",
   "id": "0bcd76b1-7dd6-45e5-a71f-006599d50ae6",
   "metadata": {},
   "source": [
    "# Testing: Historical Daily Weather from One Call API\n",
    "---"
   ]
  },
  {
   "cell_type": "code",
   "execution_count": 8,
   "id": "38dcba6b-d74f-499a-ba96-e07ef6accf48",
   "metadata": {},
   "outputs": [
    {
     "name": "stdout",
     "output_type": "stream",
     "text": [
      "Status: 429\n",
      "dict_keys(['cod', 'message'])\n"
     ]
    },
    {
     "ename": "KeyError",
     "evalue": "'data'",
     "output_type": "error",
     "traceback": [
      "\u001b[0;31m---------------------------------------------------------------------------\u001b[0m",
      "\u001b[0;31mKeyError\u001b[0m                                  Traceback (most recent call last)",
      "\u001b[0;32m/var/folders/5f/3tr4k1qn1fx81cd1l2y9j2100000gn/T/ipykernel_86379/3298070907.py\u001b[0m in \u001b[0;36m<module>\u001b[0;34m\u001b[0m\n\u001b[1;32m      6\u001b[0m \u001b[0mprint\u001b[0m\u001b[0;34m(\u001b[0m\u001b[0mwd_hist\u001b[0m\u001b[0;34m.\u001b[0m\u001b[0mkeys\u001b[0m\u001b[0;34m(\u001b[0m\u001b[0;34m)\u001b[0m\u001b[0;34m)\u001b[0m\u001b[0;34m\u001b[0m\u001b[0;34m\u001b[0m\u001b[0m\n\u001b[1;32m      7\u001b[0m \u001b[0;34m\u001b[0m\u001b[0m\n\u001b[0;32m----> 8\u001b[0;31m \u001b[0mwd_hist_df\u001b[0m \u001b[0;34m=\u001b[0m \u001b[0mjson_normalize\u001b[0m\u001b[0;34m(\u001b[0m\u001b[0mwd_hist\u001b[0m\u001b[0;34m[\u001b[0m\u001b[0;34m'data'\u001b[0m\u001b[0;34m]\u001b[0m\u001b[0;34m)\u001b[0m\u001b[0;34m\u001b[0m\u001b[0;34m\u001b[0m\u001b[0m\n\u001b[0m\u001b[1;32m      9\u001b[0m wd_hist_df = wd_hist_df[['dt', 'temp', 'feels_like', 'pressure', 'humidity',\n\u001b[1;32m     10\u001b[0m        'dew_point', 'clouds', 'wind_speed', 'wind_deg']]\n",
      "\u001b[0;31mKeyError\u001b[0m: 'data'"
     ]
    }
   ],
   "source": [
    "url_hist_daily = \"https://api.openweathermap.org/data/3.0/onecall/timemachine?lat=38.77346634864807&lon=-121.36368582956493&dt=1658362065&appid=d43015e86fe9a04995afe46ef9ad42c4\"\n",
    "hist_daily_req = requests.get(url_hist_daily)\n",
    "print(f'Status: {hist_daily_req.status_code}')\n",
    "\n",
    "wd_hist = hist_daily_req.json()\n",
    "print(wd_hist.keys())\n",
    "\n",
    "wd_hist_df = json_normalize(wd_hist['data'])\n",
    "wd_hist_df = wd_hist_df[['dt', 'temp', 'feels_like', 'pressure', 'humidity',\n",
    "       'dew_point', 'clouds', 'wind_speed', 'wind_deg']]\n",
    "\n",
    "# Convert dt UNIX to datetime UTC\n",
    "wd_hist_df['dt'] = wd_hist_df['dt'].apply(lambda x: datetime.datetime.fromtimestamp(x))\n",
    "\n",
    "wd_hist_df.head()"
   ]
  },
  {
   "cell_type": "code",
   "execution_count": 7,
   "id": "b5818865-4ca4-4f40-be98-5de3140805e3",
   "metadata": {},
   "outputs": [
    {
     "data": {
      "text/plain": [
       "{'cod': 429,\n",
       " 'message': 'Your account is temporary blocked due to exceeding of requests limitation of your subscription type. Please choose the proper subscription http://openweathermap.org/price'}"
      ]
     },
     "execution_count": 7,
     "metadata": {},
     "output_type": "execute_result"
    }
   ],
   "source": [
    "wd_hist"
   ]
  },
  {
   "cell_type": "code",
   "execution_count": null,
   "id": "b7048051-5992-49fe-8836-9c90884914dd",
   "metadata": {},
   "outputs": [],
   "source": [
    "url_hist_point = \"https://api.openweathermap.org/data/3.0/onecall/timemachine?lat=38.77346634864807&lon=-121.36368582956493&dt=1658363457&appid=d43015e86fe9a04995afe46ef9ad42c4\"\n",
    "hist_point_req = requests.get(url_hist_point)\n",
    "print(f'Status: {hist_point_req.status_code}')\n",
    "\n",
    "wd_hist = hist_point_req.json()\n",
    "print(wd_hist.keys())\n",
    "\n",
    "wd_hist_df = json_normalize(wd_hist['data'])\n",
    "wd_hist_df = wd_hist_df[['dt', 'temp', 'feels_like', 'pressure', 'humidity',\n",
    "       'dew_point', 'clouds', 'wind_speed', 'wind_deg']]\n",
    "\n",
    "# Convert dt UNIX to datetime UTC\n",
    "wd_hist_df['dt'] = wd_hist_df['dt'].apply(lambda x: datetime.datetime.fromtimestamp(x))\n",
    "\n",
    "wd_hist_df.head()"
   ]
  },
  {
   "cell_type": "markdown",
   "id": "755e9091-36d5-4587-a930-ed728aa960e3",
   "metadata": {},
   "source": [
    "## Function hist_weather(unix_datetime)"
   ]
  },
  {
   "cell_type": "code",
   "execution_count": null,
   "id": "fc246be0-b583-4660-88fb-6d6c3a9376f7",
   "metadata": {},
   "outputs": [],
   "source": [
    "def hist_weather(unix_datetime, lat, lon):\n",
    "    '''\n",
    "    Using the OpenWeather OneCall 3.0 API to pull historical daily data\n",
    "    Input: UNIX datetime for day requesting\n",
    "    Output: Pandas dataframe for that day's weather\n",
    "    '''\n",
    "    \n",
    "    url_hist_point = f\"https://api.openweathermap.org/data/3.0/onecall/timemachine?lat={lat}&lon={lon}&dt={unix_datetime}&appid=d43015e86fe9a04995afe46ef9ad42c4\"\n",
    "    hist_point_req = requests.get(url_hist_point)\n",
    "    print(f'API Status: {hist_point_req.status_code}')\n",
    "\n",
    "    wd_hist = hist_point_req.json()\n",
    "\n",
    "    wd_hist_df = json_normalize(wd_hist['data'])\n",
    "    wd_hist_df = wd_hist_df[['dt', 'temp', 'feels_like', 'pressure', 'humidity',\n",
    "           'dew_point', 'clouds', 'wind_speed', 'wind_deg']]\n",
    "\n",
    "    # Convert dt UNIX to datetime UTC\n",
    "    wd_hist_df['datetime'] = wd_hist_df['dt'].apply(lambda x: datetime.datetime.fromtimestamp(x))\n",
    "    \n",
    "    return wd_hist_df"
   ]
  },
  {
   "cell_type": "markdown",
   "id": "d75b95d6-7aa8-46ca-9e54-e81dbc083cbf",
   "metadata": {
    "tags": []
   },
   "source": [
    "# Testing: Current/7-Day Forecast Daily Weather from One Call API"
   ]
  },
  {
   "cell_type": "code",
   "execution_count": null,
   "id": "4e19d0e2-5d30-480f-99dc-bc74deead1f1",
   "metadata": {
    "tags": []
   },
   "outputs": [],
   "source": [
    "url_current_daily = \"https://api.openweathermap.org/data/3.0/onecall?lat=38.752125&lon=-121.288010&exclude=current,minutely,hourly,alerts&appid=d43015e86fe9a04995afe46ef9ad42c4\"\n",
    "current_daily_req = requests.get(url_current_daily)\n",
    "print(f'Status: {current_daily_req.status_code}')\n",
    "\n",
    "wd_current = current_daily_req.json()\n",
    "print(wd_current.keys())\n",
    "\n",
    "wd_current_df = json_normalize(wd_current['daily'])\n",
    "wd_current_df = wd_current_df[['dt', 'pressure', 'humidity', 'dew_point',\n",
    "       'clouds', 'wind_speed', 'wind_deg', 'wind_gust']]\n",
    "\n",
    "# TEMPERATURE - KELVINS\n",
    "temp_list = []\n",
    "for i in range(len(wd_current['daily'])):\n",
    "    avg_temp = round(sum([value for value in wd_current['daily'][i]['temp'].values()])/len(wd_current['daily'][i]['temp']), 2)\n",
    "    temp_list.append(avg_temp)\n",
    "wd_current_df['temp_avg'] = temp_list\n",
    "\n",
    "# FEELS LIKE - KELVINS\n",
    "fl_list = []\n",
    "for i in range(len(wd_current['daily'])):\n",
    "    avg_fl = round(sum([value for value in wd_current['daily'][i]['feels_like'].values()])/len(wd_current['daily'][i]['feels_like']), 2)\n",
    "    fl_list.append(avg_fl)\n",
    "wd_current_df['feels_like_avg'] = fl_list\n",
    "\n",
    "# Convert dt UNIX to datetime UTC\n",
    "wd_current_df['datetime'] = wd_current_df['dt'].apply(lambda x: datetime.datetime.fromtimestamp(x))\n",
    "\n",
    "wd_current_df.head(10)"
   ]
  },
  {
   "cell_type": "markdown",
   "id": "4611e8c2-c58c-4713-af7e-53d0f5bc0907",
   "metadata": {},
   "source": [
    "## Function curr_weather(lat, lon):"
   ]
  },
  {
   "cell_type": "code",
   "execution_count": null,
   "id": "14c14c84-1f7d-4bc3-8bd6-862bdcb9745d",
   "metadata": {},
   "outputs": [],
   "source": [
    "def curr_weather(lat, lon):\n",
    "    '''\n",
    "    Using OpenWeather OneCall 3.0 API, takes in the latitude and longitude of a location and returns a dataframe with current + 7-day forecast.\n",
    "    Input: latitude and longitude of a location\n",
    "    Output: dataframe\n",
    "    '''\n",
    "    \n",
    "    url_current_daily = f\"https://api.openweathermap.org/data/3.0/onecall?lat={lat}&lon={lon}&exclude=current,minutely,hourly,alerts&appid=d43015e86fe9a04995afe46ef9ad42c4\"\n",
    "    current_daily_req = requests.get(url_current_daily)\n",
    "    print(f'Status: {current_daily_req.status_code}')\n",
    "\n",
    "    wd_current = current_daily_req.json()\n",
    "    print(wd_current.keys())\n",
    "\n",
    "    wd_current_df = json_normalize(wd_current['daily'])\n",
    "    wd_current_df = wd_current_df[['dt', 'pressure', 'humidity', 'dew_point',\n",
    "           'clouds', 'wind_speed', 'wind_deg', 'wind_gust']]\n",
    "\n",
    "    # TEMPERATURE - KELVINS\n",
    "    temp_list = []\n",
    "    for i in range(len(wd_current['daily'])):\n",
    "        avg_temp = round(sum([value for value in wd_current['daily'][i]['temp'].values()])/len(wd_current['daily'][i]['temp']), 2)\n",
    "        temp_list.append(avg_temp)\n",
    "    wd_current_df['temp_avg'] = temp_list\n",
    "\n",
    "    # FEELS LIKE - KELVINS\n",
    "    fl_list = []\n",
    "    for i in range(len(wd_current['daily'])):\n",
    "        avg_fl = round(sum([value for value in wd_current['daily'][i]['feels_like'].values()])/len(wd_current['daily'][i]['feels_like']), 2)\n",
    "        fl_list.append(avg_fl)\n",
    "    wd_current_df['feels_like_avg'] = fl_list\n",
    "\n",
    "    # Convert dt UNIX to datetime UTC\n",
    "    wd_current_df['datetime'] = wd_current_df['dt'].apply(lambda x: datetime.datetime.fromtimestamp(x))\n",
    "    \n",
    "    return wd_current_df"
   ]
  },
  {
   "cell_type": "markdown",
   "id": "f685a868-a74b-4f2b-8c87-50e3e8156f85",
   "metadata": {
    "tags": []
   },
   "source": [
    "# Hourly - Need Paid Subscription for Historical Hourly"
   ]
  },
  {
   "cell_type": "markdown",
   "id": "51deabd1-9947-4377-b877-53554e7fb687",
   "metadata": {},
   "source": [
    "## Testing: Current/2-Day Forecast Hourly Weather from One Call API\n",
    "---"
   ]
  },
  {
   "cell_type": "code",
   "execution_count": null,
   "id": "48f28f81-63fd-40b8-94e6-7d294f4c1690",
   "metadata": {},
   "outputs": [],
   "source": [
    "url_current_hourly = \"https://api.openweathermap.org/data/3.0/onecall?lat=38.752125&lon=-121.288010&exclude=current,minutely,daily&appid=d43015e86fe9a04995afe46ef9ad42c4\"\n",
    "current_hourly_req = requests.get(url_current_hourly)\n",
    "print(f'Status: {current_hourly_req.status_code}')\n",
    "\n",
    "wh_current = current_hourly_req.json()\n",
    "print(wh_current.keys())\n",
    "\n",
    "wh_current_df = json_normalize(wh_current['hourly'])\n",
    "wh_current_df = wh_current_df[['dt', 'temp', 'feels_like', 'pressure', 'humidity', 'dew_point',\n",
    "       'clouds', 'wind_speed', 'wind_deg', 'wind_gust']]\n",
    "\n",
    "# Convert dt UNIX to datetime UTC\n",
    "wh_current_df['datetime'] = wh_current_df['dt'].apply(lambda x: datetime.datetime.fromtimestamp(x))\n",
    "\n",
    "wh_current_df.head()"
   ]
  },
  {
   "cell_type": "markdown",
   "id": "381ea309-6fa6-4f1a-879c-a98acf5b5280",
   "metadata": {},
   "source": [
    "## Testing: Historical Hourly Weather from History API"
   ]
  },
  {
   "cell_type": "code",
   "execution_count": null,
   "id": "aeaf5427-7a7d-4762-9623-b830b445f92a",
   "metadata": {},
   "outputs": [],
   "source": [
    "'''\n",
    "url_hist_hourly = \"http://history.openweathermap.org/data/2.5/history/city?lat=38.752125&lon=-121.288010&type=hour&start=1659470400&end=1659470400&appid=d43015e86fe9a04995afe46ef9ad42c4\"\n",
    "hist_hourly_req = requests.get(url_hist_hourly)\n",
    "print(f'Status: {hist_hourly_req.status_code}')\n",
    "\n",
    "wh_hist = hist_hourly_req.json()\n",
    "print(wh_hist.keys())\n",
    "\n",
    "wh_hist_df = json_normalize(wh_hist['data'])\n",
    "wh_hist_df = wh_hist_df[['dt', 'temp', 'feels_like', 'pressure', 'humidity',\n",
    "       'dew_point', 'clouds', 'wind_speed', 'wind_deg',\n",
    "       'wind_gust']]\n",
    "wh_hist_df.head()\n",
    "'''"
   ]
  },
  {
   "cell_type": "code",
   "execution_count": null,
   "id": "c8df59f0-6a98-47e3-9580-9370fa616a71",
   "metadata": {},
   "outputs": [],
   "source": []
  }
 ],
 "metadata": {
  "kernelspec": {
   "display_name": "Python 3 (ipykernel)",
   "language": "python",
   "name": "python3"
  },
  "language_info": {
   "codemirror_mode": {
    "name": "ipython",
    "version": 3
   },
   "file_extension": ".py",
   "mimetype": "text/x-python",
   "name": "python",
   "nbconvert_exporter": "python",
   "pygments_lexer": "ipython3",
   "version": "3.9.12"
  }
 },
 "nbformat": 4,
 "nbformat_minor": 5
}
