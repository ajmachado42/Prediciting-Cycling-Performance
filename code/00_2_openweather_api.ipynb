{
 "cells": [
  {
   "cell_type": "markdown",
   "id": "1deb1ce6-2dd1-4c2c-b3ab-c9f88f2f4e7c",
   "metadata": {},
   "source": [
    "# OPEN WEATHER ONE CALL API FOR WEATHER VARIABLES\n",
    "---\n",
    "---\n",
    "### *Building out functions to extract OpenWeather data per trackpoint. Startup subscription level used.*"
   ]
  },
  {
   "cell_type": "markdown",
   "id": "42bda3fc-9909-475a-94ac-d2db2c4aa37b",
   "metadata": {
    "jp-MarkdownHeadingCollapsed": true,
    "tags": []
   },
   "source": [
    "# Table of Contents\n",
    "---\n",
    "\n",
    "### [Sources ](#Sources)\n",
    "### [Imports ](#Imports)\n",
    "### [Historical Weather API Testing](#Testing:-Weather-from-OneCall-API)\n",
    "### [Hourly Forecast API Testing](#Testing:-Hourly-48-Hour-Forecast)\n",
    "### [Daily Current/Forecast API Testing](#Testing:-Current/7-Day-Forecast-Daily-Weather-from-OneCall-API)"
   ]
  },
  {
   "cell_type": "markdown",
   "id": "3f2bfae8-24cc-4e0e-b0a7-bf0288355305",
   "metadata": {
    "jp-MarkdownHeadingCollapsed": true,
    "tags": []
   },
   "source": [
    "# Sources\n",
    "---"
   ]
  },
  {
   "cell_type": "code",
   "execution_count": 1,
   "id": "63f01acf-7587-4d17-8068-3693b59563b7",
   "metadata": {},
   "outputs": [],
   "source": [
    "# https://openweathermap.org/api/one-call-3\n",
    "# Lesson 5.01 - APIs\n",
    "# https://note.nkmk.me/en/python-unix-time-datetime/"
   ]
  },
  {
   "cell_type": "markdown",
   "id": "e90bc930-925f-4f2b-9064-3274c708c184",
   "metadata": {
    "jp-MarkdownHeadingCollapsed": true,
    "tags": []
   },
   "source": [
    "# Imports\n",
    "---"
   ]
  },
  {
   "cell_type": "code",
   "execution_count": 2,
   "id": "0a3dfebf-fd27-46af-a323-d391d7e9c384",
   "metadata": {},
   "outputs": [],
   "source": [
    "import pandas as pd\n",
    "from pandas import json_normalize\n",
    "import numpy as np\n",
    "import seaborn as sns\n",
    "import matplotlib.pyplot as plt\n",
    "\n",
    "import requests\n",
    "\n",
    "import datetime\n",
    "\n",
    "%matplotlib inline\n",
    "pd.set_option('display.max_columns', None)"
   ]
  },
  {
   "cell_type": "code",
   "execution_count": 3,
   "id": "c5671231-5785-437e-956d-6369a5e14e94",
   "metadata": {},
   "outputs": [],
   "source": [
    "API_key = 'd43015e86fe9a04995afe46ef9ad42c4'"
   ]
  },
  {
   "cell_type": "markdown",
   "id": "0bcd76b1-7dd6-45e5-a71f-006599d50ae6",
   "metadata": {
    "jp-MarkdownHeadingCollapsed": true,
    "tags": []
   },
   "source": [
    "# Testing: Weather from OneCall API\n",
    "---"
   ]
  },
  {
   "cell_type": "markdown",
   "id": "76a241c0-c8b7-4286-9694-fbb2d254030f",
   "metadata": {},
   "source": [
    "### \"timemachine\" allows timestamps within 5-day forecast"
   ]
  },
  {
   "cell_type": "code",
   "execution_count": 4,
   "id": "38dcba6b-d74f-499a-ba96-e07ef6accf48",
   "metadata": {},
   "outputs": [
    {
     "name": "stdout",
     "output_type": "stream",
     "text": [
      "Status: 200\n",
      "dict_keys(['lat', 'lon', 'timezone', 'timezone_offset', 'data'])\n"
     ]
    },
    {
     "data": {
      "text/html": [
       "<div>\n",
       "<style scoped>\n",
       "    .dataframe tbody tr th:only-of-type {\n",
       "        vertical-align: middle;\n",
       "    }\n",
       "\n",
       "    .dataframe tbody tr th {\n",
       "        vertical-align: top;\n",
       "    }\n",
       "\n",
       "    .dataframe thead th {\n",
       "        text-align: right;\n",
       "    }\n",
       "</style>\n",
       "<table border=\"1\" class=\"dataframe\">\n",
       "  <thead>\n",
       "    <tr style=\"text-align: right;\">\n",
       "      <th></th>\n",
       "      <th>dt</th>\n",
       "      <th>temp</th>\n",
       "      <th>feels_like</th>\n",
       "      <th>pressure</th>\n",
       "      <th>humidity</th>\n",
       "      <th>dew_point</th>\n",
       "      <th>clouds</th>\n",
       "      <th>wind_speed</th>\n",
       "      <th>wind_deg</th>\n",
       "    </tr>\n",
       "  </thead>\n",
       "  <tbody>\n",
       "    <tr>\n",
       "      <th>0</th>\n",
       "      <td>2022-07-20 17:07:45</td>\n",
       "      <td>312.89</td>\n",
       "      <td>311.34</td>\n",
       "      <td>1014</td>\n",
       "      <td>17</td>\n",
       "      <td>283.27</td>\n",
       "      <td>0</td>\n",
       "      <td>3.6</td>\n",
       "      <td>220</td>\n",
       "    </tr>\n",
       "  </tbody>\n",
       "</table>\n",
       "</div>"
      ],
      "text/plain": [
       "                   dt    temp  feels_like  pressure  humidity  dew_point  \\\n",
       "0 2022-07-20 17:07:45  312.89      311.34      1014        17     283.27   \n",
       "\n",
       "   clouds  wind_speed  wind_deg  \n",
       "0       0         3.6       220  "
      ]
     },
     "execution_count": 4,
     "metadata": {},
     "output_type": "execute_result"
    }
   ],
   "source": [
    "url_weather = f\"https://api.openweathermap.org/data/3.0/onecall/timemachine?lat=38.77346634864807&lon=-121.36368582956493&dt=1658362065&appid={API_key}\"\n",
    "weather_req = requests.get(url_weather)\n",
    "print(f'Status: {weather_req.status_code}')\n",
    "\n",
    "weather = weather_req.json()\n",
    "print(weather.keys())\n",
    "\n",
    "weather_df = json_normalize(weather['data'])\n",
    "weather_df = weather_df[['dt', 'temp', 'feels_like', 'pressure', 'humidity',\n",
    "       'dew_point', 'clouds', 'wind_speed', 'wind_deg']]\n",
    "\n",
    "# Convert dt UNIX to datetime UTC\n",
    "weather_df['dt'] = weather_df['dt'].apply(lambda x: datetime.datetime.fromtimestamp(x))\n",
    "\n",
    "weather_df.head()"
   ]
  },
  {
   "cell_type": "code",
   "execution_count": 5,
   "id": "b5818865-4ca4-4f40-be98-5de3140805e3",
   "metadata": {},
   "outputs": [
    {
     "data": {
      "text/plain": [
       "{'lat': 38.7735,\n",
       " 'lon': -121.3637,\n",
       " 'timezone': 'America/Los_Angeles',\n",
       " 'timezone_offset': -25200,\n",
       " 'data': [{'dt': 1658362065,\n",
       "   'sunrise': 1658321791,\n",
       "   'sunset': 1658374005,\n",
       "   'temp': 312.89,\n",
       "   'feels_like': 311.34,\n",
       "   'pressure': 1014,\n",
       "   'humidity': 17,\n",
       "   'dew_point': 283.27,\n",
       "   'clouds': 0,\n",
       "   'visibility': 10000,\n",
       "   'wind_speed': 3.6,\n",
       "   'wind_deg': 220,\n",
       "   'weather': [{'id': 800,\n",
       "     'main': 'Clear',\n",
       "     'description': 'clear sky',\n",
       "     'icon': '01d'}]}]}"
      ]
     },
     "execution_count": 5,
     "metadata": {},
     "output_type": "execute_result"
    }
   ],
   "source": [
    "weather"
   ]
  },
  {
   "cell_type": "markdown",
   "id": "755e9091-36d5-4587-a930-ed728aa960e3",
   "metadata": {
    "tags": []
   },
   "source": [
    "## Function get_weather(unix_datetime, lat, lon)"
   ]
  },
  {
   "cell_type": "code",
   "execution_count": 6,
   "id": "fc246be0-b583-4660-88fb-6d6c3a9376f7",
   "metadata": {},
   "outputs": [],
   "source": [
    "def get_weather(unix_datetime, lat, lon, API_key= API_key):\n",
    "    '''\n",
    "    Using the OpenWeather OneCall 3.0 API to pull weather data by Unix timestamp\n",
    "    Requires API key for at minimum Startup OpenWeather subscription\n",
    "    Input: UNIX datetime for time requesting, latitude and longitude of trackpoint\n",
    "    Output: Pandas dataframe for that datetime and location's weather\n",
    "    '''\n",
    "    \n",
    "    url_point = f\"https://api.openweathermap.org/data/3.0/onecall/timemachine?lat={lat}&lon={lon}&dt={unix_datetime}&appid={API_key}\"\n",
    "    point_req = requests.get(url_point)\n",
    "    print(f'API Status: {point_req.status_code}')\n",
    "\n",
    "    weather = point_req.json()\n",
    "\n",
    "    weather_df = json_normalize(weather['data'])\n",
    "    weather_df = weather_df[['dt', 'temp', 'feels_like', 'pressure', 'humidity',\n",
    "           'dew_point', 'clouds', 'wind_speed', 'wind_deg']]\n",
    "    \n",
    "    return weather_df"
   ]
  },
  {
   "cell_type": "markdown",
   "id": "955252c7-3b14-4611-ab1a-9a8cb1d93a3e",
   "metadata": {
    "jp-MarkdownHeadingCollapsed": true,
    "tags": []
   },
   "source": [
    "# Testing: Hourly 48-Hour Forecast\n",
    "---"
   ]
  },
  {
   "cell_type": "code",
   "execution_count": 7,
   "id": "ebcbc524-f15a-4095-aee0-cda5cf59bc4a",
   "metadata": {},
   "outputs": [
    {
     "name": "stdout",
     "output_type": "stream",
     "text": [
      "Status: 200\n",
      "dict_keys(['lat', 'lon', 'timezone', 'timezone_offset', 'hourly'])\n"
     ]
    },
    {
     "data": {
      "text/plain": [
       "(48, 8)"
      ]
     },
     "execution_count": 7,
     "metadata": {},
     "output_type": "execute_result"
    }
   ],
   "source": [
    "url_fore_hourly = f\"https://api.openweathermap.org/data/3.0/onecall?lat=38.752125&lon=-121.288010&exclude=current,daily,minutely,alerts&appid={API_key}\"\n",
    "fore_hourly_req = requests.get(url_fore_hourly)\n",
    "print(f'Status: {fore_hourly_req.status_code}')\n",
    "\n",
    "wh_fore = fore_hourly_req.json()\n",
    "print(wh_fore.keys())\n",
    "\n",
    "wh_fore_df = json_normalize(wh_fore['hourly'])\n",
    "wh_fore_df = wh_fore_df[['dt', 'pressure', 'humidity', 'dew_point',\n",
    "       'clouds', 'wind_speed', 'wind_deg', 'wind_gust']]\n",
    "wh_fore_df.shape"
   ]
  },
  {
   "cell_type": "code",
   "execution_count": 8,
   "id": "d8c924dd-aec1-46dd-8878-ef5250d2cba3",
   "metadata": {},
   "outputs": [
    {
     "data": {
      "text/html": [
       "<div>\n",
       "<style scoped>\n",
       "    .dataframe tbody tr th:only-of-type {\n",
       "        vertical-align: middle;\n",
       "    }\n",
       "\n",
       "    .dataframe tbody tr th {\n",
       "        vertical-align: top;\n",
       "    }\n",
       "\n",
       "    .dataframe thead th {\n",
       "        text-align: right;\n",
       "    }\n",
       "</style>\n",
       "<table border=\"1\" class=\"dataframe\">\n",
       "  <thead>\n",
       "    <tr style=\"text-align: right;\">\n",
       "      <th></th>\n",
       "      <th>dt</th>\n",
       "      <th>pressure</th>\n",
       "      <th>humidity</th>\n",
       "      <th>dew_point</th>\n",
       "      <th>clouds</th>\n",
       "      <th>wind_speed</th>\n",
       "      <th>wind_deg</th>\n",
       "      <th>wind_gust</th>\n",
       "    </tr>\n",
       "  </thead>\n",
       "  <tbody>\n",
       "    <tr>\n",
       "      <th>0</th>\n",
       "      <td>1660345200</td>\n",
       "      <td>1013</td>\n",
       "      <td>19</td>\n",
       "      <td>281.43</td>\n",
       "      <td>0</td>\n",
       "      <td>2.60</td>\n",
       "      <td>200</td>\n",
       "      <td>3.23</td>\n",
       "    </tr>\n",
       "    <tr>\n",
       "      <th>1</th>\n",
       "      <td>1660348800</td>\n",
       "      <td>1013</td>\n",
       "      <td>22</td>\n",
       "      <td>283.57</td>\n",
       "      <td>0</td>\n",
       "      <td>2.93</td>\n",
       "      <td>200</td>\n",
       "      <td>3.35</td>\n",
       "    </tr>\n",
       "    <tr>\n",
       "      <th>2</th>\n",
       "      <td>1660352400</td>\n",
       "      <td>1013</td>\n",
       "      <td>20</td>\n",
       "      <td>282.12</td>\n",
       "      <td>0</td>\n",
       "      <td>3.84</td>\n",
       "      <td>202</td>\n",
       "      <td>3.55</td>\n",
       "    </tr>\n",
       "    <tr>\n",
       "      <th>3</th>\n",
       "      <td>1660356000</td>\n",
       "      <td>1012</td>\n",
       "      <td>19</td>\n",
       "      <td>280.56</td>\n",
       "      <td>0</td>\n",
       "      <td>4.21</td>\n",
       "      <td>200</td>\n",
       "      <td>5.01</td>\n",
       "    </tr>\n",
       "    <tr>\n",
       "      <th>4</th>\n",
       "      <td>1660359600</td>\n",
       "      <td>1012</td>\n",
       "      <td>22</td>\n",
       "      <td>280.35</td>\n",
       "      <td>0</td>\n",
       "      <td>3.74</td>\n",
       "      <td>188</td>\n",
       "      <td>6.69</td>\n",
       "    </tr>\n",
       "  </tbody>\n",
       "</table>\n",
       "</div>"
      ],
      "text/plain": [
       "           dt  pressure  humidity  dew_point  clouds  wind_speed  wind_deg  \\\n",
       "0  1660345200      1013        19     281.43       0        2.60       200   \n",
       "1  1660348800      1013        22     283.57       0        2.93       200   \n",
       "2  1660352400      1013        20     282.12       0        3.84       202   \n",
       "3  1660356000      1012        19     280.56       0        4.21       200   \n",
       "4  1660359600      1012        22     280.35       0        3.74       188   \n",
       "\n",
       "   wind_gust  \n",
       "0       3.23  \n",
       "1       3.35  \n",
       "2       3.55  \n",
       "3       5.01  \n",
       "4       6.69  "
      ]
     },
     "execution_count": 8,
     "metadata": {},
     "output_type": "execute_result"
    }
   ],
   "source": [
    "wh_fore_df.head()"
   ]
  },
  {
   "cell_type": "code",
   "execution_count": 9,
   "id": "72b7bb3f-3c17-4e74-a7cc-5dc964582233",
   "metadata": {},
   "outputs": [],
   "source": [
    "def forecast_hourly_48(lat, lon, API_key = API_key):\n",
    "    '''\n",
    "    Using OpenWeather OneCall 3.0 API, takes in the latitude and longitude of a location and returns a dataframe with 48-hour forecast by hour.\n",
    "    Requires API key for at minimum Startup OpenWeather subscription\n",
    "    Input: latitude and longitude of a location\n",
    "    Output: dataframe\n",
    "    '''\n",
    "    # get 48-hour forecast for location\n",
    "    url_fore_hourly = f\"https://api.openweathermap.org/data/3.0/onecall?lat={lat}&lon={lon}&exclude=current,daily,minutely,alerts&appid={API_key}\"\n",
    "    fore_hourly_req = requests.get(url_fore_hourly)\n",
    "    print(f'Status: {fore_hourly_req.status_code}')\n",
    "\n",
    "    wh_fore = fore_hourly_req.json()\n",
    "    print(wh_fore.keys())\n",
    "    \n",
    "    # turn to dataframe\n",
    "    wh_fore_df = json_normalize(wh_fore['hourly'])\n",
    "    wh_fore_df = wh_fore_df[['dt', 'pressure', 'humidity', 'dew_point',\n",
    "           'clouds', 'wind_speed', 'wind_deg', 'wind_gust']]\n",
    "    \n",
    "    return wh_fore_df"
   ]
  },
  {
   "cell_type": "markdown",
   "id": "d75b95d6-7aa8-46ca-9e54-e81dbc083cbf",
   "metadata": {
    "jp-MarkdownHeadingCollapsed": true,
    "tags": []
   },
   "source": [
    "# Testing: Current/7-Day Forecast Daily Weather from OneCall API\n",
    "---"
   ]
  },
  {
   "cell_type": "code",
   "execution_count": 10,
   "id": "4e19d0e2-5d30-480f-99dc-bc74deead1f1",
   "metadata": {
    "tags": []
   },
   "outputs": [
    {
     "name": "stdout",
     "output_type": "stream",
     "text": [
      "Status: 200\n",
      "dict_keys(['lat', 'lon', 'timezone', 'timezone_offset', 'daily'])\n"
     ]
    },
    {
     "data": {
      "text/html": [
       "<div>\n",
       "<style scoped>\n",
       "    .dataframe tbody tr th:only-of-type {\n",
       "        vertical-align: middle;\n",
       "    }\n",
       "\n",
       "    .dataframe tbody tr th {\n",
       "        vertical-align: top;\n",
       "    }\n",
       "\n",
       "    .dataframe thead th {\n",
       "        text-align: right;\n",
       "    }\n",
       "</style>\n",
       "<table border=\"1\" class=\"dataframe\">\n",
       "  <thead>\n",
       "    <tr style=\"text-align: right;\">\n",
       "      <th></th>\n",
       "      <th>dt</th>\n",
       "      <th>pressure</th>\n",
       "      <th>humidity</th>\n",
       "      <th>dew_point</th>\n",
       "      <th>clouds</th>\n",
       "      <th>wind_speed</th>\n",
       "      <th>wind_deg</th>\n",
       "      <th>wind_gust</th>\n",
       "      <th>temp_avg</th>\n",
       "      <th>feels_like_avg</th>\n",
       "      <th>datetime</th>\n",
       "    </tr>\n",
       "  </thead>\n",
       "  <tbody>\n",
       "    <tr>\n",
       "      <th>0</th>\n",
       "      <td>1660334400</td>\n",
       "      <td>1014</td>\n",
       "      <td>19</td>\n",
       "      <td>279.20</td>\n",
       "      <td>0</td>\n",
       "      <td>4.21</td>\n",
       "      <td>200</td>\n",
       "      <td>6.69</td>\n",
       "      <td>299.74</td>\n",
       "      <td>298.45</td>\n",
       "      <td>2022-08-12 13:00:00</td>\n",
       "    </tr>\n",
       "    <tr>\n",
       "      <th>1</th>\n",
       "      <td>1660420800</td>\n",
       "      <td>1014</td>\n",
       "      <td>13</td>\n",
       "      <td>274.91</td>\n",
       "      <td>0</td>\n",
       "      <td>3.77</td>\n",
       "      <td>205</td>\n",
       "      <td>6.44</td>\n",
       "      <td>300.21</td>\n",
       "      <td>298.58</td>\n",
       "      <td>2022-08-13 13:00:00</td>\n",
       "    </tr>\n",
       "    <tr>\n",
       "      <th>2</th>\n",
       "      <td>1660507200</td>\n",
       "      <td>1012</td>\n",
       "      <td>11</td>\n",
       "      <td>273.15</td>\n",
       "      <td>0</td>\n",
       "      <td>3.27</td>\n",
       "      <td>201</td>\n",
       "      <td>6.09</td>\n",
       "      <td>301.37</td>\n",
       "      <td>299.79</td>\n",
       "      <td>2022-08-14 13:00:00</td>\n",
       "    </tr>\n",
       "    <tr>\n",
       "      <th>3</th>\n",
       "      <td>1660593600</td>\n",
       "      <td>1008</td>\n",
       "      <td>10</td>\n",
       "      <td>274.22</td>\n",
       "      <td>0</td>\n",
       "      <td>3.20</td>\n",
       "      <td>205</td>\n",
       "      <td>6.16</td>\n",
       "      <td>303.41</td>\n",
       "      <td>301.64</td>\n",
       "      <td>2022-08-15 13:00:00</td>\n",
       "    </tr>\n",
       "    <tr>\n",
       "      <th>4</th>\n",
       "      <td>1660680000</td>\n",
       "      <td>1006</td>\n",
       "      <td>8</td>\n",
       "      <td>271.63</td>\n",
       "      <td>24</td>\n",
       "      <td>3.13</td>\n",
       "      <td>216</td>\n",
       "      <td>5.75</td>\n",
       "      <td>305.31</td>\n",
       "      <td>303.33</td>\n",
       "      <td>2022-08-16 13:00:00</td>\n",
       "    </tr>\n",
       "    <tr>\n",
       "      <th>5</th>\n",
       "      <td>1660766400</td>\n",
       "      <td>1007</td>\n",
       "      <td>13</td>\n",
       "      <td>279.43</td>\n",
       "      <td>51</td>\n",
       "      <td>3.40</td>\n",
       "      <td>188</td>\n",
       "      <td>6.00</td>\n",
       "      <td>306.29</td>\n",
       "      <td>304.21</td>\n",
       "      <td>2022-08-17 13:00:00</td>\n",
       "    </tr>\n",
       "    <tr>\n",
       "      <th>6</th>\n",
       "      <td>1660852800</td>\n",
       "      <td>1006</td>\n",
       "      <td>11</td>\n",
       "      <td>279.25</td>\n",
       "      <td>0</td>\n",
       "      <td>3.21</td>\n",
       "      <td>240</td>\n",
       "      <td>6.73</td>\n",
       "      <td>307.24</td>\n",
       "      <td>305.28</td>\n",
       "      <td>2022-08-18 13:00:00</td>\n",
       "    </tr>\n",
       "    <tr>\n",
       "      <th>7</th>\n",
       "      <td>1660939200</td>\n",
       "      <td>1005</td>\n",
       "      <td>10</td>\n",
       "      <td>277.30</td>\n",
       "      <td>0</td>\n",
       "      <td>4.48</td>\n",
       "      <td>201</td>\n",
       "      <td>7.85</td>\n",
       "      <td>306.72</td>\n",
       "      <td>304.55</td>\n",
       "      <td>2022-08-19 13:00:00</td>\n",
       "    </tr>\n",
       "  </tbody>\n",
       "</table>\n",
       "</div>"
      ],
      "text/plain": [
       "           dt  pressure  humidity  dew_point  clouds  wind_speed  wind_deg  \\\n",
       "0  1660334400      1014        19     279.20       0        4.21       200   \n",
       "1  1660420800      1014        13     274.91       0        3.77       205   \n",
       "2  1660507200      1012        11     273.15       0        3.27       201   \n",
       "3  1660593600      1008        10     274.22       0        3.20       205   \n",
       "4  1660680000      1006         8     271.63      24        3.13       216   \n",
       "5  1660766400      1007        13     279.43      51        3.40       188   \n",
       "6  1660852800      1006        11     279.25       0        3.21       240   \n",
       "7  1660939200      1005        10     277.30       0        4.48       201   \n",
       "\n",
       "   wind_gust  temp_avg  feels_like_avg            datetime  \n",
       "0       6.69    299.74          298.45 2022-08-12 13:00:00  \n",
       "1       6.44    300.21          298.58 2022-08-13 13:00:00  \n",
       "2       6.09    301.37          299.79 2022-08-14 13:00:00  \n",
       "3       6.16    303.41          301.64 2022-08-15 13:00:00  \n",
       "4       5.75    305.31          303.33 2022-08-16 13:00:00  \n",
       "5       6.00    306.29          304.21 2022-08-17 13:00:00  \n",
       "6       6.73    307.24          305.28 2022-08-18 13:00:00  \n",
       "7       7.85    306.72          304.55 2022-08-19 13:00:00  "
      ]
     },
     "execution_count": 10,
     "metadata": {},
     "output_type": "execute_result"
    }
   ],
   "source": [
    "url_current_daily = f\"https://api.openweathermap.org/data/3.0/onecall?lat=38.752125&lon=-121.288010&exclude=current,minutely,hourly,alerts&appid={API_key}\"\n",
    "current_daily_req = requests.get(url_current_daily)\n",
    "print(f'Status: {current_daily_req.status_code}')\n",
    "\n",
    "wd_current = current_daily_req.json()\n",
    "print(wd_current.keys())\n",
    "\n",
    "wd_current_df = json_normalize(wd_current['daily'])\n",
    "wd_current_df = wd_current_df[['dt', 'pressure', 'humidity', 'dew_point',\n",
    "       'clouds', 'wind_speed', 'wind_deg', 'wind_gust']]\n",
    "\n",
    "# TEMPERATURE - KELVINS\n",
    "temp_list = []\n",
    "for i in range(len(wd_current['daily'])):\n",
    "    avg_temp = round(sum([value for value in wd_current['daily'][i]['temp'].values()])/len(wd_current['daily'][i]['temp']), 2)\n",
    "    temp_list.append(avg_temp)\n",
    "wd_current_df['temp_avg'] = temp_list\n",
    "\n",
    "# FEELS LIKE - KELVINS\n",
    "fl_list = []\n",
    "for i in range(len(wd_current['daily'])):\n",
    "    avg_fl = round(sum([value for value in wd_current['daily'][i]['feels_like'].values()])/len(wd_current['daily'][i]['feels_like']), 2)\n",
    "    fl_list.append(avg_fl)\n",
    "wd_current_df['feels_like_avg'] = fl_list\n",
    "\n",
    "# Convert dt UNIX to datetime UTC\n",
    "wd_current_df['datetime'] = wd_current_df['dt'].apply(lambda x: datetime.datetime.fromtimestamp(x))\n",
    "\n",
    "wd_current_df.head(10)"
   ]
  },
  {
   "cell_type": "markdown",
   "id": "4611e8c2-c58c-4713-af7e-53d0f5bc0907",
   "metadata": {
    "tags": []
   },
   "source": [
    "## Function curr_fore_weather_daily(lat, lon):"
   ]
  },
  {
   "cell_type": "code",
   "execution_count": 11,
   "id": "14c14c84-1f7d-4bc3-8bd6-862bdcb9745d",
   "metadata": {},
   "outputs": [],
   "source": [
    "def curr_fore_weather_daily(lat, lon, API_key = API_key):\n",
    "    '''\n",
    "    Using OpenWeather OneCall 3.0 API, takes in the latitude and longitude of a location and returns a dataframe with current + 7-day forecast.\n",
    "    Input: latitude and longitude of a location\n",
    "    Output: dataframe\n",
    "    '''\n",
    "    \n",
    "    url_current_daily = f\"https://api.openweathermap.org/data/3.0/onecall?lat={lat}&lon={lon}&exclude=current,minutely,hourly,alerts&appid={API_key}\"\n",
    "    current_daily_req = requests.get(url_current_daily)\n",
    "    print(f'Status: {current_daily_req.status_code}')\n",
    "\n",
    "    wd_current = current_daily_req.json()\n",
    "    print(wd_current.keys())\n",
    "\n",
    "    wd_current_df = json_normalize(wd_current['daily'])\n",
    "    wd_current_df = wd_current_df[['dt', 'pressure', 'humidity', 'dew_point',\n",
    "           'clouds', 'wind_speed', 'wind_deg', 'wind_gust']]\n",
    "\n",
    "    # TEMPERATURE - KELVINS\n",
    "    temp_list = []\n",
    "    for i in range(len(wd_current['daily'])):\n",
    "        avg_temp = round(sum([value for value in wd_current['daily'][i]['temp'].values()])/len(wd_current['daily'][i]['temp']), 2)\n",
    "        temp_list.append(avg_temp)\n",
    "    wd_current_df['temp_avg'] = temp_list\n",
    "\n",
    "    # FEELS LIKE - KELVINS\n",
    "    fl_list = []\n",
    "    for i in range(len(wd_current['daily'])):\n",
    "        avg_fl = round(sum([value for value in wd_current['daily'][i]['feels_like'].values()])/len(wd_current['daily'][i]['feels_like']), 2)\n",
    "        fl_list.append(avg_fl)\n",
    "    wd_current_df['feels_like_avg'] = fl_list\n",
    "\n",
    "    # Convert dt UNIX to datetime UTC\n",
    "    wd_current_df['datetime'] = wd_current_df['dt'].apply(lambda x: datetime.datetime.fromtimestamp(x))\n",
    "    \n",
    "    return wd_current_df"
   ]
  }
 ],
 "metadata": {
  "kernelspec": {
   "display_name": "Python [conda env:dsi]",
   "language": "python",
   "name": "conda-env-dsi-py"
  },
  "language_info": {
   "codemirror_mode": {
    "name": "ipython",
    "version": 3
   },
   "file_extension": ".py",
   "mimetype": "text/x-python",
   "name": "python",
   "nbconvert_exporter": "python",
   "pygments_lexer": "ipython3",
   "version": "3.8.13"
  }
 },
 "nbformat": 4,
 "nbformat_minor": 5
}
