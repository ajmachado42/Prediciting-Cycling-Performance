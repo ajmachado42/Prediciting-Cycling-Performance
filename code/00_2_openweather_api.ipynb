{
 "cells": [
  {
   "cell_type": "markdown",
   "id": "1deb1ce6-2dd1-4c2c-b3ab-c9f88f2f4e7c",
   "metadata": {},
   "source": [
    "# OPEN WEATHER ONE CALL API FOR WEATHER VARIABLES\n",
    "---\n",
    "---"
   ]
  },
  {
   "cell_type": "code",
   "execution_count": 1,
   "id": "63f01acf-7587-4d17-8068-3693b59563b7",
   "metadata": {},
   "outputs": [],
   "source": [
    "# https://openweathermap.org/api/one-call-3\n",
    "# Lesson 5.01 - APIs\n",
    "# https://note.nkmk.me/en/python-unix-time-datetime/"
   ]
  },
  {
   "cell_type": "markdown",
   "id": "e90bc930-925f-4f2b-9064-3274c708c184",
   "metadata": {},
   "source": [
    "# Imports\n",
    "---"
   ]
  },
  {
   "cell_type": "code",
   "execution_count": 2,
   "id": "0a3dfebf-fd27-46af-a323-d391d7e9c384",
   "metadata": {},
   "outputs": [],
   "source": [
    "import pandas as pd\n",
    "from pandas import json_normalize\n",
    "import numpy as np\n",
    "import seaborn as sns\n",
    "import matplotlib.pyplot as plt\n",
    "\n",
    "import requests\n",
    "\n",
    "import datetime\n",
    "\n",
    "%matplotlib inline\n",
    "pd.set_option('display.max_columns', None)"
   ]
  },
  {
   "cell_type": "markdown",
   "id": "51deabd1-9947-4377-b877-53554e7fb687",
   "metadata": {},
   "source": [
    "# Testing: Current/2-Day Forecast Hourly Weather from One Call API\n",
    "---"
   ]
  },
  {
   "cell_type": "code",
   "execution_count": 3,
   "id": "48f28f81-63fd-40b8-94e6-7d294f4c1690",
   "metadata": {},
   "outputs": [
    {
     "name": "stdout",
     "output_type": "stream",
     "text": [
      "Status: 200\n",
      "dict_keys(['lat', 'lon', 'timezone', 'timezone_offset', 'hourly'])\n"
     ]
    },
    {
     "data": {
      "text/html": [
       "<div>\n",
       "<style scoped>\n",
       "    .dataframe tbody tr th:only-of-type {\n",
       "        vertical-align: middle;\n",
       "    }\n",
       "\n",
       "    .dataframe tbody tr th {\n",
       "        vertical-align: top;\n",
       "    }\n",
       "\n",
       "    .dataframe thead th {\n",
       "        text-align: right;\n",
       "    }\n",
       "</style>\n",
       "<table border=\"1\" class=\"dataframe\">\n",
       "  <thead>\n",
       "    <tr style=\"text-align: right;\">\n",
       "      <th></th>\n",
       "      <th>dt</th>\n",
       "      <th>temp</th>\n",
       "      <th>feels_like</th>\n",
       "      <th>pressure</th>\n",
       "      <th>humidity</th>\n",
       "      <th>dew_point</th>\n",
       "      <th>uvi</th>\n",
       "      <th>clouds</th>\n",
       "      <th>visibility</th>\n",
       "      <th>wind_speed</th>\n",
       "      <th>wind_deg</th>\n",
       "      <th>wind_gust</th>\n",
       "    </tr>\n",
       "  </thead>\n",
       "  <tbody>\n",
       "    <tr>\n",
       "      <th>0</th>\n",
       "      <td>1659902400</td>\n",
       "      <td>305.24</td>\n",
       "      <td>304.19</td>\n",
       "      <td>1013</td>\n",
       "      <td>31</td>\n",
       "      <td>285.99</td>\n",
       "      <td>9.40</td>\n",
       "      <td>0</td>\n",
       "      <td>10000</td>\n",
       "      <td>2.49</td>\n",
       "      <td>212</td>\n",
       "      <td>2.40</td>\n",
       "    </tr>\n",
       "    <tr>\n",
       "      <th>1</th>\n",
       "      <td>1659906000</td>\n",
       "      <td>305.32</td>\n",
       "      <td>304.55</td>\n",
       "      <td>1013</td>\n",
       "      <td>33</td>\n",
       "      <td>287.02</td>\n",
       "      <td>8.89</td>\n",
       "      <td>0</td>\n",
       "      <td>10000</td>\n",
       "      <td>2.65</td>\n",
       "      <td>204</td>\n",
       "      <td>2.73</td>\n",
       "    </tr>\n",
       "    <tr>\n",
       "      <th>2</th>\n",
       "      <td>1659909600</td>\n",
       "      <td>305.83</td>\n",
       "      <td>304.76</td>\n",
       "      <td>1013</td>\n",
       "      <td>30</td>\n",
       "      <td>286.00</td>\n",
       "      <td>7.24</td>\n",
       "      <td>0</td>\n",
       "      <td>10000</td>\n",
       "      <td>2.92</td>\n",
       "      <td>202</td>\n",
       "      <td>2.97</td>\n",
       "    </tr>\n",
       "    <tr>\n",
       "      <th>3</th>\n",
       "      <td>1659913200</td>\n",
       "      <td>306.59</td>\n",
       "      <td>305.27</td>\n",
       "      <td>1012</td>\n",
       "      <td>27</td>\n",
       "      <td>285.05</td>\n",
       "      <td>4.98</td>\n",
       "      <td>0</td>\n",
       "      <td>10000</td>\n",
       "      <td>3.26</td>\n",
       "      <td>205</td>\n",
       "      <td>3.26</td>\n",
       "    </tr>\n",
       "    <tr>\n",
       "      <th>4</th>\n",
       "      <td>1659916800</td>\n",
       "      <td>307.13</td>\n",
       "      <td>305.52</td>\n",
       "      <td>1012</td>\n",
       "      <td>24</td>\n",
       "      <td>283.73</td>\n",
       "      <td>2.73</td>\n",
       "      <td>0</td>\n",
       "      <td>10000</td>\n",
       "      <td>4.24</td>\n",
       "      <td>201</td>\n",
       "      <td>3.54</td>\n",
       "    </tr>\n",
       "  </tbody>\n",
       "</table>\n",
       "</div>"
      ],
      "text/plain": [
       "           dt    temp  feels_like  pressure  humidity  dew_point   uvi  \\\n",
       "0  1659902400  305.24      304.19      1013        31     285.99  9.40   \n",
       "1  1659906000  305.32      304.55      1013        33     287.02  8.89   \n",
       "2  1659909600  305.83      304.76      1013        30     286.00  7.24   \n",
       "3  1659913200  306.59      305.27      1012        27     285.05  4.98   \n",
       "4  1659916800  307.13      305.52      1012        24     283.73  2.73   \n",
       "\n",
       "   clouds  visibility  wind_speed  wind_deg  wind_gust  \n",
       "0       0       10000        2.49       212       2.40  \n",
       "1       0       10000        2.65       204       2.73  \n",
       "2       0       10000        2.92       202       2.97  \n",
       "3       0       10000        3.26       205       3.26  \n",
       "4       0       10000        4.24       201       3.54  "
      ]
     },
     "execution_count": 3,
     "metadata": {},
     "output_type": "execute_result"
    }
   ],
   "source": [
    "url_current_hourly = \"https://api.openweathermap.org/data/3.0/onecall?lat=38.752125&lon=-121.288010&exclude=current,minutely,daily&appid=2f01a2c2a7f1ffcb24807b893d1ba1d2\"\n",
    "current_hourly_req = requests.get(url_current_hourly)\n",
    "print(f'Status: {current_hourly_req.status_code}')\n",
    "\n",
    "w_current = current_hourly_req.json()\n",
    "print(w_current.keys())\n",
    "\n",
    "w_current_df = json_normalize(w_current['hourly'])\n",
    "w_current_df = w_current_df[['dt', 'temp', 'feels_like', 'pressure', 'humidity', 'dew_point', 'uvi',\n",
    "       'clouds', 'visibility', 'wind_speed', 'wind_deg', 'wind_gust']]\n",
    "w_current_df.head()"
   ]
  },
  {
   "cell_type": "code",
   "execution_count": 4,
   "id": "ad996ecc-bdef-4a2b-ba2f-3a02403f6817",
   "metadata": {},
   "outputs": [],
   "source": [
    "# Convert dt UNIX to datetime UTC\n",
    "w_current_df['dt'] = w_current_df['dt'].apply(lambda x: datetime.datetime.fromtimestamp(x))"
   ]
  },
  {
   "cell_type": "code",
   "execution_count": 5,
   "id": "bdd97ac4-9d68-4fef-8dd7-b23d5d80d96d",
   "metadata": {},
   "outputs": [
    {
     "data": {
      "text/html": [
       "<div>\n",
       "<style scoped>\n",
       "    .dataframe tbody tr th:only-of-type {\n",
       "        vertical-align: middle;\n",
       "    }\n",
       "\n",
       "    .dataframe tbody tr th {\n",
       "        vertical-align: top;\n",
       "    }\n",
       "\n",
       "    .dataframe thead th {\n",
       "        text-align: right;\n",
       "    }\n",
       "</style>\n",
       "<table border=\"1\" class=\"dataframe\">\n",
       "  <thead>\n",
       "    <tr style=\"text-align: right;\">\n",
       "      <th></th>\n",
       "      <th>dt</th>\n",
       "      <th>temp</th>\n",
       "      <th>feels_like</th>\n",
       "      <th>pressure</th>\n",
       "      <th>humidity</th>\n",
       "      <th>dew_point</th>\n",
       "      <th>uvi</th>\n",
       "      <th>clouds</th>\n",
       "      <th>visibility</th>\n",
       "      <th>wind_speed</th>\n",
       "      <th>wind_deg</th>\n",
       "      <th>wind_gust</th>\n",
       "    </tr>\n",
       "  </thead>\n",
       "  <tbody>\n",
       "    <tr>\n",
       "      <th>0</th>\n",
       "      <td>2022-08-07 13:00:00</td>\n",
       "      <td>305.24</td>\n",
       "      <td>304.19</td>\n",
       "      <td>1013</td>\n",
       "      <td>31</td>\n",
       "      <td>285.99</td>\n",
       "      <td>9.40</td>\n",
       "      <td>0</td>\n",
       "      <td>10000</td>\n",
       "      <td>2.49</td>\n",
       "      <td>212</td>\n",
       "      <td>2.40</td>\n",
       "    </tr>\n",
       "    <tr>\n",
       "      <th>1</th>\n",
       "      <td>2022-08-07 14:00:00</td>\n",
       "      <td>305.32</td>\n",
       "      <td>304.55</td>\n",
       "      <td>1013</td>\n",
       "      <td>33</td>\n",
       "      <td>287.02</td>\n",
       "      <td>8.89</td>\n",
       "      <td>0</td>\n",
       "      <td>10000</td>\n",
       "      <td>2.65</td>\n",
       "      <td>204</td>\n",
       "      <td>2.73</td>\n",
       "    </tr>\n",
       "    <tr>\n",
       "      <th>2</th>\n",
       "      <td>2022-08-07 15:00:00</td>\n",
       "      <td>305.83</td>\n",
       "      <td>304.76</td>\n",
       "      <td>1013</td>\n",
       "      <td>30</td>\n",
       "      <td>286.00</td>\n",
       "      <td>7.24</td>\n",
       "      <td>0</td>\n",
       "      <td>10000</td>\n",
       "      <td>2.92</td>\n",
       "      <td>202</td>\n",
       "      <td>2.97</td>\n",
       "    </tr>\n",
       "    <tr>\n",
       "      <th>3</th>\n",
       "      <td>2022-08-07 16:00:00</td>\n",
       "      <td>306.59</td>\n",
       "      <td>305.27</td>\n",
       "      <td>1012</td>\n",
       "      <td>27</td>\n",
       "      <td>285.05</td>\n",
       "      <td>4.98</td>\n",
       "      <td>0</td>\n",
       "      <td>10000</td>\n",
       "      <td>3.26</td>\n",
       "      <td>205</td>\n",
       "      <td>3.26</td>\n",
       "    </tr>\n",
       "    <tr>\n",
       "      <th>4</th>\n",
       "      <td>2022-08-07 17:00:00</td>\n",
       "      <td>307.13</td>\n",
       "      <td>305.52</td>\n",
       "      <td>1012</td>\n",
       "      <td>24</td>\n",
       "      <td>283.73</td>\n",
       "      <td>2.73</td>\n",
       "      <td>0</td>\n",
       "      <td>10000</td>\n",
       "      <td>4.24</td>\n",
       "      <td>201</td>\n",
       "      <td>3.54</td>\n",
       "    </tr>\n",
       "  </tbody>\n",
       "</table>\n",
       "</div>"
      ],
      "text/plain": [
       "                   dt    temp  feels_like  pressure  humidity  dew_point  \\\n",
       "0 2022-08-07 13:00:00  305.24      304.19      1013        31     285.99   \n",
       "1 2022-08-07 14:00:00  305.32      304.55      1013        33     287.02   \n",
       "2 2022-08-07 15:00:00  305.83      304.76      1013        30     286.00   \n",
       "3 2022-08-07 16:00:00  306.59      305.27      1012        27     285.05   \n",
       "4 2022-08-07 17:00:00  307.13      305.52      1012        24     283.73   \n",
       "\n",
       "    uvi  clouds  visibility  wind_speed  wind_deg  wind_gust  \n",
       "0  9.40       0       10000        2.49       212       2.40  \n",
       "1  8.89       0       10000        2.65       204       2.73  \n",
       "2  7.24       0       10000        2.92       202       2.97  \n",
       "3  4.98       0       10000        3.26       205       3.26  \n",
       "4  2.73       0       10000        4.24       201       3.54  "
      ]
     },
     "execution_count": 5,
     "metadata": {},
     "output_type": "execute_result"
    }
   ],
   "source": [
    "w_current_df.head()"
   ]
  },
  {
   "cell_type": "markdown",
   "id": "0bcd76b1-7dd6-45e5-a71f-006599d50ae6",
   "metadata": {},
   "source": [
    "# Testing: Historical Daily Weather from One Call API\n",
    "---"
   ]
  },
  {
   "cell_type": "code",
   "execution_count": 6,
   "id": "38dcba6b-d74f-499a-ba96-e07ef6accf48",
   "metadata": {},
   "outputs": [
    {
     "name": "stdout",
     "output_type": "stream",
     "text": [
      "Status: 200\n",
      "dict_keys(['lat', 'lon', 'timezone', 'timezone_offset', 'data'])\n"
     ]
    },
    {
     "data": {
      "text/html": [
       "<div>\n",
       "<style scoped>\n",
       "    .dataframe tbody tr th:only-of-type {\n",
       "        vertical-align: middle;\n",
       "    }\n",
       "\n",
       "    .dataframe tbody tr th {\n",
       "        vertical-align: top;\n",
       "    }\n",
       "\n",
       "    .dataframe thead th {\n",
       "        text-align: right;\n",
       "    }\n",
       "</style>\n",
       "<table border=\"1\" class=\"dataframe\">\n",
       "  <thead>\n",
       "    <tr style=\"text-align: right;\">\n",
       "      <th></th>\n",
       "      <th>dt</th>\n",
       "      <th>temp</th>\n",
       "      <th>feels_like</th>\n",
       "      <th>pressure</th>\n",
       "      <th>humidity</th>\n",
       "      <th>dew_point</th>\n",
       "      <th>uvi</th>\n",
       "      <th>clouds</th>\n",
       "      <th>visibility</th>\n",
       "      <th>wind_speed</th>\n",
       "      <th>wind_deg</th>\n",
       "    </tr>\n",
       "  </thead>\n",
       "  <tbody>\n",
       "    <tr>\n",
       "      <th>0</th>\n",
       "      <td>1659470400</td>\n",
       "      <td>310.12</td>\n",
       "      <td>311.45</td>\n",
       "      <td>1013</td>\n",
       "      <td>32</td>\n",
       "      <td>290.7</td>\n",
       "      <td>9.41</td>\n",
       "      <td>0</td>\n",
       "      <td>10000</td>\n",
       "      <td>2.57</td>\n",
       "      <td>290</td>\n",
       "    </tr>\n",
       "  </tbody>\n",
       "</table>\n",
       "</div>"
      ],
      "text/plain": [
       "           dt    temp  feels_like  pressure  humidity  dew_point   uvi  \\\n",
       "0  1659470400  310.12      311.45      1013        32      290.7  9.41   \n",
       "\n",
       "   clouds  visibility  wind_speed  wind_deg  \n",
       "0       0       10000        2.57       290  "
      ]
     },
     "execution_count": 6,
     "metadata": {},
     "output_type": "execute_result"
    }
   ],
   "source": [
    "url_hist_daily = \"https://api.openweathermap.org/data/3.0/onecall/timemachine?lat=38.752125&lon=-121.288010&dt=1659470400&appid=2f01a2c2a7f1ffcb24807b893d1ba1d2\"\n",
    "hist_daily_req = requests.get(url_hist_daily)\n",
    "print(f'Status: {hist_daily_req.status_code}')\n",
    "\n",
    "w_hist = hist_daily_req.json()\n",
    "print(w_hist.keys())\n",
    "\n",
    "w_hist_df = json_normalize(w_hist['data'])\n",
    "w_hist_df = w_hist_df[['dt', 'temp', 'feels_like', 'pressure', 'humidity',\n",
    "       'dew_point', 'uvi', 'clouds', 'visibility', 'wind_speed', 'wind_deg']]\n",
    "w_hist_df.head()"
   ]
  },
  {
   "cell_type": "code",
   "execution_count": 7,
   "id": "6918845d-1cfc-44d5-a87f-dab173622333",
   "metadata": {},
   "outputs": [],
   "source": [
    "# Convert dt UNIX to datetime UTC\n",
    "w_hist_df['dt'] = w_hist_df['dt'].apply(lambda x: datetime.datetime.fromtimestamp(x))"
   ]
  },
  {
   "cell_type": "code",
   "execution_count": 8,
   "id": "13f5354f-749a-4ea1-a929-d6592c85dd22",
   "metadata": {},
   "outputs": [
    {
     "data": {
      "text/html": [
       "<div>\n",
       "<style scoped>\n",
       "    .dataframe tbody tr th:only-of-type {\n",
       "        vertical-align: middle;\n",
       "    }\n",
       "\n",
       "    .dataframe tbody tr th {\n",
       "        vertical-align: top;\n",
       "    }\n",
       "\n",
       "    .dataframe thead th {\n",
       "        text-align: right;\n",
       "    }\n",
       "</style>\n",
       "<table border=\"1\" class=\"dataframe\">\n",
       "  <thead>\n",
       "    <tr style=\"text-align: right;\">\n",
       "      <th></th>\n",
       "      <th>dt</th>\n",
       "      <th>temp</th>\n",
       "      <th>feels_like</th>\n",
       "      <th>pressure</th>\n",
       "      <th>humidity</th>\n",
       "      <th>dew_point</th>\n",
       "      <th>uvi</th>\n",
       "      <th>clouds</th>\n",
       "      <th>visibility</th>\n",
       "      <th>wind_speed</th>\n",
       "      <th>wind_deg</th>\n",
       "    </tr>\n",
       "  </thead>\n",
       "  <tbody>\n",
       "    <tr>\n",
       "      <th>0</th>\n",
       "      <td>2022-08-02 13:00:00</td>\n",
       "      <td>310.12</td>\n",
       "      <td>311.45</td>\n",
       "      <td>1013</td>\n",
       "      <td>32</td>\n",
       "      <td>290.7</td>\n",
       "      <td>9.41</td>\n",
       "      <td>0</td>\n",
       "      <td>10000</td>\n",
       "      <td>2.57</td>\n",
       "      <td>290</td>\n",
       "    </tr>\n",
       "  </tbody>\n",
       "</table>\n",
       "</div>"
      ],
      "text/plain": [
       "                   dt    temp  feels_like  pressure  humidity  dew_point  \\\n",
       "0 2022-08-02 13:00:00  310.12      311.45      1013        32      290.7   \n",
       "\n",
       "    uvi  clouds  visibility  wind_speed  wind_deg  \n",
       "0  9.41       0       10000        2.57       290  "
      ]
     },
     "execution_count": 8,
     "metadata": {},
     "output_type": "execute_result"
    }
   ],
   "source": [
    "w_hist_df.head()"
   ]
  },
  {
   "cell_type": "code",
   "execution_count": 9,
   "id": "7d3d2937-cce9-4ad5-a6d7-38b6f2ade881",
   "metadata": {},
   "outputs": [
    {
     "data": {
      "text/plain": [
       "[{'id': 800, 'main': 'Clear', 'description': 'clear sky', 'icon': '01d'}]"
      ]
     },
     "execution_count": 9,
     "metadata": {},
     "output_type": "execute_result"
    }
   ],
   "source": [
    "w_hist['data'][0]['weather']"
   ]
  },
  {
   "cell_type": "markdown",
   "id": "381ea309-6fa6-4f1a-879c-a98acf5b5280",
   "metadata": {},
   "source": [
    "# Testing: Historical Hourly Weather from History API"
   ]
  },
  {
   "cell_type": "code",
   "execution_count": 12,
   "id": "aeaf5427-7a7d-4762-9623-b830b445f92a",
   "metadata": {},
   "outputs": [
    {
     "name": "stdout",
     "output_type": "stream",
     "text": [
      "Status: 401\n",
      "dict_keys(['cod', 'message'])\n"
     ]
    },
    {
     "ename": "KeyError",
     "evalue": "'data'",
     "output_type": "error",
     "traceback": [
      "\u001b[0;31m---------------------------------------------------------------------------\u001b[0m",
      "\u001b[0;31mKeyError\u001b[0m                                  Traceback (most recent call last)",
      "Input \u001b[0;32mIn [12]\u001b[0m, in \u001b[0;36m<cell line: 8>\u001b[0;34m()\u001b[0m\n\u001b[1;32m      5\u001b[0m wh_hist \u001b[38;5;241m=\u001b[39m hist_hourly_req\u001b[38;5;241m.\u001b[39mjson()\n\u001b[1;32m      6\u001b[0m \u001b[38;5;28mprint\u001b[39m(wh_hist\u001b[38;5;241m.\u001b[39mkeys())\n\u001b[0;32m----> 8\u001b[0m wh_hist_df \u001b[38;5;241m=\u001b[39m json_normalize(\u001b[43mwh_hist\u001b[49m\u001b[43m[\u001b[49m\u001b[38;5;124;43m'\u001b[39;49m\u001b[38;5;124;43mdata\u001b[39;49m\u001b[38;5;124;43m'\u001b[39;49m\u001b[43m]\u001b[49m)\n\u001b[1;32m      9\u001b[0m wh_hist_df \u001b[38;5;241m=\u001b[39m wh_hist_df[[\u001b[38;5;124m'\u001b[39m\u001b[38;5;124mdt\u001b[39m\u001b[38;5;124m'\u001b[39m, \u001b[38;5;124m'\u001b[39m\u001b[38;5;124mtemp\u001b[39m\u001b[38;5;124m'\u001b[39m, \u001b[38;5;124m'\u001b[39m\u001b[38;5;124mfeels_like\u001b[39m\u001b[38;5;124m'\u001b[39m, \u001b[38;5;124m'\u001b[39m\u001b[38;5;124mpressure\u001b[39m\u001b[38;5;124m'\u001b[39m, \u001b[38;5;124m'\u001b[39m\u001b[38;5;124mhumidity\u001b[39m\u001b[38;5;124m'\u001b[39m,\n\u001b[1;32m     10\u001b[0m        \u001b[38;5;124m'\u001b[39m\u001b[38;5;124mdew_point\u001b[39m\u001b[38;5;124m'\u001b[39m, \u001b[38;5;124m'\u001b[39m\u001b[38;5;124muvi\u001b[39m\u001b[38;5;124m'\u001b[39m, \u001b[38;5;124m'\u001b[39m\u001b[38;5;124mclouds\u001b[39m\u001b[38;5;124m'\u001b[39m, \u001b[38;5;124m'\u001b[39m\u001b[38;5;124mvisibility\u001b[39m\u001b[38;5;124m'\u001b[39m, \u001b[38;5;124m'\u001b[39m\u001b[38;5;124mwind_speed\u001b[39m\u001b[38;5;124m'\u001b[39m, \u001b[38;5;124m'\u001b[39m\u001b[38;5;124mwind_deg\u001b[39m\u001b[38;5;124m'\u001b[39m,\n\u001b[1;32m     11\u001b[0m        \u001b[38;5;124m'\u001b[39m\u001b[38;5;124mwind_gust\u001b[39m\u001b[38;5;124m'\u001b[39m]]\n\u001b[1;32m     12\u001b[0m wh_hist_df\u001b[38;5;241m.\u001b[39mhead()\n",
      "\u001b[0;31mKeyError\u001b[0m: 'data'"
     ]
    }
   ],
   "source": [
    "url_hist_hourly = \"http://history.openweathermap.org/data/2.5/history/city?lat=38.752125&lon=-121.288010&type=hour&start=1659470400&end=1659470400&appid=2f01a2c2a7f1ffcb24807b893d1ba1d2\"\n",
    "hist_hourly_req = requests.get(url_hist_hourly)\n",
    "print(f'Status: {hist_hourly_req.status_code}')\n",
    "\n",
    "wh_hist = hist_hourly_req.json()\n",
    "print(wh_hist.keys())\n",
    "\n",
    "wh_hist_df = json_normalize(wh_hist['data'])\n",
    "wh_hist_df = wh_hist_df[['dt', 'temp', 'feels_like', 'pressure', 'humidity',\n",
    "       'dew_point', 'uvi', 'clouds', 'visibility', 'wind_speed', 'wind_deg',\n",
    "       'wind_gust']]\n",
    "wh_hist_df.head()"
   ]
  },
  {
   "cell_type": "code",
   "execution_count": null,
   "id": "c8df59f0-6a98-47e3-9580-9370fa616a71",
   "metadata": {},
   "outputs": [],
   "source": []
  }
 ],
 "metadata": {
  "kernelspec": {
   "display_name": "Python 3 (ipykernel)",
   "language": "python",
   "name": "python3"
  },
  "language_info": {
   "codemirror_mode": {
    "name": "ipython",
    "version": 3
   },
   "file_extension": ".py",
   "mimetype": "text/x-python",
   "name": "python",
   "nbconvert_exporter": "python",
   "pygments_lexer": "ipython3",
   "version": "3.9.12"
  }
 },
 "nbformat": 4,
 "nbformat_minor": 5
}
