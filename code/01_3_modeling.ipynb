{
 "cells": [
  {
   "cell_type": "markdown",
   "id": "ba2e640d-2908-4fd0-bdf3-78f0c301dd65",
   "metadata": {},
   "source": [
    "# MODEL TESTING & FINAL MODELS\n",
    "---\n",
    "---\n",
    "### *Various regression models were tested on the average and high cycling period train datasets. Commented out models to prevent run times; results are in the commented out portions.*"
   ]
  },
  {
   "cell_type": "markdown",
   "id": "4b4b83d0-7973-42c4-8713-7c6cc5dc39bb",
   "metadata": {},
   "source": [
    "# Table of Contents\n",
    "---\n",
    "### [Average Cycling Period Model Testing](#Average-Cycling-Period-Model-Testing)\n",
    "> ### [Average Cycling Period Best Model](#Average-Cycling-Period-Best-Model---XGBoost-w/o-Polynomial)\n",
    "### [High Cycling Period Model Testing](#High-Cycling-Period-Modeling)\n",
    "> ### [High Cycling Period Best Model](#High-Cycling-Period-Best-Model---XGBoost-w/-Polynomial)"
   ]
  },
  {
   "cell_type": "markdown",
   "id": "a3237b7f-7fc2-4010-b60b-c7d880f28dd7",
   "metadata": {
    "jp-MarkdownHeadingCollapsed": true,
    "tags": []
   },
   "source": [
    "# Sources and Adaptations From\n",
    "---"
   ]
  },
  {
   "cell_type": "code",
   "execution_count": 1,
   "id": "9e3e2a61-2500-4f10-9091-992cc2485733",
   "metadata": {},
   "outputs": [],
   "source": [
    "# Various modeling lessons and breakfast hours from DSI 523\n",
    "# https://medium.com/towards-data-science/loss-functions-and-their-use-in-neural-networks-a470e703f1e9\n",
    "# https://www.tensorflow.org/api_docs/python/tf/keras/losses/MeanAbsoluteError\n",
    "# https://www.tensorflow.org/api_docs/python/tf/keras/losses/Huber\n",
    "# https://towardsdatascience.com/what-is-batch-normalization-46058b4f583\n",
    "# https://www.tensorflow.org/tutorials/keras/save_and_load#save_the_entire_model\n",
    "# https://machinelearningmastery.com/xgboost-for-regression/\n",
    "# https://towardsdatascience.com/getting-started-with-xgboost-in-scikit-learn-f69f5f470a97\n",
    "# https://xgboost.readthedocs.io/en/latest/parameter.html\n",
    "# https://www.python-graph-gallery.com/42-custom-linear-regression-fit-seaborn"
   ]
  },
  {
   "cell_type": "markdown",
   "id": "9509e54f-20d0-4638-aebd-93d7a93be9f1",
   "metadata": {
    "jp-MarkdownHeadingCollapsed": true,
    "tags": []
   },
   "source": [
    "# Imports\n",
    "---"
   ]
  },
  {
   "cell_type": "code",
   "execution_count": 2,
   "id": "b828ad9a-87a1-4fcc-ab0b-1a27c6ba6159",
   "metadata": {},
   "outputs": [],
   "source": [
    "import pandas as pd\n",
    "import numpy as np\n",
    "import seaborn as sns\n",
    "import matplotlib.pyplot as plt\n",
    "\n",
    "%matplotlib inline\n",
    "pd.set_option('display.max_columns', None)\n",
    "import warnings\n",
    "warnings.simplefilter(\"ignore\")\n",
    "\n",
    "from sklearn.pipeline import Pipeline\n",
    "from sklearn.model_selection import train_test_split\n",
    "from sklearn.preprocessing import PolynomialFeatures, StandardScaler\n",
    "from sklearn.metrics import mean_squared_error, mean_absolute_error, r2_score\n",
    "from sklearn.model_selection import GridSearchCV\n",
    "\n",
    "from sklearn.linear_model import LinearRegression\n",
    "from sklearn.linear_model import Ridge, Lasso, ElasticNet\n",
    "from sklearn.ensemble import GradientBoostingRegressor, AdaBoostRegressor, VotingRegressor\n",
    "from sklearn.tree import DecisionTreeRegressor\n",
    "from sklearn.ensemble import AdaBoostRegressor, RandomForestRegressor\n",
    "from xgboost import XGBRegressor\n",
    "\n",
    "from tensorflow.keras.models import Sequential\n",
    "from tensorflow.keras.layers import Dense, Dropout, BatchNormalization\n",
    "from tensorflow.keras.callbacks import EarlyStopping\n",
    "from tensorflow.keras.regularizers import l1, l2, l1_l2\n",
    "from tensorflow.keras.losses import MeanAbsoluteError, Huber\n",
    "\n",
    "import pickle"
   ]
  },
  {
   "cell_type": "code",
   "execution_count": 3,
   "id": "ca0ce27d-3d8f-42de-9ea2-616dbf621a46",
   "metadata": {},
   "outputs": [],
   "source": [
    "a_df = pd.read_csv('../data/average/a_df.csv')\n",
    "h_df = pd.read_csv('../data/high/h_df.csv')"
   ]
  },
  {
   "cell_type": "markdown",
   "id": "16db770f-e93d-4bfb-9395-8176710ffbd9",
   "metadata": {
    "tags": []
   },
   "source": [
    "# Average Cycling Period Modeling\n",
    "---"
   ]
  },
  {
   "cell_type": "code",
   "execution_count": 4,
   "id": "6ab7c15d-bf3f-4083-b508-3cd326ce0bd1",
   "metadata": {},
   "outputs": [
    {
     "data": {
      "text/html": [
       "<div>\n",
       "<style scoped>\n",
       "    .dataframe tbody tr th:only-of-type {\n",
       "        vertical-align: middle;\n",
       "    }\n",
       "\n",
       "    .dataframe tbody tr th {\n",
       "        vertical-align: top;\n",
       "    }\n",
       "\n",
       "    .dataframe thead th {\n",
       "        text-align: right;\n",
       "    }\n",
       "</style>\n",
       "<table border=\"1\" class=\"dataframe\">\n",
       "  <thead>\n",
       "    <tr style=\"text-align: right;\">\n",
       "      <th></th>\n",
       "      <th>timestamp</th>\n",
       "      <th>latitude</th>\n",
       "      <th>longitude</th>\n",
       "      <th>elevation</th>\n",
       "      <th>dt</th>\n",
       "      <th>heart_rate</th>\n",
       "      <th>bearing</th>\n",
       "      <th>time_diff_s</th>\n",
       "      <th>total_time_s</th>\n",
       "      <th>ele_diff_m</th>\n",
       "      <th>total_ele_change_m</th>\n",
       "      <th>lat_lon</th>\n",
       "      <th>dist_diff_km</th>\n",
       "      <th>total_dist_km</th>\n",
       "      <th>temp</th>\n",
       "      <th>feels_like</th>\n",
       "      <th>pressure</th>\n",
       "      <th>humidity</th>\n",
       "      <th>dew_point</th>\n",
       "      <th>clouds</th>\n",
       "      <th>wind_speed</th>\n",
       "      <th>wind_deg</th>\n",
       "    </tr>\n",
       "  </thead>\n",
       "  <tbody>\n",
       "    <tr>\n",
       "      <th>0</th>\n",
       "      <td>2022-07-20 16:07:45+00:00</td>\n",
       "      <td>38.773466</td>\n",
       "      <td>-121.363686</td>\n",
       "      <td>35.799999</td>\n",
       "      <td>1658333265</td>\n",
       "      <td>78</td>\n",
       "      <td>0.000000</td>\n",
       "      <td>0</td>\n",
       "      <td>0</td>\n",
       "      <td>0.000000</td>\n",
       "      <td>0.0</td>\n",
       "      <td>(38.77346634864807, -121.36368582956493)</td>\n",
       "      <td>0.0000</td>\n",
       "      <td>0.0000</td>\n",
       "      <td>297.65</td>\n",
       "      <td>297.17</td>\n",
       "      <td>1019</td>\n",
       "      <td>39</td>\n",
       "      <td>282.80</td>\n",
       "      <td>1</td>\n",
       "      <td>0.45</td>\n",
       "      <td>177</td>\n",
       "    </tr>\n",
       "    <tr>\n",
       "      <th>1</th>\n",
       "      <td>2022-07-20 16:07:46+00:00</td>\n",
       "      <td>38.773542</td>\n",
       "      <td>-121.363672</td>\n",
       "      <td>35.599998</td>\n",
       "      <td>1658333266</td>\n",
       "      <td>79</td>\n",
       "      <td>8.292053</td>\n",
       "      <td>1</td>\n",
       "      <td>1</td>\n",
       "      <td>-0.200001</td>\n",
       "      <td>-0.2</td>\n",
       "      <td>(38.77354153431952, -121.36367183178663)</td>\n",
       "      <td>0.0084</td>\n",
       "      <td>0.0084</td>\n",
       "      <td>297.65</td>\n",
       "      <td>297.17</td>\n",
       "      <td>1019</td>\n",
       "      <td>39</td>\n",
       "      <td>282.80</td>\n",
       "      <td>1</td>\n",
       "      <td>0.45</td>\n",
       "      <td>177</td>\n",
       "    </tr>\n",
       "    <tr>\n",
       "      <th>2</th>\n",
       "      <td>2022-07-20 16:07:49+00:00</td>\n",
       "      <td>38.773630</td>\n",
       "      <td>-121.363682</td>\n",
       "      <td>35.200001</td>\n",
       "      <td>1658333269</td>\n",
       "      <td>82</td>\n",
       "      <td>-5.321180</td>\n",
       "      <td>3</td>\n",
       "      <td>4</td>\n",
       "      <td>-0.399998</td>\n",
       "      <td>-0.6</td>\n",
       "      <td>(38.77363029867411, -121.36368239298463)</td>\n",
       "      <td>0.0099</td>\n",
       "      <td>0.0183</td>\n",
       "      <td>297.65</td>\n",
       "      <td>297.17</td>\n",
       "      <td>1019</td>\n",
       "      <td>39</td>\n",
       "      <td>282.80</td>\n",
       "      <td>1</td>\n",
       "      <td>0.45</td>\n",
       "      <td>177</td>\n",
       "    </tr>\n",
       "    <tr>\n",
       "      <th>3</th>\n",
       "      <td>2022-07-20 16:07:51+00:00</td>\n",
       "      <td>38.773789</td>\n",
       "      <td>-121.363733</td>\n",
       "      <td>35.000000</td>\n",
       "      <td>1658333271</td>\n",
       "      <td>83</td>\n",
       "      <td>-13.956066</td>\n",
       "      <td>2</td>\n",
       "      <td>6</td>\n",
       "      <td>-0.200001</td>\n",
       "      <td>-0.8</td>\n",
       "      <td>(38.77378871664405, -121.36373268440366)</td>\n",
       "      <td>0.0181</td>\n",
       "      <td>0.0364</td>\n",
       "      <td>297.67</td>\n",
       "      <td>297.17</td>\n",
       "      <td>1019</td>\n",
       "      <td>38</td>\n",
       "      <td>282.43</td>\n",
       "      <td>1</td>\n",
       "      <td>0.45</td>\n",
       "      <td>177</td>\n",
       "    </tr>\n",
       "    <tr>\n",
       "      <th>4</th>\n",
       "      <td>2022-07-20 16:07:52+00:00</td>\n",
       "      <td>38.773786</td>\n",
       "      <td>-121.363766</td>\n",
       "      <td>35.000000</td>\n",
       "      <td>1658333272</td>\n",
       "      <td>83</td>\n",
       "      <td>-96.936537</td>\n",
       "      <td>1</td>\n",
       "      <td>7</td>\n",
       "      <td>0.000000</td>\n",
       "      <td>-0.8</td>\n",
       "      <td>(38.77378553152084, -121.36376612819731)</td>\n",
       "      <td>0.0029</td>\n",
       "      <td>0.0393</td>\n",
       "      <td>297.67</td>\n",
       "      <td>297.17</td>\n",
       "      <td>1019</td>\n",
       "      <td>38</td>\n",
       "      <td>282.43</td>\n",
       "      <td>1</td>\n",
       "      <td>0.45</td>\n",
       "      <td>177</td>\n",
       "    </tr>\n",
       "  </tbody>\n",
       "</table>\n",
       "</div>"
      ],
      "text/plain": [
       "                   timestamp   latitude   longitude  elevation          dt  \\\n",
       "0  2022-07-20 16:07:45+00:00  38.773466 -121.363686  35.799999  1658333265   \n",
       "1  2022-07-20 16:07:46+00:00  38.773542 -121.363672  35.599998  1658333266   \n",
       "2  2022-07-20 16:07:49+00:00  38.773630 -121.363682  35.200001  1658333269   \n",
       "3  2022-07-20 16:07:51+00:00  38.773789 -121.363733  35.000000  1658333271   \n",
       "4  2022-07-20 16:07:52+00:00  38.773786 -121.363766  35.000000  1658333272   \n",
       "\n",
       "   heart_rate    bearing  time_diff_s  total_time_s  ele_diff_m  \\\n",
       "0          78   0.000000            0             0    0.000000   \n",
       "1          79   8.292053            1             1   -0.200001   \n",
       "2          82  -5.321180            3             4   -0.399998   \n",
       "3          83 -13.956066            2             6   -0.200001   \n",
       "4          83 -96.936537            1             7    0.000000   \n",
       "\n",
       "   total_ele_change_m                                   lat_lon  dist_diff_km  \\\n",
       "0                 0.0  (38.77346634864807, -121.36368582956493)        0.0000   \n",
       "1                -0.2  (38.77354153431952, -121.36367183178663)        0.0084   \n",
       "2                -0.6  (38.77363029867411, -121.36368239298463)        0.0099   \n",
       "3                -0.8  (38.77378871664405, -121.36373268440366)        0.0181   \n",
       "4                -0.8  (38.77378553152084, -121.36376612819731)        0.0029   \n",
       "\n",
       "   total_dist_km    temp  feels_like  pressure  humidity  dew_point  clouds  \\\n",
       "0         0.0000  297.65      297.17      1019        39     282.80       1   \n",
       "1         0.0084  297.65      297.17      1019        39     282.80       1   \n",
       "2         0.0183  297.65      297.17      1019        39     282.80       1   \n",
       "3         0.0364  297.67      297.17      1019        38     282.43       1   \n",
       "4         0.0393  297.67      297.17      1019        38     282.43       1   \n",
       "\n",
       "   wind_speed  wind_deg  \n",
       "0        0.45       177  \n",
       "1        0.45       177  \n",
       "2        0.45       177  \n",
       "3        0.45       177  \n",
       "4        0.45       177  "
      ]
     },
     "execution_count": 4,
     "metadata": {},
     "output_type": "execute_result"
    }
   ],
   "source": [
    "a_df.head()"
   ]
  },
  {
   "cell_type": "markdown",
   "id": "4acc5f0b-46be-4d35-87ce-5e50e80274f6",
   "metadata": {
    "jp-MarkdownHeadingCollapsed": true,
    "tags": []
   },
   "source": [
    "## X, y, train_test_split\n",
    "---"
   ]
  },
  {
   "cell_type": "code",
   "execution_count": 5,
   "id": "1422d14a-0130-44c4-afe3-74ee147cd7a0",
   "metadata": {},
   "outputs": [
    {
     "data": {
      "text/plain": [
       "Index(['timestamp', 'latitude', 'longitude', 'elevation', 'dt', 'heart_rate',\n",
       "       'bearing', 'time_diff_s', 'total_time_s', 'ele_diff_m',\n",
       "       'total_ele_change_m', 'lat_lon', 'dist_diff_km', 'total_dist_km',\n",
       "       'temp', 'feels_like', 'pressure', 'humidity', 'dew_point', 'clouds',\n",
       "       'wind_speed', 'wind_deg'],\n",
       "      dtype='object')"
      ]
     },
     "execution_count": 5,
     "metadata": {},
     "output_type": "execute_result"
    }
   ],
   "source": [
    "a_df.columns"
   ]
  },
  {
   "cell_type": "code",
   "execution_count": 6,
   "id": "a7112d65-747f-47d3-a69d-5a905518bddc",
   "metadata": {},
   "outputs": [],
   "source": [
    "a_features = ['elevation', 'bearing', 'time_diff_s', 'total_time_s', 'ele_diff_m',\n",
    "       'total_ele_change_m', 'dist_diff_km', 'total_dist_km',\n",
    "       'temp', 'feels_like', 'pressure', 'humidity', 'dew_point', 'clouds',\n",
    "       'wind_speed', 'wind_deg']\n",
    "a_X = a_df[a_features]\n",
    "a_y = a_df['heart_rate']\n",
    "\n",
    "a_X_train, a_X_test, a_y_train, a_y_test = train_test_split(a_X, a_y, random_state = 42)"
   ]
  },
  {
   "cell_type": "code",
   "execution_count": 7,
   "id": "58b0ddc5-1911-439c-89ec-342d06ab9dfe",
   "metadata": {},
   "outputs": [
    {
     "data": {
      "text/plain": [
       "130.21652421652422"
      ]
     },
     "execution_count": 7,
     "metadata": {},
     "output_type": "execute_result"
    }
   ],
   "source": [
    "a_y.mean()"
   ]
  },
  {
   "cell_type": "markdown",
   "id": "b5eab97a-12cc-46e7-b1bb-b0222df5cd69",
   "metadata": {},
   "source": [
    "### StandardScaler X_train and X_test for testing"
   ]
  },
  {
   "cell_type": "code",
   "execution_count": 8,
   "id": "8902c045-7211-4157-9248-2fb9e0426418",
   "metadata": {},
   "outputs": [],
   "source": [
    "a_ss = StandardScaler()\n",
    "a_X_train_sc = a_ss.fit_transform(a_X_train)\n",
    "a_X_test_sc = a_ss.transform(a_X_test)"
   ]
  },
  {
   "cell_type": "markdown",
   "id": "04b67ac0-6d16-4efe-b05c-b03bcea45e88",
   "metadata": {},
   "source": [
    "### Polynomial X_train and X_test for testing"
   ]
  },
  {
   "cell_type": "code",
   "execution_count": 9,
   "id": "4f429dcf-6b97-424d-ac99-0f12184d3266",
   "metadata": {},
   "outputs": [],
   "source": [
    "a_poly = PolynomialFeatures()\n",
    "a_X_train_sc_p = a_poly.fit_transform(a_X_train_sc)\n",
    "a_X_test_sc_p = a_poly.fit_transform(a_X_test_sc)"
   ]
  },
  {
   "cell_type": "markdown",
   "id": "e10c0a5a-9580-4cb1-8a6b-d50c38e4879a",
   "metadata": {
    "jp-MarkdownHeadingCollapsed": true,
    "tags": []
   },
   "source": [
    "## Linear Regression\n",
    "---"
   ]
  },
  {
   "cell_type": "code",
   "execution_count": 10,
   "id": "2308b699-e547-4eb1-914d-5d06f13712bb",
   "metadata": {},
   "outputs": [
    {
     "data": {
      "text/plain": [
       "'\\nLinear Regression Train R2 Score: 0.5260233155015783\\nLinear Regression Test R2 Score: 0.5322513167399172\\n'"
      ]
     },
     "execution_count": 10,
     "metadata": {},
     "output_type": "execute_result"
    }
   ],
   "source": [
    "'''\n",
    "a_lr = LinearRegression()\n",
    "a_lr.fit(a_X_train_sc, a_y_train)\n",
    "print(f'Linear Regression Train R2 Score: {a_lr.score(a_X_train_sc, a_y_train)}')\n",
    "print(f'Linear Regression Test R2 Score: {a_lr.score(a_X_test_sc, a_y_test)}')\n",
    "'''\n",
    "'''\n",
    "Linear Regression Train R2 Score: 0.5260233155015783\n",
    "Linear Regression Test R2 Score: 0.5322513167399172\n",
    "'''"
   ]
  },
  {
   "cell_type": "markdown",
   "id": "1a3eba4a-d843-40fe-894f-437fc51e4da6",
   "metadata": {
    "tags": []
   },
   "source": [
    "### Linear Regression Pipeline (StandardScaler, Polynomial)"
   ]
  },
  {
   "cell_type": "code",
   "execution_count": 11,
   "id": "7dbc010d-fd67-4801-ad74-b6108a94f87b",
   "metadata": {},
   "outputs": [
    {
     "data": {
      "text/plain": [
       "'\\nLR Pipe Train R2 Score: 0.8082482755481244\\nLR Pipe Test R2 Score: 0.7906546450250773\\n'"
      ]
     },
     "execution_count": 11,
     "metadata": {},
     "output_type": "execute_result"
    }
   ],
   "source": [
    "'''\n",
    "a_lr_pipe = Pipeline([\n",
    "    ('a_ss', StandardScaler()),\n",
    "    ('a_poly', PolynomialFeatures()),\n",
    "    ('a_lr', LinearRegression())\n",
    "])\n",
    "\n",
    "a_lr_pipe.fit(a_X_train, a_y_train)\n",
    "print(f'LR Pipe Train R2 Score: {a_lr_pipe.score(a_X_train, a_y_train)}')\n",
    "print(f'LR Pipe Test R2 Score: {a_lr_pipe.score(a_X_test, a_y_test)}')\n",
    "'''\n",
    "'''\n",
    "LR Pipe Train R2 Score: 0.8082482755481244\n",
    "LR Pipe Test R2 Score: 0.7906546450250773\n",
    "'''"
   ]
  },
  {
   "cell_type": "markdown",
   "id": "fe5836ba-85f8-42db-af96-34667942de0f",
   "metadata": {
    "tags": []
   },
   "source": [
    "## Regressor Boosting\n",
    "---"
   ]
  },
  {
   "cell_type": "markdown",
   "id": "8c3242f8-96db-41b8-9fca-e0b32a8aa4cc",
   "metadata": {
    "jp-MarkdownHeadingCollapsed": true,
    "tags": []
   },
   "source": [
    "### AdaBoost with Linear Regression Base Estimator"
   ]
  },
  {
   "cell_type": "code",
   "execution_count": 12,
   "id": "968bf2bf-2df7-48f1-9bfc-0f59053ef06c",
   "metadata": {},
   "outputs": [
    {
     "data": {
      "text/plain": [
       "'\\nAda LR Train R2 Score: 0.8046423913777858\\nAda LR Test R2 Score: 0.776694380832758\\n'"
      ]
     },
     "execution_count": 12,
     "metadata": {},
     "output_type": "execute_result"
    }
   ],
   "source": [
    "'''\n",
    "a_ada_lr = AdaBoostRegressor(base_estimator = LinearRegression(), random_state = 42)\n",
    "\n",
    "a_ada_lr.fit(a_X_train_sc_p, a_y_train)\n",
    "print(f'Ada LR Train R2 Score: {a_ada_lr.score(a_X_train_sc_p, a_y_train)}')\n",
    "print(f'Ada LR Test R2 Score: {a_ada_lr.score(a_X_test_sc_p, a_y_test)}')\n",
    "'''\n",
    "'''\n",
    "Ada LR Train R2 Score: 0.8046423913777858\n",
    "Ada LR Test R2 Score: 0.776694380832758\n",
    "'''"
   ]
  },
  {
   "cell_type": "markdown",
   "id": "a4dcc69d-c9c3-47cb-a6e9-a1e24411836d",
   "metadata": {
    "jp-MarkdownHeadingCollapsed": true,
    "tags": []
   },
   "source": [
    "### AdaBoost with Decision Tree Base Estimator"
   ]
  },
  {
   "cell_type": "code",
   "execution_count": 13,
   "id": "fc0afdc7-652b-4526-a213-bfca4d321bb9",
   "metadata": {},
   "outputs": [
    {
     "data": {
      "text/plain": [
       "\"\\n0.868164587298871\\n{'base_estimator__max_depth': 5, 'n_estimators': 200}\\nAda DT Train R2 Score: 0.8756108134812447\\nAda DT Test R2 Score: 0.8730399805443708\\n\""
      ]
     },
     "execution_count": 13,
     "metadata": {},
     "output_type": "execute_result"
    }
   ],
   "source": [
    "'''\n",
    "a_ada_dt = AdaBoostRegressor(base_estimator = DecisionTreeRegressor(), random_state = 42)\n",
    "\n",
    "a_ada_dt_params = {\n",
    "    'n_estimators': [50, 100, 150, 200],\n",
    "    'base_estimator__max_depth': [1, 2, 5]\n",
    "}\n",
    "\n",
    "a_gs_ada_dt = GridSearchCV(a_ada_dt, param_grid = a_ada_dt_params, cv = 5)\n",
    "a_gs_ada_dt.fit(a_X_train_sc, a_y_train)\n",
    "print(a_gs_ada_dt.best_score_)\n",
    "print(a_gs_ada_dt.best_params_)\n",
    "print(f'Ada DT Train R2 Score: {a_gs_ada_dt.score(a_X_train_sc, a_y_train)}')\n",
    "print(f'Ada DT Test R2 Score: {a_gs_ada_dt.score(a_X_test_sc, a_y_test)}')\n",
    "'''\n",
    "\n",
    "'''\n",
    "0.868164587298871\n",
    "{'base_estimator__max_depth': 5, 'n_estimators': 200}\n",
    "Ada DT Train R2 Score: 0.8756108134812447\n",
    "Ada DT Test R2 Score: 0.8730399805443708\n",
    "'''"
   ]
  },
  {
   "cell_type": "markdown",
   "id": "6155407f-7539-4cbe-bca7-8b766fd70b94",
   "metadata": {
    "jp-MarkdownHeadingCollapsed": true,
    "tags": []
   },
   "source": [
    "### AdaBoost with Random Forest Base Estimator"
   ]
  },
  {
   "cell_type": "code",
   "execution_count": 14,
   "id": "5de35077-25ad-44a6-bb79-dc018699bd4e",
   "metadata": {},
   "outputs": [
    {
     "data": {
      "text/plain": [
       "\"\\n0.844253394135492\\n{'base_estimator__max_depth': 5, 'n_estimators': 50}\\nAda DT Train R2 Score: 0.8526320077631239\\nAda DT Test R2 Score: 0.8512220020729748\\n\""
      ]
     },
     "execution_count": 14,
     "metadata": {},
     "output_type": "execute_result"
    }
   ],
   "source": [
    "'''\n",
    "a_ada_rf = AdaBoostRegressor(base_estimator = RandomForestRegressor(), random_state = 42)\n",
    "\n",
    "a_ada_rf_params = {\n",
    "    'n_estimators': [50, 100, 150, 200],\n",
    "    'base_estimator__max_depth': [1, 2, 5]\n",
    "}\n",
    "\n",
    "a_gs_ada_rf = GridSearchCV(a_ada_rf, param_grid = a_ada_rf_params, cv = 5)\n",
    "a_gs_ada_rf.fit(a_X_train_sc, a_y_train)\n",
    "print(a_gs_ada_rf.best_score_)\n",
    "print(a_gs_ada_rf.best_params_)\n",
    "print(f'Ada DT Train R2 Score: {a_gs_ada_rf.score(a_X_train_sc, a_y_train)}')\n",
    "print(f'Ada DT Test R2 Score: {a_gs_ada_rf.score(a_X_test_sc, a_y_test)}')\n",
    "'''\n",
    "'''\n",
    "0.844253394135492\n",
    "{'base_estimator__max_depth': 5, 'n_estimators': 50}\n",
    "Ada DT Train R2 Score: 0.8526320077631239\n",
    "Ada DT Test R2 Score: 0.8512220020729748\n",
    "'''"
   ]
  },
  {
   "cell_type": "markdown",
   "id": "4c920337-6425-47be-9aaa-60769c0e1f00",
   "metadata": {
    "jp-MarkdownHeadingCollapsed": true,
    "tags": []
   },
   "source": [
    "### Gradient Boosting"
   ]
  },
  {
   "cell_type": "code",
   "execution_count": 15,
   "id": "1f14bbf6-8fe7-4203-ba97-93d56b5a5234",
   "metadata": {
    "tags": []
   },
   "outputs": [
    {
     "data": {
      "text/plain": [
       "\"\\nGridSearch Best Score: 0.964003581281308\\n{'learning_rate': 0.8, 'max_depth': 4, 'n_estimators': 150}\\nGBoost Train R2 Score: 0.9888934084696182\\nGBoost Test R2 Score: 0.9709606783777225\\nMean Absolute Error: 2.7824393977965642\\nMean Squared Error: 14.658521217024555\\n\""
      ]
     },
     "execution_count": 15,
     "metadata": {},
     "output_type": "execute_result"
    }
   ],
   "source": [
    "'''\n",
    "# Instantiate\n",
    "a_gboost = GradientBoostingRegressor()\n",
    "\n",
    "a_gboost_params = {\n",
    "    'max_depth': [2, 3, 4],\n",
    "    'n_estimators': [100, 125, 150],\n",
    "    'learning_rate': [0.8, .1, .12]\n",
    "}\n",
    "\n",
    "# Gridsearch\n",
    "a_gb_gs = GridSearchCV(a_gboost, param_grid = a_gboost_params, cv = 5)\n",
    "a_gb_gs.fit(a_X_train_sc, a_y_train)\n",
    "\n",
    "# Metrics\n",
    "print(f'GridSearch Best Score: {a_gb_gs.best_score_}')\n",
    "print(a_gb_gs.best_params_)\n",
    "print(f'GBoost Train R2 Score: {a_gb_gs.score(a_X_train_sc, a_y_train)}')\n",
    "print(f'GBoost Test R2 Score: {a_gb_gs.score(a_X_test_sc, a_y_test)}')\n",
    "\n",
    "a_gb_y_true = a_y_test\n",
    "a_gb_y_pred = a_gb_gs.predict(a_X_test_sc)\n",
    "\n",
    "# MAE\n",
    "print(f'Mean Absolute Error: {mean_absolute_error(a_gb_y_true, a_gb_y_pred)}')\n",
    "\n",
    "# MSE\n",
    "print(f'Mean Squared Error: {mean_squared_error(a_gb_y_true, a_gb_y_pred)}')\n",
    "'''\n",
    "'''\n",
    "GridSearch Best Score: 0.964003581281308\n",
    "{'learning_rate': 0.8, 'max_depth': 4, 'n_estimators': 150}\n",
    "GBoost Train R2 Score: 0.9888934084696182\n",
    "GBoost Test R2 Score: 0.9709606783777225\n",
    "Mean Absolute Error: 2.7824393977965642\n",
    "Mean Squared Error: 14.658521217024555\n",
    "'''"
   ]
  },
  {
   "cell_type": "markdown",
   "id": "4181f707-d03f-4ee2-b37b-1118d1248c1f",
   "metadata": {
    "jp-MarkdownHeadingCollapsed": true,
    "tags": []
   },
   "source": [
    "### XGBoost w/o Polynomial Features"
   ]
  },
  {
   "cell_type": "code",
   "execution_count": 16,
   "id": "bbad08d0-11cc-4eec-8800-6c20b255c9d5",
   "metadata": {},
   "outputs": [
    {
     "data": {
      "text/plain": [
       "\"\\nGridSearch Best Score: 0.9659966627636546\\n{'learning_rate': 0.8, 'max_depth': 4, 'n_estimators': 150}\\nXGBoost Train R2 Score: 0.9888381686104007\\nXGBoost Test R2 Score: 0.9719382323708556\\nMean Absolute Error: 2.7619688805285496\\nMean Squared Error: 14.165069746789941\\n\""
      ]
     },
     "execution_count": 16,
     "metadata": {},
     "output_type": "execute_result"
    }
   ],
   "source": [
    "'''\n",
    "# Instantiate\n",
    "a_xgboost = XGBRegressor()\n",
    "\n",
    "# Gridsearch\n",
    "a_xgboost_params = {\n",
    "    'max_depth': [2, 3, 4],\n",
    "    'n_estimators': [100, 125, 150],\n",
    "    'learning_rate': [0.8, .1, .12]\n",
    "}\n",
    "\n",
    "a_xgb_gs = GridSearchCV(a_xgboost, param_grid = a_xgboost_params, cv = 5)\n",
    "a_xgb_gs.fit(a_X_train_sc, a_y_train)\n",
    "\n",
    "# Metrics\n",
    "print(f'GridSearch Best Score: {a_xgb_gs.best_score_}')\n",
    "print(a_xgb_gs.best_params_)\n",
    "print(f'XGBoost Train R2 Score: {a_xgb_gs.score(a_X_train_sc, a_y_train)}')\n",
    "print(f'XGBoost Test R2 Score: {a_xgb_gs.score(a_X_test_sc, a_y_test)}')\n",
    "\n",
    "a_xgb_y_true = a_y_test\n",
    "a_xgb_y_pred = a_xgb_gs.predict(a_X_test_sc)\n",
    "\n",
    "# MAE\n",
    "print(f'Mean Absolute Error: {mean_absolute_error(a_xgb_y_true, a_xgb_y_pred)}')\n",
    "\n",
    "# MSE\n",
    "print(f'Mean Squared Error: {mean_squared_error(a_xgb_y_true, a_xgb_y_pred)}')\n",
    "'''\n",
    "'''\n",
    "GridSearch Best Score: 0.9659966627636546\n",
    "{'learning_rate': 0.8, 'max_depth': 4, 'n_estimators': 150}\n",
    "XGBoost Train R2 Score: 0.9888381686104007\n",
    "XGBoost Test R2 Score: 0.9719382323708556\n",
    "Mean Absolute Error: 2.7619688805285496\n",
    "Mean Squared Error: 14.165069746789941\n",
    "'''"
   ]
  },
  {
   "cell_type": "markdown",
   "id": "4d8ca1c8-b384-47d3-996b-6f29e207438b",
   "metadata": {
    "jp-MarkdownHeadingCollapsed": true,
    "tags": []
   },
   "source": [
    "## Neural Net Regressor\n",
    "---"
   ]
  },
  {
   "cell_type": "markdown",
   "id": "22cacd20-80c3-48ac-bea0-c84c0c8cd227",
   "metadata": {},
   "source": [
    "### X, y, train_test_split, StandardScaler"
   ]
  },
  {
   "cell_type": "code",
   "execution_count": 17,
   "id": "72562d7c-5ea8-442a-9d86-9e02f13c5004",
   "metadata": {},
   "outputs": [
    {
     "data": {
      "text/plain": [
       "\"\\na_X_nn = a_df[a_features]\\na_y_nn = a_df['heart_rate']\\n\\na_X_nn = np.array(a_X_nn)\\na_y_nn = np.array(a_y_nn)\\n\\na_X_nn_train, a_X_nn_test, a_y_nn_train, a_y_nn_test = train_test_split(a_X_nn, a_y_nn, random_state = 42)\\n\\na_ss_nn = StandardScaler()\\na_X_nn_train_sc = a_ss_nn.fit_transform(a_X_nn_train)\\na_X_nn_test_sc = a_ss.transform(a_X_nn_test)\\n\""
      ]
     },
     "execution_count": 17,
     "metadata": {},
     "output_type": "execute_result"
    }
   ],
   "source": [
    "'''\n",
    "a_X_nn = a_df[a_features]\n",
    "a_y_nn = a_df['heart_rate']\n",
    "\n",
    "a_X_nn = np.array(a_X_nn)\n",
    "a_y_nn = np.array(a_y_nn)\n",
    "\n",
    "a_X_nn_train, a_X_nn_test, a_y_nn_train, a_y_nn_test = train_test_split(a_X_nn, a_y_nn, random_state = 42)\n",
    "\n",
    "a_ss_nn = StandardScaler()\n",
    "a_X_nn_train_sc = a_ss_nn.fit_transform(a_X_nn_train)\n",
    "a_X_nn_test_sc = a_ss.transform(a_X_nn_test)\n",
    "'''"
   ]
  },
  {
   "cell_type": "code",
   "execution_count": 18,
   "id": "2407b7a2-6e73-4b0e-a006-93ffbc16cbe4",
   "metadata": {},
   "outputs": [],
   "source": [
    "# a_X_nn[0].shape"
   ]
  },
  {
   "cell_type": "code",
   "execution_count": 19,
   "id": "ef54f2ba-d2bd-4c98-b754-af095d7e5d76",
   "metadata": {},
   "outputs": [
    {
     "data": {
      "text/plain": [
       "\"\\n# Instantiate\\na_model_nn = Sequential()\\n\\n# Layers\\na_model_nn.add(Dense(128, input_dim = 16, activation = 'relu'))\\n\\na_model_nn.add(BatchNormalization())\\na_model_nn.add(Dense(64, activation = 'relu', kernel_regularizer = l2(.1)))\\na_model_nn.add(Dense(128, activation = 'relu', kernel_regularizer = l2(.5)))\\na_model_nn.add(Dense(64, activation = 'relu', kernel_regularizer = l2(.1)))\\na_model_nn.add(Dense(128, activation = 'relu', kernel_regularizer = l2(.5))) \\na_model_nn.add(Dense(64, activation = 'relu', kernel_regularizer = l2(.1))) \\na_model_nn.add(Dense(1, kernel_regularizer = l2(.5)))\\n\""
      ]
     },
     "execution_count": 19,
     "metadata": {},
     "output_type": "execute_result"
    }
   ],
   "source": [
    "'''\n",
    "# Instantiate\n",
    "a_model_nn = Sequential()\n",
    "\n",
    "# Layers\n",
    "a_model_nn.add(Dense(128, input_dim = 16, activation = 'relu'))\n",
    "\n",
    "a_model_nn.add(BatchNormalization())\n",
    "a_model_nn.add(Dense(64, activation = 'relu', kernel_regularizer = l2(.1)))\n",
    "a_model_nn.add(Dense(128, activation = 'relu', kernel_regularizer = l2(.5)))\n",
    "a_model_nn.add(Dense(64, activation = 'relu', kernel_regularizer = l2(.1)))\n",
    "a_model_nn.add(Dense(128, activation = 'relu', kernel_regularizer = l2(.5))) \n",
    "a_model_nn.add(Dense(64, activation = 'relu', kernel_regularizer = l2(.1))) \n",
    "a_model_nn.add(Dense(1, kernel_regularizer = l2(.5)))\n",
    "'''"
   ]
  },
  {
   "cell_type": "code",
   "execution_count": 20,
   "id": "d60e4577-0412-443b-94e0-ea16b121a107",
   "metadata": {},
   "outputs": [
    {
     "data": {
      "text/plain": [
       "\"\\n# compile\\na_model_nn.compile(optimizer = 'adam', loss = 'mse', metrics = ['mse'])\\n\""
      ]
     },
     "execution_count": 20,
     "metadata": {},
     "output_type": "execute_result"
    }
   ],
   "source": [
    "'''\n",
    "# compile\n",
    "a_model_nn.compile(optimizer = 'adam', loss = 'mse', metrics = ['mse'])\n",
    "'''"
   ]
  },
  {
   "cell_type": "code",
   "execution_count": 21,
   "id": "b676e67c-ea0c-4e85-88ea-8c8361d2fc68",
   "metadata": {
    "scrolled": true,
    "tags": []
   },
   "outputs": [
    {
     "data": {
      "text/plain": [
       "'\\n# fit\\na_history_nn = a_model_nn.fit(a_X_nn_train_sc, a_y_nn_train, epochs = 500, verbose = 1, \\n                          validation_data = (a_X_nn_test_sc, a_y_nn_test))\\n'"
      ]
     },
     "execution_count": 21,
     "metadata": {},
     "output_type": "execute_result"
    }
   ],
   "source": [
    "'''\n",
    "# fit\n",
    "a_history_nn = a_model_nn.fit(a_X_nn_train_sc, a_y_nn_train, epochs = 500, verbose = 1, \n",
    "                          validation_data = (a_X_nn_test_sc, a_y_nn_test))\n",
    "'''"
   ]
  },
  {
   "cell_type": "code",
   "execution_count": 22,
   "id": "b6adc2a6-f40b-4657-a166-7c4c4ddec36d",
   "metadata": {},
   "outputs": [
    {
     "data": {
      "text/plain": [
       "\"\\n#breakfast hour\\n# plot train and test loss (mse)\\nfig, ax = plt.subplots(1, 2, figsize=(15, 5))\\n\\nax[0].plot(a_history_nn.history['loss'], color = 'green')\\nax[1].plot(a_history_nn.history['val_loss'], color = 'blue')\\n\\nax[0].set_title('Train')\\nax[0].set_xlabel('epochs')\\nax[0].set_ylabel('Loss = MSE')\\n\\nax[1].set_title('Test')\\nax[1].set_xlabel('epochs')\\nax[1].set_ylabel('Loss = MSE');\\n\""
      ]
     },
     "execution_count": 22,
     "metadata": {},
     "output_type": "execute_result"
    }
   ],
   "source": [
    "'''\n",
    "#breakfast hour\n",
    "# plot train and test loss (mse)\n",
    "fig, ax = plt.subplots(1, 2, figsize=(15, 5))\n",
    "\n",
    "ax[0].plot(a_history_nn.history['loss'], color = 'green')\n",
    "ax[1].plot(a_history_nn.history['val_loss'], color = 'blue')\n",
    "\n",
    "ax[0].set_title('Train')\n",
    "ax[0].set_xlabel('epochs')\n",
    "ax[0].set_ylabel('Loss = MSE')\n",
    "\n",
    "ax[1].set_title('Test')\n",
    "ax[1].set_xlabel('epochs')\n",
    "ax[1].set_ylabel('Loss = MSE');\n",
    "'''"
   ]
  },
  {
   "cell_type": "code",
   "execution_count": 23,
   "id": "f7a59700-0e54-4489-b2d9-6ac968862dab",
   "metadata": {},
   "outputs": [
    {
     "data": {
      "text/plain": [
       "'\\n118/118 [==============================] - 0s 1ms/step\\nTest R2: 0.9330577294184806\\nMean Absolute Error: 24.59176254272461\\nHuber Loss: 24.096338272094727\\n'"
      ]
     },
     "execution_count": 23,
     "metadata": {},
     "output_type": "execute_result"
    }
   ],
   "source": [
    "'''\n",
    "# https://medium.com/towards-data-science/loss-functions-and-their-use-in-neural-networks-a470e703f1e9\n",
    "a_nn_y_true = a_y_nn_test\n",
    "a_nn_y_pred = a_model_nn.predict(a_X_nn_test_sc)\n",
    "\n",
    "# R2\n",
    "print(f'Test R2: {r2_score(a_nn_y_true, a_nn_y_pred)}')\n",
    "\n",
    "# MAE\n",
    "mae = MeanAbsoluteError()\n",
    "print(f'Mean Absolute Error: {mae(a_nn_y_true, a_nn_y_pred)}')\n",
    "\n",
    "# Huber\n",
    "huber = Huber()\n",
    "print(f'Huber Loss: {huber(a_nn_y_true, a_nn_y_pred)}')\n",
    "'''\n",
    "'''\n",
    "118/118 [==============================] - 0s 1ms/step\n",
    "Test R2: 0.9330577294184806\n",
    "Mean Absolute Error: 24.59176254272461\n",
    "Huber Loss: 24.096338272094727\n",
    "'''"
   ]
  },
  {
   "cell_type": "markdown",
   "id": "2d0f289d-1569-471e-a074-5c8321fcb722",
   "metadata": {
    "tags": []
   },
   "source": [
    "# Average Cycling Period Best Model - XGBoost w/o Polynomial\n",
    "---"
   ]
  },
  {
   "cell_type": "markdown",
   "id": "0bf641f4-8048-43a3-80de-e0d98a0884a2",
   "metadata": {},
   "source": [
    "### GridSearch \n",
    "- Best Score: 0.9659966627636546\n",
    "- learning_rate: 0.8  \n",
    "- max_depth: 4\n",
    "- n_estimators: 150\n",
    "\n",
    "### Scores & Errors\n",
    "- Train R2 Score: 0.9888381686104007\n",
    "- Test R2 Score: 0.9719382323708556\n",
    "- Mean Absolute Error: 2.7619688805285496\n",
    "- Mean Squared Error: 14.165069746789941"
   ]
  },
  {
   "cell_type": "code",
   "execution_count": 24,
   "id": "d4030438-c15a-4971-af9f-d48db01d66cb",
   "metadata": {},
   "outputs": [
    {
     "data": {
      "text/plain": [
       "\"\\na_X_test_df = pd.DataFrame(a_X_test)\\na_X_test_df.columns = a_features\\na_X_test_df['hr_preds'] = a_xgb_gs.predict(a_X_test_sc)\\na_X_test_df['heart_rate'] = list(a_y_test)\\na_X_test_df.shape\\n\""
      ]
     },
     "execution_count": 24,
     "metadata": {},
     "output_type": "execute_result"
    }
   ],
   "source": [
    "'''\n",
    "a_X_test_df = pd.DataFrame(a_X_test)\n",
    "a_X_test_df.columns = a_features\n",
    "a_X_test_df['hr_preds'] = a_xgb_gs.predict(a_X_test_sc)\n",
    "a_X_test_df['heart_rate'] = list(a_y_test)\n",
    "a_X_test_df.shape\n",
    "'''"
   ]
  },
  {
   "cell_type": "code",
   "execution_count": 25,
   "id": "62e48ab9-1483-43d2-b309-bb9321904d03",
   "metadata": {},
   "outputs": [],
   "source": [
    "# a_X_test_df.to_csv('../data/average/a_X_test_preds_df.csv', index = False)"
   ]
  },
  {
   "cell_type": "code",
   "execution_count": 26,
   "id": "57be6522-7c8a-4b14-a0b1-dd0f37f7ea43",
   "metadata": {},
   "outputs": [
    {
     "data": {
      "text/html": [
       "<div>\n",
       "<style scoped>\n",
       "    .dataframe tbody tr th:only-of-type {\n",
       "        vertical-align: middle;\n",
       "    }\n",
       "\n",
       "    .dataframe tbody tr th {\n",
       "        vertical-align: top;\n",
       "    }\n",
       "\n",
       "    .dataframe thead th {\n",
       "        text-align: right;\n",
       "    }\n",
       "</style>\n",
       "<table border=\"1\" class=\"dataframe\">\n",
       "  <thead>\n",
       "    <tr style=\"text-align: right;\">\n",
       "      <th></th>\n",
       "      <th>elevation</th>\n",
       "      <th>bearing</th>\n",
       "      <th>time_diff_s</th>\n",
       "      <th>total_time_s</th>\n",
       "      <th>ele_diff_m</th>\n",
       "      <th>total_ele_change_m</th>\n",
       "      <th>dist_diff_km</th>\n",
       "      <th>total_dist_km</th>\n",
       "      <th>temp</th>\n",
       "      <th>feels_like</th>\n",
       "      <th>pressure</th>\n",
       "      <th>humidity</th>\n",
       "      <th>dew_point</th>\n",
       "      <th>clouds</th>\n",
       "      <th>wind_speed</th>\n",
       "      <th>wind_deg</th>\n",
       "      <th>hr_preds</th>\n",
       "      <th>heart_rate</th>\n",
       "    </tr>\n",
       "  </thead>\n",
       "  <tbody>\n",
       "    <tr>\n",
       "      <th>0</th>\n",
       "      <td>30.200001</td>\n",
       "      <td>107.741305</td>\n",
       "      <td>2</td>\n",
       "      <td>1578</td>\n",
       "      <td>-0.199999</td>\n",
       "      <td>-5.6</td>\n",
       "      <td>0.0043</td>\n",
       "      <td>3.9019</td>\n",
       "      <td>299.90</td>\n",
       "      <td>299.57</td>\n",
       "      <td>1015</td>\n",
       "      <td>34</td>\n",
       "      <td>282.75</td>\n",
       "      <td>0</td>\n",
       "      <td>0.45</td>\n",
       "      <td>225</td>\n",
       "      <td>88.65585</td>\n",
       "      <td>88</td>\n",
       "    </tr>\n",
       "    <tr>\n",
       "      <th>1</th>\n",
       "      <td>18.200001</td>\n",
       "      <td>-91.341952</td>\n",
       "      <td>2</td>\n",
       "      <td>1379</td>\n",
       "      <td>0.000000</td>\n",
       "      <td>-17.2</td>\n",
       "      <td>0.0115</td>\n",
       "      <td>9.1492</td>\n",
       "      <td>307.13</td>\n",
       "      <td>306.96</td>\n",
       "      <td>1013</td>\n",
       "      <td>33</td>\n",
       "      <td>288.59</td>\n",
       "      <td>0</td>\n",
       "      <td>0.45</td>\n",
       "      <td>306</td>\n",
       "      <td>156.83527</td>\n",
       "      <td>161</td>\n",
       "    </tr>\n",
       "    <tr>\n",
       "      <th>2</th>\n",
       "      <td>45.599998</td>\n",
       "      <td>-172.191340</td>\n",
       "      <td>6</td>\n",
       "      <td>11520</td>\n",
       "      <td>-0.200001</td>\n",
       "      <td>4.8</td>\n",
       "      <td>0.0348</td>\n",
       "      <td>43.4648</td>\n",
       "      <td>303.43</td>\n",
       "      <td>302.33</td>\n",
       "      <td>1010</td>\n",
       "      <td>32</td>\n",
       "      <td>284.91</td>\n",
       "      <td>0</td>\n",
       "      <td>3.09</td>\n",
       "      <td>210</td>\n",
       "      <td>143.11284</td>\n",
       "      <td>140</td>\n",
       "    </tr>\n",
       "    <tr>\n",
       "      <th>3</th>\n",
       "      <td>30.000000</td>\n",
       "      <td>70.271727</td>\n",
       "      <td>1</td>\n",
       "      <td>2647</td>\n",
       "      <td>0.200001</td>\n",
       "      <td>-5.4</td>\n",
       "      <td>0.0057</td>\n",
       "      <td>15.2914</td>\n",
       "      <td>306.87</td>\n",
       "      <td>305.91</td>\n",
       "      <td>1012</td>\n",
       "      <td>29</td>\n",
       "      <td>286.37</td>\n",
       "      <td>0</td>\n",
       "      <td>5.66</td>\n",
       "      <td>170</td>\n",
       "      <td>133.06080</td>\n",
       "      <td>135</td>\n",
       "    </tr>\n",
       "    <tr>\n",
       "      <th>4</th>\n",
       "      <td>38.000000</td>\n",
       "      <td>139.973764</td>\n",
       "      <td>7</td>\n",
       "      <td>4431</td>\n",
       "      <td>-0.400002</td>\n",
       "      <td>2.6</td>\n",
       "      <td>0.0398</td>\n",
       "      <td>23.8649</td>\n",
       "      <td>298.83</td>\n",
       "      <td>298.63</td>\n",
       "      <td>1016</td>\n",
       "      <td>45</td>\n",
       "      <td>286.02</td>\n",
       "      <td>0</td>\n",
       "      <td>1.34</td>\n",
       "      <td>190</td>\n",
       "      <td>119.53260</td>\n",
       "      <td>120</td>\n",
       "    </tr>\n",
       "  </tbody>\n",
       "</table>\n",
       "</div>"
      ],
      "text/plain": [
       "   elevation     bearing  time_diff_s  total_time_s  ele_diff_m  \\\n",
       "0  30.200001  107.741305            2          1578   -0.199999   \n",
       "1  18.200001  -91.341952            2          1379    0.000000   \n",
       "2  45.599998 -172.191340            6         11520   -0.200001   \n",
       "3  30.000000   70.271727            1          2647    0.200001   \n",
       "4  38.000000  139.973764            7          4431   -0.400002   \n",
       "\n",
       "   total_ele_change_m  dist_diff_km  total_dist_km    temp  feels_like  \\\n",
       "0                -5.6        0.0043         3.9019  299.90      299.57   \n",
       "1               -17.2        0.0115         9.1492  307.13      306.96   \n",
       "2                 4.8        0.0348        43.4648  303.43      302.33   \n",
       "3                -5.4        0.0057        15.2914  306.87      305.91   \n",
       "4                 2.6        0.0398        23.8649  298.83      298.63   \n",
       "\n",
       "   pressure  humidity  dew_point  clouds  wind_speed  wind_deg   hr_preds  \\\n",
       "0      1015        34     282.75       0        0.45       225   88.65585   \n",
       "1      1013        33     288.59       0        0.45       306  156.83527   \n",
       "2      1010        32     284.91       0        3.09       210  143.11284   \n",
       "3      1012        29     286.37       0        5.66       170  133.06080   \n",
       "4      1016        45     286.02       0        1.34       190  119.53260   \n",
       "\n",
       "   heart_rate  \n",
       "0          88  \n",
       "1         161  \n",
       "2         140  \n",
       "3         135  \n",
       "4         120  "
      ]
     },
     "execution_count": 26,
     "metadata": {},
     "output_type": "execute_result"
    }
   ],
   "source": [
    "a_X_test_df = pd.read_csv('../data/average/a_X_test_preds_df.csv')\n",
    "a_X_test_df.head()"
   ]
  },
  {
   "cell_type": "code",
   "execution_count": 27,
   "id": "30f44409-2b76-4f6a-b1b0-e963a380cd71",
   "metadata": {},
   "outputs": [
    {
     "data": {
      "text/html": [
       "<div>\n",
       "<style scoped>\n",
       "    .dataframe tbody tr th:only-of-type {\n",
       "        vertical-align: middle;\n",
       "    }\n",
       "\n",
       "    .dataframe tbody tr th {\n",
       "        vertical-align: top;\n",
       "    }\n",
       "\n",
       "    .dataframe thead th {\n",
       "        text-align: right;\n",
       "    }\n",
       "</style>\n",
       "<table border=\"1\" class=\"dataframe\">\n",
       "  <thead>\n",
       "    <tr style=\"text-align: right;\">\n",
       "      <th></th>\n",
       "      <th>count</th>\n",
       "      <th>mean</th>\n",
       "      <th>std</th>\n",
       "      <th>min</th>\n",
       "      <th>25%</th>\n",
       "      <th>50%</th>\n",
       "      <th>75%</th>\n",
       "      <th>max</th>\n",
       "    </tr>\n",
       "  </thead>\n",
       "  <tbody>\n",
       "    <tr>\n",
       "      <th>heart_rate</th>\n",
       "      <td>3774.0</td>\n",
       "      <td>130.082141</td>\n",
       "      <td>22.470327</td>\n",
       "      <td>65.00000</td>\n",
       "      <td>115.000000</td>\n",
       "      <td>133.000000</td>\n",
       "      <td>148.000000</td>\n",
       "      <td>173.00000</td>\n",
       "    </tr>\n",
       "    <tr>\n",
       "      <th>hr_preds</th>\n",
       "      <td>3774.0</td>\n",
       "      <td>130.082674</td>\n",
       "      <td>22.129823</td>\n",
       "      <td>66.56656</td>\n",
       "      <td>115.416437</td>\n",
       "      <td>133.040595</td>\n",
       "      <td>147.636647</td>\n",
       "      <td>172.71858</td>\n",
       "    </tr>\n",
       "  </tbody>\n",
       "</table>\n",
       "</div>"
      ],
      "text/plain": [
       "             count        mean        std       min         25%         50%  \\\n",
       "heart_rate  3774.0  130.082141  22.470327  65.00000  115.000000  133.000000   \n",
       "hr_preds    3774.0  130.082674  22.129823  66.56656  115.416437  133.040595   \n",
       "\n",
       "                   75%        max  \n",
       "heart_rate  148.000000  173.00000  \n",
       "hr_preds    147.636647  172.71858  "
      ]
     },
     "execution_count": 27,
     "metadata": {},
     "output_type": "execute_result"
    }
   ],
   "source": [
    "a_X_test_df[['heart_rate', 'hr_preds']].describe().T"
   ]
  },
  {
   "cell_type": "code",
   "execution_count": 28,
   "id": "fee03e3f-11b9-43d6-8600-75cd1e99767c",
   "metadata": {
    "tags": []
   },
   "outputs": [
    {
     "data": {
      "image/png": "[encoded data removed]",
      "text/plain": [
       "<Figure size 720x432 with 1 Axes>"
      ]
     },
     "metadata": {
      "needs_background": "light"
     },
     "output_type": "display_data"
    }
   ],
   "source": [
    "# average test split - plot predictions and true\n",
    "plt.figure(figsize = (10,6))\n",
    "fig = sns.regplot(x=a_X_test_df[\"hr_preds\"], y=a_X_test_df[\"heart_rate\"], line_kws={\"color\":\"r\",\"alpha\":0.7,\"lw\":5})\n",
    "plt.title('Average Model\\ny_true v y_predictions', pad = 10, fontsize = 18)\n",
    "plt.xlabel('Heart Rate Predictions')\n",
    "plt.ylabel('True Heart Rate')\n",
    "plt.show();\n",
    "\n",
    "fig=fig.get_figure()\n",
    "fig.savefig('../images/a_model.png')\n",
    "fig.savefig('../images/a_model.jpeg');"
   ]
  },
  {
   "cell_type": "code",
   "execution_count": 29,
   "id": "51d8ff24-b7c0-4885-bf0d-824db7a607b3",
   "metadata": {},
   "outputs": [
    {
     "data": {
      "image/png": "[encoded data removed]",
      "text/plain": [
       "<Figure size 720x432 with 1 Axes>"
      ]
     },
     "metadata": {
      "needs_background": "light"
     },
     "output_type": "display_data"
    }
   ],
   "source": [
    "# average normality of residuals\n",
    "plt.figure(figsize = (10,6))\n",
    "plt.xlabel('Average Model Residuals')\n",
    "a_X_test_df[\"hr_preds\"].hist();\n",
    "\n",
    "plt.savefig('../images/a_model_hist.png')\n",
    "plt.savefig('../images/a_model_hist.jpeg')"
   ]
  },
  {
   "cell_type": "markdown",
   "id": "f8b1eb6d-d573-44ac-a1d7-565d143fe1d1",
   "metadata": {
    "jp-MarkdownHeadingCollapsed": true,
    "tags": []
   },
   "source": [
    "## Pickle That"
   ]
  },
  {
   "cell_type": "code",
   "execution_count": 30,
   "id": "c8211e8a-a0f1-4c9e-a52e-e92a534c9b69",
   "metadata": {},
   "outputs": [
    {
     "data": {
      "text/plain": [
       "\"\\n# Pickle a_XGB\\nwith open('../models/a_model_xgb.pkl', 'wb') as f:\\n    pickle.dump(a_xgb_gs, f)\\n\""
      ]
     },
     "execution_count": 30,
     "metadata": {},
     "output_type": "execute_result"
    }
   ],
   "source": [
    "'''\n",
    "# Pickle a_XGB\n",
    "with open('../models/a_model_xgb.pkl', 'wb') as f:\n",
    "    pickle.dump(a_xgb_gs, f)\n",
    "'''"
   ]
  },
  {
   "cell_type": "markdown",
   "id": "3a9cd977-53bf-42e7-965a-e201deef56bc",
   "metadata": {
    "jp-MarkdownHeadingCollapsed": true,
    "tags": []
   },
   "source": [
    "# High Cycling Period Modeling\n",
    "---"
   ]
  },
  {
   "cell_type": "markdown",
   "id": "5a24e074-bd9d-45a1-92fe-2535d9ebfb43",
   "metadata": {
    "jp-MarkdownHeadingCollapsed": true,
    "tags": []
   },
   "source": [
    "## X, y, train_test_split\n",
    "---"
   ]
  },
  {
   "cell_type": "code",
   "execution_count": 31,
   "id": "f7921df7-2cf4-42ba-b4b1-6a0f230578be",
   "metadata": {},
   "outputs": [
    {
     "data": {
      "text/plain": [
       "Index(['timestamp', 'latitude', 'longitude', 'elevation', 'dt', 'heart_rate',\n",
       "       'bearing', 'time_diff_s', 'total_time_s', 'ele_diff_m',\n",
       "       'total_ele_change_m', 'lat_lon', 'dist_diff_km', 'total_dist_km',\n",
       "       'temp', 'feels_like', 'pressure', 'humidity', 'dew_point', 'clouds',\n",
       "       'wind_speed', 'wind_deg'],\n",
       "      dtype='object')"
      ]
     },
     "execution_count": 31,
     "metadata": {},
     "output_type": "execute_result"
    }
   ],
   "source": [
    "h_df.columns"
   ]
  },
  {
   "cell_type": "code",
   "execution_count": 32,
   "id": "969387f3-9c8e-4c11-8be3-5222b2df2a2e",
   "metadata": {},
   "outputs": [],
   "source": [
    "h_features = ['elevation', 'bearing', 'time_diff_s', 'total_time_s', 'ele_diff_m',\n",
    "       'total_ele_change_m', 'dist_diff_km', 'total_dist_km',\n",
    "       'temp', 'feels_like', 'pressure', 'humidity', 'dew_point', 'clouds',\n",
    "       'wind_speed', 'wind_deg']\n",
    "h_X = h_df[h_features]\n",
    "h_y = h_df['heart_rate']\n",
    "\n",
    "h_X_train, h_X_test, h_y_train, h_y_test = train_test_split(h_X, h_y, random_state = 42)"
   ]
  },
  {
   "cell_type": "code",
   "execution_count": 33,
   "id": "cc8982b8-f0bf-41e6-9a9f-dc8948dfff99",
   "metadata": {},
   "outputs": [
    {
     "data": {
      "text/plain": [
       "130.53650259067356"
      ]
     },
     "execution_count": 33,
     "metadata": {},
     "output_type": "execute_result"
    }
   ],
   "source": [
    "h_y.mean()"
   ]
  },
  {
   "cell_type": "markdown",
   "id": "2e872296-5e47-4fb1-8f37-5672dea404e4",
   "metadata": {},
   "source": [
    "### StandardScaler X_train and X_test for testing"
   ]
  },
  {
   "cell_type": "code",
   "execution_count": 34,
   "id": "253e8153-5c95-4066-b6be-eabe265fd2a3",
   "metadata": {},
   "outputs": [],
   "source": [
    "h_ss = StandardScaler()\n",
    "h_X_train_sc = h_ss.fit_transform(h_X_train)\n",
    "h_X_test_sc = h_ss.transform(h_X_test)"
   ]
  },
  {
   "cell_type": "markdown",
   "id": "d829a19f-5c0c-4853-b565-34f35c44ae00",
   "metadata": {},
   "source": [
    "### Polynomial X_train and X_test for testing"
   ]
  },
  {
   "cell_type": "code",
   "execution_count": 35,
   "id": "e3047e1a-7a7e-47eb-a725-6c7d27c4227d",
   "metadata": {},
   "outputs": [],
   "source": [
    "h_poly = PolynomialFeatures()\n",
    "h_X_train_sc_p = h_poly.fit_transform(h_X_train_sc)\n",
    "h_X_test_sc_p = h_poly.fit_transform(h_X_test_sc)"
   ]
  },
  {
   "cell_type": "markdown",
   "id": "63639075-3182-4879-9cdd-1470c2eebcbd",
   "metadata": {
    "jp-MarkdownHeadingCollapsed": true,
    "tags": []
   },
   "source": [
    "## Linear Regression\n",
    "---"
   ]
  },
  {
   "cell_type": "code",
   "execution_count": 36,
   "id": "a6d44b31-0e30-46e6-a56e-989200e36618",
   "metadata": {},
   "outputs": [
    {
     "data": {
      "text/plain": [
       "'\\nLinear Regression Train R2 Score: 0.5260233155015783\\nLinear Regression Test R2 Score: 0.5322513167399172\\n'"
      ]
     },
     "execution_count": 36,
     "metadata": {},
     "output_type": "execute_result"
    }
   ],
   "source": [
    "'''\n",
    "a_lr = LinearRegression()\n",
    "a_lr.fit(a_X_train_sc, a_y_train)\n",
    "print(f'Linear Regression Train R2 Score: {a_lr.score(a_X_train_sc, a_y_train)}')\n",
    "print(f'Linear Regression Test R2 Score: {a_lr.score(a_X_test_sc, a_y_test)}')\n",
    "'''\n",
    "'''\n",
    "Linear Regression Train R2 Score: 0.5260233155015783\n",
    "Linear Regression Test R2 Score: 0.5322513167399172\n",
    "'''"
   ]
  },
  {
   "cell_type": "markdown",
   "id": "7686ed97-1c84-469e-8af8-219427411d79",
   "metadata": {
    "jp-MarkdownHeadingCollapsed": true,
    "tags": []
   },
   "source": [
    "### Linear Regression Pipeline (StandardScaler, Polynomial)"
   ]
  },
  {
   "cell_type": "code",
   "execution_count": 37,
   "id": "f7775cef-3418-4343-a182-1abcb77617cb",
   "metadata": {},
   "outputs": [
    {
     "data": {
      "text/plain": [
       "'\\nLR Pipe Train R2 Score: 0.8082482755481244\\nLR Pipe Test R2 Score: 0.7906546450250773\\n'"
      ]
     },
     "execution_count": 37,
     "metadata": {},
     "output_type": "execute_result"
    }
   ],
   "source": [
    "'''\n",
    "a_lr_pipe = Pipeline([\n",
    "    ('a_ss', StandardScaler()),\n",
    "    ('a_poly', PolynomialFeatures()),\n",
    "    ('a_lr', LinearRegression())\n",
    "])\n",
    "\n",
    "a_lr_pipe.fit(a_X_train, a_y_train)\n",
    "print(f'LR Pipe Train R2 Score: {a_lr_pipe.score(a_X_train, a_y_train)}')\n",
    "print(f'LR Pipe Test R2 Score: {a_lr_pipe.score(a_X_test, a_y_test)}')\n",
    "'''\n",
    "'''\n",
    "LR Pipe Train R2 Score: 0.8082482755481244\n",
    "LR Pipe Test R2 Score: 0.7906546450250773\n",
    "'''\n",
    "'''\n",
    "LR Pipe Train R2 Score: 0.8082482755481244\n",
    "LR Pipe Test R2 Score: 0.7906546450250773\n",
    "'''"
   ]
  },
  {
   "cell_type": "markdown",
   "id": "ab2ca0b9-2095-456c-8b25-59d83d916ae2",
   "metadata": {
    "tags": []
   },
   "source": [
    "## Regressor Boosting\n",
    "---"
   ]
  },
  {
   "cell_type": "markdown",
   "id": "863d38da-24aa-40b5-a1d4-b9093305aeb1",
   "metadata": {
    "jp-MarkdownHeadingCollapsed": true,
    "tags": []
   },
   "source": [
    "### AdaBoost with Linear Regression Base Estimator"
   ]
  },
  {
   "cell_type": "code",
   "execution_count": 38,
   "id": "29b7fae1-c7fe-47bf-afee-8d72c2755105",
   "metadata": {},
   "outputs": [
    {
     "data": {
      "text/plain": [
       "'\\nAda LR Train R2 Score: 0.8046423913777858\\nAda LR Test R2 Score: 0.776694380832758\\n'"
      ]
     },
     "execution_count": 38,
     "metadata": {},
     "output_type": "execute_result"
    }
   ],
   "source": [
    "'''\n",
    "a_ada_lr = AdaBoostRegressor(base_estimator = LinearRegression(), random_state = 42)\n",
    "\n",
    "a_ada_lr.fit(a_X_train_sc_p, a_y_train)\n",
    "print(f'Ada LR Train R2 Score: {a_ada_lr.score(a_X_train_sc_p, a_y_train)}')\n",
    "print(f'Ada LR Test R2 Score: {a_ada_lr.score(a_X_test_sc_p, a_y_test)}')\n",
    "'''\n",
    "'''\n",
    "Ada LR Train R2 Score: 0.8046423913777858\n",
    "Ada LR Test R2 Score: 0.776694380832758\n",
    "'''"
   ]
  },
  {
   "cell_type": "markdown",
   "id": "a806004b-cfa6-4c4d-a665-c747c5a1f0a8",
   "metadata": {
    "jp-MarkdownHeadingCollapsed": true,
    "tags": []
   },
   "source": [
    "### AdaBoost with Decision Tree Base Estimator"
   ]
  },
  {
   "cell_type": "code",
   "execution_count": 39,
   "id": "6b5c2aa0-b1b7-47b4-84fa-c3ccd862cac3",
   "metadata": {},
   "outputs": [
    {
     "data": {
      "text/plain": [
       "\"\\n0.868164587298871\\n{'base_estimator__max_depth': 5, 'n_estimators': 200}\\nAda DT Train R2 Score: 0.8756108134812447\\nAda DT Test R2 Score: 0.8730399805443708\\n\""
      ]
     },
     "execution_count": 39,
     "metadata": {},
     "output_type": "execute_result"
    }
   ],
   "source": [
    "'''\n",
    "a_ada_dt = AdaBoostRegressor(base_estimator = DecisionTreeRegressor(), random_state = 42)\n",
    "\n",
    "a_ada_dt_params = {\n",
    "    'n_estimators': [50, 100, 150, 200],\n",
    "    'base_estimator__max_depth': [1, 2, 5]\n",
    "}\n",
    "\n",
    "a_gs_ada_dt = GridSearchCV(a_ada_dt, param_grid = a_ada_dt_params, cv = 5)\n",
    "a_gs_ada_dt.fit(a_X_train_sc, a_y_train)\n",
    "print(a_gs_ada_dt.best_score_)\n",
    "print(a_gs_ada_dt.best_params_)\n",
    "print(f'Ada DT Train R2 Score: {a_gs_ada_dt.score(a_X_train_sc, a_y_train)}')\n",
    "print(f'Ada DT Test R2 Score: {a_gs_ada_dt.score(a_X_test_sc, a_y_test)}')\n",
    "'''\n",
    "\n",
    "'''\n",
    "0.868164587298871\n",
    "{'base_estimator__max_depth': 5, 'n_estimators': 200}\n",
    "Ada DT Train R2 Score: 0.8756108134812447\n",
    "Ada DT Test R2 Score: 0.8730399805443708\n",
    "'''"
   ]
  },
  {
   "cell_type": "markdown",
   "id": "326c2e4e-7857-4237-9e40-4f9a81df1aa0",
   "metadata": {
    "jp-MarkdownHeadingCollapsed": true,
    "tags": []
   },
   "source": [
    "### AdaBoost with Random Forest Base Estimator"
   ]
  },
  {
   "cell_type": "code",
   "execution_count": 40,
   "id": "97de7994-ecee-4a43-81f7-c06a3e000acd",
   "metadata": {},
   "outputs": [
    {
     "data": {
      "text/plain": [
       "\"\\n0.844253394135492\\n{'base_estimator__max_depth': 5, 'n_estimators': 50}\\nAda DT Train R2 Score: 0.8526320077631239\\nAda DT Test R2 Score: 0.8512220020729748\\n\""
      ]
     },
     "execution_count": 40,
     "metadata": {},
     "output_type": "execute_result"
    }
   ],
   "source": [
    "'''\n",
    "a_ada_rf = AdaBoostRegressor(base_estimator = RandomForestRegressor(), random_state = 42)\n",
    "\n",
    "a_ada_rf_params = {\n",
    "    'n_estimators': [50, 100, 150, 200],\n",
    "    'base_estimator__max_depth': [1, 2, 5]\n",
    "}\n",
    "\n",
    "a_gs_ada_rf = GridSearchCV(a_ada_rf, param_grid = a_ada_rf_params, cv = 5)\n",
    "a_gs_ada_rf.fit(a_X_train_sc, a_y_train)\n",
    "print(a_gs_ada_rf.best_score_)\n",
    "print(a_gs_ada_rf.best_params_)\n",
    "print(f'Ada DT Train R2 Score: {a_gs_ada_rf.score(a_X_train_sc, a_y_train)}')\n",
    "print(f'Ada DT Test R2 Score: {a_gs_ada_rf.score(a_X_test_sc, a_y_test)}')\n",
    "'''\n",
    "'''\n",
    "0.844253394135492\n",
    "{'base_estimator__max_depth': 5, 'n_estimators': 50}\n",
    "Ada DT Train R2 Score: 0.8526320077631239\n",
    "Ada DT Test R2 Score: 0.8512220020729748\n",
    "'''"
   ]
  },
  {
   "cell_type": "markdown",
   "id": "351263ad-bdf0-40fd-9333-5f2f8af3dd58",
   "metadata": {
    "jp-MarkdownHeadingCollapsed": true,
    "tags": []
   },
   "source": [
    "### Gradient Boosting"
   ]
  },
  {
   "cell_type": "code",
   "execution_count": 41,
   "id": "0e3968af-6d12-49ba-80ac-778c655ccf20",
   "metadata": {},
   "outputs": [
    {
     "data": {
      "text/plain": [
       "\"\\nGridSearch Best Score: 0.8839302929148015\\n{'learning_rate': 0.8, 'max_depth': 4, 'n_estimators': 150}\\nGBoost Train R2 Score: 0.9313990799272799\\nGBoost Test R2 Score: 0.8849043647905527\\nMean Absolute Error: 4.056626449058407\\nMean Squared Error: 30.153280288091132\\n\""
      ]
     },
     "execution_count": 41,
     "metadata": {},
     "output_type": "execute_result"
    }
   ],
   "source": [
    "'''\n",
    "# Instantiate\n",
    "h_gboost = GradientBoostingRegressor()\n",
    "\n",
    "h_gboost_params = {\n",
    "    'max_depth': [2, 3, 4],\n",
    "    'n_estimators': [100, 125, 150],\n",
    "    'learning_rate': [0.8, .1, .12]\n",
    "}\n",
    "\n",
    "# Gridsearch\n",
    "h_gb_gs = GridSearchCV(h_gboost, param_grid = h_gboost_params, cv = 5)\n",
    "h_gb_gs.fit(h_X_train_sc, h_y_train)\n",
    "\n",
    "# Metrics\n",
    "print(f'GridSearch Best Score: {h_gb_gs.best_score_}')\n",
    "print(h_gb_gs.best_params_)\n",
    "print(f'GBoost Train R2 Score: {h_gb_gs.score(h_X_train_sc, h_y_train)}')\n",
    "print(f'GBoost Test R2 Score: {h_gb_gs.score(h_X_test_sc, h_y_test)}')\n",
    "\n",
    "h_gb_y_true = h_y_test\n",
    "h_gb_y_pred = h_gb_gs.predict(h_X_test_sc)\n",
    "\n",
    "# MAE\n",
    "print(f'Mean Absolute Error: {mean_absolute_error(h_gb_y_true, h_gb_y_pred)}')\n",
    "\n",
    "# MSE\n",
    "print(f'Mean Squared Error: {mean_squared_error(h_gb_y_true, h_gb_y_pred)}')\n",
    "'''\n",
    "'''\n",
    "GridSearch Best Score: 0.8839302929148015\n",
    "{'learning_rate': 0.8, 'max_depth': 4, 'n_estimators': 150}\n",
    "GBoost Train R2 Score: 0.9313990799272799\n",
    "GBoost Test R2 Score: 0.8849043647905527\n",
    "Mean Absolute Error: 4.056626449058407\n",
    "Mean Squared Error: 30.153280288091132\n",
    "'''"
   ]
  },
  {
   "cell_type": "markdown",
   "id": "38228abd-c78d-492d-bf62-e810d1449682",
   "metadata": {
    "jp-MarkdownHeadingCollapsed": true,
    "tags": []
   },
   "source": [
    "### XGBoost w/ Polynomial Features"
   ]
  },
  {
   "cell_type": "code",
   "execution_count": 42,
   "id": "361f95ab-bfda-4cb9-8ba3-2a28aff106c6",
   "metadata": {},
   "outputs": [
    {
     "data": {
      "text/plain": [
       "\"\\nGridSearch Best Score: 0.9066727023063461\\n{'learning_rate': 0.8, 'max_depth': 5, 'n_estimators': 150, 'reg_lambda': 1}\\nXGBoost Train R2 Score: 0.972496927983201\\nXGBoost Test R2 Score: 0.9227343527337118\\nMean Absolute Error: 3.2724629223284945\\nMean Squared Error: 20.24240723309317\\n\""
      ]
     },
     "execution_count": 42,
     "metadata": {},
     "output_type": "execute_result"
    }
   ],
   "source": [
    "'''\n",
    "# Instantiate\n",
    "h_xgboost = XGBRegressor()\n",
    "\n",
    "# Gridsearch\n",
    "h_xgboost_params = {\n",
    "    'max_depth': [3, 4, 5],\n",
    "    'n_estimators': [100, 125, 150],\n",
    "    'learning_rate': [0.8, .1, .12],\n",
    "    'reg_lambda': [1, 2]\n",
    "}\n",
    "\n",
    "h_xgb_gs = GridSearchCV(h_xgboost, param_grid = h_xgboost_params, cv = 5)\n",
    "h_xgb_gs.fit(h_X_train_sc_p, h_y_train)\n",
    "\n",
    "# Metrics\n",
    "print(f'GridSearch Best Score: {h_xgb_gs.best_score_}')\n",
    "print(h_xgb_gs.best_params_)\n",
    "print(f'XGBoost Train R2 Score: {h_xgb_gs.score(h_X_train_sc_p, h_y_train)}')\n",
    "print(f'XGBoost Test R2 Score: {h_xgb_gs.score(h_X_test_sc_p, h_y_test)}')\n",
    "\n",
    "h_xgb_y_true = h_y_test\n",
    "h_xgb_y_pred = h_xgb_gs.predict(h_X_test_sc_p)\n",
    "\n",
    "# MAE\n",
    "print(f'Mean Absolute Error: {mean_absolute_error(h_xgb_y_true, h_xgb_y_pred)}')\n",
    "\n",
    "# MSE\n",
    "print(f'Mean Squared Error: {mean_squared_error(h_xgb_y_true, h_xgb_y_pred)}')\n",
    "'''\n",
    "'''\n",
    "GridSearch Best Score: 0.9066727023063461\n",
    "{'learning_rate': 0.8, 'max_depth': 5, 'n_estimators': 150, 'reg_lambda': 1}\n",
    "XGBoost Train R2 Score: 0.972496927983201\n",
    "XGBoost Test R2 Score: 0.9227343527337118\n",
    "Mean Absolute Error: 3.2724629223284945\n",
    "Mean Squared Error: 20.24240723309317\n",
    "'''"
   ]
  },
  {
   "cell_type": "markdown",
   "id": "42951d10-b39e-443f-a36a-e766a664d496",
   "metadata": {
    "jp-MarkdownHeadingCollapsed": true,
    "tags": []
   },
   "source": [
    "## Neural Net Regressor\n",
    "---"
   ]
  },
  {
   "cell_type": "markdown",
   "id": "c11b9530-ac08-4da0-a6cf-5c75fc7eab57",
   "metadata": {},
   "source": [
    "### X, y, train_test_split, StandardScaler"
   ]
  },
  {
   "cell_type": "code",
   "execution_count": 43,
   "id": "546830b3-b4ef-40e7-9a72-ed98f8a51ecf",
   "metadata": {},
   "outputs": [
    {
     "data": {
      "text/plain": [
       "\"\\nh_X_nn = h_df[h_features]\\nh_y_nn = h_df['heart_rate']\\n\\nh_X_nn = np.array(h_X_nn)\\nh_y_nn = np.array(h_y_nn)\\n\\nh_X_nn_train, h_X_nn_test, h_y_nn_train, h_y_nn_test = train_test_split(h_X_nn, h_y_nn, random_state = 42)\\n\\nh_ss_nn = StandardScaler()\\nh_X_nn_train_sc = h_ss_nn.fit_transform(h_X_nn_train)\\nh_X_nn_test_sc = h_ss.transform(h_X_nn_test)\\n\\nh_poly = PolynomialFeatures()\\nh_X_nn_train_sc_p = h_poly.fit_transform(h_X_nn_train_sc)\\nh_X_nn_test_sc_p = h_poly.fit_transform(h_X_nn_test_sc)\\n\""
      ]
     },
     "execution_count": 43,
     "metadata": {},
     "output_type": "execute_result"
    }
   ],
   "source": [
    "'''\n",
    "h_X_nn = h_df[h_features]\n",
    "h_y_nn = h_df['heart_rate']\n",
    "\n",
    "h_X_nn = np.array(h_X_nn)\n",
    "h_y_nn = np.array(h_y_nn)\n",
    "\n",
    "h_X_nn_train, h_X_nn_test, h_y_nn_train, h_y_nn_test = train_test_split(h_X_nn, h_y_nn, random_state = 42)\n",
    "\n",
    "h_ss_nn = StandardScaler()\n",
    "h_X_nn_train_sc = h_ss_nn.fit_transform(h_X_nn_train)\n",
    "h_X_nn_test_sc = h_ss.transform(h_X_nn_test)\n",
    "\n",
    "h_poly = PolynomialFeatures()\n",
    "h_X_nn_train_sc_p = h_poly.fit_transform(h_X_nn_train_sc)\n",
    "h_X_nn_test_sc_p = h_poly.fit_transform(h_X_nn_test_sc)\n",
    "'''"
   ]
  },
  {
   "cell_type": "code",
   "execution_count": 44,
   "id": "c5fe911f-9448-4b16-bc94-270ee4531a05",
   "metadata": {},
   "outputs": [
    {
     "data": {
      "text/plain": [
       "'\\nprint(h_X_nn[0].shape)\\nprint(h_X_nn_train_sc_p[0].shape)\\n'"
      ]
     },
     "execution_count": 44,
     "metadata": {},
     "output_type": "execute_result"
    }
   ],
   "source": [
    "'''\n",
    "print(h_X_nn[0].shape)\n",
    "print(h_X_nn_train_sc_p[0].shape)\n",
    "'''"
   ]
  },
  {
   "cell_type": "code",
   "execution_count": 45,
   "id": "ecf6188a-a85f-403f-8c24-523eed885157",
   "metadata": {
    "tags": []
   },
   "outputs": [
    {
     "data": {
      "text/plain": [
       "\"\\n# Instantiate\\nh_model_nn = Sequential()\\n\\n# Layers\\nh_model_nn.add(Dense(128, input_dim = 153, activation = 'relu'))\\n\\nh_model_nn.add(BatchNormalization())\\nh_model_nn.add(Dense(64, activation = 'relu', kernel_regularizer = l2(.1)))\\nh_model_nn.add(Dense(128, activation = 'relu', kernel_regularizer = l2(.5))) \\nh_model_nn.add(Dense(64, activation = 'relu', kernel_regularizer = l2(.1))) \\nh_model_nn.add(Dense(1, kernel_regularizer = l2(.5)))\\n\""
      ]
     },
     "execution_count": 45,
     "metadata": {},
     "output_type": "execute_result"
    }
   ],
   "source": [
    "'''\n",
    "# Instantiate\n",
    "h_model_nn = Sequential()\n",
    "\n",
    "# Layers\n",
    "h_model_nn.add(Dense(128, input_dim = 153, activation = 'relu'))\n",
    "\n",
    "h_model_nn.add(BatchNormalization())\n",
    "h_model_nn.add(Dense(64, activation = 'relu', kernel_regularizer = l2(.1)))\n",
    "h_model_nn.add(Dense(128, activation = 'relu', kernel_regularizer = l2(.5))) \n",
    "h_model_nn.add(Dense(64, activation = 'relu', kernel_regularizer = l2(.1))) \n",
    "h_model_nn.add(Dense(1, kernel_regularizer = l2(.5)))\n",
    "'''"
   ]
  },
  {
   "cell_type": "code",
   "execution_count": 46,
   "id": "c56569da-5f33-4e0a-9262-29899d45bbea",
   "metadata": {},
   "outputs": [],
   "source": [
    "# compile\n",
    "# h_model_nn.compile(optimizer = 'adam', loss = 'mse', metrics = ['mse'])"
   ]
  },
  {
   "cell_type": "code",
   "execution_count": 47,
   "id": "5d926489-6913-4c2b-9715-6d6c1f8f69f5",
   "metadata": {
    "scrolled": true,
    "tags": []
   },
   "outputs": [
    {
     "data": {
      "text/plain": [
       "'\\n# fit\\nh_history_nn = h_model_nn.fit(h_X_nn_train_sc, h_y_nn_train, epochs = 500, verbose = 1, \\n                          validation_data = (h_X_nn_test_sc_p, h_y_nn_test))\\n'"
      ]
     },
     "execution_count": 47,
     "metadata": {},
     "output_type": "execute_result"
    }
   ],
   "source": [
    "'''\n",
    "# fit\n",
    "h_history_nn = h_model_nn.fit(h_X_nn_train_sc, h_y_nn_train, epochs = 500, verbose = 1, \n",
    "                          validation_data = (h_X_nn_test_sc_p, h_y_nn_test))\n",
    "'''"
   ]
  },
  {
   "cell_type": "code",
   "execution_count": 48,
   "id": "034ebf42-97f6-4c45-8afe-b6aa38a878a0",
   "metadata": {},
   "outputs": [
    {
     "data": {
      "text/plain": [
       "\"\\n#breakfast hour\\n# plot train and test loss (mse)\\nfig, ax = plt.subplots(1, 2, figsize=(15, 5))\\n\\nax[0].plot(h_history_nn.history['loss'], color = 'green')\\nax[1].plot(h_history_nn.history['val_loss'], color = 'blue')\\n\\nax[0].set_title('Train')\\nax[0].set_xlabel('epochs')\\nax[0].set_ylabel('Loss = MSE')\\n\\nax[1].set_title('Test')\\nax[1].set_xlabel('epochs')\\nax[1].set_ylabel('Loss = MSE');\\n\""
      ]
     },
     "execution_count": 48,
     "metadata": {},
     "output_type": "execute_result"
    }
   ],
   "source": [
    "'''\n",
    "#breakfast hour\n",
    "# plot train and test loss (mse)\n",
    "fig, ax = plt.subplots(1, 2, figsize=(15, 5))\n",
    "\n",
    "ax[0].plot(h_history_nn.history['loss'], color = 'green')\n",
    "ax[1].plot(h_history_nn.history['val_loss'], color = 'blue')\n",
    "\n",
    "ax[0].set_title('Train')\n",
    "ax[0].set_xlabel('epochs')\n",
    "ax[0].set_ylabel('Loss = MSE')\n",
    "\n",
    "ax[1].set_title('Test')\n",
    "ax[1].set_xlabel('epochs')\n",
    "ax[1].set_ylabel('Loss = MSE');\n",
    "'''"
   ]
  },
  {
   "cell_type": "code",
   "execution_count": 49,
   "id": "12875aee-46ef-4b23-b129-06eeb40217af",
   "metadata": {},
   "outputs": [
    {
     "data": {
      "text/plain": [
       "'\\n302/302 [==============================] - 0s 880us/step\\nTest R2: 0.7437961674672984\\nMean Absolute Error: 16.746091842651367\\nHuber Loss: 16.25282096862793\\n'"
      ]
     },
     "execution_count": 49,
     "metadata": {},
     "output_type": "execute_result"
    }
   ],
   "source": [
    "'''\n",
    "# https://medium.com/towards-data-science/loss-functions-and-their-use-in-neural-networks-a470e703f1e9\n",
    "h_nn_y_true = h_y_nn_test\n",
    "h_nn_y_pred = h_model_nn.predict(h_X_nn_test_sc)\n",
    "\n",
    "# R2\n",
    "print(f'Test R2: {r2_score(h_nn_y_true, h_nn_y_pred)}')\n",
    "\n",
    "# MAE\n",
    "mae = MeanAbsoluteError()\n",
    "print(f'Mean Absolute Error: {mae(h_nn_y_true, h_nn_y_pred)}')\n",
    "\n",
    "# Huber\n",
    "huber = Huber()\n",
    "print(f'Huber Loss: {huber(h_nn_y_true, h_nn_y_pred)}')\n",
    "'''\n",
    "\n",
    "'''\n",
    "302/302 [==============================] - 0s 880us/step\n",
    "Test R2: 0.7437961674672984\n",
    "Mean Absolute Error: 16.746091842651367\n",
    "Huber Loss: 16.25282096862793\n",
    "'''"
   ]
  },
  {
   "cell_type": "markdown",
   "id": "488f3144-42c8-4c45-a156-45f82337fead",
   "metadata": {
    "tags": []
   },
   "source": [
    "# High Cycling Period Best Model - XGBoost w/ Polynomial\n",
    "---"
   ]
  },
  {
   "cell_type": "markdown",
   "id": "47057cfe-fb47-4930-a7eb-25466b7d6cc1",
   "metadata": {},
   "source": [
    "### GridSearch \n",
    "- Best Score: 0.9066727023063461\n",
    "- learning_rate: 0.8\n",
    "- max_depth: 5\n",
    "- n_estimators: 150\n",
    "- reg_lambda: 1\n",
    "\n",
    "### Scores & Errors\n",
    "- Train R2 Score: 0.972496927983201\n",
    "- Test R2 Score: 0.9227343527337118\n",
    "- Mean Absolute Error: 3.2724629223284945\n",
    "- Mean Squared Error: 20.24240723309317"
   ]
  },
  {
   "cell_type": "code",
   "execution_count": 50,
   "id": "dc254171-0d7e-4717-ad19-8eebb633836a",
   "metadata": {},
   "outputs": [
    {
     "data": {
      "text/plain": [
       "\"\\nh_X_test_df = pd.DataFrame(h_X_test)\\nh_X_test_df.columns = h_features\\nh_X_test_df['hr_preds'] = h_xgb_gs.predict(h_X_test_sc_p)\\nh_X_test_df['heart_rate'] = list(h_y_test)\\nh_X_test_df.shape\\n\""
      ]
     },
     "execution_count": 50,
     "metadata": {},
     "output_type": "execute_result"
    }
   ],
   "source": [
    "'''\n",
    "h_X_test_df = pd.DataFrame(h_X_test)\n",
    "h_X_test_df.columns = h_features\n",
    "h_X_test_df['hr_preds'] = h_xgb_gs.predict(h_X_test_sc_p)\n",
    "h_X_test_df['heart_rate'] = list(h_y_test)\n",
    "h_X_test_df.shape\n",
    "'''"
   ]
  },
  {
   "cell_type": "code",
   "execution_count": 51,
   "id": "bb92393f-7b58-415f-a8bd-ba58798f68e9",
   "metadata": {},
   "outputs": [],
   "source": [
    "# h_X_test_df.to_csv('../data/high/h_X_test_preds_df.csv', index = False)"
   ]
  },
  {
   "cell_type": "code",
   "execution_count": 52,
   "id": "ebeec5ea-0e6c-4468-8160-0ca7cc217c8c",
   "metadata": {},
   "outputs": [
    {
     "data": {
      "text/html": [
       "<div>\n",
       "<style scoped>\n",
       "    .dataframe tbody tr th:only-of-type {\n",
       "        vertical-align: middle;\n",
       "    }\n",
       "\n",
       "    .dataframe tbody tr th {\n",
       "        vertical-align: top;\n",
       "    }\n",
       "\n",
       "    .dataframe thead th {\n",
       "        text-align: right;\n",
       "    }\n",
       "</style>\n",
       "<table border=\"1\" class=\"dataframe\">\n",
       "  <thead>\n",
       "    <tr style=\"text-align: right;\">\n",
       "      <th></th>\n",
       "      <th>elevation</th>\n",
       "      <th>bearing</th>\n",
       "      <th>time_diff_s</th>\n",
       "      <th>total_time_s</th>\n",
       "      <th>ele_diff_m</th>\n",
       "      <th>total_ele_change_m</th>\n",
       "      <th>dist_diff_km</th>\n",
       "      <th>total_dist_km</th>\n",
       "      <th>temp</th>\n",
       "      <th>feels_like</th>\n",
       "      <th>pressure</th>\n",
       "      <th>humidity</th>\n",
       "      <th>dew_point</th>\n",
       "      <th>clouds</th>\n",
       "      <th>wind_speed</th>\n",
       "      <th>wind_deg</th>\n",
       "      <th>hr_preds</th>\n",
       "      <th>heart_rate</th>\n",
       "    </tr>\n",
       "  </thead>\n",
       "  <tbody>\n",
       "    <tr>\n",
       "      <th>0</th>\n",
       "      <td>47.200001</td>\n",
       "      <td>-20.250895</td>\n",
       "      <td>3</td>\n",
       "      <td>15630</td>\n",
       "      <td>0.000000</td>\n",
       "      <td>6.4</td>\n",
       "      <td>0.0244</td>\n",
       "      <td>65.4484</td>\n",
       "      <td>300.66</td>\n",
       "      <td>299.54</td>\n",
       "      <td>1016</td>\n",
       "      <td>19</td>\n",
       "      <td>275.00</td>\n",
       "      <td>0</td>\n",
       "      <td>3.60</td>\n",
       "      <td>250</td>\n",
       "      <td>135.48773</td>\n",
       "      <td>130</td>\n",
       "    </tr>\n",
       "    <tr>\n",
       "      <th>1</th>\n",
       "      <td>268.600006</td>\n",
       "      <td>71.512404</td>\n",
       "      <td>1</td>\n",
       "      <td>2519</td>\n",
       "      <td>0.399994</td>\n",
       "      <td>-43.8</td>\n",
       "      <td>0.0044</td>\n",
       "      <td>7.9729</td>\n",
       "      <td>281.32</td>\n",
       "      <td>277.11</td>\n",
       "      <td>1017</td>\n",
       "      <td>79</td>\n",
       "      <td>277.90</td>\n",
       "      <td>20</td>\n",
       "      <td>9.26</td>\n",
       "      <td>280</td>\n",
       "      <td>108.13239</td>\n",
       "      <td>106</td>\n",
       "    </tr>\n",
       "    <tr>\n",
       "      <th>2</th>\n",
       "      <td>304.000000</td>\n",
       "      <td>40.228071</td>\n",
       "      <td>3</td>\n",
       "      <td>2036</td>\n",
       "      <td>1.200012</td>\n",
       "      <td>-8.4</td>\n",
       "      <td>0.0122</td>\n",
       "      <td>7.4623</td>\n",
       "      <td>281.12</td>\n",
       "      <td>276.85</td>\n",
       "      <td>1017</td>\n",
       "      <td>78</td>\n",
       "      <td>277.52</td>\n",
       "      <td>20</td>\n",
       "      <td>9.26</td>\n",
       "      <td>280</td>\n",
       "      <td>112.97771</td>\n",
       "      <td>112</td>\n",
       "    </tr>\n",
       "    <tr>\n",
       "      <th>3</th>\n",
       "      <td>39.599998</td>\n",
       "      <td>-18.162952</td>\n",
       "      <td>1</td>\n",
       "      <td>765</td>\n",
       "      <td>0.199997</td>\n",
       "      <td>3.2</td>\n",
       "      <td>0.0062</td>\n",
       "      <td>4.7536</td>\n",
       "      <td>298.00</td>\n",
       "      <td>297.17</td>\n",
       "      <td>1011</td>\n",
       "      <td>24</td>\n",
       "      <td>276.07</td>\n",
       "      <td>0</td>\n",
       "      <td>2.06</td>\n",
       "      <td>220</td>\n",
       "      <td>131.03607</td>\n",
       "      <td>129</td>\n",
       "    </tr>\n",
       "    <tr>\n",
       "      <th>4</th>\n",
       "      <td>49.000000</td>\n",
       "      <td>107.763619</td>\n",
       "      <td>2</td>\n",
       "      <td>17550</td>\n",
       "      <td>0.200001</td>\n",
       "      <td>8.2</td>\n",
       "      <td>0.0107</td>\n",
       "      <td>75.7113</td>\n",
       "      <td>300.55</td>\n",
       "      <td>299.47</td>\n",
       "      <td>1016</td>\n",
       "      <td>19</td>\n",
       "      <td>274.91</td>\n",
       "      <td>0</td>\n",
       "      <td>2.06</td>\n",
       "      <td>270</td>\n",
       "      <td>138.06866</td>\n",
       "      <td>131</td>\n",
       "    </tr>\n",
       "  </tbody>\n",
       "</table>\n",
       "</div>"
      ],
      "text/plain": [
       "    elevation     bearing  time_diff_s  total_time_s  ele_diff_m  \\\n",
       "0   47.200001  -20.250895            3         15630    0.000000   \n",
       "1  268.600006   71.512404            1          2519    0.399994   \n",
       "2  304.000000   40.228071            3          2036    1.200012   \n",
       "3   39.599998  -18.162952            1           765    0.199997   \n",
       "4   49.000000  107.763619            2         17550    0.200001   \n",
       "\n",
       "   total_ele_change_m  dist_diff_km  total_dist_km    temp  feels_like  \\\n",
       "0                 6.4        0.0244        65.4484  300.66      299.54   \n",
       "1               -43.8        0.0044         7.9729  281.32      277.11   \n",
       "2                -8.4        0.0122         7.4623  281.12      276.85   \n",
       "3                 3.2        0.0062         4.7536  298.00      297.17   \n",
       "4                 8.2        0.0107        75.7113  300.55      299.47   \n",
       "\n",
       "   pressure  humidity  dew_point  clouds  wind_speed  wind_deg   hr_preds  \\\n",
       "0      1016        19     275.00       0        3.60       250  135.48773   \n",
       "1      1017        79     277.90      20        9.26       280  108.13239   \n",
       "2      1017        78     277.52      20        9.26       280  112.97771   \n",
       "3      1011        24     276.07       0        2.06       220  131.03607   \n",
       "4      1016        19     274.91       0        2.06       270  138.06866   \n",
       "\n",
       "   heart_rate  \n",
       "0         130  \n",
       "1         106  \n",
       "2         112  \n",
       "3         129  \n",
       "4         131  "
      ]
     },
     "execution_count": 52,
     "metadata": {},
     "output_type": "execute_result"
    }
   ],
   "source": [
    "h_X_test_df = pd.read_csv('../data/high/h_X_test_preds_df.csv')\n",
    "h_X_test_df.head()"
   ]
  },
  {
   "cell_type": "code",
   "execution_count": 53,
   "id": "5d7c394b-e3c8-4669-8ce2-a068c839454a",
   "metadata": {},
   "outputs": [
    {
     "data": {
      "text/html": [
       "<div>\n",
       "<style scoped>\n",
       "    .dataframe tbody tr th:only-of-type {\n",
       "        vertical-align: middle;\n",
       "    }\n",
       "\n",
       "    .dataframe tbody tr th {\n",
       "        vertical-align: top;\n",
       "    }\n",
       "\n",
       "    .dataframe thead th {\n",
       "        text-align: right;\n",
       "    }\n",
       "</style>\n",
       "<table border=\"1\" class=\"dataframe\">\n",
       "  <thead>\n",
       "    <tr style=\"text-align: right;\">\n",
       "      <th></th>\n",
       "      <th>count</th>\n",
       "      <th>mean</th>\n",
       "      <th>std</th>\n",
       "      <th>min</th>\n",
       "      <th>25%</th>\n",
       "      <th>50%</th>\n",
       "      <th>75%</th>\n",
       "      <th>max</th>\n",
       "    </tr>\n",
       "  </thead>\n",
       "  <tbody>\n",
       "    <tr>\n",
       "      <th>heart_rate</th>\n",
       "      <td>9650.0</td>\n",
       "      <td>130.787461</td>\n",
       "      <td>16.186776</td>\n",
       "      <td>69.000000</td>\n",
       "      <td>122.000000</td>\n",
       "      <td>133.00000</td>\n",
       "      <td>142.000000</td>\n",
       "      <td>168.00000</td>\n",
       "    </tr>\n",
       "    <tr>\n",
       "      <th>hr_preds</th>\n",
       "      <td>9650.0</td>\n",
       "      <td>130.811154</td>\n",
       "      <td>15.727632</td>\n",
       "      <td>60.254894</td>\n",
       "      <td>122.696488</td>\n",
       "      <td>132.80188</td>\n",
       "      <td>141.589233</td>\n",
       "      <td>168.86269</td>\n",
       "    </tr>\n",
       "  </tbody>\n",
       "</table>\n",
       "</div>"
      ],
      "text/plain": [
       "             count        mean        std        min         25%        50%  \\\n",
       "heart_rate  9650.0  130.787461  16.186776  69.000000  122.000000  133.00000   \n",
       "hr_preds    9650.0  130.811154  15.727632  60.254894  122.696488  132.80188   \n",
       "\n",
       "                   75%        max  \n",
       "heart_rate  142.000000  168.00000  \n",
       "hr_preds    141.589233  168.86269  "
      ]
     },
     "execution_count": 53,
     "metadata": {},
     "output_type": "execute_result"
    }
   ],
   "source": [
    "h_X_test_df[['heart_rate', 'hr_preds']].describe().T"
   ]
  },
  {
   "cell_type": "code",
   "execution_count": 54,
   "id": "1bef3e27-70f6-48cc-a9b8-c00c04900529",
   "metadata": {},
   "outputs": [
    {
     "data": {
      "image/png": "[encoded data removed]",
      "text/plain": [
       "<Figure size 720x432 with 1 Axes>"
      ]
     },
     "metadata": {
      "needs_background": "light"
     },
     "output_type": "display_data"
    }
   ],
   "source": [
    "# average test split - plot predictions and true\n",
    "plt.figure(figsize = (10,6))\n",
    "fig = sns.regplot(x=h_X_test_df[\"hr_preds\"], y=h_X_test_df[\"heart_rate\"], line_kws={\"color\":\"r\",\"alpha\":0.7,\"lw\":5}, color = 'green')\n",
    "plt.title('High Model\\ny_true v y_predictions', pad = 10, fontsize = 18)\n",
    "plt.xlabel('Heart Rate Predictions')\n",
    "plt.ylabel('True Heart Rate')\n",
    "plt.show();\n",
    "\n",
    "fig=fig.get_figure()\n",
    "fig.savefig('../images/h_model.png')\n",
    "fig.savefig('../images/h_model.jpeg');"
   ]
  },
  {
   "cell_type": "code",
   "execution_count": 55,
   "id": "00c6ef9e-e3d5-43f8-b532-ed7e2c46db2f",
   "metadata": {},
   "outputs": [
    {
     "data": {
      "image/png": "[encoded data removed]",
      "text/plain": [
       "<Figure size 720x432 with 1 Axes>"
      ]
     },
     "metadata": {
      "needs_background": "light"
     },
     "output_type": "display_data"
    }
   ],
   "source": [
    "# average normality of residuals\n",
    "plt.figure(figsize = (10,6))\n",
    "plt.xlabel('High Model Residuals')\n",
    "h_X_test_df[\"hr_preds\"].hist(color = 'green');\n",
    "\n",
    "plt.savefig('../images/h_model_hist.png')\n",
    "plt.savefig('../images/h_model_hist.jpeg')"
   ]
  },
  {
   "cell_type": "markdown",
   "id": "5ba8a461-d15a-4b4f-a0a0-1f9b62d9a110",
   "metadata": {
    "tags": []
   },
   "source": [
    "## Pickle That"
   ]
  },
  {
   "cell_type": "code",
   "execution_count": 56,
   "id": "38b43fa5-afa1-4bb0-b079-1f028e688237",
   "metadata": {},
   "outputs": [
    {
     "data": {
      "text/plain": [
       "\"\\n# Pickle h_XGB\\nwith open('../models/h_model_xgb.pkl', 'wb') as f:\\n    pickle.dump(h_xgb_gs, f)\\n\""
      ]
     },
     "execution_count": 56,
     "metadata": {},
     "output_type": "execute_result"
    }
   ],
   "source": [
    "'''\n",
    "# Pickle h_XGB\n",
    "with open('../models/h_model_xgb.pkl', 'wb') as f:\n",
    "    pickle.dump(h_xgb_gs, f)\n",
    "'''"
   ]
  },
  {
   "cell_type": "code",
   "execution_count": null,
   "id": "1bdb964c-ad80-406b-a66e-a83aa1b91b07",
   "metadata": {},
   "outputs": [],
   "source": []
  }
 ],
 "metadata": {
  "kernelspec": {
   "display_name": "Python 3 (ipykernel)",
   "language": "python",
   "name": "python3"
  },
  "language_info": {
   "codemirror_mode": {
    "name": "ipython",
    "version": 3
   },
   "file_extension": ".py",
   "mimetype": "text/x-python",
   "name": "python",
   "nbconvert_exporter": "python",
   "pygments_lexer": "ipython3",
   "version": "3.9.12"
  }
 },
 "nbformat": 4,
 "nbformat_minor": 5
}
