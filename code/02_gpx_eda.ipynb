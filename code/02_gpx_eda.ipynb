{
 "cells": [
  {
   "cell_type": "code",
   "execution_count": null,
   "id": "3ef6d5c2-144b-4ae5-a1a3-c7d8afd3d651",
   "metadata": {},
   "outputs": [],
   "source": [
    "# https://www.python-graph-gallery.com/43-use-categorical-variable-to-color-scatterplot-seaborn\n",
    "# Use the 'hue' argument to provide a factor variable\n",
    "plt.figure(figsize = (16, 8))\n",
    "sns.lmplot( x=\"longitude\", y=\"latitude\", data=df, fit_reg=False, hue='heart_rate', palette = 'viridis', height = 10)\n",
    " \n",
    "# Move the legend to an empty part of the plot\n",
    "# plt.legend(loc='lower right')\n",
    "\n",
    "plt.show();"
   ]
  }
 ],
 "metadata": {
  "kernelspec": {
   "display_name": "Python 3 (ipykernel)",
   "language": "python",
   "name": "python3"
  },
  "language_info": {
   "codemirror_mode": {
    "name": "ipython",
    "version": 3
   },
   "file_extension": ".py",
   "mimetype": "text/x-python",
   "name": "python",
   "nbconvert_exporter": "python",
   "pygments_lexer": "ipython3",
   "version": "3.9.12"
  }
 },
 "nbformat": 4,
 "nbformat_minor": 5
}
