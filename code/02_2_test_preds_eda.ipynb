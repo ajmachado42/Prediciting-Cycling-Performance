{
 "cells": [
  {
   "cell_type": "markdown",
   "id": "9da58ef6-1be6-4161-8115-c1ed6302cf2d",
   "metadata": {},
   "source": [
    "# FINAL MODELS ON TEST SETS AND EDA\n",
    "---\n",
    "---"
   ]
  },
  {
   "cell_type": "markdown",
   "id": "16574093-343b-4f6a-871d-c872e2edea3e",
   "metadata": {
    "jp-MarkdownHeadingCollapsed": true,
    "tags": []
   },
   "source": [
    "# Table of Contents\n",
    "---\n",
    "### [Sources ](#Sources)\n",
    "### [Imports ](#Imports)\n",
    "### [Average Model Predictions](#Average-Predictions)\n",
    "### [High Model Predictions](#High-Predictions)\n",
    "### [Heart Rate Intensity Zones](#Intensity-Zones)\n",
    "### [Adding Headwind](#Headwind)\n",
    "### [Plot Drafting](#Plot-Drafting---Finals-in-Tableau)\n",
    "### [Heatmaps](#Heatmaps!)"
   ]
  },
  {
   "cell_type": "markdown",
   "id": "3e803a7b-bf12-4436-b3fc-0830d5cd5164",
   "metadata": {
    "jp-MarkdownHeadingCollapsed": true,
    "tags": []
   },
   "source": [
    "# Sources\n",
    "---"
   ]
  },
  {
   "cell_type": "code",
   "execution_count": 1,
   "id": "edcee480-163f-497a-a07f-de8272ca7021",
   "metadata": {},
   "outputs": [],
   "source": [
    "# https://www.mayoclinic.org/healthy-lifestyle/fitness/in-depth/exercise-intensity/art-20046887\n",
    "# https://www.garmin.com/en-US/blog/general/get-zone-train-using-heart-rate/\n",
    "# https://mediawiki.ivao.aero/index.php?title=Crosswind_and_Headwind_calculation"
   ]
  },
  {
   "cell_type": "markdown",
   "id": "edbf75dd-766a-4419-b535-d3ced3a4b7cb",
   "metadata": {
    "jp-MarkdownHeadingCollapsed": true,
    "tags": []
   },
   "source": [
    "# Imports\n",
    "---"
   ]
  },
  {
   "cell_type": "code",
   "execution_count": 2,
   "id": "50a07e3d-267b-42cb-8a3b-d935adf3d7f2",
   "metadata": {},
   "outputs": [],
   "source": [
    "import pandas as pd\n",
    "import numpy as np\n",
    "import seaborn as sns\n",
    "import matplotlib.pyplot as plt\n",
    "from datetime import datetime\n",
    "\n",
    "%matplotlib inline\n",
    "pd.set_option('display.max_columns', None)\n",
    "import warnings\n",
    "warnings.simplefilter(\"ignore\")\n",
    "\n",
    "import pickle\n",
    "from sklearn.preprocessing import StandardScaler, PolynomialFeatures"
   ]
  },
  {
   "cell_type": "code",
   "execution_count": 3,
   "id": "2438f54f-4fee-49c1-b206-e44b7e5774fb",
   "metadata": {},
   "outputs": [],
   "source": [
    "a_df = pd.read_csv('../data/a_test_df.csv')\n",
    "h_df = pd.read_csv('../data/h_test_df.csv')"
   ]
  },
  {
   "cell_type": "code",
   "execution_count": 4,
   "id": "fc846e02-f9fb-4a45-bbfc-83f0b655d444",
   "metadata": {},
   "outputs": [],
   "source": [
    "with open('../models/a_model_xgb.pkl', 'rb') as m:\n",
    "    a_model = pickle.load(m)\n",
    "    \n",
    "with open('../models/h_model_xgb.pkl', 'rb') as m2:\n",
    "    h_model = pickle.load(m2)"
   ]
  },
  {
   "cell_type": "code",
   "execution_count": 5,
   "id": "c4ebd062-c83e-44d6-84c1-f5555f43fdb7",
   "metadata": {},
   "outputs": [],
   "source": [
    "features = ['elevation', 'bearing', 'time_diff_s', 'total_time_s', 'ele_diff_m',\n",
    "       'total_ele_change_m', 'dist_diff_km', 'total_dist_km',\n",
    "       'temp', 'feels_like', 'pressure', 'humidity', 'dew_point', 'clouds',\n",
    "       'wind_speed', 'wind_deg']"
   ]
  },
  {
   "cell_type": "markdown",
   "id": "8d21909d-a15c-4f17-8610-5f507a0fd58a",
   "metadata": {
    "jp-MarkdownHeadingCollapsed": true,
    "tags": []
   },
   "source": [
    "# Average Predictions\n",
    "---"
   ]
  },
  {
   "cell_type": "code",
   "execution_count": 6,
   "id": "01bde265-f890-4ed0-a86e-b782199fe525",
   "metadata": {},
   "outputs": [],
   "source": [
    "a_X = a_df[features]\n",
    "a_preds = a_model.predict(a_X)"
   ]
  },
  {
   "cell_type": "code",
   "execution_count": 7,
   "id": "da4c736e-7ae8-4a92-bbf5-6f520d316e44",
   "metadata": {},
   "outputs": [
    {
     "data": {
      "text/plain": [
       "count    2849.000000\n",
       "mean      138.012238\n",
       "std         7.939801\n",
       "min        68.934532\n",
       "25%       133.313080\n",
       "50%       138.932953\n",
       "75%       143.628601\n",
       "max       162.217361\n",
       "Name: hr_preds, dtype: float64"
      ]
     },
     "execution_count": 7,
     "metadata": {},
     "output_type": "execute_result"
    }
   ],
   "source": [
    "a_df['hr_preds'] = a_preds\n",
    "a_df['hr_preds'].describe()"
   ]
  },
  {
   "cell_type": "markdown",
   "id": "3bec8d55-93ba-454b-a956-0c29e34c4ee1",
   "metadata": {
    "jp-MarkdownHeadingCollapsed": true,
    "tags": []
   },
   "source": [
    "# High Predictions\n",
    "---"
   ]
  },
  {
   "cell_type": "code",
   "execution_count": 8,
   "id": "77cb142b-e7d8-4551-a558-40ee89d04408",
   "metadata": {},
   "outputs": [],
   "source": [
    "h_X = h_df[features]\n",
    "\n",
    "# Standard Scaler preprocessing\n",
    "h_ss = StandardScaler()\n",
    "h_X_sc = h_ss.fit_transform(h_X)\n",
    "\n",
    "# Polynomial Features preprocessing\n",
    "h_poly = PolynomialFeatures()\n",
    "h_X_p = h_poly.fit_transform(h_X_sc)\n",
    "\n",
    "h_preds = h_model.predict(h_X_p)"
   ]
  },
  {
   "cell_type": "code",
   "execution_count": 9,
   "id": "155071c1-2944-42cd-b4d0-68af99b27586",
   "metadata": {},
   "outputs": [
    {
     "data": {
      "text/plain": [
       "count    2849.000000\n",
       "mean      123.777725\n",
       "std        19.454283\n",
       "min        60.672554\n",
       "25%       110.960175\n",
       "50%       125.274506\n",
       "75%       136.539581\n",
       "max       186.485245\n",
       "Name: hr_preds, dtype: float64"
      ]
     },
     "execution_count": 9,
     "metadata": {},
     "output_type": "execute_result"
    }
   ],
   "source": [
    "h_df['hr_preds'] = h_preds\n",
    "h_df['hr_preds'].describe()"
   ]
  },
  {
   "cell_type": "markdown",
   "id": "01ab9cda-509c-4b07-8770-278c3d78afd4",
   "metadata": {
    "jp-MarkdownHeadingCollapsed": true,
    "tags": []
   },
   "source": [
    "# Combine DFs\n",
    "---"
   ]
  },
  {
   "cell_type": "code",
   "execution_count": 10,
   "id": "977efaff-4c8a-4c55-ad45-083552dd72fd",
   "metadata": {},
   "outputs": [],
   "source": [
    "ah_df = pd.concat([a_df, h_df])"
   ]
  },
  {
   "cell_type": "markdown",
   "id": "39ecfd7b-8678-4f52-b074-cf955221bbcd",
   "metadata": {
    "jp-MarkdownHeadingCollapsed": true,
    "tags": []
   },
   "source": [
    "# Intensity Zones\n",
    "---"
   ]
  },
  {
   "cell_type": "code",
   "execution_count": 11,
   "id": "2be92aed-9bca-4c01-a267-a84fa54f3a21",
   "metadata": {},
   "outputs": [
    {
     "name": "stdout",
     "output_type": "stream",
     "text": [
      "130.9 205.70000000000002 187\n"
     ]
    }
   ],
   "source": [
    "# threshold and resting heart rate\n",
    "thresh_hr = 220 - 33\n",
    "rest_hr = 44\n",
    "\n",
    "# heart rate reserve\n",
    "hrr = thresh_hr - rest_hr\n",
    "\n",
    "# target zones (5 zones - from garmin article)\n",
    "hr_z1 = .7*thresh_hr\n",
    "hr_z2 = .8*thresh_hr\n",
    "hr_z3 = .9*thresh_hr\n",
    "hr_z4 = 1*thresh_hr\n",
    "hr_z5 = 1.1*thresh_hr\n",
    "print(hr_z1, hr_z5, thresh_hr)"
   ]
  },
  {
   "cell_type": "markdown",
   "id": "2ec02cd1-312e-4c12-ad0b-e5d0540a0d2b",
   "metadata": {},
   "source": [
    "## Average DF Intensity"
   ]
  },
  {
   "cell_type": "code",
   "execution_count": 12,
   "id": "c87a9eda-6a88-411b-8c8e-490522a0cc9b",
   "metadata": {},
   "outputs": [],
   "source": [
    "a_df['intensity'] = [1 if hr < hr_z1 \n",
    "                     else 2 if (hr < hr_z2 and hr >= hr_z1)\n",
    "                     else 3 if (hr < hr_z3 and hr >= hr_z2)\n",
    "                     else 4 if (hr < hr_z4 and hr >= hr_z3)\n",
    "                     else 5 \n",
    "                     for hr in a_df['hr_preds']]"
   ]
  },
  {
   "cell_type": "code",
   "execution_count": 13,
   "id": "efc6d311-14a0-4348-8a1e-cd407d9f112f",
   "metadata": {},
   "outputs": [
    {
     "data": {
      "text/html": [
       "<div>\n",
       "<style scoped>\n",
       "    .dataframe tbody tr th:only-of-type {\n",
       "        vertical-align: middle;\n",
       "    }\n",
       "\n",
       "    .dataframe tbody tr th {\n",
       "        vertical-align: top;\n",
       "    }\n",
       "\n",
       "    .dataframe thead th {\n",
       "        text-align: right;\n",
       "    }\n",
       "</style>\n",
       "<table border=\"1\" class=\"dataframe\">\n",
       "  <thead>\n",
       "    <tr style=\"text-align: right;\">\n",
       "      <th></th>\n",
       "      <th>latitude</th>\n",
       "      <th>longitude</th>\n",
       "      <th>elevation</th>\n",
       "      <th>bearing</th>\n",
       "      <th>ele_diff_m</th>\n",
       "      <th>total_ele_change_m</th>\n",
       "      <th>lat_lon</th>\n",
       "      <th>dist_diff_km</th>\n",
       "      <th>total_dist_km</th>\n",
       "      <th>time_diff_s</th>\n",
       "      <th>total_time_s</th>\n",
       "      <th>dt</th>\n",
       "      <th>temp</th>\n",
       "      <th>feels_like</th>\n",
       "      <th>pressure</th>\n",
       "      <th>humidity</th>\n",
       "      <th>dew_point</th>\n",
       "      <th>clouds</th>\n",
       "      <th>wind_speed</th>\n",
       "      <th>wind_deg</th>\n",
       "      <th>datetime</th>\n",
       "      <th>hr_preds</th>\n",
       "      <th>intensity</th>\n",
       "    </tr>\n",
       "  </thead>\n",
       "  <tbody>\n",
       "    <tr>\n",
       "      <th>0</th>\n",
       "      <td>38.11272</td>\n",
       "      <td>-122.65319</td>\n",
       "      <td>63.04</td>\n",
       "      <td>0.000000</td>\n",
       "      <td>0.00</td>\n",
       "      <td>0.00</td>\n",
       "      <td>(38.11272, -122.65319000000001)</td>\n",
       "      <td>0.0000</td>\n",
       "      <td>0.0000</td>\n",
       "      <td>0.000000</td>\n",
       "      <td>0.000000</td>\n",
       "      <td>1659794400</td>\n",
       "      <td>289.02</td>\n",
       "      <td>288.93</td>\n",
       "      <td>1016</td>\n",
       "      <td>87</td>\n",
       "      <td>286.86</td>\n",
       "      <td>100</td>\n",
       "      <td>1.54</td>\n",
       "      <td>230</td>\n",
       "      <td>2022-08-06 07:00:00</td>\n",
       "      <td>162.217361</td>\n",
       "      <td>3</td>\n",
       "    </tr>\n",
       "    <tr>\n",
       "      <th>1</th>\n",
       "      <td>38.11343</td>\n",
       "      <td>-122.65308</td>\n",
       "      <td>63.40</td>\n",
       "      <td>6.978612</td>\n",
       "      <td>0.36</td>\n",
       "      <td>0.36</td>\n",
       "      <td>(38.11343, -122.65308000000002)</td>\n",
       "      <td>0.0795</td>\n",
       "      <td>0.0795</td>\n",
       "      <td>4.615186</td>\n",
       "      <td>4.615186</td>\n",
       "      <td>1659794404</td>\n",
       "      <td>289.02</td>\n",
       "      <td>288.93</td>\n",
       "      <td>1016</td>\n",
       "      <td>87</td>\n",
       "      <td>286.86</td>\n",
       "      <td>100</td>\n",
       "      <td>1.54</td>\n",
       "      <td>230</td>\n",
       "      <td>2022-08-06 07:00:04</td>\n",
       "      <td>149.309937</td>\n",
       "      <td>2</td>\n",
       "    </tr>\n",
       "    <tr>\n",
       "      <th>2</th>\n",
       "      <td>38.11370</td>\n",
       "      <td>-122.65309</td>\n",
       "      <td>63.68</td>\n",
       "      <td>-1.676102</td>\n",
       "      <td>0.28</td>\n",
       "      <td>0.64</td>\n",
       "      <td>(38.1137, -122.65309)</td>\n",
       "      <td>0.0300</td>\n",
       "      <td>0.1095</td>\n",
       "      <td>4.615186</td>\n",
       "      <td>9.230372</td>\n",
       "      <td>1659794409</td>\n",
       "      <td>289.02</td>\n",
       "      <td>288.93</td>\n",
       "      <td>1016</td>\n",
       "      <td>87</td>\n",
       "      <td>286.86</td>\n",
       "      <td>100</td>\n",
       "      <td>1.54</td>\n",
       "      <td>230</td>\n",
       "      <td>2022-08-06 07:00:09</td>\n",
       "      <td>141.379440</td>\n",
       "      <td>2</td>\n",
       "    </tr>\n",
       "    <tr>\n",
       "      <th>3</th>\n",
       "      <td>38.11425</td>\n",
       "      <td>-122.65358</td>\n",
       "      <td>64.76</td>\n",
       "      <td>-35.140713</td>\n",
       "      <td>1.08</td>\n",
       "      <td>1.72</td>\n",
       "      <td>(38.114250000000006, -122.65358)</td>\n",
       "      <td>0.0747</td>\n",
       "      <td>0.1842</td>\n",
       "      <td>4.615186</td>\n",
       "      <td>13.845558</td>\n",
       "      <td>1659794413</td>\n",
       "      <td>289.01</td>\n",
       "      <td>288.92</td>\n",
       "      <td>1016</td>\n",
       "      <td>87</td>\n",
       "      <td>286.85</td>\n",
       "      <td>100</td>\n",
       "      <td>1.54</td>\n",
       "      <td>230</td>\n",
       "      <td>2022-08-06 07:00:13</td>\n",
       "      <td>139.252975</td>\n",
       "      <td>2</td>\n",
       "    </tr>\n",
       "    <tr>\n",
       "      <th>4</th>\n",
       "      <td>38.11461</td>\n",
       "      <td>-122.65354</td>\n",
       "      <td>65.55</td>\n",
       "      <td>5.016818</td>\n",
       "      <td>0.79</td>\n",
       "      <td>2.51</td>\n",
       "      <td>(38.114610000000006, -122.65354)</td>\n",
       "      <td>0.0402</td>\n",
       "      <td>0.2244</td>\n",
       "      <td>4.615186</td>\n",
       "      <td>18.460743</td>\n",
       "      <td>1659794418</td>\n",
       "      <td>288.88</td>\n",
       "      <td>288.78</td>\n",
       "      <td>1016</td>\n",
       "      <td>87</td>\n",
       "      <td>286.72</td>\n",
       "      <td>100</td>\n",
       "      <td>1.54</td>\n",
       "      <td>230</td>\n",
       "      <td>2022-08-06 07:00:18</td>\n",
       "      <td>143.390732</td>\n",
       "      <td>2</td>\n",
       "    </tr>\n",
       "  </tbody>\n",
       "</table>\n",
       "</div>"
      ],
      "text/plain": [
       "   latitude  longitude  elevation    bearing  ele_diff_m  total_ele_change_m  \\\n",
       "0  38.11272 -122.65319      63.04   0.000000        0.00                0.00   \n",
       "1  38.11343 -122.65308      63.40   6.978612        0.36                0.36   \n",
       "2  38.11370 -122.65309      63.68  -1.676102        0.28                0.64   \n",
       "3  38.11425 -122.65358      64.76 -35.140713        1.08                1.72   \n",
       "4  38.11461 -122.65354      65.55   5.016818        0.79                2.51   \n",
       "\n",
       "                            lat_lon  dist_diff_km  total_dist_km  time_diff_s  \\\n",
       "0   (38.11272, -122.65319000000001)        0.0000         0.0000     0.000000   \n",
       "1   (38.11343, -122.65308000000002)        0.0795         0.0795     4.615186   \n",
       "2             (38.1137, -122.65309)        0.0300         0.1095     4.615186   \n",
       "3  (38.114250000000006, -122.65358)        0.0747         0.1842     4.615186   \n",
       "4  (38.114610000000006, -122.65354)        0.0402         0.2244     4.615186   \n",
       "\n",
       "   total_time_s          dt    temp  feels_like  pressure  humidity  \\\n",
       "0      0.000000  1659794400  289.02      288.93      1016        87   \n",
       "1      4.615186  1659794404  289.02      288.93      1016        87   \n",
       "2      9.230372  1659794409  289.02      288.93      1016        87   \n",
       "3     13.845558  1659794413  289.01      288.92      1016        87   \n",
       "4     18.460743  1659794418  288.88      288.78      1016        87   \n",
       "\n",
       "   dew_point  clouds  wind_speed  wind_deg             datetime    hr_preds  \\\n",
       "0     286.86     100        1.54       230  2022-08-06 07:00:00  162.217361   \n",
       "1     286.86     100        1.54       230  2022-08-06 07:00:04  149.309937   \n",
       "2     286.86     100        1.54       230  2022-08-06 07:00:09  141.379440   \n",
       "3     286.85     100        1.54       230  2022-08-06 07:00:13  139.252975   \n",
       "4     286.72     100        1.54       230  2022-08-06 07:00:18  143.390732   \n",
       "\n",
       "   intensity  \n",
       "0          3  \n",
       "1          2  \n",
       "2          2  \n",
       "3          2  \n",
       "4          2  "
      ]
     },
     "execution_count": 13,
     "metadata": {},
     "output_type": "execute_result"
    }
   ],
   "source": [
    "a_df.head()"
   ]
  },
  {
   "cell_type": "code",
   "execution_count": 14,
   "id": "ac30e7c6-4702-4b09-849f-356d3268a297",
   "metadata": {},
   "outputs": [
    {
     "data": {
      "text/plain": [
       "2    2228\n",
       "1     534\n",
       "3      87\n",
       "Name: intensity, dtype: int64"
      ]
     },
     "execution_count": 14,
     "metadata": {},
     "output_type": "execute_result"
    }
   ],
   "source": [
    "a_df['intensity'].value_counts()"
   ]
  },
  {
   "cell_type": "markdown",
   "id": "3efc7c69-ac82-40fb-b961-fbbd3792836c",
   "metadata": {},
   "source": [
    "## High DF Intensity"
   ]
  },
  {
   "cell_type": "code",
   "execution_count": 15,
   "id": "6fb540eb-6ac7-4f6a-8d4b-d69ff7b0a66b",
   "metadata": {},
   "outputs": [],
   "source": [
    "h_df['intensity'] = [1 if hr < hr_z1 \n",
    "                     else 2 if (hr < hr_z2 and hr >= hr_z1)\n",
    "                     else 3 if (hr < hr_z3 and hr >= hr_z2)\n",
    "                     else 4 if (hr < hr_z4 and hr >= hr_z3)\n",
    "                     else 5 \n",
    "                     for hr in h_df['hr_preds']]"
   ]
  },
  {
   "cell_type": "code",
   "execution_count": 16,
   "id": "bdd1c170-ab3d-42b8-9ce4-d1bb329867f6",
   "metadata": {},
   "outputs": [
    {
     "data": {
      "text/html": [
       "<div>\n",
       "<style scoped>\n",
       "    .dataframe tbody tr th:only-of-type {\n",
       "        vertical-align: middle;\n",
       "    }\n",
       "\n",
       "    .dataframe tbody tr th {\n",
       "        vertical-align: top;\n",
       "    }\n",
       "\n",
       "    .dataframe thead th {\n",
       "        text-align: right;\n",
       "    }\n",
       "</style>\n",
       "<table border=\"1\" class=\"dataframe\">\n",
       "  <thead>\n",
       "    <tr style=\"text-align: right;\">\n",
       "      <th></th>\n",
       "      <th>latitude</th>\n",
       "      <th>longitude</th>\n",
       "      <th>elevation</th>\n",
       "      <th>bearing</th>\n",
       "      <th>ele_diff_m</th>\n",
       "      <th>total_ele_change_m</th>\n",
       "      <th>lat_lon</th>\n",
       "      <th>dist_diff_km</th>\n",
       "      <th>total_dist_km</th>\n",
       "      <th>time_diff_s</th>\n",
       "      <th>total_time_s</th>\n",
       "      <th>dt</th>\n",
       "      <th>temp</th>\n",
       "      <th>feels_like</th>\n",
       "      <th>pressure</th>\n",
       "      <th>humidity</th>\n",
       "      <th>dew_point</th>\n",
       "      <th>clouds</th>\n",
       "      <th>wind_speed</th>\n",
       "      <th>wind_deg</th>\n",
       "      <th>datetime</th>\n",
       "      <th>hr_preds</th>\n",
       "      <th>intensity</th>\n",
       "    </tr>\n",
       "  </thead>\n",
       "  <tbody>\n",
       "    <tr>\n",
       "      <th>0</th>\n",
       "      <td>38.11272</td>\n",
       "      <td>-122.65319</td>\n",
       "      <td>63.04</td>\n",
       "      <td>0.000000</td>\n",
       "      <td>0.00</td>\n",
       "      <td>0.00</td>\n",
       "      <td>(38.11272, -122.65319000000001)</td>\n",
       "      <td>0.0000</td>\n",
       "      <td>0.0000</td>\n",
       "      <td>0.000000</td>\n",
       "      <td>0.000000</td>\n",
       "      <td>1659794400</td>\n",
       "      <td>289.02</td>\n",
       "      <td>288.93</td>\n",
       "      <td>1016</td>\n",
       "      <td>87</td>\n",
       "      <td>286.86</td>\n",
       "      <td>100</td>\n",
       "      <td>1.54</td>\n",
       "      <td>230</td>\n",
       "      <td>2022-08-06 07:00:00</td>\n",
       "      <td>133.734512</td>\n",
       "      <td>2</td>\n",
       "    </tr>\n",
       "    <tr>\n",
       "      <th>1</th>\n",
       "      <td>38.11343</td>\n",
       "      <td>-122.65308</td>\n",
       "      <td>63.40</td>\n",
       "      <td>6.978612</td>\n",
       "      <td>0.36</td>\n",
       "      <td>0.36</td>\n",
       "      <td>(38.11343, -122.65308000000002)</td>\n",
       "      <td>0.0795</td>\n",
       "      <td>0.0795</td>\n",
       "      <td>4.248005</td>\n",
       "      <td>4.248005</td>\n",
       "      <td>1659794404</td>\n",
       "      <td>289.02</td>\n",
       "      <td>288.93</td>\n",
       "      <td>1016</td>\n",
       "      <td>87</td>\n",
       "      <td>286.86</td>\n",
       "      <td>100</td>\n",
       "      <td>1.54</td>\n",
       "      <td>230</td>\n",
       "      <td>2022-08-06 07:00:04</td>\n",
       "      <td>122.218712</td>\n",
       "      <td>1</td>\n",
       "    </tr>\n",
       "    <tr>\n",
       "      <th>2</th>\n",
       "      <td>38.11370</td>\n",
       "      <td>-122.65309</td>\n",
       "      <td>63.68</td>\n",
       "      <td>-1.676102</td>\n",
       "      <td>0.28</td>\n",
       "      <td>0.64</td>\n",
       "      <td>(38.1137, -122.65309)</td>\n",
       "      <td>0.0300</td>\n",
       "      <td>0.1095</td>\n",
       "      <td>4.248005</td>\n",
       "      <td>8.496010</td>\n",
       "      <td>1659794408</td>\n",
       "      <td>289.02</td>\n",
       "      <td>288.93</td>\n",
       "      <td>1016</td>\n",
       "      <td>87</td>\n",
       "      <td>286.86</td>\n",
       "      <td>100</td>\n",
       "      <td>1.54</td>\n",
       "      <td>230</td>\n",
       "      <td>2022-08-06 07:00:08</td>\n",
       "      <td>119.954750</td>\n",
       "      <td>1</td>\n",
       "    </tr>\n",
       "    <tr>\n",
       "      <th>3</th>\n",
       "      <td>38.11425</td>\n",
       "      <td>-122.65358</td>\n",
       "      <td>64.76</td>\n",
       "      <td>-35.140713</td>\n",
       "      <td>1.08</td>\n",
       "      <td>1.72</td>\n",
       "      <td>(38.114250000000006, -122.65358)</td>\n",
       "      <td>0.0747</td>\n",
       "      <td>0.1842</td>\n",
       "      <td>4.248005</td>\n",
       "      <td>12.744016</td>\n",
       "      <td>1659794412</td>\n",
       "      <td>289.01</td>\n",
       "      <td>288.92</td>\n",
       "      <td>1016</td>\n",
       "      <td>87</td>\n",
       "      <td>286.85</td>\n",
       "      <td>100</td>\n",
       "      <td>1.54</td>\n",
       "      <td>230</td>\n",
       "      <td>2022-08-06 07:00:12</td>\n",
       "      <td>131.175461</td>\n",
       "      <td>2</td>\n",
       "    </tr>\n",
       "    <tr>\n",
       "      <th>4</th>\n",
       "      <td>38.11461</td>\n",
       "      <td>-122.65354</td>\n",
       "      <td>65.55</td>\n",
       "      <td>5.016818</td>\n",
       "      <td>0.79</td>\n",
       "      <td>2.51</td>\n",
       "      <td>(38.114610000000006, -122.65354)</td>\n",
       "      <td>0.0402</td>\n",
       "      <td>0.2244</td>\n",
       "      <td>4.248005</td>\n",
       "      <td>16.992021</td>\n",
       "      <td>1659794416</td>\n",
       "      <td>288.88</td>\n",
       "      <td>288.78</td>\n",
       "      <td>1016</td>\n",
       "      <td>87</td>\n",
       "      <td>286.72</td>\n",
       "      <td>100</td>\n",
       "      <td>1.54</td>\n",
       "      <td>230</td>\n",
       "      <td>2022-08-06 07:00:16</td>\n",
       "      <td>123.618896</td>\n",
       "      <td>1</td>\n",
       "    </tr>\n",
       "  </tbody>\n",
       "</table>\n",
       "</div>"
      ],
      "text/plain": [
       "   latitude  longitude  elevation    bearing  ele_diff_m  total_ele_change_m  \\\n",
       "0  38.11272 -122.65319      63.04   0.000000        0.00                0.00   \n",
       "1  38.11343 -122.65308      63.40   6.978612        0.36                0.36   \n",
       "2  38.11370 -122.65309      63.68  -1.676102        0.28                0.64   \n",
       "3  38.11425 -122.65358      64.76 -35.140713        1.08                1.72   \n",
       "4  38.11461 -122.65354      65.55   5.016818        0.79                2.51   \n",
       "\n",
       "                            lat_lon  dist_diff_km  total_dist_km  time_diff_s  \\\n",
       "0   (38.11272, -122.65319000000001)        0.0000         0.0000     0.000000   \n",
       "1   (38.11343, -122.65308000000002)        0.0795         0.0795     4.248005   \n",
       "2             (38.1137, -122.65309)        0.0300         0.1095     4.248005   \n",
       "3  (38.114250000000006, -122.65358)        0.0747         0.1842     4.248005   \n",
       "4  (38.114610000000006, -122.65354)        0.0402         0.2244     4.248005   \n",
       "\n",
       "   total_time_s          dt    temp  feels_like  pressure  humidity  \\\n",
       "0      0.000000  1659794400  289.02      288.93      1016        87   \n",
       "1      4.248005  1659794404  289.02      288.93      1016        87   \n",
       "2      8.496010  1659794408  289.02      288.93      1016        87   \n",
       "3     12.744016  1659794412  289.01      288.92      1016        87   \n",
       "4     16.992021  1659794416  288.88      288.78      1016        87   \n",
       "\n",
       "   dew_point  clouds  wind_speed  wind_deg             datetime    hr_preds  \\\n",
       "0     286.86     100        1.54       230  2022-08-06 07:00:00  133.734512   \n",
       "1     286.86     100        1.54       230  2022-08-06 07:00:04  122.218712   \n",
       "2     286.86     100        1.54       230  2022-08-06 07:00:08  119.954750   \n",
       "3     286.85     100        1.54       230  2022-08-06 07:00:12  131.175461   \n",
       "4     286.72     100        1.54       230  2022-08-06 07:00:16  123.618896   \n",
       "\n",
       "   intensity  \n",
       "0          2  \n",
       "1          1  \n",
       "2          1  \n",
       "3          2  \n",
       "4          1  "
      ]
     },
     "execution_count": 16,
     "metadata": {},
     "output_type": "execute_result"
    }
   ],
   "source": [
    "h_df.head()"
   ]
  },
  {
   "cell_type": "code",
   "execution_count": 17,
   "id": "795055ba-6d03-4a0d-812a-2825aa7d0070",
   "metadata": {},
   "outputs": [
    {
     "data": {
      "text/plain": [
       "1    1790\n",
       "2     821\n",
       "3     218\n",
       "4      20\n",
       "Name: intensity, dtype: int64"
      ]
     },
     "execution_count": 17,
     "metadata": {},
     "output_type": "execute_result"
    }
   ],
   "source": [
    "h_df['intensity'].value_counts()"
   ]
  },
  {
   "cell_type": "markdown",
   "id": "7da74429-46b7-4cea-99f9-5efbcc165289",
   "metadata": {
    "jp-MarkdownHeadingCollapsed": true,
    "tags": []
   },
   "source": [
    "# Headwind\n",
    "---"
   ]
  },
  {
   "cell_type": "code",
   "execution_count": 18,
   "id": "4b566f8b-0e86-4182-b5fc-ff6c0b031562",
   "metadata": {},
   "outputs": [],
   "source": [
    "# add alpha and headwind columns to a_df\n",
    "a_df['alpha'] = a_df['wind_deg'] - a_df['bearing']\n",
    "a_df['headwind'] = [1 if alpha > -90 and alpha < 90 else 0 for alpha in a_df['alpha']]"
   ]
  },
  {
   "cell_type": "code",
   "execution_count": 19,
   "id": "afb8ec28-edee-4175-9259-92b9c69e61e9",
   "metadata": {},
   "outputs": [],
   "source": [
    "# add alpha and headwind columns to h_df\n",
    "h_df['alpha'] = h_df['wind_deg'] - h_df['bearing']\n",
    "h_df['headwind'] = [1 if alpha > -90 and alpha < 90 else 0 for alpha in h_df['alpha']]"
   ]
  },
  {
   "cell_type": "code",
   "execution_count": 20,
   "id": "efd1d0d6-040c-41f0-962e-251763a53729",
   "metadata": {},
   "outputs": [],
   "source": [
    "# add alpha and headwind columns to ah_df\n",
    "ah_df['alpha'] = ah_df['wind_deg'] - ah_df['bearing']\n",
    "ah_df['headwind'] = [1 if alpha > -90 and alpha < 90 else 0 for alpha in ah_df['alpha']]"
   ]
  },
  {
   "cell_type": "markdown",
   "id": "b6c449f2-2465-4928-8a5b-bc958b39028f",
   "metadata": {
    "tags": []
   },
   "source": [
    "# Plot Drafting - Finals in Tableau\n",
    "---"
   ]
  },
  {
   "cell_type": "code",
   "execution_count": 21,
   "id": "107202a1-72ae-4305-95d9-83c3a111d4cc",
   "metadata": {},
   "outputs": [
    {
     "data": {
      "text/plain": [
       "<Figure size 1152x576 with 0 Axes>"
      ]
     },
     "metadata": {},
     "output_type": "display_data"
    },
    {
     "data": {
      "image/png": "[encoded data removed]",
      "text/plain": [
       "<Figure size 1491.5x720 with 1 Axes>"
      ]
     },
     "metadata": {
      "needs_background": "light"
     },
     "output_type": "display_data"
    }
   ],
   "source": [
    "plt.figure(figsize = (16, 8))\n",
    "sns.lmplot( x=\"longitude\", y=\"latitude\", data=a_df, fit_reg=False, \n",
    "           hue='intensity', \n",
    "           palette = 'coolwarm', \n",
    "           height = 10, aspect = 2, legend = True)\n",
    "\n",
    "plt.title('Average Model Intensity Predictions', pad = 10, fontsize = 22)\n",
    "\n",
    "plt.show();"
   ]
  },
  {
   "cell_type": "code",
   "execution_count": 22,
   "id": "7dc3234a-05e4-4a0c-9ce2-68c24e454795",
   "metadata": {},
   "outputs": [
    {
     "data": {
      "text/plain": [
       "<Figure size 1152x576 with 0 Axes>"
      ]
     },
     "metadata": {},
     "output_type": "display_data"
    },
    {
     "data": {
      "image/png": "[encoded data removed]",
      "text/plain": [
       "<Figure size 1491.5x720 with 1 Axes>"
      ]
     },
     "metadata": {
      "needs_background": "light"
     },
     "output_type": "display_data"
    }
   ],
   "source": [
    "plt.figure(figsize = (16, 8))\n",
    "sns.lmplot( x=\"longitude\", y=\"latitude\", data=h_df, fit_reg=False, \n",
    "           hue='intensity', \n",
    "           palette = 'coolwarm', \n",
    "           height = 10, aspect = 2, legend = True)\n",
    "\n",
    "plt.title('High Model Intensity Predictions', pad = 10, fontsize = 22)\n",
    "\n",
    "plt.show();"
   ]
  },
  {
   "cell_type": "markdown",
   "id": "a8d4a0bb-88db-4d25-b590-f1bf20b4b025",
   "metadata": {},
   "source": [
    "## Elevation Drafting w/ Average"
   ]
  },
  {
   "cell_type": "code",
   "execution_count": null,
   "id": "58832f62-ee24-4f10-981f-42f48760ccee",
   "metadata": {},
   "outputs": [],
   "source": [
    "plt.figure(figsize = (16, 8))\n",
    "sns.lmplot( x=\"longitude\", y=\"latitude\", data=a_df, fit_reg=False, \n",
    "           hue='ele_diff_m', \n",
    "           palette = 'coolwarm', \n",
    "           height = 10, aspect = 2, legend = False)\n",
    "\n",
    "plt.show();"
   ]
  },
  {
   "cell_type": "code",
   "execution_count": null,
   "id": "3112659a-36d4-4095-ac2c-bc60aae37737",
   "metadata": {},
   "outputs": [],
   "source": [
    "plt.figure(figsize = (16, 8))\n",
    "sns.lmplot( x=\"longitude\", y=\"latitude\", data=a_df, fit_reg=False, \n",
    "           hue='elevation', \n",
    "           palette = 'coolwarm', \n",
    "           height = 10, aspect = 2, legend = False)\n",
    "\n",
    "plt.show();"
   ]
  },
  {
   "cell_type": "markdown",
   "id": "1cac6c9a-3b89-4164-b382-2d90436c0b86",
   "metadata": {},
   "source": [
    "## Headwind Drafting w/ Average"
   ]
  },
  {
   "cell_type": "code",
   "execution_count": null,
   "id": "90ba6932-afc3-49a1-aa63-d7f40649de1c",
   "metadata": {},
   "outputs": [],
   "source": [
    "plt.figure(figsize = (16, 8))\n",
    "sns.lmplot( x=\"longitude\", y=\"latitude\", data=a_df, fit_reg=False, \n",
    "           hue='headwind', \n",
    "           palette = 'coolwarm', \n",
    "           height = 10, aspect = 2, legend = False)\n",
    "\n",
    "plt.show();"
   ]
  },
  {
   "cell_type": "markdown",
   "id": "3d27236a-f8cc-46b9-aa80-72bdda5328aa",
   "metadata": {
    "jp-MarkdownHeadingCollapsed": true,
    "tags": []
   },
   "source": [
    "# Heatmaps!\n",
    "---\n",
    "Not a lot of significant correlations. I was surprised to see that headwind and elevation changes wouldn't have stronger correlations. "
   ]
  },
  {
   "cell_type": "code",
   "execution_count": null,
   "id": "a7449959-ef1f-4224-977c-625622976bbf",
   "metadata": {},
   "outputs": [],
   "source": [
    "hr_corr = ah_df.corr()[['hr_preds']].sort_values(by = 'hr_preds', ascending = False)\n",
    "\n",
    "plt.figure(figsize = (4, 10))\n",
    "\n",
    "sns.heatmap(hr_corr,\n",
    "           cmap = 'coolwarm',\n",
    "           annot = True,\n",
    "           vmin = -1,\n",
    "           vmax = 1);"
   ]
  },
  {
   "cell_type": "code",
   "execution_count": null,
   "id": "525a7f4e-d85a-45fd-ac3f-f92955b2766c",
   "metadata": {},
   "outputs": [],
   "source": [
    "# This code is taken with minor modifications from https://seaborn.pydata.org/generated/seaborn.heatmap.html\n",
    "\n",
    "# Establish size of figure.\n",
    "plt.figure(figsize = (16, 9))\n",
    "\n",
    "# Get correlation of variables.\n",
    "corr = round(ah_df.corr(), 2)\n",
    "\n",
    "# Set up mask to be \"True\" in the upper triangle.\n",
    "mask = np.zeros_like(corr)\n",
    "mask[np.triu_indices_from(mask)] = True\n",
    "\n",
    "# Plot our correlation heatmap, while masking the upper triangle to be white.\n",
    "sns.heatmap(corr,\n",
    "           mask = mask,\n",
    "           square = True,\n",
    "           cmap = 'coolwarm', # coolwarm and viridis are good for color blindness\n",
    "           annot = True,\n",
    "           vmin = -1,\n",
    "           vmax = 1);"
   ]
  },
  {
   "cell_type": "markdown",
   "id": "794de8da-0086-416c-9c09-ea43b048cddb",
   "metadata": {
    "tags": []
   },
   "source": [
    "# Save CSVs"
   ]
  },
  {
   "cell_type": "code",
   "execution_count": null,
   "id": "9e747f89-d43b-4f09-bd8c-f3b293a8d620",
   "metadata": {},
   "outputs": [],
   "source": [
    "a_df['datetime'] = a_df['dt'].apply(lambda x: datetime.fromtimestamp(x))\n",
    "h_df['datetime'] = h_df['dt'].apply(lambda x: datetime.fromtimestamp(x))\n",
    "ah_df['datetime'] = ah_df['dt'].apply(lambda x: datetime.fromtimestamp(x))"
   ]
  },
  {
   "cell_type": "code",
   "execution_count": null,
   "id": "2f5aaedf-7262-42fd-bd4b-b4a4997026d7",
   "metadata": {},
   "outputs": [],
   "source": [
    "# a_df.to_csv('../data/a_pred_df.csv', index = False)\n",
    "# h_df.to_csv('../data/h_pred_df.csv', index = False)\n",
    "# ah_df.to_csv('../data/ah_pred_df.csv', index = False)"
   ]
  },
  {
   "cell_type": "code",
   "execution_count": null,
   "id": "aabc0b82-4ad0-4bdb-95cc-a486b9bb15cf",
   "metadata": {},
   "outputs": [],
   "source": []
  },
  {
   "cell_type": "code",
   "execution_count": null,
   "id": "0038b5e6-c4b2-447c-ac82-37ce9bd1913f",
   "metadata": {},
   "outputs": [],
   "source": []
  }
 ],
 "metadata": {
  "kernelspec": {
   "display_name": "Python 3 (ipykernel)",
   "language": "python",
   "name": "python3"
  },
  "language_info": {
   "codemirror_mode": {
    "name": "ipython",
    "version": 3
   },
   "file_extension": ".py",
   "mimetype": "text/x-python",
   "name": "python",
   "nbconvert_exporter": "python",
   "pygments_lexer": "ipython3",
   "version": "3.9.12"
  }
 },
 "nbformat": 4,
 "nbformat_minor": 5
}
