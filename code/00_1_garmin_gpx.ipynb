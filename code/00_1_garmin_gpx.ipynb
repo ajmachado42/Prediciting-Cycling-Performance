{
 "cells": [
  {
   "cell_type": "markdown",
   "id": "83aa7e12-e796-439e-9ff4-7b0960c02eb9",
   "metadata": {},
   "source": [
    "# GARMIN GPX FILE FOR TARGET HEART RATE & CYCLING VARIABLES\n",
    "---\n",
    "---"
   ]
  },
  {
   "cell_type": "code",
   "execution_count": 1,
   "id": "d5a7aa60-7e4f-4c03-8063-35cee811a33e",
   "metadata": {},
   "outputs": [],
   "source": [
    "# Lesson 5.02 Webscraping\n",
    "# https://towardsdatascience.com/data-science-for-cycling-how-to-read-gpx-strava-routes-with-python-e45714d5da23\n",
    "# https://stackoverflow.com/questions/54873868/python-calculate-bearing-between-two-lat-long\n",
    "# https://geographiclib.sourceforge.io/html/python/code.html#geographiclib.geodesic.Geodesic.AZIMUTH\n",
    "# https://www.python-graph-gallery.com/43-use-categorical-variable-to-color-scatterplot-seaborn"
   ]
  },
  {
   "cell_type": "markdown",
   "id": "b4ecdd5e-aa80-46d5-9e2a-46470983d2f3",
   "metadata": {
    "tags": []
   },
   "source": [
    "# Imports\n",
    "---"
   ]
  },
  {
   "cell_type": "code",
   "execution_count": 2,
   "id": "40c90764-cfdc-462e-900c-199d7911e408",
   "metadata": {},
   "outputs": [],
   "source": [
    "import pandas as pd\n",
    "from pandas import json_normalize\n",
    "import numpy as np\n",
    "import seaborn as sns\n",
    "import matplotlib.pyplot as plt\n",
    "import datetime\n",
    "import time\n",
    "\n",
    "# GPX file\n",
    "import gpxpy\n",
    "import gpxpy.gpx\n",
    "\n",
    "# GPX file\n",
    "from bs4 import BeautifulSoup\n",
    "import lxml\n",
    "\n",
    "# bearing\n",
    "from geographiclib.geodesic import Geodesic\n",
    "\n",
    "# distance\n",
    "import haversine as hs\n",
    "\n",
    "%matplotlib inline\n",
    "pd.set_option('display.max_columns', None)\n",
    "\n",
    "import warnings\n",
    "warnings.simplefilter(\"ignore\")"
   ]
  },
  {
   "cell_type": "markdown",
   "id": "d733b1f4-411b-434a-a2b3-733c27bdd5b0",
   "metadata": {
    "tags": []
   },
   "source": [
    "# Function gpx_to_df()\n",
    "---"
   ]
  },
  {
   "cell_type": "code",
   "execution_count": 3,
   "id": "f22bc642-e1e3-4762-95ee-b6dffa3a6297",
   "metadata": {},
   "outputs": [],
   "source": [
    "def gpx_to_df(filepath):\n",
    "    \n",
    "    # Open .gpx file and parse xml\n",
    "    with open(filepath, 'r') as gpx_file:\n",
    "        gpx = gpxpy.parse(gpx_file)\n",
    "    \n",
    "    # check file\n",
    "    print(f'File: {filepath}')\n",
    "    # check length of tracks\n",
    "    print(f'Tracks: {len(gpx.tracks)}')\n",
    "    # check number of data points\n",
    "    print(f'No. of Track Points: {gpx.get_track_points_no()}')\n",
    "    \n",
    "    # extract timestamp, lat, lon, and elevation from gpx file\n",
    "    route_info = []\n",
    "\n",
    "    for track in gpx.tracks:\n",
    "        for segment in track.segments:\n",
    "            for point in segment.points:\n",
    "                route_info.append({\n",
    "                    'timestamp': point.time,\n",
    "                    'latitude': point.latitude,\n",
    "                    'longitude': point.longitude,\n",
    "                    'elevation': point.elevation,\n",
    "                })\n",
    "    \n",
    "    # create dataframe\n",
    "    route_df = pd.DataFrame(route_info)\n",
    "    # create UNIX column for later\n",
    "    # https://statisticsglobe.com/convert-datetime-to-unix-timestamp-python\n",
    "    route_df['dt'] = route_df['timestamp'].apply(lambda z: int(datetime.datetime.timestamp(z)))\n",
    "    \n",
    "    #######################\n",
    "    # HEART RATE AND CADENCE\n",
    "    # HAD TO REMOVE CADENCE FROM EXCUTED CODES DUE TO DATA FROM EARLIER THIS YEAR NOT HAVING THE SENSOR\n",
    "    # add extension data with beautifulsoup\n",
    "    xml = gpx.to_xml()\n",
    "    soup = BeautifulSoup(xml, features = 'xml')\n",
    "    \n",
    "    # Use Beautiful Soup to find all heart rate and cadence\n",
    "    hr_soup = soup.find_all('ns3:hr')\n",
    "    cad_soup = soup.find_all('ns3:cad')\n",
    "    \n",
    "    # chop off early points from index - accounts for before cadence sensor calibration\n",
    "    route_df = route_df[-len(cad_soup):]\n",
    "\n",
    "    # for loop to extract heart rate and cadence values from each point\n",
    "    hr_list = []\n",
    "    cad_list = []\n",
    "    for i in hr_soup:\n",
    "        # https://stackoverflow.com/questions/69420686/bs4-element-resultset-elements-to-a-list\n",
    "        hr_list.append(i.get_text(strip = True))\n",
    "\n",
    "    for j in cad_soup:\n",
    "        cad_list.append(j.get_text(strip = True))\n",
    "\n",
    "    # add columns to dataset from extraction\n",
    "    route_df['heart_rate'] = hr_list[-len(cad_soup):]\n",
    "    route_df['cadence'] = cad_list\n",
    "    \n",
    "    #######################\n",
    "    # BEARING\n",
    "    # get_bearing function\n",
    "    def get_bearing(lat1, lat2, long1, long2):\n",
    "        brng = Geodesic.WGS84.Inverse(lat1, long1, lat2, long2)['azi1']\n",
    "        return brng\n",
    "    \n",
    "    # assign bearing in df\n",
    "    route_df['bearing'] = 0\n",
    "    for i in range(1, len(route_df)):\n",
    "        lat1 = route_df.latitude.iloc[i-1]\n",
    "        lat2 = route_df.latitude.iloc[i]\n",
    "        long1 = route_df.longitude.iloc[i-1]\n",
    "        long2 = route_df.longitude.iloc[i]\n",
    "        bearing = get_bearing(lat1, lat2, long1, long2)\n",
    "        # https://stats.stackexchange.com/questions/283572/using-iloc-to-set-values\n",
    "        route_df.bearing.iloc[[i]] = bearing\n",
    "    \n",
    "    ########################    \n",
    "    # ELAPSED TIME - SECONDS\n",
    "    route_df['timestamp'] = pd.to_datetime(route_df['timestamp'])\n",
    "    route_df['time_diff_s'] = 0\n",
    "    for i in range(1, len(route_df)-1):\n",
    "        t1 = route_df.iloc[i]['timestamp']\n",
    "        t2 = route_df.iloc[i-1]['timestamp']\n",
    "        # https://www.geeksforgeeks.org/how-to-set-cell-value-in-pandas-dataframe/\n",
    "        route_df.at[i, 'time_diff_s'] = (t1 - t2).seconds\n",
    "    route_df['total_time_s'] = route_df['time_diff_s'].cumsum(skipna = True)\n",
    "    \n",
    "    #######################\n",
    "    # ELEVATION CHANGE - METERS\n",
    "    route_df['ele_diff_m'] = 0\n",
    "    for i in range(1, len(route_df)-1):\n",
    "        e1 = route_df.iloc[i]['elevation']\n",
    "        e2 = route_df.iloc[i-1]['elevation']\n",
    "        route_df.at[i, 'ele_diff_m'] = (e1 - e2)\n",
    "    route_df['total_ele_change_m'] = round(route_df['ele_diff_m'].cumsum(skipna = True), 4)\n",
    "    \n",
    "    #######################\n",
    "    # DISTANCE - KILOMETERS\n",
    "    route_df['lat_lon'] = [(lat, lon) for lat, lon in zip(route_df['latitude'], route_df['longitude'])]\n",
    "    route_df['dist_diff_km'] = 0\n",
    "    for i in range(1, len(route_df)-1):\n",
    "        loc1 = route_df.iloc[i]['lat_lon']\n",
    "        loc2 = route_df.iloc[i-1]['lat_lon']\n",
    "        route_df.at[i, 'dist_diff_km'] = round(hs.haversine(loc1, loc2), 4) # kilometers\n",
    "    route_df['total_dist_km'] = route_df['dist_diff_km'].cumsum(skipna = True)\n",
    "    \n",
    "   \n",
    "    #######################\n",
    "    route_df.reset_index(drop = True, inplace = True)\n",
    "    \n",
    "    return route_df"
   ]
  },
  {
   "cell_type": "code",
   "execution_count": 4,
   "id": "f2310749-61e9-40f9-a913-184b11579450",
   "metadata": {},
   "outputs": [
    {
     "name": "stdout",
     "output_type": "stream",
     "text": [
      "File: ../data/sandbox/a_1728.gpx\n",
      "Tracks: 1\n",
      "No. of Track Points: 2224\n"
     ]
    },
    {
     "data": {
      "text/html": [
       "<div>\n",
       "<style scoped>\n",
       "    .dataframe tbody tr th:only-of-type {\n",
       "        vertical-align: middle;\n",
       "    }\n",
       "\n",
       "    .dataframe tbody tr th {\n",
       "        vertical-align: top;\n",
       "    }\n",
       "\n",
       "    .dataframe thead th {\n",
       "        text-align: right;\n",
       "    }\n",
       "</style>\n",
       "<table border=\"1\" class=\"dataframe\">\n",
       "  <thead>\n",
       "    <tr style=\"text-align: right;\">\n",
       "      <th></th>\n",
       "      <th>timestamp</th>\n",
       "      <th>latitude</th>\n",
       "      <th>longitude</th>\n",
       "      <th>elevation</th>\n",
       "      <th>dt</th>\n",
       "      <th>heart_rate</th>\n",
       "      <th>cadence</th>\n",
       "      <th>bearing</th>\n",
       "      <th>time_diff_s</th>\n",
       "      <th>total_time_s</th>\n",
       "      <th>ele_diff_m</th>\n",
       "      <th>total_ele_change_m</th>\n",
       "      <th>lat_lon</th>\n",
       "      <th>dist_diff_km</th>\n",
       "      <th>total_dist_km</th>\n",
       "    </tr>\n",
       "  </thead>\n",
       "  <tbody>\n",
       "    <tr>\n",
       "      <th>0</th>\n",
       "      <td>2022-08-06 20:32:03+00:00</td>\n",
       "      <td>38.631716</td>\n",
       "      <td>-121.237873</td>\n",
       "      <td>30.799999</td>\n",
       "      <td>1.659818e+09</td>\n",
       "      <td>83</td>\n",
       "      <td>84</td>\n",
       "      <td>0.000000</td>\n",
       "      <td>3.0</td>\n",
       "      <td>3.0</td>\n",
       "      <td>0.000000</td>\n",
       "      <td>0.0</td>\n",
       "      <td>(38.631715876981616, -121.237873127684)</td>\n",
       "      <td>0.0215</td>\n",
       "      <td>0.0215</td>\n",
       "    </tr>\n",
       "    <tr>\n",
       "      <th>1</th>\n",
       "      <td>2022-08-06 20:32:04+00:00</td>\n",
       "      <td>38.631710</td>\n",
       "      <td>-121.237949</td>\n",
       "      <td>30.200001</td>\n",
       "      <td>1.659818e+09</td>\n",
       "      <td>82</td>\n",
       "      <td>82</td>\n",
       "      <td>-95.964326</td>\n",
       "      <td>3.0</td>\n",
       "      <td>6.0</td>\n",
       "      <td>0.000000</td>\n",
       "      <td>0.0</td>\n",
       "      <td>(38.63170967437327, -121.23794881626964)</td>\n",
       "      <td>0.0215</td>\n",
       "      <td>0.0430</td>\n",
       "    </tr>\n",
       "    <tr>\n",
       "      <th>2</th>\n",
       "      <td>2022-08-06 20:32:08+00:00</td>\n",
       "      <td>38.631667</td>\n",
       "      <td>-121.238385</td>\n",
       "      <td>31.000000</td>\n",
       "      <td>1.659818e+09</td>\n",
       "      <td>81</td>\n",
       "      <td>80</td>\n",
       "      <td>-97.059499</td>\n",
       "      <td>4.0</td>\n",
       "      <td>10.0</td>\n",
       "      <td>0.200001</td>\n",
       "      <td>0.2</td>\n",
       "      <td>(38.63166726194322, -121.23838542960584)</td>\n",
       "      <td>0.0272</td>\n",
       "      <td>0.0702</td>\n",
       "    </tr>\n",
       "    <tr>\n",
       "      <th>3</th>\n",
       "      <td>2022-08-06 20:32:11+00:00</td>\n",
       "      <td>38.631642</td>\n",
       "      <td>-121.238631</td>\n",
       "      <td>31.000000</td>\n",
       "      <td>1.659818e+09</td>\n",
       "      <td>84</td>\n",
       "      <td>80</td>\n",
       "      <td>-97.380397</td>\n",
       "      <td>3.0</td>\n",
       "      <td>13.0</td>\n",
       "      <td>-0.200001</td>\n",
       "      <td>0.0</td>\n",
       "      <td>(38.63164228387177, -121.23863127082586)</td>\n",
       "      <td>0.0208</td>\n",
       "      <td>0.0910</td>\n",
       "    </tr>\n",
       "    <tr>\n",
       "      <th>4</th>\n",
       "      <td>2022-08-06 20:32:14+00:00</td>\n",
       "      <td>38.631620</td>\n",
       "      <td>-121.238877</td>\n",
       "      <td>31.000000</td>\n",
       "      <td>1.659818e+09</td>\n",
       "      <td>83</td>\n",
       "      <td>78</td>\n",
       "      <td>-96.586353</td>\n",
       "      <td>1.0</td>\n",
       "      <td>14.0</td>\n",
       "      <td>0.000000</td>\n",
       "      <td>0.0</td>\n",
       "      <td>(38.631619988009334, -121.23887744732201)</td>\n",
       "      <td>0.0067</td>\n",
       "      <td>0.0977</td>\n",
       "    </tr>\n",
       "  </tbody>\n",
       "</table>\n",
       "</div>"
      ],
      "text/plain": [
       "                  timestamp   latitude   longitude  elevation            dt  \\\n",
       "0 2022-08-06 20:32:03+00:00  38.631716 -121.237873  30.799999  1.659818e+09   \n",
       "1 2022-08-06 20:32:04+00:00  38.631710 -121.237949  30.200001  1.659818e+09   \n",
       "2 2022-08-06 20:32:08+00:00  38.631667 -121.238385  31.000000  1.659818e+09   \n",
       "3 2022-08-06 20:32:11+00:00  38.631642 -121.238631  31.000000  1.659818e+09   \n",
       "4 2022-08-06 20:32:14+00:00  38.631620 -121.238877  31.000000  1.659818e+09   \n",
       "\n",
       "  heart_rate cadence    bearing  time_diff_s  total_time_s  ele_diff_m  \\\n",
       "0         83      84   0.000000          3.0           3.0    0.000000   \n",
       "1         82      82 -95.964326          3.0           6.0    0.000000   \n",
       "2         81      80 -97.059499          4.0          10.0    0.200001   \n",
       "3         84      80 -97.380397          3.0          13.0   -0.200001   \n",
       "4         83      78 -96.586353          1.0          14.0    0.000000   \n",
       "\n",
       "   total_ele_change_m                                    lat_lon  \\\n",
       "0                 0.0    (38.631715876981616, -121.237873127684)   \n",
       "1                 0.0   (38.63170967437327, -121.23794881626964)   \n",
       "2                 0.2   (38.63166726194322, -121.23838542960584)   \n",
       "3                 0.0   (38.63164228387177, -121.23863127082586)   \n",
       "4                 0.0  (38.631619988009334, -121.23887744732201)   \n",
       "\n",
       "   dist_diff_km  total_dist_km  \n",
       "0        0.0215         0.0215  \n",
       "1        0.0215         0.0430  \n",
       "2        0.0272         0.0702  \n",
       "3        0.0208         0.0910  \n",
       "4        0.0067         0.0977  "
      ]
     },
     "execution_count": 4,
     "metadata": {},
     "output_type": "execute_result"
    }
   ],
   "source": [
    "gpx_to_df('../data/sandbox/a_1728.gpx').head()"
   ]
  },
  {
   "cell_type": "markdown",
   "id": "ed7f306d-3314-4dbf-9ce9-5777d1216763",
   "metadata": {
    "tags": []
   },
   "source": [
    "# Build Out of gpx_to_df()\n",
    "---"
   ]
  },
  {
   "cell_type": "markdown",
   "id": "28a50a58-7d42-4db7-a85e-e9191f0471ba",
   "metadata": {
    "tags": []
   },
   "source": [
    "## Garmin GPX File"
   ]
  },
  {
   "cell_type": "code",
   "execution_count": 5,
   "id": "474a8828-440b-4dc6-8b63-f3f673080697",
   "metadata": {},
   "outputs": [],
   "source": [
    "# Open .gpx file and parse xml\n",
    "with open('../data/sandbox/a_1728.gpx', 'r') as gpx_file:\n",
    "    gpx = gpxpy.parse(gpx_file)"
   ]
  },
  {
   "cell_type": "code",
   "execution_count": 6,
   "id": "07e2c952-30da-48b8-afef-d738663ec43e",
   "metadata": {},
   "outputs": [
    {
     "name": "stdout",
     "output_type": "stream",
     "text": [
      "Tracks: 1\n",
      "No. of Track Points: 2224\n"
     ]
    }
   ],
   "source": [
    "# check length of tracks\n",
    "print(f'Tracks: {len(gpx.tracks)}')\n",
    "# check number of data points\n",
    "print(f'No. of Track Points: {gpx.get_track_points_no()}')"
   ]
  },
  {
   "cell_type": "code",
   "execution_count": 7,
   "id": "e4bdfe25-5a88-43c2-b069-095b93327913",
   "metadata": {},
   "outputs": [
    {
     "data": {
      "text/plain": [
       "MovingData(moving_time=7695.0, stopped_time=1716.0, moving_distance=50185.249780327096, stopped_distance=32.91609145123523, max_speed=12.599254176519333)"
      ]
     },
     "execution_count": 7,
     "metadata": {},
     "output_type": "execute_result"
    }
   ],
   "source": [
    "# explore\n",
    "moving_data = gpx.get_moving_data(raw=True)\n",
    "moving_data"
   ]
  },
  {
   "cell_type": "code",
   "execution_count": 8,
   "id": "9d804207-7e41-4c7d-ba3b-fa1524393655",
   "metadata": {},
   "outputs": [
    {
     "data": {
      "text/plain": [
       "UphillDownhill(uphill=245.40001077651982, downhill=229.20001192092926)"
      ]
     },
     "execution_count": 8,
     "metadata": {},
     "output_type": "execute_result"
    }
   ],
   "source": [
    "gpx.get_uphill_downhill()"
   ]
  },
  {
   "cell_type": "code",
   "execution_count": 9,
   "id": "7ed115a2-4580-480b-9bce-2dd1571c92eb",
   "metadata": {},
   "outputs": [
    {
     "data": {
      "text/plain": [
       "[]"
      ]
     },
     "execution_count": 9,
     "metadata": {},
     "output_type": "execute_result"
    }
   ],
   "source": [
    "gpx.extensions"
   ]
  },
  {
   "cell_type": "markdown",
   "id": "213573b0-0c64-4e3d-ab2a-be9003da6c91",
   "metadata": {
    "tags": []
   },
   "source": [
    "### Pull Data from GPX"
   ]
  },
  {
   "cell_type": "code",
   "execution_count": 10,
   "id": "789728e5-aa45-4a0a-88a7-d3ec2956f2da",
   "metadata": {},
   "outputs": [],
   "source": [
    "# check out .gpx file as xml\n",
    "# gpx.to_xml()[:2000]"
   ]
  },
  {
   "cell_type": "code",
   "execution_count": 11,
   "id": "9749059c-a3e1-4e9d-b89d-71034a0236f0",
   "metadata": {},
   "outputs": [],
   "source": [
    "# extract timestamp, lat, lon, and elevation from gpx file\n",
    "test_info = []\n",
    "\n",
    "for track in gpx.tracks:\n",
    "    for segment in track.segments:\n",
    "        for point in segment.points:\n",
    "            test_info.append({\n",
    "                'timestamp': point.time,\n",
    "                'latitude': point.latitude,\n",
    "                'longitude': point.longitude,\n",
    "                'elevation': point.elevation,\n",
    "            })"
   ]
  },
  {
   "cell_type": "code",
   "execution_count": 12,
   "id": "d84a9562-d638-4734-ad77-056c81f03354",
   "metadata": {},
   "outputs": [],
   "source": [
    "test = pd.DataFrame(test_info)"
   ]
  },
  {
   "cell_type": "code",
   "execution_count": 13,
   "id": "e7cdcefb-4759-469a-8d19-b757d7e53f5a",
   "metadata": {},
   "outputs": [
    {
     "data": {
      "text/html": [
       "<div>\n",
       "<style scoped>\n",
       "    .dataframe tbody tr th:only-of-type {\n",
       "        vertical-align: middle;\n",
       "    }\n",
       "\n",
       "    .dataframe tbody tr th {\n",
       "        vertical-align: top;\n",
       "    }\n",
       "\n",
       "    .dataframe thead th {\n",
       "        text-align: right;\n",
       "    }\n",
       "</style>\n",
       "<table border=\"1\" class=\"dataframe\">\n",
       "  <thead>\n",
       "    <tr style=\"text-align: right;\">\n",
       "      <th></th>\n",
       "      <th>timestamp</th>\n",
       "      <th>latitude</th>\n",
       "      <th>longitude</th>\n",
       "      <th>elevation</th>\n",
       "    </tr>\n",
       "  </thead>\n",
       "  <tbody>\n",
       "    <tr>\n",
       "      <th>0</th>\n",
       "      <td>2022-08-06 20:31:59+00:00</td>\n",
       "      <td>38.631832</td>\n",
       "      <td>-121.237544</td>\n",
       "      <td>31.600000</td>\n",
       "    </tr>\n",
       "    <tr>\n",
       "      <th>1</th>\n",
       "      <td>2022-08-06 20:32:01+00:00</td>\n",
       "      <td>38.631761</td>\n",
       "      <td>-121.237665</td>\n",
       "      <td>31.200001</td>\n",
       "    </tr>\n",
       "    <tr>\n",
       "      <th>2</th>\n",
       "      <td>2022-08-06 20:32:02+00:00</td>\n",
       "      <td>38.631722</td>\n",
       "      <td>-121.237779</td>\n",
       "      <td>31.000000</td>\n",
       "    </tr>\n",
       "    <tr>\n",
       "      <th>3</th>\n",
       "      <td>2022-08-06 20:32:03+00:00</td>\n",
       "      <td>38.631716</td>\n",
       "      <td>-121.237873</td>\n",
       "      <td>30.799999</td>\n",
       "    </tr>\n",
       "    <tr>\n",
       "      <th>4</th>\n",
       "      <td>2022-08-06 20:32:04+00:00</td>\n",
       "      <td>38.631710</td>\n",
       "      <td>-121.237949</td>\n",
       "      <td>30.200001</td>\n",
       "    </tr>\n",
       "  </tbody>\n",
       "</table>\n",
       "</div>"
      ],
      "text/plain": [
       "                  timestamp   latitude   longitude  elevation\n",
       "0 2022-08-06 20:31:59+00:00  38.631832 -121.237544  31.600000\n",
       "1 2022-08-06 20:32:01+00:00  38.631761 -121.237665  31.200001\n",
       "2 2022-08-06 20:32:02+00:00  38.631722 -121.237779  31.000000\n",
       "3 2022-08-06 20:32:03+00:00  38.631716 -121.237873  30.799999\n",
       "4 2022-08-06 20:32:04+00:00  38.631710 -121.237949  30.200001"
      ]
     },
     "execution_count": 13,
     "metadata": {},
     "output_type": "execute_result"
    }
   ],
   "source": [
    "test.head()"
   ]
  },
  {
   "cell_type": "markdown",
   "id": "6581c779-d137-40b9-85d4-c3102f25dd5b",
   "metadata": {
    "tags": []
   },
   "source": [
    "## BeautifulSoup for Extension Data - heartrate, cadence"
   ]
  },
  {
   "cell_type": "code",
   "execution_count": 14,
   "id": "542c0067-a202-4cd0-934e-1d6e49e1ac6a",
   "metadata": {},
   "outputs": [],
   "source": [
    "xml = gpx.to_xml()\n",
    "soup = BeautifulSoup(xml, features = 'xml')"
   ]
  },
  {
   "cell_type": "code",
   "execution_count": 15,
   "id": "32983986-2bfa-4b17-b42e-5a3ca8ff30a8",
   "metadata": {},
   "outputs": [],
   "source": [
    "time_soup = soup.find_all('time')\n",
    "hr_soup = soup.find_all('ns3:hr')\n",
    "cad_soup = soup.find_all('ns3:cad')"
   ]
  },
  {
   "cell_type": "code",
   "execution_count": 16,
   "id": "709084ea-6a6e-458b-978a-12a1843945fa",
   "metadata": {},
   "outputs": [],
   "source": [
    "# type(time_soup)"
   ]
  },
  {
   "cell_type": "code",
   "execution_count": 17,
   "id": "d84751e1-e6cb-4854-8b52-b8b15937dd68",
   "metadata": {},
   "outputs": [],
   "source": [
    "# len(time_soup)"
   ]
  },
  {
   "cell_type": "code",
   "execution_count": 18,
   "id": "2cb899c7-3d39-44cd-9875-dde769ff619a",
   "metadata": {},
   "outputs": [],
   "source": [
    "# type(hr_soup)"
   ]
  },
  {
   "cell_type": "code",
   "execution_count": 19,
   "id": "f0cce6ee-fa18-4ce1-8845-cee372043f74",
   "metadata": {},
   "outputs": [],
   "source": [
    "# len(hr_soup)"
   ]
  },
  {
   "cell_type": "code",
   "execution_count": 20,
   "id": "3ce36c4b-0714-4d80-bc6e-b79c1392c496",
   "metadata": {},
   "outputs": [],
   "source": [
    "# len(soup.find_all('ns3:hr')[-len(cad_soup):])"
   ]
  },
  {
   "cell_type": "code",
   "execution_count": 21,
   "id": "14ce3a2e-d2d3-450e-b559-0b9e4caa6e5e",
   "metadata": {},
   "outputs": [],
   "source": [
    "# len(cad_soup)"
   ]
  },
  {
   "cell_type": "code",
   "execution_count": 22,
   "id": "c356890a-62d8-4e38-bd4d-7d46df3ee3f2",
   "metadata": {},
   "outputs": [],
   "source": [
    "# len(route_df)"
   ]
  },
  {
   "cell_type": "code",
   "execution_count": 23,
   "id": "43c29b83-682f-49b0-8259-78035dcf212d",
   "metadata": {},
   "outputs": [],
   "source": [
    "# chop off early points from index - accounts for before cadence sensor calibration\n",
    "test = test[-len(cad_soup):]\n",
    "\n",
    "# for loop to extract heart rate and cadence values from each point\n",
    "hr_list = []\n",
    "cad_list = []\n",
    "for i in hr_soup:\n",
    "    hr_list.append(i.get_text(strip = True))\n",
    "    \n",
    "for j in cad_soup:\n",
    "    cad_list.append(j.get_text(strip = True))"
   ]
  },
  {
   "cell_type": "code",
   "execution_count": 24,
   "id": "779a8b45-fdbc-466e-9f68-99800c331db3",
   "metadata": {},
   "outputs": [],
   "source": [
    "# add columns to dataset from extraction\n",
    "test['heart_rate'] = hr_list[-len(cad_soup):]\n",
    "test['cadence'] = cad_list"
   ]
  },
  {
   "cell_type": "code",
   "execution_count": 25,
   "id": "b1771900-87ba-4df0-a6f3-b823a8a71d73",
   "metadata": {},
   "outputs": [
    {
     "data": {
      "text/html": [
       "<div>\n",
       "<style scoped>\n",
       "    .dataframe tbody tr th:only-of-type {\n",
       "        vertical-align: middle;\n",
       "    }\n",
       "\n",
       "    .dataframe tbody tr th {\n",
       "        vertical-align: top;\n",
       "    }\n",
       "\n",
       "    .dataframe thead th {\n",
       "        text-align: right;\n",
       "    }\n",
       "</style>\n",
       "<table border=\"1\" class=\"dataframe\">\n",
       "  <thead>\n",
       "    <tr style=\"text-align: right;\">\n",
       "      <th></th>\n",
       "      <th>timestamp</th>\n",
       "      <th>latitude</th>\n",
       "      <th>longitude</th>\n",
       "      <th>elevation</th>\n",
       "      <th>heart_rate</th>\n",
       "      <th>cadence</th>\n",
       "    </tr>\n",
       "  </thead>\n",
       "  <tbody>\n",
       "    <tr>\n",
       "      <th>3</th>\n",
       "      <td>2022-08-06 20:32:03+00:00</td>\n",
       "      <td>38.631716</td>\n",
       "      <td>-121.237873</td>\n",
       "      <td>30.799999</td>\n",
       "      <td>83</td>\n",
       "      <td>84</td>\n",
       "    </tr>\n",
       "    <tr>\n",
       "      <th>4</th>\n",
       "      <td>2022-08-06 20:32:04+00:00</td>\n",
       "      <td>38.631710</td>\n",
       "      <td>-121.237949</td>\n",
       "      <td>30.200001</td>\n",
       "      <td>82</td>\n",
       "      <td>82</td>\n",
       "    </tr>\n",
       "    <tr>\n",
       "      <th>5</th>\n",
       "      <td>2022-08-06 20:32:08+00:00</td>\n",
       "      <td>38.631667</td>\n",
       "      <td>-121.238385</td>\n",
       "      <td>31.000000</td>\n",
       "      <td>81</td>\n",
       "      <td>80</td>\n",
       "    </tr>\n",
       "    <tr>\n",
       "      <th>6</th>\n",
       "      <td>2022-08-06 20:32:11+00:00</td>\n",
       "      <td>38.631642</td>\n",
       "      <td>-121.238631</td>\n",
       "      <td>31.000000</td>\n",
       "      <td>84</td>\n",
       "      <td>80</td>\n",
       "    </tr>\n",
       "    <tr>\n",
       "      <th>7</th>\n",
       "      <td>2022-08-06 20:32:14+00:00</td>\n",
       "      <td>38.631620</td>\n",
       "      <td>-121.238877</td>\n",
       "      <td>31.000000</td>\n",
       "      <td>83</td>\n",
       "      <td>78</td>\n",
       "    </tr>\n",
       "  </tbody>\n",
       "</table>\n",
       "</div>"
      ],
      "text/plain": [
       "                  timestamp   latitude   longitude  elevation heart_rate  \\\n",
       "3 2022-08-06 20:32:03+00:00  38.631716 -121.237873  30.799999         83   \n",
       "4 2022-08-06 20:32:04+00:00  38.631710 -121.237949  30.200001         82   \n",
       "5 2022-08-06 20:32:08+00:00  38.631667 -121.238385  31.000000         81   \n",
       "6 2022-08-06 20:32:11+00:00  38.631642 -121.238631  31.000000         84   \n",
       "7 2022-08-06 20:32:14+00:00  38.631620 -121.238877  31.000000         83   \n",
       "\n",
       "  cadence  \n",
       "3      84  \n",
       "4      82  \n",
       "5      80  \n",
       "6      80  \n",
       "7      78  "
      ]
     },
     "execution_count": 25,
     "metadata": {},
     "output_type": "execute_result"
    }
   ],
   "source": [
    "test.head()"
   ]
  },
  {
   "cell_type": "markdown",
   "id": "dacf1ad4-2363-4cb0-a751-1500cb85adaa",
   "metadata": {
    "tags": []
   },
   "source": [
    "## Create Bearing Column"
   ]
  },
  {
   "cell_type": "code",
   "execution_count": 26,
   "id": "3450d960-1ce0-4a8c-85bf-f6caf59c04f8",
   "metadata": {},
   "outputs": [],
   "source": [
    "def get_bearing(lat1, lat2, long1, long2):\n",
    "    brng = Geodesic.WGS84.Inverse(lat1, long1, lat2, long2)['azi1']\n",
    "    return brng"
   ]
  },
  {
   "cell_type": "code",
   "execution_count": 27,
   "id": "75cddf15-8f26-417d-8248-b64c896e5d4f",
   "metadata": {},
   "outputs": [
    {
     "data": {
      "text/plain": [
       "-24.017929532262528"
      ]
     },
     "execution_count": 27,
     "metadata": {},
     "output_type": "execute_result"
    }
   ],
   "source": [
    "get_bearing(38.773795, 38.773860, -121.363652, -121.363689)"
   ]
  },
  {
   "cell_type": "code",
   "execution_count": 28,
   "id": "35188cd9-48cd-4426-b8b6-8eca7cffce1f",
   "metadata": {},
   "outputs": [],
   "source": [
    "test['bearing'] = 0\n",
    "for i in range(1, len(test)):\n",
    "    lat1 = test.latitude.iloc[i-1]\n",
    "    lat2 = test.latitude.iloc[i]\n",
    "    long1 = test.longitude.iloc[i-1]\n",
    "    long2 = test.longitude.iloc[i]\n",
    "    bearing = get_bearing(lat1, lat2, long1, long2)\n",
    "    # https://stats.stackexchange.com/questions/283572/using-iloc-to-set-values\n",
    "    test.bearing.iloc[[i]] = bearing"
   ]
  },
  {
   "cell_type": "code",
   "execution_count": 29,
   "id": "aa25a606-746c-4dce-a27e-81bcda343d6a",
   "metadata": {},
   "outputs": [],
   "source": [
    "#test.head(10)"
   ]
  },
  {
   "cell_type": "markdown",
   "id": "ab707cc4-8774-4e87-8a4b-b8e9055dfb85",
   "metadata": {
    "tags": []
   },
   "source": [
    "## Create Distance Column"
   ]
  },
  {
   "cell_type": "code",
   "execution_count": 30,
   "id": "aca924ea-1aa3-44f9-a031-7acc3bcefe4c",
   "metadata": {},
   "outputs": [],
   "source": [
    "test['lat_lon'] = [(lat, lon) for lat, lon in zip(test['latitude'], test['longitude'])]"
   ]
  },
  {
   "cell_type": "code",
   "execution_count": 31,
   "id": "9bdac4b5-90b0-400d-abc6-b05a15e437cb",
   "metadata": {},
   "outputs": [],
   "source": [
    "test['dist_diff_km'] = 0\n",
    "for i in range(1, len(test)-1):\n",
    "    loc1 = test.iloc[i]['lat_lon']\n",
    "    loc2 = test.iloc[i-1]['lat_lon']\n",
    "    test.at[i, 'dist_diff_km'] = hs.haversine(loc1, loc2) # kilometers\n",
    "test['total_dist_km'] = test['dist_diff_km'].cumsum(skipna = True)"
   ]
  },
  {
   "cell_type": "code",
   "execution_count": 32,
   "id": "658f813c-3b0d-4d75-8880-ab164c8b6043",
   "metadata": {},
   "outputs": [
    {
     "data": {
      "text/html": [
       "<div>\n",
       "<style scoped>\n",
       "    .dataframe tbody tr th:only-of-type {\n",
       "        vertical-align: middle;\n",
       "    }\n",
       "\n",
       "    .dataframe tbody tr th {\n",
       "        vertical-align: top;\n",
       "    }\n",
       "\n",
       "    .dataframe thead th {\n",
       "        text-align: right;\n",
       "    }\n",
       "</style>\n",
       "<table border=\"1\" class=\"dataframe\">\n",
       "  <thead>\n",
       "    <tr style=\"text-align: right;\">\n",
       "      <th></th>\n",
       "      <th>timestamp</th>\n",
       "      <th>latitude</th>\n",
       "      <th>longitude</th>\n",
       "      <th>elevation</th>\n",
       "      <th>heart_rate</th>\n",
       "      <th>cadence</th>\n",
       "      <th>bearing</th>\n",
       "      <th>lat_lon</th>\n",
       "      <th>dist_diff_km</th>\n",
       "      <th>total_dist_km</th>\n",
       "    </tr>\n",
       "  </thead>\n",
       "  <tbody>\n",
       "    <tr>\n",
       "      <th>3</th>\n",
       "      <td>2022-08-06 20:32:03+00:00</td>\n",
       "      <td>38.631716</td>\n",
       "      <td>-121.237873</td>\n",
       "      <td>30.799999</td>\n",
       "      <td>83</td>\n",
       "      <td>84</td>\n",
       "      <td>0.000000</td>\n",
       "      <td>(38.631715876981616, -121.237873127684)</td>\n",
       "      <td>0.021534</td>\n",
       "      <td>0.021534</td>\n",
       "    </tr>\n",
       "    <tr>\n",
       "      <th>4</th>\n",
       "      <td>2022-08-06 20:32:04+00:00</td>\n",
       "      <td>38.631710</td>\n",
       "      <td>-121.237949</td>\n",
       "      <td>30.200001</td>\n",
       "      <td>82</td>\n",
       "      <td>82</td>\n",
       "      <td>-95.964326</td>\n",
       "      <td>(38.63170967437327, -121.23794881626964)</td>\n",
       "      <td>0.021527</td>\n",
       "      <td>0.043061</td>\n",
       "    </tr>\n",
       "    <tr>\n",
       "      <th>5</th>\n",
       "      <td>2022-08-06 20:32:08+00:00</td>\n",
       "      <td>38.631667</td>\n",
       "      <td>-121.238385</td>\n",
       "      <td>31.000000</td>\n",
       "      <td>81</td>\n",
       "      <td>80</td>\n",
       "      <td>-97.059499</td>\n",
       "      <td>(38.63166726194322, -121.23838542960584)</td>\n",
       "      <td>0.027186</td>\n",
       "      <td>0.070247</td>\n",
       "    </tr>\n",
       "    <tr>\n",
       "      <th>6</th>\n",
       "      <td>2022-08-06 20:32:11+00:00</td>\n",
       "      <td>38.631642</td>\n",
       "      <td>-121.238631</td>\n",
       "      <td>31.000000</td>\n",
       "      <td>84</td>\n",
       "      <td>80</td>\n",
       "      <td>-97.380397</td>\n",
       "      <td>(38.63164228387177, -121.23863127082586)</td>\n",
       "      <td>0.020846</td>\n",
       "      <td>0.091092</td>\n",
       "    </tr>\n",
       "    <tr>\n",
       "      <th>7</th>\n",
       "      <td>2022-08-06 20:32:14+00:00</td>\n",
       "      <td>38.631620</td>\n",
       "      <td>-121.238877</td>\n",
       "      <td>31.000000</td>\n",
       "      <td>83</td>\n",
       "      <td>78</td>\n",
       "      <td>-96.586353</td>\n",
       "      <td>(38.631619988009334, -121.23887744732201)</td>\n",
       "      <td>0.006680</td>\n",
       "      <td>0.097772</td>\n",
       "    </tr>\n",
       "    <tr>\n",
       "      <th>...</th>\n",
       "      <td>...</td>\n",
       "      <td>...</td>\n",
       "      <td>...</td>\n",
       "      <td>...</td>\n",
       "      <td>...</td>\n",
       "      <td>...</td>\n",
       "      <td>...</td>\n",
       "      <td>...</td>\n",
       "      <td>...</td>\n",
       "      <td>...</td>\n",
       "    </tr>\n",
       "    <tr>\n",
       "      <th>2219</th>\n",
       "      <td>2022-08-06 23:08:35+00:00</td>\n",
       "      <td>38.631991</td>\n",
       "      <td>-121.229837</td>\n",
       "      <td>49.200001</td>\n",
       "      <td>162</td>\n",
       "      <td>0</td>\n",
       "      <td>115.803567</td>\n",
       "      <td>(38.63199113868177, -121.22983697801828)</td>\n",
       "      <td>0.000661</td>\n",
       "      <td>50.070298</td>\n",
       "    </tr>\n",
       "    <tr>\n",
       "      <th>2220</th>\n",
       "      <td>2022-08-06 23:08:41+00:00</td>\n",
       "      <td>38.631968</td>\n",
       "      <td>-121.229655</td>\n",
       "      <td>49.400002</td>\n",
       "      <td>160</td>\n",
       "      <td>3</td>\n",
       "      <td>99.354210</td>\n",
       "      <td>(38.63196766935289, -121.22965534217656)</td>\n",
       "      <td>0.000000</td>\n",
       "      <td>50.070298</td>\n",
       "    </tr>\n",
       "    <tr>\n",
       "      <th>2221</th>\n",
       "      <td>2022-08-06 23:08:45+00:00</td>\n",
       "      <td>38.631964</td>\n",
       "      <td>-121.229644</td>\n",
       "      <td>48.599998</td>\n",
       "      <td>158</td>\n",
       "      <td>3</td>\n",
       "      <td>109.087663</td>\n",
       "      <td>(38.631964484229684, -121.22964360751212)</td>\n",
       "      <td>0.000000</td>\n",
       "      <td>50.070298</td>\n",
       "    </tr>\n",
       "    <tr>\n",
       "      <th>2222</th>\n",
       "      <td>2022-08-06 23:08:48+00:00</td>\n",
       "      <td>38.631960</td>\n",
       "      <td>-121.229639</td>\n",
       "      <td>48.000000</td>\n",
       "      <td>157</td>\n",
       "      <td>0</td>\n",
       "      <td>143.383900</td>\n",
       "      <td>(38.631959706544876, -121.2296390812844)</td>\n",
       "      <td>0.000000</td>\n",
       "      <td>50.070298</td>\n",
       "    </tr>\n",
       "    <tr>\n",
       "      <th>2223</th>\n",
       "      <td>2022-08-06 23:08:51+00:00</td>\n",
       "      <td>38.631960</td>\n",
       "      <td>-121.229639</td>\n",
       "      <td>47.799999</td>\n",
       "      <td>156</td>\n",
       "      <td>0</td>\n",
       "      <td>180.000000</td>\n",
       "      <td>(38.631959706544876, -121.2296390812844)</td>\n",
       "      <td>0.000000</td>\n",
       "      <td>50.070298</td>\n",
       "    </tr>\n",
       "  </tbody>\n",
       "</table>\n",
       "<p>2221 rows × 10 columns</p>\n",
       "</div>"
      ],
      "text/plain": [
       "                     timestamp   latitude   longitude  elevation heart_rate  \\\n",
       "3    2022-08-06 20:32:03+00:00  38.631716 -121.237873  30.799999         83   \n",
       "4    2022-08-06 20:32:04+00:00  38.631710 -121.237949  30.200001         82   \n",
       "5    2022-08-06 20:32:08+00:00  38.631667 -121.238385  31.000000         81   \n",
       "6    2022-08-06 20:32:11+00:00  38.631642 -121.238631  31.000000         84   \n",
       "7    2022-08-06 20:32:14+00:00  38.631620 -121.238877  31.000000         83   \n",
       "...                        ...        ...         ...        ...        ...   \n",
       "2219 2022-08-06 23:08:35+00:00  38.631991 -121.229837  49.200001        162   \n",
       "2220 2022-08-06 23:08:41+00:00  38.631968 -121.229655  49.400002        160   \n",
       "2221 2022-08-06 23:08:45+00:00  38.631964 -121.229644  48.599998        158   \n",
       "2222 2022-08-06 23:08:48+00:00  38.631960 -121.229639  48.000000        157   \n",
       "2223 2022-08-06 23:08:51+00:00  38.631960 -121.229639  47.799999        156   \n",
       "\n",
       "     cadence     bearing                                    lat_lon  \\\n",
       "3         84    0.000000    (38.631715876981616, -121.237873127684)   \n",
       "4         82  -95.964326   (38.63170967437327, -121.23794881626964)   \n",
       "5         80  -97.059499   (38.63166726194322, -121.23838542960584)   \n",
       "6         80  -97.380397   (38.63164228387177, -121.23863127082586)   \n",
       "7         78  -96.586353  (38.631619988009334, -121.23887744732201)   \n",
       "...      ...         ...                                        ...   \n",
       "2219       0  115.803567   (38.63199113868177, -121.22983697801828)   \n",
       "2220       3   99.354210   (38.63196766935289, -121.22965534217656)   \n",
       "2221       3  109.087663  (38.631964484229684, -121.22964360751212)   \n",
       "2222       0  143.383900   (38.631959706544876, -121.2296390812844)   \n",
       "2223       0  180.000000   (38.631959706544876, -121.2296390812844)   \n",
       "\n",
       "      dist_diff_km  total_dist_km  \n",
       "3         0.021534       0.021534  \n",
       "4         0.021527       0.043061  \n",
       "5         0.027186       0.070247  \n",
       "6         0.020846       0.091092  \n",
       "7         0.006680       0.097772  \n",
       "...            ...            ...  \n",
       "2219      0.000661      50.070298  \n",
       "2220      0.000000      50.070298  \n",
       "2221      0.000000      50.070298  \n",
       "2222      0.000000      50.070298  \n",
       "2223      0.000000      50.070298  \n",
       "\n",
       "[2221 rows x 10 columns]"
      ]
     },
     "execution_count": 32,
     "metadata": {},
     "output_type": "execute_result"
    }
   ],
   "source": [
    "test.dropna(inplace = True)\n",
    "test"
   ]
  },
  {
   "cell_type": "code",
   "execution_count": 33,
   "id": "d1aecd48-0ff8-46f3-beb9-47c1d9e9985a",
   "metadata": {},
   "outputs": [
    {
     "name": "stdout",
     "output_type": "stream",
     "text": [
      "File: ../data/sandbox/a_1728.gpx\n",
      "Tracks: 1\n",
      "No. of Track Points: 2224\n"
     ]
    }
   ],
   "source": [
    "test = gpx_to_df('../data/sandbox/a_1728.gpx')"
   ]
  },
  {
   "cell_type": "code",
   "execution_count": 34,
   "id": "dc7b0f80-4f85-4515-8902-e13f67786428",
   "metadata": {},
   "outputs": [],
   "source": [
    "test.to_csv('../data/sandbox/a_1728.csv', index = False)"
   ]
  },
  {
   "cell_type": "markdown",
   "id": "4c73d432-c321-4493-aa6b-de443a114f33",
   "metadata": {
    "tags": []
   },
   "source": [
    "# Plot"
   ]
  },
  {
   "cell_type": "code",
   "execution_count": 35,
   "id": "f73b2591-8264-46ac-bf52-e549ecfef46c",
   "metadata": {},
   "outputs": [
    {
     "data": {
      "text/plain": [
       "<Figure size 1152x576 with 0 Axes>"
      ]
     },
     "metadata": {},
     "output_type": "display_data"
    },
    {
     "data": {
      "image/png": "[encoded data removed]",
      "text/plain": [
       "<Figure size 1499.88x720 with 1 Axes>"
      ]
     },
     "metadata": {
      "needs_background": "light"
     },
     "output_type": "display_data"
    }
   ],
   "source": [
    "# Use the 'hue' argument to provide a factor variable\n",
    "plt.figure(figsize = (16, 8))\n",
    "sns.lmplot( x=\"longitude\", y=\"latitude\", data=test, fit_reg=False, \n",
    "           hue='heart_rate', \n",
    "           palette = 'viridis', \n",
    "           height = 10, aspect = 2)\n",
    "\n",
    "plt.show();"
   ]
  },
  {
   "cell_type": "code",
   "execution_count": null,
   "id": "399ac438-a161-4a11-b9da-f473b856cb02",
   "metadata": {},
   "outputs": [],
   "source": []
  },
  {
   "cell_type": "code",
   "execution_count": null,
   "id": "e6e57f8f-45a5-47fd-a3da-d01a5021de98",
   "metadata": {},
   "outputs": [],
   "source": []
  },
  {
   "cell_type": "code",
   "execution_count": null,
   "id": "0ef762e7-6852-465b-8c27-445d7f0e6024",
   "metadata": {},
   "outputs": [],
   "source": []
  },
  {
   "cell_type": "code",
   "execution_count": null,
   "id": "c920085f-c54d-4e6e-a7b4-c584667b83cb",
   "metadata": {},
   "outputs": [],
   "source": []
  },
  {
   "cell_type": "code",
   "execution_count": null,
   "id": "55059f60-922b-4351-8d12-60ff76eead09",
   "metadata": {},
   "outputs": [],
   "source": []
  }
 ],
 "metadata": {
  "kernelspec": {
   "display_name": "Python 3 (ipykernel)",
   "language": "python",
   "name": "python3"
  },
  "language_info": {
   "codemirror_mode": {
    "name": "ipython",
    "version": 3
   },
   "file_extension": ".py",
   "mimetype": "text/x-python",
   "name": "python",
   "nbconvert_exporter": "python",
   "pygments_lexer": "ipython3",
   "version": "3.9.12"
  }
 },
 "nbformat": 4,
 "nbformat_minor": 5
}
