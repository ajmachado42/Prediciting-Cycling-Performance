{
 "cells": [
  {
   "cell_type": "markdown",
   "id": "83aa7e12-e796-439e-9ff4-7b0960c02eb9",
   "metadata": {},
   "source": [
    "# GARMIN GPX FILE FOR TARGET HEART RATE & CYCLING VARIABLES\n",
    "---\n",
    "---"
   ]
  },
  {
   "cell_type": "code",
   "execution_count": 1,
   "id": "d5a7aa60-7e4f-4c03-8063-35cee811a33e",
   "metadata": {},
   "outputs": [],
   "source": [
    "# Lesson 5.02 Webscraping\n",
    "# https://towardsdatascience.com/data-science-for-cycling-how-to-read-gpx-strava-routes-with-python-e45714d5da23\n",
    "# https://stackoverflow.com/questions/54873868/python-calculate-bearing-between-two-lat-long\n",
    "# https://geographiclib.sourceforge.io/html/python/code.html#geographiclib.geodesic.Geodesic.AZIMUTH\n",
    "# https://www.python-graph-gallery.com/43-use-categorical-variable-to-color-scatterplot-seaborn"
   ]
  },
  {
   "cell_type": "markdown",
   "id": "b4ecdd5e-aa80-46d5-9e2a-46470983d2f3",
   "metadata": {
    "tags": []
   },
   "source": [
    "# Imports\n",
    "---"
   ]
  },
  {
   "cell_type": "code",
   "execution_count": 2,
   "id": "40c90764-cfdc-462e-900c-199d7911e408",
   "metadata": {},
   "outputs": [],
   "source": [
    "import pandas as pd\n",
    "from pandas import json_normalize\n",
    "import numpy as np\n",
    "import seaborn as sns\n",
    "import matplotlib.pyplot as plt\n",
    "from datetime import datetime\n",
    "\n",
    "# https://towardsdatascience.com/data-science-for-cycling-how-to-read-gpx-strava-routes-with-python-e45714d5da23\n",
    "import gpxpy\n",
    "import gpxpy.gpx\n",
    "\n",
    "# Lesson 5.02\n",
    "from bs4 import BeautifulSoup\n",
    "import lxml\n",
    "\n",
    "# https://stackoverflow.com/questions/54873868/python-calculate-bearing-between-two-lat-long\n",
    "from geographiclib.geodesic import Geodesic\n",
    "\n",
    "# for distance calculations\n",
    "import haversine as hs\n",
    "\n",
    "%matplotlib inline\n",
    "pd.set_option('display.max_columns', None)\n",
    "\n",
    "import warnings\n",
    "warnings.simplefilter(\"ignore\")"
   ]
  },
  {
   "cell_type": "markdown",
   "id": "d733b1f4-411b-434a-a2b3-733c27bdd5b0",
   "metadata": {
    "tags": []
   },
   "source": [
    "# Function: gpx_to_df()\n",
    "---"
   ]
  },
  {
   "cell_type": "code",
   "execution_count": 3,
   "id": "f22bc642-e1e3-4762-95ee-b6dffa3a6297",
   "metadata": {},
   "outputs": [],
   "source": [
    "def gpx_to_df(filepath):\n",
    "    \n",
    "    # Open .gpx file and parse xml\n",
    "    with open(filepath, 'r') as gpx_file:\n",
    "        gpx = gpxpy.parse(gpx_file)\n",
    "        \n",
    "    # check length of tracks\n",
    "    print(f'Tracks: {len(gpx.tracks)}')\n",
    "    # check number of data points\n",
    "    print(f'No. of Track Points: {gpx.get_track_points_no()}')\n",
    "    \n",
    "    # extract timestamp, lat, lon, and elevation from gpx file\n",
    "    route_info = []\n",
    "\n",
    "    for track in gpx.tracks:\n",
    "        for segment in track.segments:\n",
    "            for point in segment.points:\n",
    "                route_info.append({\n",
    "                    'timestamp': point.time,\n",
    "                    'latitude': point.latitude,\n",
    "                    'longitude': point.longitude,\n",
    "                    'elevation': point.elevation,\n",
    "                })\n",
    "    \n",
    "    # create dataframe\n",
    "    route_df = pd.DataFrame(route_info)\n",
    "    \n",
    "    #######################\n",
    "    # HEART RATE AND CADENCE\n",
    "    # add extension data with beautifulsoup\n",
    "    xml = gpx.to_xml()\n",
    "    soup = BeautifulSoup(xml, features = 'xml')\n",
    "    \n",
    "    # Use Beautiful Soup to find all heart rate and cadence\n",
    "    hr_soup = soup.find_all('ns3:hr')\n",
    "    cad_soup = soup.find_all('ns3:cad')\n",
    "    \n",
    "    # chop off early points from index - accounts for before cadence sensor calibration\n",
    "    route_df = route_df[-len(cad_soup):]\n",
    "\n",
    "    # for loop to extract heart rate and cadence values from each point\n",
    "    hr_list = []\n",
    "    cad_list = []\n",
    "    for i in hr_soup:\n",
    "        # https://stackoverflow.com/questions/69420686/bs4-element-resultset-elements-to-a-list\n",
    "        hr_list.append(i.get_text(strip = True))\n",
    "\n",
    "    for j in cad_soup:\n",
    "        cad_list.append(j.get_text(strip = True))\n",
    "\n",
    "    # add columns to dataset from extraction\n",
    "    route_df['heart_rate'] = hr_list[-len(cad_soup):]\n",
    "    route_df['cadence'] = cad_list\n",
    "    \n",
    "    #######################\n",
    "    # BEARING\n",
    "    # get_bearing function\n",
    "    def get_bearing(lat1, lat2, long1, long2):\n",
    "        brng = Geodesic.WGS84.Inverse(lat1, long1, lat2, long2)['azi1']\n",
    "        return brng\n",
    "    \n",
    "    # assign bearing in df\n",
    "    route_df['bearing'] = 0\n",
    "    for i in range(1, len(a_885)):\n",
    "        lat1 = route_df.latitude.iloc[i-1]\n",
    "        lat2 = route_df.latitude.iloc[i]\n",
    "        long1 = route_df.longitude.iloc[i-1]\n",
    "        long2 = route_df.longitude.iloc[i]\n",
    "        bearing = get_bearing(lat1, lat2, long1, long2)\n",
    "        # https://stats.stackexchange.com/questions/283572/using-iloc-to-set-values\n",
    "        route_df.bearing.iloc[[i]] = bearing\n",
    "    \n",
    "    ########################    \n",
    "    # ELAPSED TIME - SECONDS\n",
    "    route_df['timestamp'] = pd.to_datetime(route_df['timestamp'])\n",
    "    route_df['time_diff_s'] = 0\n",
    "    for i in range(1, len(route_df)-1):\n",
    "        t1 = route_df.iloc[i]['timestamp']\n",
    "        t2 = route_df.iloc[i-1]['timestamp']\n",
    "        # https://www.geeksforgeeks.org/how-to-set-cell-value-in-pandas-dataframe/\n",
    "        route_df.at[i, 'time_diff_s'] = (t1 - t2).seconds\n",
    "    route_df['total_time_s'] = route_df['time_diff_s'].cumsum(skipna = True)\n",
    "    \n",
    "    #######################\n",
    "    # ELEVATION CHANGE \n",
    "    route_df['ele_diff'] = 0\n",
    "    for i in range(1, len(route_df)-1):\n",
    "        e1 = route_df.iloc[i]['elevation']\n",
    "        e2 = route_df.iloc[i-1]['elevation']\n",
    "        route_df.at[i, 'ele_diff'] = (e1 - e2)\n",
    "    route_df['total_ele_change'] = route_df['ele_diff'].cumsum(skipna = True)\n",
    "    \n",
    "    #######################\n",
    "    # DISTANCE - KILOMETERS\n",
    "    route_df['lat_lon'] = [(lat, lon) for lat, lon in zip(route_df['latitude'], route_df['longitude'])]\n",
    "    route_df['dist_diff_km'] = 0\n",
    "    for i in range(1, len(route_df)-1):\n",
    "        loc1 = route_df.iloc[i]['lat_lon']\n",
    "        loc2 = route_df.iloc[i-1]['lat_lon']\n",
    "        route_df.at[i, 'dist_diff_km'] = hs.haversine(loc1, loc2) # kilometers\n",
    "    route_df['total_dist_km'] = route_df['dist_diff_km'].cumsum(skipna = True)\n",
    "   \n",
    "    #######################\n",
    "    route_df.reset_index(drop = True, inplace = True)\n",
    "    \n",
    "    return route_df"
   ]
  },
  {
   "cell_type": "markdown",
   "id": "ed7f306d-3314-4dbf-9ce9-5777d1216763",
   "metadata": {
    "tags": []
   },
   "source": [
    "# Function: Build Out of gpx_to_df()\n",
    "---"
   ]
  },
  {
   "cell_type": "markdown",
   "id": "28a50a58-7d42-4db7-a85e-e9191f0471ba",
   "metadata": {
    "tags": []
   },
   "source": [
    "## Garmin GPX File"
   ]
  },
  {
   "cell_type": "code",
   "execution_count": 4,
   "id": "474a8828-440b-4dc6-8b63-f3f673080697",
   "metadata": {},
   "outputs": [],
   "source": [
    "# Open .gpx file and parse xml\n",
    "with open('../data/testing/activity_9305828885.gpx', 'r') as gpx_file:\n",
    "    gpx = gpxpy.parse(gpx_file)"
   ]
  },
  {
   "cell_type": "code",
   "execution_count": 5,
   "id": "a7638954-a014-464b-8bc6-242b33b9e2ba",
   "metadata": {},
   "outputs": [],
   "source": [
    "plt.rcParams['axes.spines.top'] = False\n",
    "plt.rcParams['axes.spines.right'] = False"
   ]
  },
  {
   "cell_type": "code",
   "execution_count": 6,
   "id": "07e2c952-30da-48b8-afef-d738663ec43e",
   "metadata": {},
   "outputs": [
    {
     "name": "stdout",
     "output_type": "stream",
     "text": [
      "Tracks: 1\n",
      "No. of Track Points: 1333\n"
     ]
    }
   ],
   "source": [
    "# check length of tracks\n",
    "print(f'Tracks: {len(gpx.tracks)}')\n",
    "# check number of data points\n",
    "print(f'No. of Track Points: {gpx.get_track_points_no()}')"
   ]
  },
  {
   "cell_type": "code",
   "execution_count": 7,
   "id": "e4bdfe25-5a88-43c2-b069-095b93327913",
   "metadata": {},
   "outputs": [
    {
     "data": {
      "text/plain": [
       "MovingData(moving_time=4591.0, stopped_time=601.0, moving_distance=27617.552711962377, stopped_distance=24.779016778381447, max_speed=49.9794491353225)"
      ]
     },
     "execution_count": 7,
     "metadata": {},
     "output_type": "execute_result"
    }
   ],
   "source": [
    "# explore\n",
    "moving_data = gpx.get_moving_data(raw=True)\n",
    "moving_data"
   ]
  },
  {
   "cell_type": "code",
   "execution_count": 8,
   "id": "9d804207-7e41-4c7d-ba3b-fa1524393655",
   "metadata": {},
   "outputs": [
    {
     "data": {
      "text/plain": [
       "UphillDownhill(uphill=140.3600003242493, downhill=139.56000108718894)"
      ]
     },
     "execution_count": 8,
     "metadata": {},
     "output_type": "execute_result"
    }
   ],
   "source": [
    "gpx.get_uphill_downhill()"
   ]
  },
  {
   "cell_type": "code",
   "execution_count": 9,
   "id": "7ed115a2-4580-480b-9bce-2dd1571c92eb",
   "metadata": {},
   "outputs": [
    {
     "data": {
      "text/plain": [
       "[]"
      ]
     },
     "execution_count": 9,
     "metadata": {},
     "output_type": "execute_result"
    }
   ],
   "source": [
    "gpx.extensions"
   ]
  },
  {
   "cell_type": "markdown",
   "id": "213573b0-0c64-4e3d-ab2a-be9003da6c91",
   "metadata": {
    "tags": []
   },
   "source": [
    "### Pull Dataset from GPX"
   ]
  },
  {
   "cell_type": "code",
   "execution_count": 10,
   "id": "789728e5-aa45-4a0a-88a7-d3ec2956f2da",
   "metadata": {},
   "outputs": [],
   "source": [
    "# check out .gpx file as xml\n",
    "# gpx.to_xml()[:2000]"
   ]
  },
  {
   "cell_type": "code",
   "execution_count": 11,
   "id": "9749059c-a3e1-4e9d-b89d-71034a0236f0",
   "metadata": {},
   "outputs": [],
   "source": [
    "# extract timestamp, lat, lon, and elevation from gpx file\n",
    "a_885_info = []\n",
    "\n",
    "for track in gpx.tracks:\n",
    "    for segment in track.segments:\n",
    "        for point in segment.points:\n",
    "            a_885_info.append({\n",
    "                'timestamp': point.time,\n",
    "                'latitude': point.latitude,\n",
    "                'longitude': point.longitude,\n",
    "                'elevation': point.elevation,\n",
    "            })"
   ]
  },
  {
   "cell_type": "code",
   "execution_count": 12,
   "id": "d84a9562-d638-4734-ad77-056c81f03354",
   "metadata": {},
   "outputs": [],
   "source": [
    "a_885 = pd.DataFrame(a_885_info)"
   ]
  },
  {
   "cell_type": "code",
   "execution_count": 13,
   "id": "e7cdcefb-4759-469a-8d19-b757d7e53f5a",
   "metadata": {},
   "outputs": [
    {
     "data": {
      "text/html": [
       "<div>\n",
       "<style scoped>\n",
       "    .dataframe tbody tr th:only-of-type {\n",
       "        vertical-align: middle;\n",
       "    }\n",
       "\n",
       "    .dataframe tbody tr th {\n",
       "        vertical-align: top;\n",
       "    }\n",
       "\n",
       "    .dataframe thead th {\n",
       "        text-align: right;\n",
       "    }\n",
       "</style>\n",
       "<table border=\"1\" class=\"dataframe\">\n",
       "  <thead>\n",
       "    <tr style=\"text-align: right;\">\n",
       "      <th></th>\n",
       "      <th>timestamp</th>\n",
       "      <th>latitude</th>\n",
       "      <th>longitude</th>\n",
       "      <th>elevation</th>\n",
       "    </tr>\n",
       "  </thead>\n",
       "  <tbody>\n",
       "    <tr>\n",
       "      <th>0</th>\n",
       "      <td>2022-07-30 19:29:44+00:00</td>\n",
       "      <td>38.773742</td>\n",
       "      <td>-121.363474</td>\n",
       "      <td>35.200001</td>\n",
       "    </tr>\n",
       "    <tr>\n",
       "      <th>1</th>\n",
       "      <td>2022-07-30 19:29:45+00:00</td>\n",
       "      <td>38.773660</td>\n",
       "      <td>-121.364041</td>\n",
       "      <td>35.000000</td>\n",
       "    </tr>\n",
       "    <tr>\n",
       "      <th>2</th>\n",
       "      <td>2022-07-30 19:29:49+00:00</td>\n",
       "      <td>38.773795</td>\n",
       "      <td>-121.363652</td>\n",
       "      <td>35.000000</td>\n",
       "    </tr>\n",
       "    <tr>\n",
       "      <th>3</th>\n",
       "      <td>2022-07-30 19:29:51+00:00</td>\n",
       "      <td>38.773860</td>\n",
       "      <td>-121.363689</td>\n",
       "      <td>35.000000</td>\n",
       "    </tr>\n",
       "    <tr>\n",
       "      <th>4</th>\n",
       "      <td>2022-07-30 19:29:53+00:00</td>\n",
       "      <td>38.773917</td>\n",
       "      <td>-121.363619</td>\n",
       "      <td>35.000000</td>\n",
       "    </tr>\n",
       "  </tbody>\n",
       "</table>\n",
       "</div>"
      ],
      "text/plain": [
       "                  timestamp   latitude   longitude  elevation\n",
       "0 2022-07-30 19:29:44+00:00  38.773742 -121.363474  35.200001\n",
       "1 2022-07-30 19:29:45+00:00  38.773660 -121.364041  35.000000\n",
       "2 2022-07-30 19:29:49+00:00  38.773795 -121.363652  35.000000\n",
       "3 2022-07-30 19:29:51+00:00  38.773860 -121.363689  35.000000\n",
       "4 2022-07-30 19:29:53+00:00  38.773917 -121.363619  35.000000"
      ]
     },
     "execution_count": 13,
     "metadata": {},
     "output_type": "execute_result"
    }
   ],
   "source": [
    "a_885.head()"
   ]
  },
  {
   "cell_type": "markdown",
   "id": "6581c779-d137-40b9-85d4-c3102f25dd5b",
   "metadata": {
    "jp-MarkdownHeadingCollapsed": true,
    "tags": []
   },
   "source": [
    "## BeautifulSoup for Extension Data - heartrate, cadence"
   ]
  },
  {
   "cell_type": "code",
   "execution_count": 14,
   "id": "542c0067-a202-4cd0-934e-1d6e49e1ac6a",
   "metadata": {},
   "outputs": [],
   "source": [
    "xml = gpx.to_xml()\n",
    "soup = BeautifulSoup(xml, features = 'xml')"
   ]
  },
  {
   "cell_type": "code",
   "execution_count": 15,
   "id": "32983986-2bfa-4b17-b42e-5a3ca8ff30a8",
   "metadata": {},
   "outputs": [],
   "source": [
    "time_soup = soup.find_all('time')\n",
    "hr_soup = soup.find_all('ns3:hr')\n",
    "cad_soup = soup.find_all('ns3:cad')"
   ]
  },
  {
   "cell_type": "code",
   "execution_count": 16,
   "id": "709084ea-6a6e-458b-978a-12a1843945fa",
   "metadata": {},
   "outputs": [],
   "source": [
    "# type(time_soup)"
   ]
  },
  {
   "cell_type": "code",
   "execution_count": 17,
   "id": "d84751e1-e6cb-4854-8b52-b8b15937dd68",
   "metadata": {},
   "outputs": [],
   "source": [
    "# len(time_soup)"
   ]
  },
  {
   "cell_type": "code",
   "execution_count": 18,
   "id": "2cb899c7-3d39-44cd-9875-dde769ff619a",
   "metadata": {},
   "outputs": [],
   "source": [
    "# type(hr_soup)"
   ]
  },
  {
   "cell_type": "code",
   "execution_count": 19,
   "id": "f0cce6ee-fa18-4ce1-8845-cee372043f74",
   "metadata": {},
   "outputs": [],
   "source": [
    "# len(hr_soup)"
   ]
  },
  {
   "cell_type": "code",
   "execution_count": 20,
   "id": "3ce36c4b-0714-4d80-bc6e-b79c1392c496",
   "metadata": {},
   "outputs": [],
   "source": [
    "# len(soup.find_all('ns3:hr')[-len(cad_soup):])"
   ]
  },
  {
   "cell_type": "code",
   "execution_count": 21,
   "id": "14ce3a2e-d2d3-450e-b559-0b9e4caa6e5e",
   "metadata": {},
   "outputs": [],
   "source": [
    "# len(cad_soup)"
   ]
  },
  {
   "cell_type": "code",
   "execution_count": 22,
   "id": "c356890a-62d8-4e38-bd4d-7d46df3ee3f2",
   "metadata": {},
   "outputs": [],
   "source": [
    "# len(route_df)"
   ]
  },
  {
   "cell_type": "code",
   "execution_count": 23,
   "id": "43c29b83-682f-49b0-8259-78035dcf212d",
   "metadata": {},
   "outputs": [
    {
     "ename": "NameError",
     "evalue": "name 'route_df' is not defined",
     "output_type": "error",
     "traceback": [
      "\u001b[0;31m---------------------------------------------------------------------------\u001b[0m",
      "\u001b[0;31mNameError\u001b[0m                                 Traceback (most recent call last)",
      "Input \u001b[0;32mIn [23]\u001b[0m, in \u001b[0;36m<cell line: 2>\u001b[0;34m()\u001b[0m\n\u001b[1;32m      1\u001b[0m \u001b[38;5;66;03m# chop off early points from index - accounts for before cadence sensor calibration\u001b[39;00m\n\u001b[0;32m----> 2\u001b[0m route_df \u001b[38;5;241m=\u001b[39m \u001b[43mroute_df\u001b[49m[\u001b[38;5;241m-\u001b[39m\u001b[38;5;28mlen\u001b[39m(cad_soup):]\n\u001b[1;32m      4\u001b[0m \u001b[38;5;66;03m# for loop to extract heart rate and cadence values from each point\u001b[39;00m\n\u001b[1;32m      5\u001b[0m hr_list \u001b[38;5;241m=\u001b[39m []\n",
      "\u001b[0;31mNameError\u001b[0m: name 'route_df' is not defined"
     ]
    }
   ],
   "source": [
    "# chop off early points from index - accounts for before cadence sensor calibration\n",
    "route_df = route_df[-len(cad_soup):]\n",
    "\n",
    "# for loop to extract heart rate and cadence values from each point\n",
    "hr_list = []\n",
    "cad_list = []\n",
    "for i in hr_soup:\n",
    "    hr_list.append(i.get_text(strip = True))\n",
    "    \n",
    "for j in cad_soup:\n",
    "    cad_list.append(j.get_text(strip = True))"
   ]
  },
  {
   "cell_type": "code",
   "execution_count": null,
   "id": "779a8b45-fdbc-466e-9f68-99800c331db3",
   "metadata": {},
   "outputs": [],
   "source": [
    "# add columns to dataset from extraction\n",
    "route_df['heart_rate'] = hr_list[-len(cad_soup):]\n",
    "route_df['cadence'] = cad_list"
   ]
  },
  {
   "cell_type": "code",
   "execution_count": null,
   "id": "1d6cef80-b01b-43ab-8a99-c0944e572400",
   "metadata": {},
   "outputs": [],
   "source": [
    "# route_df['cadence'].value_counts()"
   ]
  },
  {
   "cell_type": "code",
   "execution_count": null,
   "id": "84f8b10d-9cbf-48c1-bdd8-057f8d318e2c",
   "metadata": {},
   "outputs": [],
   "source": [
    "a_885 = gpx_to_df('../data/testing/activity_9305828885.gpx')"
   ]
  },
  {
   "cell_type": "code",
   "execution_count": null,
   "id": "d9f04d00-21e4-4bf0-a02a-196f485e0731",
   "metadata": {},
   "outputs": [],
   "source": [
    "# a_885.tail(12)"
   ]
  },
  {
   "cell_type": "markdown",
   "id": "c3eee752-1ad1-4760-8b4a-ed745a97c3fe",
   "metadata": {},
   "source": [
    "### Beautiful Soup"
   ]
  },
  {
   "cell_type": "code",
   "execution_count": 24,
   "id": "214c5346-b564-4e41-9f40-85780fe20651",
   "metadata": {},
   "outputs": [],
   "source": [
    "xml = gpx.to_xml()\n",
    "soup = BeautifulSoup(xml, features = 'xml')\n",
    "\n",
    "# Use Beautiful Soup to find all heart rate and cadence\n",
    "hr_soup = soup.find_all('ns3:hr')\n",
    "cad_soup = soup.find_all('ns3:cad')\n",
    "\n",
    "# chop off early points from index - accounts for before cadence sensor calibration\n",
    "a_885 = a_885[-len(cad_soup):]\n",
    "\n",
    "# for loop to extract heart rate and cadence values from each point\n",
    "hr_list = []\n",
    "cad_list = []\n",
    "for i in hr_soup:\n",
    "    # https://stackoverflow.com/questions/69420686/bs4-element-resultset-elements-to-a-list\n",
    "    hr_list.append(i.get_text(strip = True))\n",
    "\n",
    "for j in cad_soup:\n",
    "    cad_list.append(j.get_text(strip = True))\n",
    "\n",
    "# add columns to dataset from extraction\n",
    "a_885['heart_rate'] = hr_list[-len(cad_soup):]\n",
    "a_885['cadence'] = cad_list"
   ]
  },
  {
   "cell_type": "markdown",
   "id": "dacf1ad4-2363-4cb0-a751-1500cb85adaa",
   "metadata": {
    "tags": []
   },
   "source": [
    "## Create Bearing Column"
   ]
  },
  {
   "cell_type": "code",
   "execution_count": 25,
   "id": "3450d960-1ce0-4a8c-85bf-f6caf59c04f8",
   "metadata": {},
   "outputs": [],
   "source": [
    "def get_bearing(lat1, lat2, long1, long2):\n",
    "    brng = Geodesic.WGS84.Inverse(lat1, long1, lat2, long2)['azi1']\n",
    "    return brng"
   ]
  },
  {
   "cell_type": "code",
   "execution_count": 26,
   "id": "75cddf15-8f26-417d-8248-b64c896e5d4f",
   "metadata": {},
   "outputs": [
    {
     "data": {
      "text/plain": [
       "-24.017929532262528"
      ]
     },
     "execution_count": 26,
     "metadata": {},
     "output_type": "execute_result"
    }
   ],
   "source": [
    "get_bearing(38.773795, 38.773860, -121.363652, -121.363689)"
   ]
  },
  {
   "cell_type": "code",
   "execution_count": 27,
   "id": "35188cd9-48cd-4426-b8b6-8eca7cffce1f",
   "metadata": {},
   "outputs": [],
   "source": [
    "a_885['bearing'] = 0\n",
    "for i in range(1, len(a_885)):\n",
    "    lat1 = a_885.latitude.iloc[i-1]\n",
    "    lat2 = a_885.latitude.iloc[i]\n",
    "    long1 = a_885.longitude.iloc[i-1]\n",
    "    long2 = a_885.longitude.iloc[i]\n",
    "    bearing = get_bearing(lat1, lat2, long1, long2)\n",
    "    # https://stats.stackexchange.com/questions/283572/using-iloc-to-set-values\n",
    "    a_885.bearing.iloc[[i]] = bearing"
   ]
  },
  {
   "cell_type": "code",
   "execution_count": 28,
   "id": "aa25a606-746c-4dce-a27e-81bcda343d6a",
   "metadata": {},
   "outputs": [],
   "source": [
    "#a_885.head(10)"
   ]
  },
  {
   "cell_type": "markdown",
   "id": "ab707cc4-8774-4e87-8a4b-b8e9055dfb85",
   "metadata": {
    "tags": []
   },
   "source": [
    "## Create Distance Column"
   ]
  },
  {
   "cell_type": "code",
   "execution_count": 29,
   "id": "aca924ea-1aa3-44f9-a031-7acc3bcefe4c",
   "metadata": {},
   "outputs": [],
   "source": [
    "a_885['lat_lon'] = [(lat, lon) for lat, lon in zip(a_885['latitude'], a_885['longitude'])]"
   ]
  },
  {
   "cell_type": "code",
   "execution_count": 30,
   "id": "9bdac4b5-90b0-400d-abc6-b05a15e437cb",
   "metadata": {},
   "outputs": [],
   "source": [
    "a_885['dist_diff_km'] = 0\n",
    "for i in range(1, len(a_885)-1):\n",
    "    loc1 = a_885.iloc[i]['lat_lon']\n",
    "    loc2 = a_885.iloc[i-1]['lat_lon']\n",
    "    a_885.at[i, 'dist_diff_km'] = hs.haversine(loc1, loc2) # kilometers\n",
    "a_885['total_dist_km'] = a_885['dist_diff_km'].cumsum(skipna = True)"
   ]
  },
  {
   "cell_type": "code",
   "execution_count": 31,
   "id": "658f813c-3b0d-4d75-8880-ab164c8b6043",
   "metadata": {},
   "outputs": [
    {
     "data": {
      "text/html": [
       "<div>\n",
       "<style scoped>\n",
       "    .dataframe tbody tr th:only-of-type {\n",
       "        vertical-align: middle;\n",
       "    }\n",
       "\n",
       "    .dataframe tbody tr th {\n",
       "        vertical-align: top;\n",
       "    }\n",
       "\n",
       "    .dataframe thead th {\n",
       "        text-align: right;\n",
       "    }\n",
       "</style>\n",
       "<table border=\"1\" class=\"dataframe\">\n",
       "  <thead>\n",
       "    <tr style=\"text-align: right;\">\n",
       "      <th></th>\n",
       "      <th>timestamp</th>\n",
       "      <th>latitude</th>\n",
       "      <th>longitude</th>\n",
       "      <th>elevation</th>\n",
       "      <th>heart_rate</th>\n",
       "      <th>cadence</th>\n",
       "      <th>bearing</th>\n",
       "      <th>lat_lon</th>\n",
       "      <th>dist_diff_km</th>\n",
       "      <th>total_dist_km</th>\n",
       "    </tr>\n",
       "  </thead>\n",
       "  <tbody>\n",
       "    <tr>\n",
       "      <th>2</th>\n",
       "      <td>2022-07-30 19:29:49+00:00</td>\n",
       "      <td>38.773795</td>\n",
       "      <td>-121.363652</td>\n",
       "      <td>35.000000</td>\n",
       "      <td>92</td>\n",
       "      <td>0</td>\n",
       "      <td>0.000000</td>\n",
       "      <td>(38.77379475161433, -121.36365221813321)</td>\n",
       "      <td>0.008786</td>\n",
       "      <td>0.008786</td>\n",
       "    </tr>\n",
       "    <tr>\n",
       "      <th>3</th>\n",
       "      <td>2022-07-30 19:29:51+00:00</td>\n",
       "      <td>38.773860</td>\n",
       "      <td>-121.363689</td>\n",
       "      <td>35.000000</td>\n",
       "      <td>93</td>\n",
       "      <td>0</td>\n",
       "      <td>-23.894707</td>\n",
       "      <td>(38.7738602142781, -121.36368926614523)</td>\n",
       "      <td>0.015130</td>\n",
       "      <td>0.023915</td>\n",
       "    </tr>\n",
       "    <tr>\n",
       "      <th>4</th>\n",
       "      <td>2022-07-30 19:29:53+00:00</td>\n",
       "      <td>38.773917</td>\n",
       "      <td>-121.363619</td>\n",
       "      <td>35.000000</td>\n",
       "      <td>94</td>\n",
       "      <td>0</td>\n",
       "      <td>44.123442</td>\n",
       "      <td>(38.773917043581605, -121.36361885815859)</td>\n",
       "      <td>0.021351</td>\n",
       "      <td>0.045267</td>\n",
       "    </tr>\n",
       "    <tr>\n",
       "      <th>5</th>\n",
       "      <td>2022-07-30 19:29:57+00:00</td>\n",
       "      <td>38.774025</td>\n",
       "      <td>-121.363512</td>\n",
       "      <td>35.000000</td>\n",
       "      <td>95</td>\n",
       "      <td>0</td>\n",
       "      <td>37.663356</td>\n",
       "      <td>(38.77402491867542, -121.36351249180734)</td>\n",
       "      <td>0.015712</td>\n",
       "      <td>0.060979</td>\n",
       "    </tr>\n",
       "    <tr>\n",
       "      <th>6</th>\n",
       "      <td>2022-07-30 19:30:03+00:00</td>\n",
       "      <td>38.774181</td>\n",
       "      <td>-121.363370</td>\n",
       "      <td>34.799999</td>\n",
       "      <td>98</td>\n",
       "      <td>0</td>\n",
       "      <td>35.482394</td>\n",
       "      <td>(38.77418149262667, -121.3633699156344)</td>\n",
       "      <td>0.019371</td>\n",
       "      <td>0.080350</td>\n",
       "    </tr>\n",
       "    <tr>\n",
       "      <th>...</th>\n",
       "      <td>...</td>\n",
       "      <td>...</td>\n",
       "      <td>...</td>\n",
       "      <td>...</td>\n",
       "      <td>...</td>\n",
       "      <td>...</td>\n",
       "      <td>...</td>\n",
       "      <td>...</td>\n",
       "      <td>...</td>\n",
       "      <td>...</td>\n",
       "    </tr>\n",
       "    <tr>\n",
       "      <th>1329</th>\n",
       "      <td>2022-07-30 20:56:14+00:00</td>\n",
       "      <td>38.773811</td>\n",
       "      <td>-121.363648</td>\n",
       "      <td>36.200001</td>\n",
       "      <td>131</td>\n",
       "      <td>0</td>\n",
       "      <td>-152.925202</td>\n",
       "      <td>(38.77381084486842, -121.36364785954356)</td>\n",
       "      <td>0.002527</td>\n",
       "      <td>27.503481</td>\n",
       "    </tr>\n",
       "    <tr>\n",
       "      <th>1330</th>\n",
       "      <td>2022-07-30 20:56:15+00:00</td>\n",
       "      <td>38.773788</td>\n",
       "      <td>-121.363646</td>\n",
       "      <td>36.200001</td>\n",
       "      <td>128</td>\n",
       "      <td>0</td>\n",
       "      <td>176.846923</td>\n",
       "      <td>(38.77378821372986, -121.36364626698196)</td>\n",
       "      <td>0.000000</td>\n",
       "      <td>27.503481</td>\n",
       "    </tr>\n",
       "    <tr>\n",
       "      <th>1331</th>\n",
       "      <td>2022-07-30 20:56:18+00:00</td>\n",
       "      <td>38.773766</td>\n",
       "      <td>-121.363642</td>\n",
       "      <td>36.000000</td>\n",
       "      <td>126</td>\n",
       "      <td>0</td>\n",
       "      <td>171.199836</td>\n",
       "      <td>(38.77376575022936, -121.36364182457328)</td>\n",
       "      <td>0.000000</td>\n",
       "      <td>27.503481</td>\n",
       "    </tr>\n",
       "    <tr>\n",
       "      <th>1332</th>\n",
       "      <td>2022-07-30 20:56:19+00:00</td>\n",
       "      <td>38.773766</td>\n",
       "      <td>-121.363642</td>\n",
       "      <td>36.000000</td>\n",
       "      <td>126</td>\n",
       "      <td>0</td>\n",
       "      <td>180.000000</td>\n",
       "      <td>(38.77376575022936, -121.36364182457328)</td>\n",
       "      <td>0.000000</td>\n",
       "      <td>27.503481</td>\n",
       "    </tr>\n",
       "    <tr>\n",
       "      <th>1</th>\n",
       "      <td>NaT</td>\n",
       "      <td>NaN</td>\n",
       "      <td>NaN</td>\n",
       "      <td>NaN</td>\n",
       "      <td>NaN</td>\n",
       "      <td>NaN</td>\n",
       "      <td>NaN</td>\n",
       "      <td>NaN</td>\n",
       "      <td>0.007956</td>\n",
       "      <td>27.511437</td>\n",
       "    </tr>\n",
       "  </tbody>\n",
       "</table>\n",
       "<p>1332 rows × 10 columns</p>\n",
       "</div>"
      ],
      "text/plain": [
       "                     timestamp   latitude   longitude  elevation heart_rate  \\\n",
       "2    2022-07-30 19:29:49+00:00  38.773795 -121.363652  35.000000         92   \n",
       "3    2022-07-30 19:29:51+00:00  38.773860 -121.363689  35.000000         93   \n",
       "4    2022-07-30 19:29:53+00:00  38.773917 -121.363619  35.000000         94   \n",
       "5    2022-07-30 19:29:57+00:00  38.774025 -121.363512  35.000000         95   \n",
       "6    2022-07-30 19:30:03+00:00  38.774181 -121.363370  34.799999         98   \n",
       "...                        ...        ...         ...        ...        ...   \n",
       "1329 2022-07-30 20:56:14+00:00  38.773811 -121.363648  36.200001        131   \n",
       "1330 2022-07-30 20:56:15+00:00  38.773788 -121.363646  36.200001        128   \n",
       "1331 2022-07-30 20:56:18+00:00  38.773766 -121.363642  36.000000        126   \n",
       "1332 2022-07-30 20:56:19+00:00  38.773766 -121.363642  36.000000        126   \n",
       "1                          NaT        NaN         NaN        NaN        NaN   \n",
       "\n",
       "     cadence     bearing                                    lat_lon  \\\n",
       "2          0    0.000000   (38.77379475161433, -121.36365221813321)   \n",
       "3          0  -23.894707    (38.7738602142781, -121.36368926614523)   \n",
       "4          0   44.123442  (38.773917043581605, -121.36361885815859)   \n",
       "5          0   37.663356   (38.77402491867542, -121.36351249180734)   \n",
       "6          0   35.482394    (38.77418149262667, -121.3633699156344)   \n",
       "...      ...         ...                                        ...   \n",
       "1329       0 -152.925202   (38.77381084486842, -121.36364785954356)   \n",
       "1330       0  176.846923   (38.77378821372986, -121.36364626698196)   \n",
       "1331       0  171.199836   (38.77376575022936, -121.36364182457328)   \n",
       "1332       0  180.000000   (38.77376575022936, -121.36364182457328)   \n",
       "1        NaN         NaN                                        NaN   \n",
       "\n",
       "      dist_diff_km  total_dist_km  \n",
       "2         0.008786       0.008786  \n",
       "3         0.015130       0.023915  \n",
       "4         0.021351       0.045267  \n",
       "5         0.015712       0.060979  \n",
       "6         0.019371       0.080350  \n",
       "...            ...            ...  \n",
       "1329      0.002527      27.503481  \n",
       "1330      0.000000      27.503481  \n",
       "1331      0.000000      27.503481  \n",
       "1332      0.000000      27.503481  \n",
       "1         0.007956      27.511437  \n",
       "\n",
       "[1332 rows x 10 columns]"
      ]
     },
     "execution_count": 31,
     "metadata": {},
     "output_type": "execute_result"
    }
   ],
   "source": [
    "a_885"
   ]
  },
  {
   "cell_type": "markdown",
   "id": "4c73d432-c321-4493-aa6b-de443a114f33",
   "metadata": {},
   "source": [
    "# Plot"
   ]
  },
  {
   "cell_type": "code",
   "execution_count": 35,
   "id": "f73b2591-8264-46ac-bf52-e549ecfef46c",
   "metadata": {},
   "outputs": [
    {
     "data": {
      "text/plain": [
       "<Figure size 1152x576 with 0 Axes>"
      ]
     },
     "metadata": {},
     "output_type": "display_data"
    },
    {
     "data": {
      "image/png": "[encoded data removed]",
      "text/plain": [
       "<Figure size 1499.88x720 with 1 Axes>"
      ]
     },
     "metadata": {
      "needs_background": "light"
     },
     "output_type": "display_data"
    }
   ],
   "source": [
    "# Use the 'hue' argument to provide a factor variable\n",
    "plt.figure(figsize = (16, 8))\n",
    "sns.lmplot( x=\"longitude\", y=\"latitude\", data=a_885, fit_reg=False, \n",
    "           hue='heart_rate', \n",
    "           palette = 'viridis', \n",
    "           height = 10, aspect = 2)\n",
    " \n",
    "# Move the legend to an empty part of the plot\n",
    "# plt.legend(loc='lower right')\n",
    "\n",
    "plt.show();"
   ]
  },
  {
   "cell_type": "code",
   "execution_count": null,
   "id": "399ac438-a161-4a11-b9da-f473b856cb02",
   "metadata": {},
   "outputs": [],
   "source": []
  },
  {
   "cell_type": "code",
   "execution_count": null,
   "id": "e6e57f8f-45a5-47fd-a3da-d01a5021de98",
   "metadata": {},
   "outputs": [],
   "source": []
  },
  {
   "cell_type": "code",
   "execution_count": null,
   "id": "0ef762e7-6852-465b-8c27-445d7f0e6024",
   "metadata": {},
   "outputs": [],
   "source": []
  },
  {
   "cell_type": "code",
   "execution_count": null,
   "id": "c920085f-c54d-4e6e-a7b4-c584667b83cb",
   "metadata": {},
   "outputs": [],
   "source": []
  },
  {
   "cell_type": "code",
   "execution_count": null,
   "id": "55059f60-922b-4351-8d12-60ff76eead09",
   "metadata": {},
   "outputs": [],
   "source": []
  }
 ],
 "metadata": {
  "kernelspec": {
   "display_name": "Python 3 (ipykernel)",
   "language": "python",
   "name": "python3"
  },
  "language_info": {
   "codemirror_mode": {
    "name": "ipython",
    "version": 3
   },
   "file_extension": ".py",
   "mimetype": "text/x-python",
   "name": "python",
   "nbconvert_exporter": "python",
   "pygments_lexer": "ipython3",
   "version": "3.9.12"
  }
 },
 "nbformat": 4,
 "nbformat_minor": 5
}
