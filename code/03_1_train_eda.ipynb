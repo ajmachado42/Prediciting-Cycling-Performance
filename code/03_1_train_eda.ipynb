{
 "cells": [
  {
   "cell_type": "markdown",
   "id": "68a67239-e8a7-443c-8127-d25139e294a1",
   "metadata": {},
   "source": [
    "# TRAIN SET EDA\n",
    "---\n",
    "---"
   ]
  },
  {
   "cell_type": "markdown",
   "id": "bf5e98de-26cb-4b87-9b08-81a680633dd8",
   "metadata": {},
   "source": [
    "# Imports"
   ]
  },
  {
   "cell_type": "code",
   "execution_count": 1,
   "id": "f732dcb2-80cc-4fdc-96d4-7e6d68451291",
   "metadata": {},
   "outputs": [],
   "source": [
    "import pandas as pd\n",
    "import numpy as np\n",
    "import seaborn as sns\n",
    "import matplotlib.pyplot as plt\n",
    "import folium\n",
    "%matplotlib inline\n",
    "pd.set_option('display.max_columns', None)\n",
    "import warnings\n",
    "warnings.simplefilter(\"ignore\")"
   ]
  },
  {
   "cell_type": "code",
   "execution_count": 2,
   "id": "565ed0d7-4b46-4b0f-bbc6-0eefa291c644",
   "metadata": {},
   "outputs": [],
   "source": [
    "a_df = pd.read_csv('../data/average/a_df.csv')\n",
    "h_df = pd.read_csv('../data/high/h_df.csv')"
   ]
  },
  {
   "cell_type": "markdown",
   "id": "30ac149d-f93e-4b61-9308-077bfd20ae8a",
   "metadata": {},
   "source": [
    "# Functions"
   ]
  },
  {
   "cell_type": "code",
   "execution_count": 26,
   "id": "7acd3013-3abd-4f6b-be31-bca06dfef8e6",
   "metadata": {},
   "outputs": [],
   "source": [
    "def to_hist(df, column):\n",
    "    \n",
    "    plt.figure(figsize = (8,6))\n",
    "    sns.distplot( a=df[column], hist=True, kde=False, rug=False)\n",
    "    plt.xlabel(f'{column}')\n",
    "    plt.ylabel('count')\n",
    "    \n",
    "    return plt.plot()"
   ]
  },
  {
   "cell_type": "markdown",
   "id": "05bb6f83-a2ae-4147-9582-9904a61daaa9",
   "metadata": {},
   "source": [
    "# Average Cycling EDA (< 30 miles/week)"
   ]
  },
  {
   "cell_type": "code",
   "execution_count": 27,
   "id": "846bb34b-074a-4804-aa06-101447d70845",
   "metadata": {},
   "outputs": [
    {
     "data": {
      "text/plain": [
       "Index(['timestamp', 'latitude', 'longitude', 'elevation', 'dt', 'heart_rate',\n",
       "       'bearing', 'time_diff_s', 'total_time_s', 'ele_diff_m',\n",
       "       'total_ele_change_m', 'lat_lon', 'dist_diff_km', 'total_dist_km',\n",
       "       'temp', 'feels_like', 'pressure', 'humidity', 'dew_point', 'clouds',\n",
       "       'wind_speed', 'wind_deg'],\n",
       "      dtype='object')"
      ]
     },
     "execution_count": 27,
     "metadata": {},
     "output_type": "execute_result"
    }
   ],
   "source": [
    "a_df.columns"
   ]
  },
  {
   "cell_type": "code",
   "execution_count": 29,
   "id": "e7da4c0f-10ce-4f0d-9457-bbb4f7a38076",
   "metadata": {},
   "outputs": [],
   "source": [
    "# a_df.isnull().sum()"
   ]
  },
  {
   "cell_type": "code",
   "execution_count": 32,
   "id": "42f23254-cbba-458c-b6f0-9a82f54086f6",
   "metadata": {},
   "outputs": [
    {
     "data": {
      "text/html": [
       "<div>\n",
       "<style scoped>\n",
       "    .dataframe tbody tr th:only-of-type {\n",
       "        vertical-align: middle;\n",
       "    }\n",
       "\n",
       "    .dataframe tbody tr th {\n",
       "        vertical-align: top;\n",
       "    }\n",
       "\n",
       "    .dataframe thead th {\n",
       "        text-align: right;\n",
       "    }\n",
       "</style>\n",
       "<table border=\"1\" class=\"dataframe\">\n",
       "  <thead>\n",
       "    <tr style=\"text-align: right;\">\n",
       "      <th></th>\n",
       "      <th>latitude</th>\n",
       "      <th>longitude</th>\n",
       "      <th>elevation</th>\n",
       "      <th>heart_rate</th>\n",
       "      <th>bearing</th>\n",
       "      <th>time_diff_s</th>\n",
       "      <th>total_time_s</th>\n",
       "      <th>ele_diff_m</th>\n",
       "      <th>total_ele_change_m</th>\n",
       "      <th>dist_diff_km</th>\n",
       "      <th>total_dist_km</th>\n",
       "      <th>temp</th>\n",
       "      <th>feels_like</th>\n",
       "      <th>pressure</th>\n",
       "      <th>humidity</th>\n",
       "      <th>dew_point</th>\n",
       "      <th>wind_speed</th>\n",
       "      <th>wind_deg</th>\n",
       "    </tr>\n",
       "  </thead>\n",
       "  <tbody>\n",
       "    <tr>\n",
       "      <th>count</th>\n",
       "      <td>15093.000000</td>\n",
       "      <td>15093.000000</td>\n",
       "      <td>15093.000000</td>\n",
       "      <td>15093.000000</td>\n",
       "      <td>15093.000000</td>\n",
       "      <td>15093.000000</td>\n",
       "      <td>15093.000000</td>\n",
       "      <td>15093.000000</td>\n",
       "      <td>15093.000000</td>\n",
       "      <td>15093.000000</td>\n",
       "      <td>15093.000000</td>\n",
       "      <td>15093.000000</td>\n",
       "      <td>15093.000000</td>\n",
       "      <td>15093.000000</td>\n",
       "      <td>15093.000000</td>\n",
       "      <td>15093.000000</td>\n",
       "      <td>15093.000000</td>\n",
       "      <td>15093.000000</td>\n",
       "    </tr>\n",
       "    <tr>\n",
       "      <th>mean</th>\n",
       "      <td>38.586889</td>\n",
       "      <td>-121.488046</td>\n",
       "      <td>45.852806</td>\n",
       "      <td>130.216524</td>\n",
       "      <td>-2.776795</td>\n",
       "      <td>4.615186</td>\n",
       "      <td>4321.134897</td>\n",
       "      <td>0.000040</td>\n",
       "      <td>15.606069</td>\n",
       "      <td>0.019487</td>\n",
       "      <td>16.800886</td>\n",
       "      <td>301.292206</td>\n",
       "      <td>300.979265</td>\n",
       "      <td>1012.618101</td>\n",
       "      <td>44.217651</td>\n",
       "      <td>287.081487</td>\n",
       "      <td>2.849349</td>\n",
       "      <td>201.724906</td>\n",
       "    </tr>\n",
       "    <tr>\n",
       "      <th>std</th>\n",
       "      <td>0.352987</td>\n",
       "      <td>0.415925</td>\n",
       "      <td>35.234763</td>\n",
       "      <td>22.326544</td>\n",
       "      <td>102.895403</td>\n",
       "      <td>34.527208</td>\n",
       "      <td>3928.332512</td>\n",
       "      <td>0.703347</td>\n",
       "      <td>36.065958</td>\n",
       "      <td>0.032462</td>\n",
       "      <td>12.365763</td>\n",
       "      <td>4.980350</td>\n",
       "      <td>4.871462</td>\n",
       "      <td>2.278902</td>\n",
       "      <td>15.954423</td>\n",
       "      <td>2.120303</td>\n",
       "      <td>1.763974</td>\n",
       "      <td>73.641993</td>\n",
       "    </tr>\n",
       "    <tr>\n",
       "      <th>min</th>\n",
       "      <td>37.764476</td>\n",
       "      <td>-122.511310</td>\n",
       "      <td>-12.600000</td>\n",
       "      <td>64.000000</td>\n",
       "      <td>-179.972185</td>\n",
       "      <td>0.000000</td>\n",
       "      <td>0.000000</td>\n",
       "      <td>-62.599997</td>\n",
       "      <td>-22.000000</td>\n",
       "      <td>0.000000</td>\n",
       "      <td>0.000000</td>\n",
       "      <td>290.890000</td>\n",
       "      <td>290.780000</td>\n",
       "      <td>1002.000000</td>\n",
       "      <td>19.000000</td>\n",
       "      <td>280.980000</td>\n",
       "      <td>0.450000</td>\n",
       "      <td>0.000000</td>\n",
       "    </tr>\n",
       "    <tr>\n",
       "      <th>25%</th>\n",
       "      <td>38.620566</td>\n",
       "      <td>-121.393815</td>\n",
       "      <td>24.799999</td>\n",
       "      <td>116.000000</td>\n",
       "      <td>-94.139953</td>\n",
       "      <td>1.000000</td>\n",
       "      <td>1210.000000</td>\n",
       "      <td>-0.200001</td>\n",
       "      <td>-7.000000</td>\n",
       "      <td>0.006800</td>\n",
       "      <td>6.500200</td>\n",
       "      <td>298.970000</td>\n",
       "      <td>298.570000</td>\n",
       "      <td>1011.000000</td>\n",
       "      <td>36.000000</td>\n",
       "      <td>285.660000</td>\n",
       "      <td>1.180000</td>\n",
       "      <td>170.000000</td>\n",
       "    </tr>\n",
       "    <tr>\n",
       "      <th>50%</th>\n",
       "      <td>38.772230</td>\n",
       "      <td>-121.363614</td>\n",
       "      <td>31.400000</td>\n",
       "      <td>134.000000</td>\n",
       "      <td>1.391347</td>\n",
       "      <td>3.000000</td>\n",
       "      <td>2929.000000</td>\n",
       "      <td>0.000000</td>\n",
       "      <td>-1.200000</td>\n",
       "      <td>0.013500</td>\n",
       "      <td>15.021000</td>\n",
       "      <td>302.920000</td>\n",
       "      <td>302.110000</td>\n",
       "      <td>1013.000000</td>\n",
       "      <td>40.000000</td>\n",
       "      <td>287.580000</td>\n",
       "      <td>3.090000</td>\n",
       "      <td>210.000000</td>\n",
       "    </tr>\n",
       "    <tr>\n",
       "      <th>75%</th>\n",
       "      <td>38.792374</td>\n",
       "      <td>-121.298207</td>\n",
       "      <td>48.599998</td>\n",
       "      <td>148.000000</td>\n",
       "      <td>86.604426</td>\n",
       "      <td>5.000000</td>\n",
       "      <td>6963.000000</td>\n",
       "      <td>0.200001</td>\n",
       "      <td>19.600000</td>\n",
       "      <td>0.026600</td>\n",
       "      <td>23.519800</td>\n",
       "      <td>304.510000</td>\n",
       "      <td>304.110000</td>\n",
       "      <td>1014.000000</td>\n",
       "      <td>44.000000</td>\n",
       "      <td>288.360000</td>\n",
       "      <td>4.020000</td>\n",
       "      <td>238.000000</td>\n",
       "    </tr>\n",
       "    <tr>\n",
       "      <th>max</th>\n",
       "      <td>38.804297</td>\n",
       "      <td>-121.143542</td>\n",
       "      <td>149.000000</td>\n",
       "      <td>173.000000</td>\n",
       "      <td>180.000000</td>\n",
       "      <td>3474.000000</td>\n",
       "      <td>17192.000000</td>\n",
       "      <td>4.200012</td>\n",
       "      <td>108.200000</td>\n",
       "      <td>3.466300</td>\n",
       "      <td>51.118300</td>\n",
       "      <td>311.310000</td>\n",
       "      <td>310.250000</td>\n",
       "      <td>1020.000000</td>\n",
       "      <td>85.000000</td>\n",
       "      <td>292.200000</td>\n",
       "      <td>8.490000</td>\n",
       "      <td>345.000000</td>\n",
       "    </tr>\n",
       "  </tbody>\n",
       "</table>\n",
       "</div>"
      ],
      "text/plain": [
       "           latitude     longitude     elevation    heart_rate       bearing  \\\n",
       "count  15093.000000  15093.000000  15093.000000  15093.000000  15093.000000   \n",
       "mean      38.586889   -121.488046     45.852806    130.216524     -2.776795   \n",
       "std        0.352987      0.415925     35.234763     22.326544    102.895403   \n",
       "min       37.764476   -122.511310    -12.600000     64.000000   -179.972185   \n",
       "25%       38.620566   -121.393815     24.799999    116.000000    -94.139953   \n",
       "50%       38.772230   -121.363614     31.400000    134.000000      1.391347   \n",
       "75%       38.792374   -121.298207     48.599998    148.000000     86.604426   \n",
       "max       38.804297   -121.143542    149.000000    173.000000    180.000000   \n",
       "\n",
       "        time_diff_s  total_time_s    ele_diff_m  total_ele_change_m  \\\n",
       "count  15093.000000  15093.000000  15093.000000        15093.000000   \n",
       "mean       4.615186   4321.134897      0.000040           15.606069   \n",
       "std       34.527208   3928.332512      0.703347           36.065958   \n",
       "min        0.000000      0.000000    -62.599997          -22.000000   \n",
       "25%        1.000000   1210.000000     -0.200001           -7.000000   \n",
       "50%        3.000000   2929.000000      0.000000           -1.200000   \n",
       "75%        5.000000   6963.000000      0.200001           19.600000   \n",
       "max     3474.000000  17192.000000      4.200012          108.200000   \n",
       "\n",
       "       dist_diff_km  total_dist_km          temp    feels_like      pressure  \\\n",
       "count  15093.000000   15093.000000  15093.000000  15093.000000  15093.000000   \n",
       "mean       0.019487      16.800886    301.292206    300.979265   1012.618101   \n",
       "std        0.032462      12.365763      4.980350      4.871462      2.278902   \n",
       "min        0.000000       0.000000    290.890000    290.780000   1002.000000   \n",
       "25%        0.006800       6.500200    298.970000    298.570000   1011.000000   \n",
       "50%        0.013500      15.021000    302.920000    302.110000   1013.000000   \n",
       "75%        0.026600      23.519800    304.510000    304.110000   1014.000000   \n",
       "max        3.466300      51.118300    311.310000    310.250000   1020.000000   \n",
       "\n",
       "           humidity     dew_point    wind_speed      wind_deg  \n",
       "count  15093.000000  15093.000000  15093.000000  15093.000000  \n",
       "mean      44.217651    287.081487      2.849349    201.724906  \n",
       "std       15.954423      2.120303      1.763974     73.641993  \n",
       "min       19.000000    280.980000      0.450000      0.000000  \n",
       "25%       36.000000    285.660000      1.180000    170.000000  \n",
       "50%       40.000000    287.580000      3.090000    210.000000  \n",
       "75%       44.000000    288.360000      4.020000    238.000000  \n",
       "max       85.000000    292.200000      8.490000    345.000000  "
      ]
     },
     "execution_count": 32,
     "metadata": {},
     "output_type": "execute_result"
    }
   ],
   "source": [
    "a_df.drop(columns = ['dt', 'clouds']).describe()"
   ]
  },
  {
   "cell_type": "code",
   "execution_count": 25,
   "id": "5584cd60-cd90-474f-a2c0-c7d70a8ea951",
   "metadata": {},
   "outputs": [
    {
     "data": {
      "image/png": "[encoded data removed]",
      "text/plain": [
       "<Figure size 576x432 with 1 Axes>"
      ]
     },
     "metadata": {
      "needs_background": "light"
     },
     "output_type": "display_data"
    }
   ],
   "source": [
    "to_hist(a_df, 'bearing');"
   ]
  },
  {
   "cell_type": "code",
   "execution_count": null,
   "id": "a3fee53c-19c7-4afd-9cd4-e5756d045d60",
   "metadata": {},
   "outputs": [],
   "source": []
  },
  {
   "cell_type": "code",
   "execution_count": null,
   "id": "95365b2c-4347-4345-b15c-b55b51aeb6dd",
   "metadata": {},
   "outputs": [],
   "source": []
  },
  {
   "cell_type": "code",
   "execution_count": null,
   "id": "a4def30d-aede-4149-ae7c-4c1397ee79d1",
   "metadata": {},
   "outputs": [],
   "source": []
  },
  {
   "cell_type": "code",
   "execution_count": null,
   "id": "e4d59b31-cacb-41d2-b78d-dc10857721e3",
   "metadata": {},
   "outputs": [],
   "source": []
  },
  {
   "cell_type": "code",
   "execution_count": null,
   "id": "3ef6d5c2-144b-4ae5-a1a3-c7d8afd3d651",
   "metadata": {},
   "outputs": [],
   "source": [
    "# https://www.python-graph-gallery.com/43-use-categorical-variable-to-color-scatterplot-seaborn\n",
    "# Use the 'hue' argument to provide a factor variable\n",
    "plt.figure(figsize = (16, 8))\n",
    "sns.lmplot( x=\"longitude\", y=\"latitude\", data=df, fit_reg=False, hue='heart_rate', palette = 'viridis', height = 10)\n",
    " \n",
    "# Move the legend to an empty part of the plot\n",
    "# plt.legend(loc='lower right')\n",
    "\n",
    "plt.show();"
   ]
  }
 ],
 "metadata": {
  "kernelspec": {
   "display_name": "Python 3 (ipykernel)",
   "language": "python",
   "name": "python3"
  },
  "language_info": {
   "codemirror_mode": {
    "name": "ipython",
    "version": 3
   },
   "file_extension": ".py",
   "mimetype": "text/x-python",
   "name": "python",
   "nbconvert_exporter": "python",
   "pygments_lexer": "ipython3",
   "version": "3.9.12"
  }
 },
 "nbformat": 4,
 "nbformat_minor": 5
}
