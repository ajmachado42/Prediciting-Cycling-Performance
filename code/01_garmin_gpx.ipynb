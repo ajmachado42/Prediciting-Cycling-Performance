{
 "cells": [
  {
   "cell_type": "markdown",
   "id": "b4ecdd5e-aa80-46d5-9e2a-46470983d2f3",
   "metadata": {},
   "source": [
    "# Imports"
   ]
  },
  {
   "cell_type": "code",
   "execution_count": 1,
   "id": "40c90764-cfdc-462e-900c-199d7911e408",
   "metadata": {},
   "outputs": [],
   "source": [
    "import pandas as pd\n",
    "from pandas import json_normalize\n",
    "import numpy as np\n",
    "import seaborn as sns\n",
    "import matplotlib.pyplot as plt\n",
    "from datetime import datetime\n",
    "\n",
    "# https://towardsdatascience.com/data-science-for-cycling-how-to-read-gpx-strava-routes-with-python-e45714d5da23\n",
    "import gpxpy\n",
    "import gpxpy.gpx\n",
    "\n",
    "# Lesson 5.02\n",
    "from bs4 import BeautifulSoup\n",
    "import lxml\n",
    "\n",
    "# https://stackoverflow.com/questions/54873868/python-calculate-bearing-between-two-lat-long\n",
    "from geographiclib.geodesic import Geodesic\n",
    "\n",
    "%matplotlib inline\n",
    "pd.set_option('display.max_columns', None)\n",
    "\n",
    "import warnings\n",
    "warnings.simplefilter(\"ignore\")"
   ]
  },
  {
   "cell_type": "markdown",
   "id": "ed7f306d-3314-4dbf-9ce9-5777d1216763",
   "metadata": {
    "tags": []
   },
   "source": [
    "# Function - Build Out - gpx_to_df()"
   ]
  },
  {
   "cell_type": "markdown",
   "id": "28a50a58-7d42-4db7-a85e-e9191f0471ba",
   "metadata": {
    "tags": []
   },
   "source": [
    "## Garmin .gpx File"
   ]
  },
  {
   "cell_type": "code",
   "execution_count": 2,
   "id": "474a8828-440b-4dc6-8b63-f3f673080697",
   "metadata": {},
   "outputs": [],
   "source": [
    "# Open .gpx file and parse xml\n",
    "with open('../data/activity_9305828885.gpx', 'r') as gpx_file:\n",
    "    gpx = gpxpy.parse(gpx_file)"
   ]
  },
  {
   "cell_type": "code",
   "execution_count": 3,
   "id": "a7638954-a014-464b-8bc6-242b33b9e2ba",
   "metadata": {},
   "outputs": [],
   "source": [
    "plt.rcParams['axes.spines.top'] = False\n",
    "plt.rcParams['axes.spines.right'] = False"
   ]
  },
  {
   "cell_type": "code",
   "execution_count": 4,
   "id": "07e2c952-30da-48b8-afef-d738663ec43e",
   "metadata": {},
   "outputs": [
    {
     "name": "stdout",
     "output_type": "stream",
     "text": [
      "Tracks: 1\n",
      "No. of Track Points: 1333\n"
     ]
    }
   ],
   "source": [
    "# check length of tracks\n",
    "print(f'Tracks: {len(gpx.tracks)}')\n",
    "# check number of data points\n",
    "print(f'No. of Track Points: {gpx.get_track_points_no()}')"
   ]
  },
  {
   "cell_type": "code",
   "execution_count": 5,
   "id": "e4bdfe25-5a88-43c2-b069-095b93327913",
   "metadata": {},
   "outputs": [
    {
     "data": {
      "text/plain": [
       "MovingData(moving_time=4591.0, stopped_time=601.0, moving_distance=27617.552711962377, stopped_distance=24.779016778381447, max_speed=49.9794491353225)"
      ]
     },
     "execution_count": 5,
     "metadata": {},
     "output_type": "execute_result"
    }
   ],
   "source": [
    "# explore\n",
    "moving_data = gpx.get_moving_data(raw=True)\n",
    "moving_data"
   ]
  },
  {
   "cell_type": "code",
   "execution_count": 6,
   "id": "9d804207-7e41-4c7d-ba3b-fa1524393655",
   "metadata": {},
   "outputs": [
    {
     "data": {
      "text/plain": [
       "UphillDownhill(uphill=140.3600003242493, downhill=139.56000108718894)"
      ]
     },
     "execution_count": 6,
     "metadata": {},
     "output_type": "execute_result"
    }
   ],
   "source": [
    "gpx.get_uphill_downhill()"
   ]
  },
  {
   "cell_type": "code",
   "execution_count": 7,
   "id": "7ed115a2-4580-480b-9bce-2dd1571c92eb",
   "metadata": {},
   "outputs": [
    {
     "data": {
      "text/plain": [
       "[]"
      ]
     },
     "execution_count": 7,
     "metadata": {},
     "output_type": "execute_result"
    }
   ],
   "source": [
    "gpx.extensions"
   ]
  },
  {
   "cell_type": "markdown",
   "id": "213573b0-0c64-4e3d-ab2a-be9003da6c91",
   "metadata": {
    "tags": []
   },
   "source": [
    "## Create Dataset"
   ]
  },
  {
   "cell_type": "code",
   "execution_count": 8,
   "id": "789728e5-aa45-4a0a-88a7-d3ec2956f2da",
   "metadata": {},
   "outputs": [],
   "source": [
    "# check out .gpx file as xml\n",
    "# gpx.to_xml()[:2000]"
   ]
  },
  {
   "cell_type": "code",
   "execution_count": 9,
   "id": "9749059c-a3e1-4e9d-b89d-71034a0236f0",
   "metadata": {},
   "outputs": [],
   "source": [
    "# extract timestamp, lat, lon, and elevation from gpx file\n",
    "route_info = []\n",
    "\n",
    "for track in gpx.tracks:\n",
    "    for segment in track.segments:\n",
    "        for point in segment.points:\n",
    "            route_info.append({\n",
    "                'timestamp': point.time,\n",
    "                'latitude': point.latitude,\n",
    "                'longitude': point.longitude,\n",
    "                'elevation': point.elevation,\n",
    "            })"
   ]
  },
  {
   "cell_type": "code",
   "execution_count": 10,
   "id": "d84a9562-d638-4734-ad77-056c81f03354",
   "metadata": {},
   "outputs": [],
   "source": [
    "route_df = pd.DataFrame(route_info)"
   ]
  },
  {
   "cell_type": "code",
   "execution_count": 11,
   "id": "e7cdcefb-4759-469a-8d19-b757d7e53f5a",
   "metadata": {},
   "outputs": [
    {
     "data": {
      "text/html": [
       "<div>\n",
       "<style scoped>\n",
       "    .dataframe tbody tr th:only-of-type {\n",
       "        vertical-align: middle;\n",
       "    }\n",
       "\n",
       "    .dataframe tbody tr th {\n",
       "        vertical-align: top;\n",
       "    }\n",
       "\n",
       "    .dataframe thead th {\n",
       "        text-align: right;\n",
       "    }\n",
       "</style>\n",
       "<table border=\"1\" class=\"dataframe\">\n",
       "  <thead>\n",
       "    <tr style=\"text-align: right;\">\n",
       "      <th></th>\n",
       "      <th>timestamp</th>\n",
       "      <th>latitude</th>\n",
       "      <th>longitude</th>\n",
       "      <th>elevation</th>\n",
       "    </tr>\n",
       "  </thead>\n",
       "  <tbody>\n",
       "    <tr>\n",
       "      <th>0</th>\n",
       "      <td>2022-07-30 19:29:44+00:00</td>\n",
       "      <td>38.773742</td>\n",
       "      <td>-121.363474</td>\n",
       "      <td>35.200001</td>\n",
       "    </tr>\n",
       "    <tr>\n",
       "      <th>1</th>\n",
       "      <td>2022-07-30 19:29:45+00:00</td>\n",
       "      <td>38.773660</td>\n",
       "      <td>-121.364041</td>\n",
       "      <td>35.000000</td>\n",
       "    </tr>\n",
       "    <tr>\n",
       "      <th>2</th>\n",
       "      <td>2022-07-30 19:29:49+00:00</td>\n",
       "      <td>38.773795</td>\n",
       "      <td>-121.363652</td>\n",
       "      <td>35.000000</td>\n",
       "    </tr>\n",
       "    <tr>\n",
       "      <th>3</th>\n",
       "      <td>2022-07-30 19:29:51+00:00</td>\n",
       "      <td>38.773860</td>\n",
       "      <td>-121.363689</td>\n",
       "      <td>35.000000</td>\n",
       "    </tr>\n",
       "    <tr>\n",
       "      <th>4</th>\n",
       "      <td>2022-07-30 19:29:53+00:00</td>\n",
       "      <td>38.773917</td>\n",
       "      <td>-121.363619</td>\n",
       "      <td>35.000000</td>\n",
       "    </tr>\n",
       "  </tbody>\n",
       "</table>\n",
       "</div>"
      ],
      "text/plain": [
       "                  timestamp   latitude   longitude  elevation\n",
       "0 2022-07-30 19:29:44+00:00  38.773742 -121.363474  35.200001\n",
       "1 2022-07-30 19:29:45+00:00  38.773660 -121.364041  35.000000\n",
       "2 2022-07-30 19:29:49+00:00  38.773795 -121.363652  35.000000\n",
       "3 2022-07-30 19:29:51+00:00  38.773860 -121.363689  35.000000\n",
       "4 2022-07-30 19:29:53+00:00  38.773917 -121.363619  35.000000"
      ]
     },
     "execution_count": 11,
     "metadata": {},
     "output_type": "execute_result"
    }
   ],
   "source": [
    "route_df.head()"
   ]
  },
  {
   "cell_type": "markdown",
   "id": "6581c779-d137-40b9-85d4-c3102f25dd5b",
   "metadata": {
    "tags": []
   },
   "source": [
    "## BeautifulSoup for Extension Data - heartrate, cadence"
   ]
  },
  {
   "cell_type": "code",
   "execution_count": 12,
   "id": "542c0067-a202-4cd0-934e-1d6e49e1ac6a",
   "metadata": {},
   "outputs": [],
   "source": [
    "xml = gpx.to_xml()\n",
    "soup = BeautifulSoup(xml, features = 'xml')"
   ]
  },
  {
   "cell_type": "code",
   "execution_count": 13,
   "id": "32983986-2bfa-4b17-b42e-5a3ca8ff30a8",
   "metadata": {},
   "outputs": [],
   "source": [
    "time_soup = soup.find_all('time')\n",
    "hr_soup = soup.find_all('ns3:hr')\n",
    "cad_soup = soup.find_all('ns3:cad')"
   ]
  },
  {
   "cell_type": "code",
   "execution_count": 14,
   "id": "709084ea-6a6e-458b-978a-12a1843945fa",
   "metadata": {},
   "outputs": [
    {
     "data": {
      "text/plain": [
       "bs4.element.ResultSet"
      ]
     },
     "execution_count": 14,
     "metadata": {},
     "output_type": "execute_result"
    }
   ],
   "source": [
    "type(time_soup)"
   ]
  },
  {
   "cell_type": "code",
   "execution_count": 15,
   "id": "d84751e1-e6cb-4854-8b52-b8b15937dd68",
   "metadata": {},
   "outputs": [
    {
     "data": {
      "text/plain": [
       "1334"
      ]
     },
     "execution_count": 15,
     "metadata": {},
     "output_type": "execute_result"
    }
   ],
   "source": [
    "len(time_soup)"
   ]
  },
  {
   "cell_type": "code",
   "execution_count": 16,
   "id": "2cb899c7-3d39-44cd-9875-dde769ff619a",
   "metadata": {},
   "outputs": [
    {
     "data": {
      "text/plain": [
       "bs4.element.ResultSet"
      ]
     },
     "execution_count": 16,
     "metadata": {},
     "output_type": "execute_result"
    }
   ],
   "source": [
    "type(hr_soup)"
   ]
  },
  {
   "cell_type": "code",
   "execution_count": 17,
   "id": "f0cce6ee-fa18-4ce1-8845-cee372043f74",
   "metadata": {},
   "outputs": [
    {
     "data": {
      "text/plain": [
       "1333"
      ]
     },
     "execution_count": 17,
     "metadata": {},
     "output_type": "execute_result"
    }
   ],
   "source": [
    "len(hr_soup)"
   ]
  },
  {
   "cell_type": "code",
   "execution_count": 18,
   "id": "3ce36c4b-0714-4d80-bc6e-b79c1392c496",
   "metadata": {},
   "outputs": [
    {
     "data": {
      "text/plain": [
       "1331"
      ]
     },
     "execution_count": 18,
     "metadata": {},
     "output_type": "execute_result"
    }
   ],
   "source": [
    "len(soup.find_all('ns3:hr')[-len(cad_soup):])"
   ]
  },
  {
   "cell_type": "code",
   "execution_count": 19,
   "id": "14ce3a2e-d2d3-450e-b559-0b9e4caa6e5e",
   "metadata": {},
   "outputs": [
    {
     "data": {
      "text/plain": [
       "1331"
      ]
     },
     "execution_count": 19,
     "metadata": {},
     "output_type": "execute_result"
    }
   ],
   "source": [
    "len(cad_soup)"
   ]
  },
  {
   "cell_type": "code",
   "execution_count": 20,
   "id": "c356890a-62d8-4e38-bd4d-7d46df3ee3f2",
   "metadata": {},
   "outputs": [
    {
     "data": {
      "text/plain": [
       "1333"
      ]
     },
     "execution_count": 20,
     "metadata": {},
     "output_type": "execute_result"
    }
   ],
   "source": [
    "len(route_df)"
   ]
  },
  {
   "cell_type": "code",
   "execution_count": 21,
   "id": "43c29b83-682f-49b0-8259-78035dcf212d",
   "metadata": {},
   "outputs": [],
   "source": [
    "# chop off early points from index - accounts for before cadence sensor calibration\n",
    "route_df = route_df[-len(cad_soup):]\n",
    "\n",
    "# for loop to extract heart rate and cadence values from each point\n",
    "hr_list = []\n",
    "cad_list = []\n",
    "for i in hr_soup:\n",
    "    hr_list.append(i.get_text(strip = True))\n",
    "    \n",
    "for j in cad_soup:\n",
    "    cad_list.append(j.get_text(strip = True))"
   ]
  },
  {
   "cell_type": "code",
   "execution_count": 22,
   "id": "779a8b45-fdbc-466e-9f68-99800c331db3",
   "metadata": {},
   "outputs": [],
   "source": [
    "# add columns to dataset from extraction\n",
    "route_df['heart_rate'] = hr_list[-len(cad_soup):]\n",
    "route_df['cadence'] = cad_list"
   ]
  },
  {
   "cell_type": "code",
   "execution_count": 23,
   "id": "1d6cef80-b01b-43ab-8a99-c0944e572400",
   "metadata": {},
   "outputs": [
    {
     "data": {
      "text/plain": [
       "0     184\n",
       "65     72\n",
       "67     63\n",
       "66     62\n",
       "64     58\n",
       "     ... \n",
       "95      1\n",
       "17      1\n",
       "93      1\n",
       "12      1\n",
       "15      1\n",
       "Name: cadence, Length: 71, dtype: int64"
      ]
     },
     "execution_count": 23,
     "metadata": {},
     "output_type": "execute_result"
    }
   ],
   "source": [
    "route_df['cadence'].value_counts()"
   ]
  },
  {
   "cell_type": "markdown",
   "id": "d733b1f4-411b-434a-a2b3-733c27bdd5b0",
   "metadata": {
    "tags": []
   },
   "source": [
    "# Function - gpx_to_df() "
   ]
  },
  {
   "cell_type": "code",
   "execution_count": 32,
   "id": "f22bc642-e1e3-4762-95ee-b6dffa3a6297",
   "metadata": {},
   "outputs": [],
   "source": [
    "def gpx_to_df(filepath):\n",
    "    \n",
    "    # Open .gpx file and parse xml\n",
    "    with open(filepath, 'r') as gpx_file:\n",
    "        gpx = gpxpy.parse(gpx_file)\n",
    "        \n",
    "    # check length of tracks\n",
    "    print(f'Tracks: {len(gpx.tracks)}')\n",
    "    # check number of data points\n",
    "    print(f'No. of Track Points: {gpx.get_track_points_no()}')\n",
    "    \n",
    "    # extract timestamp, lat, lon, and elevation from gpx file\n",
    "    route_info = []\n",
    "\n",
    "    for track in gpx.tracks:\n",
    "        for segment in track.segments:\n",
    "            for point in segment.points:\n",
    "                route_info.append({\n",
    "                    'timestamp': point.time,\n",
    "                    'latitude': point.latitude,\n",
    "                    'longitude': point.longitude,\n",
    "                    'elevation': point.elevation,\n",
    "                })\n",
    "    \n",
    "    # create dataframe\n",
    "    route_df = pd.DataFrame(route_info)\n",
    "    \n",
    "    ########################\n",
    "    # timestamp to datetime\n",
    "    route_df['timestamp'] = pd.to_datetime(route_df['timestamp'])\n",
    "    \n",
    "    # elapsed time\n",
    "    route_df['time_diff_s'] = 0\n",
    "    for i in range(1, len(route_df)-1):\n",
    "        t1 = route_df.iloc[i]['timestamp']\n",
    "        t2 = route_df.iloc[i-1]['timestamp']\n",
    "        # https://www.geeksforgeeks.org/how-to-set-cell-value-in-pandas-dataframe/\n",
    "        route_df.at[i, 'time_diff_s'] = (t1 - t2).seconds\n",
    "    route_df['total_time_s'] = route_df['time_diff_s'].cumsum(skipna = True)\n",
    "    \n",
    "    #######################\n",
    "    # elevation change\n",
    "    \n",
    "    route_df['ele_diff'] = 0\n",
    "    for i in range(1, len(route_df)-1):\n",
    "        e1 = route_df.iloc[i]['elevation']\n",
    "        e2 = route_df.iloc[i-1]['elevation']\n",
    "        route_df.at[i, 'ele_diff'] = (e1 - e2)\n",
    "    route_df['total_ele_change'] = route_df['ele_diff'].cumsum(skipna = True)\n",
    "    \n",
    "    #######################\n",
    "    # add extension data with beautifulsoup\n",
    "    xml = gpx.to_xml()\n",
    "    soup = BeautifulSoup(xml, features = 'xml')\n",
    "    \n",
    "    # Use Beautiful Soup to find all heart rate and cadence\n",
    "    hr_soup = soup.find_all('ns3:hr')\n",
    "    cad_soup = soup.find_all('ns3:cad')\n",
    "    \n",
    "    # chop off early points from index - accounts for before cadence sensor calibration\n",
    "    route_df = route_df[-len(cad_soup):]\n",
    "\n",
    "    # for loop to extract heart rate and cadence values from each point\n",
    "    hr_list = []\n",
    "    cad_list = []\n",
    "    for i in hr_soup:\n",
    "        # https://stackoverflow.com/questions/69420686/bs4-element-resultset-elements-to-a-list\n",
    "        hr_list.append(i.get_text(strip = True))\n",
    "\n",
    "    for j in cad_soup:\n",
    "        cad_list.append(j.get_text(strip = True))\n",
    "\n",
    "    # add columns to dataset from extraction\n",
    "    route_df['heart_rate'] = hr_list[-len(cad_soup):]\n",
    "    route_df['cadence'] = cad_list\n",
    "   \n",
    "    #######################\n",
    "    route_df.reset_index(drop = True, inplace = True)\n",
    "    \n",
    "    return route_df"
   ]
  },
  {
   "cell_type": "code",
   "execution_count": 33,
   "id": "84f8b10d-9cbf-48c1-bdd8-057f8d318e2c",
   "metadata": {},
   "outputs": [
    {
     "name": "stdout",
     "output_type": "stream",
     "text": [
      "Tracks: 1\n",
      "No. of Track Points: 1333\n"
     ]
    }
   ],
   "source": [
    "_885 = gpx_to_df('../data/activity_9305828885.gpx')"
   ]
  },
  {
   "cell_type": "code",
   "execution_count": 35,
   "id": "d9f04d00-21e4-4bf0-a02a-196f485e0731",
   "metadata": {},
   "outputs": [
    {
     "data": {
      "text/html": [
       "<div>\n",
       "<style scoped>\n",
       "    .dataframe tbody tr th:only-of-type {\n",
       "        vertical-align: middle;\n",
       "    }\n",
       "\n",
       "    .dataframe tbody tr th {\n",
       "        vertical-align: top;\n",
       "    }\n",
       "\n",
       "    .dataframe thead th {\n",
       "        text-align: right;\n",
       "    }\n",
       "</style>\n",
       "<table border=\"1\" class=\"dataframe\">\n",
       "  <thead>\n",
       "    <tr style=\"text-align: right;\">\n",
       "      <th></th>\n",
       "      <th>timestamp</th>\n",
       "      <th>latitude</th>\n",
       "      <th>longitude</th>\n",
       "      <th>elevation</th>\n",
       "      <th>time_diff_s</th>\n",
       "      <th>total_time_s</th>\n",
       "      <th>ele_diff</th>\n",
       "      <th>total_ele_change</th>\n",
       "      <th>heart_rate</th>\n",
       "      <th>cadence</th>\n",
       "    </tr>\n",
       "  </thead>\n",
       "  <tbody>\n",
       "    <tr>\n",
       "      <th>1319</th>\n",
       "      <td>2022-07-30 20:55:51+00:00</td>\n",
       "      <td>38.774140</td>\n",
       "      <td>-121.362701</td>\n",
       "      <td>35.799999</td>\n",
       "      <td>6</td>\n",
       "      <td>5167</td>\n",
       "      <td>0.399998</td>\n",
       "      <td>0.599998</td>\n",
       "      <td>126</td>\n",
       "      <td>61</td>\n",
       "    </tr>\n",
       "    <tr>\n",
       "      <th>1320</th>\n",
       "      <td>2022-07-30 20:55:57+00:00</td>\n",
       "      <td>38.774163</td>\n",
       "      <td>-121.363078</td>\n",
       "      <td>36.000000</td>\n",
       "      <td>6</td>\n",
       "      <td>5173</td>\n",
       "      <td>0.200001</td>\n",
       "      <td>0.799999</td>\n",
       "      <td>129</td>\n",
       "      <td>62</td>\n",
       "    </tr>\n",
       "    <tr>\n",
       "      <th>1321</th>\n",
       "      <td>2022-07-30 20:55:59+00:00</td>\n",
       "      <td>38.774184</td>\n",
       "      <td>-121.363198</td>\n",
       "      <td>35.799999</td>\n",
       "      <td>2</td>\n",
       "      <td>5175</td>\n",
       "      <td>-0.200001</td>\n",
       "      <td>0.599998</td>\n",
       "      <td>130</td>\n",
       "      <td>62</td>\n",
       "    </tr>\n",
       "    <tr>\n",
       "      <th>1322</th>\n",
       "      <td>2022-07-30 20:56:00+00:00</td>\n",
       "      <td>38.774190</td>\n",
       "      <td>-121.363258</td>\n",
       "      <td>35.799999</td>\n",
       "      <td>1</td>\n",
       "      <td>5176</td>\n",
       "      <td>0.000000</td>\n",
       "      <td>0.599998</td>\n",
       "      <td>130</td>\n",
       "      <td>62</td>\n",
       "    </tr>\n",
       "    <tr>\n",
       "      <th>1323</th>\n",
       "      <td>2022-07-30 20:56:02+00:00</td>\n",
       "      <td>38.774178</td>\n",
       "      <td>-121.363369</td>\n",
       "      <td>35.799999</td>\n",
       "      <td>2</td>\n",
       "      <td>5178</td>\n",
       "      <td>0.000000</td>\n",
       "      <td>0.599998</td>\n",
       "      <td>130</td>\n",
       "      <td>0</td>\n",
       "    </tr>\n",
       "    <tr>\n",
       "      <th>1324</th>\n",
       "      <td>2022-07-30 20:56:03+00:00</td>\n",
       "      <td>38.774156</td>\n",
       "      <td>-121.363410</td>\n",
       "      <td>35.799999</td>\n",
       "      <td>1</td>\n",
       "      <td>5179</td>\n",
       "      <td>0.000000</td>\n",
       "      <td>0.599998</td>\n",
       "      <td>130</td>\n",
       "      <td>0</td>\n",
       "    </tr>\n",
       "    <tr>\n",
       "      <th>1325</th>\n",
       "      <td>2022-07-30 20:56:05+00:00</td>\n",
       "      <td>38.774088</td>\n",
       "      <td>-121.363469</td>\n",
       "      <td>35.799999</td>\n",
       "      <td>2</td>\n",
       "      <td>5181</td>\n",
       "      <td>0.000000</td>\n",
       "      <td>0.599998</td>\n",
       "      <td>130</td>\n",
       "      <td>9</td>\n",
       "    </tr>\n",
       "    <tr>\n",
       "      <th>1326</th>\n",
       "      <td>2022-07-30 20:56:07+00:00</td>\n",
       "      <td>38.774021</td>\n",
       "      <td>-121.363510</td>\n",
       "      <td>36.000000</td>\n",
       "      <td>2</td>\n",
       "      <td>5183</td>\n",
       "      <td>0.200001</td>\n",
       "      <td>0.799999</td>\n",
       "      <td>129</td>\n",
       "      <td>15</td>\n",
       "    </tr>\n",
       "    <tr>\n",
       "      <th>1327</th>\n",
       "      <td>2022-07-30 20:56:14+00:00</td>\n",
       "      <td>38.773811</td>\n",
       "      <td>-121.363648</td>\n",
       "      <td>36.200001</td>\n",
       "      <td>7</td>\n",
       "      <td>5190</td>\n",
       "      <td>0.200001</td>\n",
       "      <td>1.000000</td>\n",
       "      <td>131</td>\n",
       "      <td>0</td>\n",
       "    </tr>\n",
       "    <tr>\n",
       "      <th>1328</th>\n",
       "      <td>2022-07-30 20:56:15+00:00</td>\n",
       "      <td>38.773788</td>\n",
       "      <td>-121.363646</td>\n",
       "      <td>36.200001</td>\n",
       "      <td>1</td>\n",
       "      <td>5191</td>\n",
       "      <td>0.000000</td>\n",
       "      <td>1.000000</td>\n",
       "      <td>128</td>\n",
       "      <td>0</td>\n",
       "    </tr>\n",
       "    <tr>\n",
       "      <th>1329</th>\n",
       "      <td>2022-07-30 20:56:18+00:00</td>\n",
       "      <td>38.773766</td>\n",
       "      <td>-121.363642</td>\n",
       "      <td>36.000000</td>\n",
       "      <td>3</td>\n",
       "      <td>5194</td>\n",
       "      <td>-0.200001</td>\n",
       "      <td>0.799999</td>\n",
       "      <td>126</td>\n",
       "      <td>0</td>\n",
       "    </tr>\n",
       "    <tr>\n",
       "      <th>1330</th>\n",
       "      <td>2022-07-30 20:56:19+00:00</td>\n",
       "      <td>38.773766</td>\n",
       "      <td>-121.363642</td>\n",
       "      <td>36.000000</td>\n",
       "      <td>0</td>\n",
       "      <td>5194</td>\n",
       "      <td>0.000000</td>\n",
       "      <td>0.799999</td>\n",
       "      <td>126</td>\n",
       "      <td>0</td>\n",
       "    </tr>\n",
       "  </tbody>\n",
       "</table>\n",
       "</div>"
      ],
      "text/plain": [
       "                     timestamp   latitude   longitude  elevation  time_diff_s  \\\n",
       "1319 2022-07-30 20:55:51+00:00  38.774140 -121.362701  35.799999            6   \n",
       "1320 2022-07-30 20:55:57+00:00  38.774163 -121.363078  36.000000            6   \n",
       "1321 2022-07-30 20:55:59+00:00  38.774184 -121.363198  35.799999            2   \n",
       "1322 2022-07-30 20:56:00+00:00  38.774190 -121.363258  35.799999            1   \n",
       "1323 2022-07-30 20:56:02+00:00  38.774178 -121.363369  35.799999            2   \n",
       "1324 2022-07-30 20:56:03+00:00  38.774156 -121.363410  35.799999            1   \n",
       "1325 2022-07-30 20:56:05+00:00  38.774088 -121.363469  35.799999            2   \n",
       "1326 2022-07-30 20:56:07+00:00  38.774021 -121.363510  36.000000            2   \n",
       "1327 2022-07-30 20:56:14+00:00  38.773811 -121.363648  36.200001            7   \n",
       "1328 2022-07-30 20:56:15+00:00  38.773788 -121.363646  36.200001            1   \n",
       "1329 2022-07-30 20:56:18+00:00  38.773766 -121.363642  36.000000            3   \n",
       "1330 2022-07-30 20:56:19+00:00  38.773766 -121.363642  36.000000            0   \n",
       "\n",
       "      total_time_s  ele_diff  total_ele_change heart_rate cadence  \n",
       "1319          5167  0.399998          0.599998        126      61  \n",
       "1320          5173  0.200001          0.799999        129      62  \n",
       "1321          5175 -0.200001          0.599998        130      62  \n",
       "1322          5176  0.000000          0.599998        130      62  \n",
       "1323          5178  0.000000          0.599998        130       0  \n",
       "1324          5179  0.000000          0.599998        130       0  \n",
       "1325          5181  0.000000          0.599998        130       9  \n",
       "1326          5183  0.200001          0.799999        129      15  \n",
       "1327          5190  0.200001          1.000000        131       0  \n",
       "1328          5191  0.000000          1.000000        128       0  \n",
       "1329          5194 -0.200001          0.799999        126       0  \n",
       "1330          5194  0.000000          0.799999        126       0  "
      ]
     },
     "execution_count": 35,
     "metadata": {},
     "output_type": "execute_result"
    }
   ],
   "source": [
    "_885.tail(12)"
   ]
  },
  {
   "cell_type": "markdown",
   "id": "dacf1ad4-2363-4cb0-a751-1500cb85adaa",
   "metadata": {},
   "source": [
    "# Create Bearing Column"
   ]
  },
  {
   "cell_type": "code",
   "execution_count": null,
   "id": "3450d960-1ce0-4a8c-85bf-f6caf59c04f8",
   "metadata": {},
   "outputs": [],
   "source": [
    "# https://stackoverflow.com/questions/54873868/python-calculate-bearing-between-two-lat-long\n",
    "# https://geographiclib.sourceforge.io/html/python/code.html#geographiclib.geodesic.Geodesic.AZIMUTH\n",
    "def get_bearing(lat1, lat2, long1, long2):\n",
    "    brng = Geodesic.WGS84.Inverse(lat1, long1, lat2, long2)['azi1']\n",
    "    return brng"
   ]
  },
  {
   "cell_type": "code",
   "execution_count": null,
   "id": "75cddf15-8f26-417d-8248-b64c896e5d4f",
   "metadata": {},
   "outputs": [],
   "source": [
    "get_bearing(38.773795, 38.773860, -121.363652, -121.363689)"
   ]
  },
  {
   "cell_type": "code",
   "execution_count": null,
   "id": "35188cd9-48cd-4426-b8b6-8eca7cffce1f",
   "metadata": {},
   "outputs": [],
   "source": [
    "_885['bearing'] = 0\n",
    "for i in range(1, len(_885)):\n",
    "    lat1 = _885.latitude.iloc[i-1]\n",
    "    lat2 = _885.latitude.iloc[i]\n",
    "    long1 = _885.longitude.iloc[i-1]\n",
    "    long2 = _885.longitude.iloc[i]\n",
    "    bearing = get_bearing(lat1, lat2, long1, long2)\n",
    "    # https://stats.stackexchange.com/questions/283572/using-iloc-to-set-values\n",
    "    _885.bearing.iloc[[i]] = bearing"
   ]
  },
  {
   "cell_type": "code",
   "execution_count": null,
   "id": "aa25a606-746c-4dce-a27e-81bcda343d6a",
   "metadata": {},
   "outputs": [],
   "source": [
    "_885.head(10)"
   ]
  },
  {
   "cell_type": "markdown",
   "id": "4c73d432-c321-4493-aa6b-de443a114f33",
   "metadata": {},
   "source": [
    "# Plot"
   ]
  },
  {
   "cell_type": "code",
   "execution_count": null,
   "id": "f73b2591-8264-46ac-bf52-e549ecfef46c",
   "metadata": {},
   "outputs": [],
   "source": [
    "# https://www.python-graph-gallery.com/43-use-categorical-variable-to-color-scatterplot-seaborn\n",
    "# Use the 'hue' argument to provide a factor variable\n",
    "plt.figure(figsize = (16, 8))\n",
    "sns.lmplot( x=\"longitude\", y=\"latitude\", data=_885, fit_reg=False, \n",
    "           hue='heart_rate', \n",
    "           palette = 'viridis', \n",
    "           height = 10, aspect = 2)\n",
    " \n",
    "# Move the legend to an empty part of the plot\n",
    "# plt.legend(loc='lower right')\n",
    "\n",
    "plt.show();"
   ]
  },
  {
   "cell_type": "code",
   "execution_count": null,
   "id": "399ac438-a161-4a11-b9da-f473b856cb02",
   "metadata": {},
   "outputs": [],
   "source": []
  }
 ],
 "metadata": {
  "kernelspec": {
   "display_name": "Python 3 (ipykernel)",
   "language": "python",
   "name": "python3"
  },
  "language_info": {
   "codemirror_mode": {
    "name": "ipython",
    "version": 3
   },
   "file_extension": ".py",
   "mimetype": "text/x-python",
   "name": "python",
   "nbconvert_exporter": "python",
   "pygments_lexer": "ipython3",
   "version": "3.9.12"
  }
 },
 "nbformat": 4,
 "nbformat_minor": 5
}
