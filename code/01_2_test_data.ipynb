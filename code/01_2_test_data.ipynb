{
 "cells": [
  {
   "cell_type": "markdown",
   "id": "03ef017f-52fb-4f56-8fc7-8e0cb067a2b9",
   "metadata": {},
   "source": [
    "# Building Test Dataset\n",
    "---\n",
    "---"
   ]
  },
  {
   "cell_type": "markdown",
   "id": "429dd10d-37ce-4b61-bb33-60342047b4ca",
   "metadata": {},
   "source": [
    "# Imports"
   ]
  },
  {
   "cell_type": "code",
   "execution_count": 1,
   "id": "b4761735-96e7-4a57-9c1d-b2d1955b7bf7",
   "metadata": {
    "tags": []
   },
   "outputs": [],
   "source": [
    "import pandas as pd\n",
    "from pandas import json_normalize\n",
    "import numpy as np\n",
    "import seaborn as sns\n",
    "import matplotlib.pyplot as plt\n",
    "import datetime\n",
    "import time\n",
    "\n",
    "# GPX file\n",
    "import gpxpy\n",
    "import gpxpy.gpx\n",
    "\n",
    "# GPX file\n",
    "from bs4 import BeautifulSoup\n",
    "import lxml\n",
    "\n",
    "# bearing\n",
    "from geographiclib.geodesic import Geodesic\n",
    "\n",
    "# distance\n",
    "import haversine as hs\n",
    "\n",
    "# API\n",
    "import requests\n",
    "\n",
    "%matplotlib inline\n",
    "pd.set_option('display.max_columns', None)\n",
    "\n",
    "import warnings\n",
    "warnings.simplefilter(\"ignore\")"
   ]
  },
  {
   "cell_type": "code",
   "execution_count": 2,
   "id": "3b72c52d-968c-41ba-a78e-5f27bbb75663",
   "metadata": {},
   "outputs": [],
   "source": [
    "# Open .gpx file and parse xml\n",
    "with open('../data/marin_century_classic_2022.gpx', 'r') as gpx_file:\n",
    "    gpx = gpxpy.parse(gpx_file)"
   ]
  },
  {
   "cell_type": "code",
   "execution_count": 3,
   "id": "4ddb032c-9356-4c39-8274-9737553c5052",
   "metadata": {},
   "outputs": [
    {
     "data": {
      "text/plain": [
       "'<?xml version=\"1.0\" encoding=\"UTF-8\"?>\\n<gpx xmlns=\"http://www.topografix.com/GPX/1/1\" xmlns:xsi=\"http://www.w3.org/2001/XMLSchema-instance\" xsi:schemaLocation=\"http://www.topografix.com/GPX/1/1 http://www.topografix.com/GPX/1/1/gpx.xsd\" version=\"1.1\" creator=\"StravaGPX\">\\n  <metadata>\\n    <name>Marin Century Classic 2022</name>\\n    <author>\\n      <name>Adriana Machado</name>\\n      <link href=\"https://www.strava.com/athletes/7321904\">\\n      </link>\\n    </author>\\n    <copyright author=\"OpenStreetMap contributors\">\\n      <year>2020</year>\\n      <license>https://www.openstreetmap.org/copyright</license>\\n    </copyright>\\n    <link href=\"https://www.strava.com/routes/2951301224719649896\">\\n    </link>\\n  </metadata>\\n  <trk>\\n    <name>Marin Century Classic 2022</name>\\n    <link href=\"https://www.strava.com/routes/2951301224719649896\">\\n    </link>\\n    <type>Ride</type>\\n    <trkseg>\\n      <trkpt lat=\"38.11272\" lon=\"-122.65319000000001\">\\n        <ele>63.04</ele>\\n      </trkpt>\\n      <trkpt lat=\"38.11343\" lon=\"-122.65308000000002\">\\n        <ele>63.40000000000001</ele>\\n      </trkpt>\\n      <trkpt lat=\"38.1137\" lon=\"-122.65309\">\\n        <ele>63.68</ele>\\n      </trkpt>\\n      <trkpt lat=\"38.114250000000006\" lon=\"-122.65358\">\\n        <ele>64.76</ele>\\n      </trkpt>\\n      <trkpt lat=\"38.114610000000006\" lon=\"-122.65354\">\\n        <ele>65.55000000000001</ele>\\n      </trkpt>\\n      <trkpt lat=\"38.114810000000006\" lon=\"-122.65341000000001\">\\n        <ele>65.77000000000001</ele>\\n      </trkpt>\\n      <trkpt lat=\"38.114990000000006\" lon=\"-122.65309\">\\n        <ele>65.68</ele>\\n      </trkpt>\\n      <trkpt lat=\"38.115025002326384\" lon=\"-122.65235000023425\">\\n        <ele>65.03</ele>\\n      </trkpt>\\n      <trkpt lat=\"38.11506\" lon=\"-122.65161\">\\n        <ele>64.66000000000001</ele>\\n      </trkpt>\\n      <trkpt lat=\"38.11547\" lon=\"-122.6508\">\\n        <ele>65.0</ele>\\n      </trkpt>\\n      <trkpt lat=\"38.11563\" lon=\"-122.65031\">\\n        <ele>64.39999999999999</ele>\\n      </trkpt>\\n      <trkpt lat=\"38.115730'"
      ]
     },
     "execution_count": 3,
     "metadata": {},
     "output_type": "execute_result"
    }
   ],
   "source": [
    "# check out .gpx file as xml\n",
    "gpx.to_xml()[:2000]"
   ]
  },
  {
   "cell_type": "markdown",
   "id": "2e17e525-3f57-4c5c-8d4e-a16f0f0d0999",
   "metadata": {},
   "source": [
    "# GPX Import to Dataframe"
   ]
  },
  {
   "cell_type": "code",
   "execution_count": 4,
   "id": "2b8e105a-eecc-4ece-b2c5-7d7cd3864049",
   "metadata": {},
   "outputs": [
    {
     "name": "stdout",
     "output_type": "stream",
     "text": [
      "Tracks: 1\n",
      "No. of Track Points: 2849\n"
     ]
    },
    {
     "data": {
      "text/html": [
       "<div>\n",
       "<style scoped>\n",
       "    .dataframe tbody tr th:only-of-type {\n",
       "        vertical-align: middle;\n",
       "    }\n",
       "\n",
       "    .dataframe tbody tr th {\n",
       "        vertical-align: top;\n",
       "    }\n",
       "\n",
       "    .dataframe thead th {\n",
       "        text-align: right;\n",
       "    }\n",
       "</style>\n",
       "<table border=\"1\" class=\"dataframe\">\n",
       "  <thead>\n",
       "    <tr style=\"text-align: right;\">\n",
       "      <th></th>\n",
       "      <th>latitude</th>\n",
       "      <th>longitude</th>\n",
       "      <th>elevation</th>\n",
       "    </tr>\n",
       "  </thead>\n",
       "  <tbody>\n",
       "    <tr>\n",
       "      <th>0</th>\n",
       "      <td>38.11272</td>\n",
       "      <td>-122.65319</td>\n",
       "      <td>63.04</td>\n",
       "    </tr>\n",
       "    <tr>\n",
       "      <th>1</th>\n",
       "      <td>38.11343</td>\n",
       "      <td>-122.65308</td>\n",
       "      <td>63.40</td>\n",
       "    </tr>\n",
       "    <tr>\n",
       "      <th>2</th>\n",
       "      <td>38.11370</td>\n",
       "      <td>-122.65309</td>\n",
       "      <td>63.68</td>\n",
       "    </tr>\n",
       "    <tr>\n",
       "      <th>3</th>\n",
       "      <td>38.11425</td>\n",
       "      <td>-122.65358</td>\n",
       "      <td>64.76</td>\n",
       "    </tr>\n",
       "    <tr>\n",
       "      <th>4</th>\n",
       "      <td>38.11461</td>\n",
       "      <td>-122.65354</td>\n",
       "      <td>65.55</td>\n",
       "    </tr>\n",
       "  </tbody>\n",
       "</table>\n",
       "</div>"
      ],
      "text/plain": [
       "   latitude  longitude  elevation\n",
       "0  38.11272 -122.65319      63.04\n",
       "1  38.11343 -122.65308      63.40\n",
       "2  38.11370 -122.65309      63.68\n",
       "3  38.11425 -122.65358      64.76\n",
       "4  38.11461 -122.65354      65.55"
      ]
     },
     "execution_count": 4,
     "metadata": {},
     "output_type": "execute_result"
    }
   ],
   "source": [
    "# check length of tracks\n",
    "print(f'Tracks: {len(gpx.tracks)}')\n",
    "# check number of data points\n",
    "print(f'No. of Track Points: {gpx.get_track_points_no()}')\n",
    "\n",
    "# extract timestamp, lat, lon, and elevation from gpx file\n",
    "route_info = []\n",
    "\n",
    "for track in gpx.tracks:\n",
    "    for segment in track.segments:\n",
    "        for point in segment.points:\n",
    "            route_info.append({\n",
    "                'latitude': point.latitude,\n",
    "                'longitude': point.longitude,\n",
    "                'elevation': point.elevation,\n",
    "            })\n",
    "\n",
    "# create dataframe\n",
    "test_df = pd.DataFrame(route_info)\n",
    "test_df.head()"
   ]
  },
  {
   "cell_type": "code",
   "execution_count": 5,
   "id": "0286b1db-47b5-4b85-b87b-082c39278618",
   "metadata": {},
   "outputs": [
    {
     "data": {
      "text/plain": [
       "latitude     0\n",
       "longitude    0\n",
       "elevation    0\n",
       "dtype: int64"
      ]
     },
     "execution_count": 5,
     "metadata": {},
     "output_type": "execute_result"
    }
   ],
   "source": [
    "test_df.isnull().sum()"
   ]
  },
  {
   "cell_type": "markdown",
   "id": "e57d850c-d48a-4fbc-88c3-627c1a1cb149",
   "metadata": {
    "tags": []
   },
   "source": [
    "## Create Bearing Column"
   ]
  },
  {
   "cell_type": "code",
   "execution_count": 6,
   "id": "89c4ab96-404b-40fc-8bd4-ba31a35c62bd",
   "metadata": {},
   "outputs": [],
   "source": [
    "def get_bearing(lat1, lat2, long1, long2):\n",
    "    brng = Geodesic.WGS84.Inverse(lat1, long1, lat2, long2)['azi1']\n",
    "    return brng"
   ]
  },
  {
   "cell_type": "code",
   "execution_count": 7,
   "id": "cba5f88a-bb98-4a5f-a902-2539c17b2bcf",
   "metadata": {},
   "outputs": [
    {
     "data": {
      "text/plain": [
       "-24.017929532262528"
      ]
     },
     "execution_count": 7,
     "metadata": {},
     "output_type": "execute_result"
    }
   ],
   "source": [
    "get_bearing(38.773795, 38.773860, -121.363652, -121.363689)"
   ]
  },
  {
   "cell_type": "code",
   "execution_count": 8,
   "id": "466a6709-4929-41ce-ad33-bc0158c3e0db",
   "metadata": {},
   "outputs": [],
   "source": [
    "test_df['bearing'] = 0\n",
    "for i in range(1, len(test_df)):\n",
    "    lat1 = test_df.latitude.iloc[i-1]\n",
    "    lat2 = test_df.latitude.iloc[i]\n",
    "    long1 = test_df.longitude.iloc[i-1]\n",
    "    long2 = test_df.longitude.iloc[i]\n",
    "    bearing = get_bearing(lat1, lat2, long1, long2)\n",
    "    # https://stats.stackexchange.com/questions/283572/using-iloc-to-set-values\n",
    "    test_df.bearing.iloc[[i]] = bearing"
   ]
  },
  {
   "cell_type": "code",
   "execution_count": 9,
   "id": "7fc1b76c-8492-41aa-acda-09859e71b8b5",
   "metadata": {},
   "outputs": [
    {
     "data": {
      "text/html": [
       "<div>\n",
       "<style scoped>\n",
       "    .dataframe tbody tr th:only-of-type {\n",
       "        vertical-align: middle;\n",
       "    }\n",
       "\n",
       "    .dataframe tbody tr th {\n",
       "        vertical-align: top;\n",
       "    }\n",
       "\n",
       "    .dataframe thead th {\n",
       "        text-align: right;\n",
       "    }\n",
       "</style>\n",
       "<table border=\"1\" class=\"dataframe\">\n",
       "  <thead>\n",
       "    <tr style=\"text-align: right;\">\n",
       "      <th></th>\n",
       "      <th>latitude</th>\n",
       "      <th>longitude</th>\n",
       "      <th>elevation</th>\n",
       "      <th>bearing</th>\n",
       "    </tr>\n",
       "  </thead>\n",
       "  <tbody>\n",
       "    <tr>\n",
       "      <th>0</th>\n",
       "      <td>38.11272</td>\n",
       "      <td>-122.65319</td>\n",
       "      <td>63.04</td>\n",
       "      <td>0.000000</td>\n",
       "    </tr>\n",
       "    <tr>\n",
       "      <th>1</th>\n",
       "      <td>38.11343</td>\n",
       "      <td>-122.65308</td>\n",
       "      <td>63.40</td>\n",
       "      <td>6.978612</td>\n",
       "    </tr>\n",
       "    <tr>\n",
       "      <th>2</th>\n",
       "      <td>38.11370</td>\n",
       "      <td>-122.65309</td>\n",
       "      <td>63.68</td>\n",
       "      <td>-1.676102</td>\n",
       "    </tr>\n",
       "    <tr>\n",
       "      <th>3</th>\n",
       "      <td>38.11425</td>\n",
       "      <td>-122.65358</td>\n",
       "      <td>64.76</td>\n",
       "      <td>-35.140713</td>\n",
       "    </tr>\n",
       "    <tr>\n",
       "      <th>4</th>\n",
       "      <td>38.11461</td>\n",
       "      <td>-122.65354</td>\n",
       "      <td>65.55</td>\n",
       "      <td>5.016818</td>\n",
       "    </tr>\n",
       "  </tbody>\n",
       "</table>\n",
       "</div>"
      ],
      "text/plain": [
       "   latitude  longitude  elevation    bearing\n",
       "0  38.11272 -122.65319      63.04   0.000000\n",
       "1  38.11343 -122.65308      63.40   6.978612\n",
       "2  38.11370 -122.65309      63.68  -1.676102\n",
       "3  38.11425 -122.65358      64.76 -35.140713\n",
       "4  38.11461 -122.65354      65.55   5.016818"
      ]
     },
     "execution_count": 9,
     "metadata": {},
     "output_type": "execute_result"
    }
   ],
   "source": [
    "test_df.head()"
   ]
  },
  {
   "cell_type": "markdown",
   "id": "2e1769ec-ce80-4d0b-a32a-a994d1bf1f27",
   "metadata": {},
   "source": [
    "# Create Elevation Columns"
   ]
  },
  {
   "cell_type": "code",
   "execution_count": 10,
   "id": "5934c5f0-782b-4199-8209-69e45c697bbe",
   "metadata": {},
   "outputs": [
    {
     "data": {
      "text/html": [
       "<div>\n",
       "<style scoped>\n",
       "    .dataframe tbody tr th:only-of-type {\n",
       "        vertical-align: middle;\n",
       "    }\n",
       "\n",
       "    .dataframe tbody tr th {\n",
       "        vertical-align: top;\n",
       "    }\n",
       "\n",
       "    .dataframe thead th {\n",
       "        text-align: right;\n",
       "    }\n",
       "</style>\n",
       "<table border=\"1\" class=\"dataframe\">\n",
       "  <thead>\n",
       "    <tr style=\"text-align: right;\">\n",
       "      <th></th>\n",
       "      <th>latitude</th>\n",
       "      <th>longitude</th>\n",
       "      <th>elevation</th>\n",
       "      <th>bearing</th>\n",
       "      <th>ele_diff_m</th>\n",
       "      <th>total_ele_change_m</th>\n",
       "    </tr>\n",
       "  </thead>\n",
       "  <tbody>\n",
       "    <tr>\n",
       "      <th>0</th>\n",
       "      <td>38.11272</td>\n",
       "      <td>-122.65319</td>\n",
       "      <td>63.04</td>\n",
       "      <td>0.000000</td>\n",
       "      <td>0.00</td>\n",
       "      <td>0.00</td>\n",
       "    </tr>\n",
       "    <tr>\n",
       "      <th>1</th>\n",
       "      <td>38.11343</td>\n",
       "      <td>-122.65308</td>\n",
       "      <td>63.40</td>\n",
       "      <td>6.978612</td>\n",
       "      <td>0.36</td>\n",
       "      <td>0.36</td>\n",
       "    </tr>\n",
       "    <tr>\n",
       "      <th>2</th>\n",
       "      <td>38.11370</td>\n",
       "      <td>-122.65309</td>\n",
       "      <td>63.68</td>\n",
       "      <td>-1.676102</td>\n",
       "      <td>0.28</td>\n",
       "      <td>0.64</td>\n",
       "    </tr>\n",
       "    <tr>\n",
       "      <th>3</th>\n",
       "      <td>38.11425</td>\n",
       "      <td>-122.65358</td>\n",
       "      <td>64.76</td>\n",
       "      <td>-35.140713</td>\n",
       "      <td>1.08</td>\n",
       "      <td>1.72</td>\n",
       "    </tr>\n",
       "    <tr>\n",
       "      <th>4</th>\n",
       "      <td>38.11461</td>\n",
       "      <td>-122.65354</td>\n",
       "      <td>65.55</td>\n",
       "      <td>5.016818</td>\n",
       "      <td>0.79</td>\n",
       "      <td>2.51</td>\n",
       "    </tr>\n",
       "  </tbody>\n",
       "</table>\n",
       "</div>"
      ],
      "text/plain": [
       "   latitude  longitude  elevation    bearing  ele_diff_m  total_ele_change_m\n",
       "0  38.11272 -122.65319      63.04   0.000000        0.00                0.00\n",
       "1  38.11343 -122.65308      63.40   6.978612        0.36                0.36\n",
       "2  38.11370 -122.65309      63.68  -1.676102        0.28                0.64\n",
       "3  38.11425 -122.65358      64.76 -35.140713        1.08                1.72\n",
       "4  38.11461 -122.65354      65.55   5.016818        0.79                2.51"
      ]
     },
     "execution_count": 10,
     "metadata": {},
     "output_type": "execute_result"
    }
   ],
   "source": [
    "# ELEVATION CHANGE - METERS\n",
    "test_df['ele_diff_m'] = 0\n",
    "for i in range(1, len(test_df)-1):\n",
    "    e1 = test_df.iloc[i]['elevation']\n",
    "    e2 = test_df.iloc[i-1]['elevation']\n",
    "    test_df.at[i, 'ele_diff_m'] = (e1 - e2)\n",
    "test_df['total_ele_change_m'] = round(test_df['ele_diff_m'].cumsum(skipna = True), 4)\n",
    "test_df.head()"
   ]
  },
  {
   "cell_type": "markdown",
   "id": "83fdbe33-7f96-4e0d-a39b-7450d9be9d5d",
   "metadata": {},
   "source": [
    "# Create Distance Columns"
   ]
  },
  {
   "cell_type": "code",
   "execution_count": 11,
   "id": "1768d67c-f421-4480-bec2-87d613bb0c30",
   "metadata": {},
   "outputs": [
    {
     "data": {
      "text/html": [
       "<div>\n",
       "<style scoped>\n",
       "    .dataframe tbody tr th:only-of-type {\n",
       "        vertical-align: middle;\n",
       "    }\n",
       "\n",
       "    .dataframe tbody tr th {\n",
       "        vertical-align: top;\n",
       "    }\n",
       "\n",
       "    .dataframe thead th {\n",
       "        text-align: right;\n",
       "    }\n",
       "</style>\n",
       "<table border=\"1\" class=\"dataframe\">\n",
       "  <thead>\n",
       "    <tr style=\"text-align: right;\">\n",
       "      <th></th>\n",
       "      <th>latitude</th>\n",
       "      <th>longitude</th>\n",
       "      <th>elevation</th>\n",
       "      <th>bearing</th>\n",
       "      <th>ele_diff_m</th>\n",
       "      <th>total_ele_change_m</th>\n",
       "      <th>lat_lon</th>\n",
       "      <th>dist_diff_km</th>\n",
       "      <th>total_dist_km</th>\n",
       "    </tr>\n",
       "  </thead>\n",
       "  <tbody>\n",
       "    <tr>\n",
       "      <th>0</th>\n",
       "      <td>38.11272</td>\n",
       "      <td>-122.65319</td>\n",
       "      <td>63.04</td>\n",
       "      <td>0.000000</td>\n",
       "      <td>0.00</td>\n",
       "      <td>0.00</td>\n",
       "      <td>(38.11272, -122.65319000000001)</td>\n",
       "      <td>0.0000</td>\n",
       "      <td>0.0000</td>\n",
       "    </tr>\n",
       "    <tr>\n",
       "      <th>1</th>\n",
       "      <td>38.11343</td>\n",
       "      <td>-122.65308</td>\n",
       "      <td>63.40</td>\n",
       "      <td>6.978612</td>\n",
       "      <td>0.36</td>\n",
       "      <td>0.36</td>\n",
       "      <td>(38.11343, -122.65308000000002)</td>\n",
       "      <td>0.0795</td>\n",
       "      <td>0.0795</td>\n",
       "    </tr>\n",
       "    <tr>\n",
       "      <th>2</th>\n",
       "      <td>38.11370</td>\n",
       "      <td>-122.65309</td>\n",
       "      <td>63.68</td>\n",
       "      <td>-1.676102</td>\n",
       "      <td>0.28</td>\n",
       "      <td>0.64</td>\n",
       "      <td>(38.1137, -122.65309)</td>\n",
       "      <td>0.0300</td>\n",
       "      <td>0.1095</td>\n",
       "    </tr>\n",
       "    <tr>\n",
       "      <th>3</th>\n",
       "      <td>38.11425</td>\n",
       "      <td>-122.65358</td>\n",
       "      <td>64.76</td>\n",
       "      <td>-35.140713</td>\n",
       "      <td>1.08</td>\n",
       "      <td>1.72</td>\n",
       "      <td>(38.114250000000006, -122.65358)</td>\n",
       "      <td>0.0747</td>\n",
       "      <td>0.1842</td>\n",
       "    </tr>\n",
       "    <tr>\n",
       "      <th>4</th>\n",
       "      <td>38.11461</td>\n",
       "      <td>-122.65354</td>\n",
       "      <td>65.55</td>\n",
       "      <td>5.016818</td>\n",
       "      <td>0.79</td>\n",
       "      <td>2.51</td>\n",
       "      <td>(38.114610000000006, -122.65354)</td>\n",
       "      <td>0.0402</td>\n",
       "      <td>0.2244</td>\n",
       "    </tr>\n",
       "  </tbody>\n",
       "</table>\n",
       "</div>"
      ],
      "text/plain": [
       "   latitude  longitude  elevation    bearing  ele_diff_m  total_ele_change_m  \\\n",
       "0  38.11272 -122.65319      63.04   0.000000        0.00                0.00   \n",
       "1  38.11343 -122.65308      63.40   6.978612        0.36                0.36   \n",
       "2  38.11370 -122.65309      63.68  -1.676102        0.28                0.64   \n",
       "3  38.11425 -122.65358      64.76 -35.140713        1.08                1.72   \n",
       "4  38.11461 -122.65354      65.55   5.016818        0.79                2.51   \n",
       "\n",
       "                            lat_lon  dist_diff_km  total_dist_km  \n",
       "0   (38.11272, -122.65319000000001)        0.0000         0.0000  \n",
       "1   (38.11343, -122.65308000000002)        0.0795         0.0795  \n",
       "2             (38.1137, -122.65309)        0.0300         0.1095  \n",
       "3  (38.114250000000006, -122.65358)        0.0747         0.1842  \n",
       "4  (38.114610000000006, -122.65354)        0.0402         0.2244  "
      ]
     },
     "execution_count": 11,
     "metadata": {},
     "output_type": "execute_result"
    }
   ],
   "source": [
    "# DISTANCE - KILOMETERS\n",
    "test_df['lat_lon'] = [(lat, lon) for lat, lon in zip(test_df['latitude'], test_df['longitude'])]\n",
    "test_df['dist_diff_km'] = 0\n",
    "for i in range(1, len(test_df)-1):\n",
    "    loc1 = test_df.iloc[i]['lat_lon']\n",
    "    loc2 = test_df.iloc[i-1]['lat_lon']\n",
    "    test_df.at[i, 'dist_diff_km'] = round(hs.haversine(loc1, loc2), 4) # kilometers\n",
    "test_df['total_dist_km'] = test_df['dist_diff_km'].cumsum(skipna = True)\n",
    "test_df.head()"
   ]
  },
  {
   "cell_type": "code",
   "execution_count": 12,
   "id": "6bbf82af-66af-4096-b9be-664e23d0efd7",
   "metadata": {},
   "outputs": [
    {
     "data": {
      "text/html": [
       "<div>\n",
       "<style scoped>\n",
       "    .dataframe tbody tr th:only-of-type {\n",
       "        vertical-align: middle;\n",
       "    }\n",
       "\n",
       "    .dataframe tbody tr th {\n",
       "        vertical-align: top;\n",
       "    }\n",
       "\n",
       "    .dataframe thead th {\n",
       "        text-align: right;\n",
       "    }\n",
       "</style>\n",
       "<table border=\"1\" class=\"dataframe\">\n",
       "  <thead>\n",
       "    <tr style=\"text-align: right;\">\n",
       "      <th></th>\n",
       "      <th>latitude</th>\n",
       "      <th>longitude</th>\n",
       "      <th>elevation</th>\n",
       "      <th>bearing</th>\n",
       "      <th>ele_diff_m</th>\n",
       "      <th>total_ele_change_m</th>\n",
       "      <th>lat_lon</th>\n",
       "      <th>dist_diff_km</th>\n",
       "      <th>total_dist_km</th>\n",
       "    </tr>\n",
       "  </thead>\n",
       "  <tbody>\n",
       "    <tr>\n",
       "      <th>2844</th>\n",
       "      <td>38.11461</td>\n",
       "      <td>-122.65354</td>\n",
       "      <td>65.49</td>\n",
       "      <td>-152.817726</td>\n",
       "      <td>-0.18</td>\n",
       "      <td>2.45</td>\n",
       "      <td>(38.114610000000006, -122.65354)</td>\n",
       "      <td>0.0250</td>\n",
       "      <td>161.3451</td>\n",
       "    </tr>\n",
       "    <tr>\n",
       "      <th>2845</th>\n",
       "      <td>38.11425</td>\n",
       "      <td>-122.65358</td>\n",
       "      <td>64.76</td>\n",
       "      <td>-174.983157</td>\n",
       "      <td>-0.73</td>\n",
       "      <td>1.72</td>\n",
       "      <td>(38.114250000000006, -122.65358)</td>\n",
       "      <td>0.0402</td>\n",
       "      <td>161.3853</td>\n",
       "    </tr>\n",
       "    <tr>\n",
       "      <th>2846</th>\n",
       "      <td>38.11370</td>\n",
       "      <td>-122.65309</td>\n",
       "      <td>63.68</td>\n",
       "      <td>144.858985</td>\n",
       "      <td>-1.08</td>\n",
       "      <td>0.64</td>\n",
       "      <td>(38.1137, -122.65309)</td>\n",
       "      <td>0.0747</td>\n",
       "      <td>161.4600</td>\n",
       "    </tr>\n",
       "    <tr>\n",
       "      <th>2847</th>\n",
       "      <td>38.11343</td>\n",
       "      <td>-122.65308</td>\n",
       "      <td>63.40</td>\n",
       "      <td>178.323892</td>\n",
       "      <td>-0.28</td>\n",
       "      <td>0.36</td>\n",
       "      <td>(38.11343, -122.65308000000002)</td>\n",
       "      <td>0.0300</td>\n",
       "      <td>161.4900</td>\n",
       "    </tr>\n",
       "    <tr>\n",
       "      <th>2848</th>\n",
       "      <td>38.11299</td>\n",
       "      <td>-122.65314</td>\n",
       "      <td>63.22</td>\n",
       "      <td>-173.850794</td>\n",
       "      <td>0.00</td>\n",
       "      <td>0.36</td>\n",
       "      <td>(38.11299, -122.65314000000001)</td>\n",
       "      <td>0.0000</td>\n",
       "      <td>161.4900</td>\n",
       "    </tr>\n",
       "  </tbody>\n",
       "</table>\n",
       "</div>"
      ],
      "text/plain": [
       "      latitude  longitude  elevation     bearing  ele_diff_m  \\\n",
       "2844  38.11461 -122.65354      65.49 -152.817726       -0.18   \n",
       "2845  38.11425 -122.65358      64.76 -174.983157       -0.73   \n",
       "2846  38.11370 -122.65309      63.68  144.858985       -1.08   \n",
       "2847  38.11343 -122.65308      63.40  178.323892       -0.28   \n",
       "2848  38.11299 -122.65314      63.22 -173.850794        0.00   \n",
       "\n",
       "      total_ele_change_m                           lat_lon  dist_diff_km  \\\n",
       "2844                2.45  (38.114610000000006, -122.65354)        0.0250   \n",
       "2845                1.72  (38.114250000000006, -122.65358)        0.0402   \n",
       "2846                0.64             (38.1137, -122.65309)        0.0747   \n",
       "2847                0.36   (38.11343, -122.65308000000002)        0.0300   \n",
       "2848                0.36   (38.11299, -122.65314000000001)        0.0000   \n",
       "\n",
       "      total_dist_km  \n",
       "2844       161.3451  \n",
       "2845       161.3853  \n",
       "2846       161.4600  \n",
       "2847       161.4900  \n",
       "2848       161.4900  "
      ]
     },
     "execution_count": 12,
     "metadata": {},
     "output_type": "execute_result"
    }
   ],
   "source": [
    "test_df.tail()"
   ]
  },
  {
   "cell_type": "markdown",
   "id": "c00ca56b-e4eb-4c22-a513-4c14e5e959e7",
   "metadata": {},
   "source": [
    "# Time and Elapsed Time"
   ]
  },
  {
   "cell_type": "code",
   "execution_count": 17,
   "id": "1fcad05e-7e9d-4576-815b-c0a894992176",
   "metadata": {},
   "outputs": [],
   "source": [
    "# determine start date and time\n",
    "# model time_diff_s total_time_s\n",
    "# add predictions and convert to dt's and timestamps from start time"
   ]
  },
  {
   "cell_type": "code",
   "execution_count": null,
   "id": "51616e91-6876-49ae-b970-b2f86bafe96c",
   "metadata": {},
   "outputs": [],
   "source": []
  },
  {
   "cell_type": "code",
   "execution_count": null,
   "id": "0fcc79d3-7767-4fac-ade2-af30a1eba8bd",
   "metadata": {},
   "outputs": [],
   "source": []
  },
  {
   "cell_type": "code",
   "execution_count": null,
   "id": "6eb9a56f-a9ab-4e16-981d-bc3e4373f68a",
   "metadata": {},
   "outputs": [],
   "source": []
  },
  {
   "cell_type": "code",
   "execution_count": null,
   "id": "f401431d-7a8e-4658-84be-50e0a66950c2",
   "metadata": {},
   "outputs": [],
   "source": []
  },
  {
   "cell_type": "code",
   "execution_count": null,
   "id": "ee54eb34-a7fd-438e-9006-6d47ea0a6b11",
   "metadata": {},
   "outputs": [],
   "source": []
  },
  {
   "cell_type": "markdown",
   "id": "b12ff2bc-4d9c-4864-b046-4508bfdf94a5",
   "metadata": {},
   "source": [
    "# Get Weather Variables"
   ]
  },
  {
   "cell_type": "code",
   "execution_count": 13,
   "id": "cc1f2e41-8c87-48bd-be59-807c714e8053",
   "metadata": {},
   "outputs": [],
   "source": [
    "def hist_weather(unix_datetime, lat, lon):\n",
    "    '''\n",
    "    Using the OpenWeather OneCall 3.0 API to pull historical daily data\n",
    "    Input: UNIX datetime for day requesting\n",
    "    Output: Pandas dataframe for that day's weather\n",
    "    '''\n",
    "    \n",
    "    url_hist_point = f\"https://api.openweathermap.org/data/3.0/onecall/timemachine?lat={lat}&lon={lon}&dt={unix_datetime}&appid=d43015e86fe9a04995afe46ef9ad42c4\"\n",
    "    hist_point_req = requests.get(url_hist_point)\n",
    "\n",
    "    wd_hist = hist_point_req.json()\n",
    "\n",
    "    wd_hist_df = json_normalize(wd_hist['data'])\n",
    "    wd_hist_df = wd_hist_df[['dt', 'temp', 'feels_like', 'pressure', 'humidity',\n",
    "           'dew_point', 'clouds', 'wind_speed', 'wind_deg']]\n",
    "\n",
    "    \n",
    "    return wd_hist_df"
   ]
  },
  {
   "cell_type": "code",
   "execution_count": 16,
   "id": "7e64cc98-383c-4ac6-b574-8d120447c4d8",
   "metadata": {},
   "outputs": [
    {
     "data": {
      "text/plain": [
       "\"\\nt_weather = pd.DataFrame()\\n\\nfor i in range(len(test_df)): # iterate through each trackpoint\\n    # 600 calls per minute\\n    unix = test_df['dt'][i]\\n    lat = test_df['latitude'][i]\\n    lon = test_df['longitude'][i]\\n    weather = hist_weather(unix, lat, lon) # get historical weather for trackpoint\\n    t_weather = t_weather.append(weather) # append to weather dataframe\\n        \\ntest_df = test_df.merge(t_weather, how = 'inner', on = 'dt') # merge activity dataframe with weather dataframe on unix time stamp\\n\""
      ]
     },
     "execution_count": 16,
     "metadata": {},
     "output_type": "execute_result"
    }
   ],
   "source": [
    "'''\n",
    "t_weather = pd.DataFrame()\n",
    "\n",
    "for i in range(len(test_df)): # iterate through each trackpoint\n",
    "    # 600 calls per minute\n",
    "    unix = test_df['dt'][i]\n",
    "    lat = test_df['latitude'][i]\n",
    "    lon = test_df['longitude'][i]\n",
    "    weather = hist_weather(unix, lat, lon) # get historical weather for trackpoint\n",
    "    t_weather = t_weather.append(weather) # append to weather dataframe\n",
    "        \n",
    "test_df = test_df.merge(t_weather, how = 'inner', on = 'dt') # merge activity dataframe with weather dataframe on unix time stamp\n",
    "'''"
   ]
  },
  {
   "cell_type": "code",
   "execution_count": null,
   "id": "a1a34776-a1c0-4fb5-ab40-d4ff117da27e",
   "metadata": {},
   "outputs": [],
   "source": []
  }
 ],
 "metadata": {
  "kernelspec": {
   "display_name": "Python 3 (ipykernel)",
   "language": "python",
   "name": "python3"
  },
  "language_info": {
   "codemirror_mode": {
    "name": "ipython",
    "version": 3
   },
   "file_extension": ".py",
   "mimetype": "text/x-python",
   "name": "python",
   "nbconvert_exporter": "python",
   "pygments_lexer": "ipython3",
   "version": "3.9.12"
  }
 },
 "nbformat": 4,
 "nbformat_minor": 5
}
