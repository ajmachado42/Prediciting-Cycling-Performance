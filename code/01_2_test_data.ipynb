{
 "cells": [
  {
   "cell_type": "markdown",
   "id": "03ef017f-52fb-4f56-8fc7-8e0cb067a2b9",
   "metadata": {},
   "source": [
    "# TEST DATA\n",
    "---\n",
    "---"
   ]
  },
  {
   "cell_type": "markdown",
   "id": "dc24f3b6-4afd-454b-b130-e06e84c5072f",
   "metadata": {},
   "source": [
    "# Table of Contents\n",
    "---"
   ]
  },
  {
   "cell_type": "markdown",
   "id": "2a69e686-4566-4bfb-8d41-ed3fde6b94e8",
   "metadata": {},
   "source": []
  },
  {
   "cell_type": "markdown",
   "id": "094b55e9-6763-48ee-a0b7-751a26ba858f",
   "metadata": {},
   "source": [
    "# Sources\n",
    "---"
   ]
  },
  {
   "cell_type": "code",
   "execution_count": 1,
   "id": "5b470265-048a-4bba-8649-9d4e8dcbf4d2",
   "metadata": {},
   "outputs": [],
   "source": [
    "# https://stackoverflow.com/questions/25120621/python-get-date-in-future-x-days-and-hours-left-to-date\n",
    "# https://stackoverflow.com/questions/61416251/in-dataframe-add-time-offset-column-to-another-datetime-column\n",
    "# https://www.geeksforgeeks.org/python-pandas-timedelta-seconds/"
   ]
  },
  {
   "cell_type": "markdown",
   "id": "429dd10d-37ce-4b61-bb33-60342047b4ca",
   "metadata": {
    "tags": []
   },
   "source": [
    "# Imports\n",
    "---"
   ]
  },
  {
   "cell_type": "code",
   "execution_count": 2,
   "id": "b4761735-96e7-4a57-9c1d-b2d1955b7bf7",
   "metadata": {
    "tags": []
   },
   "outputs": [],
   "source": [
    "import pandas as pd\n",
    "import numpy as np\n",
    "import seaborn as sns\n",
    "import matplotlib.pyplot as plt\n",
    "import datetime\n",
    "from datetime import timedelta, datetime\n",
    "import time\n",
    "\n",
    "# GPX file\n",
    "import gpxpy\n",
    "import gpxpy.gpx\n",
    "\n",
    "# GPX file\n",
    "from bs4 import BeautifulSoup\n",
    "import lxml\n",
    "\n",
    "# bearing\n",
    "from geographiclib.geodesic import Geodesic\n",
    "\n",
    "# distance\n",
    "import haversine as hs\n",
    "\n",
    "# API\n",
    "import requests\n",
    "from pandas import json_normalize\n",
    "\n",
    "%matplotlib inline\n",
    "pd.set_option('display.max_columns', None)\n",
    "\n",
    "import warnings\n",
    "warnings.simplefilter(\"ignore\")"
   ]
  },
  {
   "cell_type": "code",
   "execution_count": 3,
   "id": "3a4e8720-a57a-4b4a-8972-c2cf20180aa2",
   "metadata": {},
   "outputs": [],
   "source": [
    "API_key = 'd43015e86fe9a04995afe46ef9ad42c4'"
   ]
  },
  {
   "cell_type": "code",
   "execution_count": 4,
   "id": "3b72c52d-968c-41ba-a78e-5f27bbb75663",
   "metadata": {},
   "outputs": [],
   "source": [
    "# Open .gpx file and parse xml\n",
    "with open('../data/marin_century_classic_2022.gpx', 'r') as gpx_file:\n",
    "    gpx = gpxpy.parse(gpx_file)"
   ]
  },
  {
   "cell_type": "code",
   "execution_count": 5,
   "id": "4ddb032c-9356-4c39-8274-9737553c5052",
   "metadata": {},
   "outputs": [
    {
     "data": {
      "text/plain": [
       "'<?xml version=\"1.0\" encoding=\"UTF-8\"?>\\n<gpx xmlns=\"http://www.topografix.com/GPX/1/1\" xmlns:xsi=\"http://www.w3.org/2001/XMLSchema-instance\" xsi:schemaLocation=\"http://www.topografix.com/GPX/1/1 http://www.topografix.com/GPX/1/1/gpx.xsd\" version=\"1.1\" creator=\"StravaGPX\">\\n  <metadata>\\n    <name>Marin Century Classic 2022</name>\\n    <author>\\n      <name>Adriana Machado</name>\\n      <link href=\"https://www.strava.com/athletes/7321904\">\\n      </link>\\n    </author>\\n    <copyright author=\"OpenStreetMap contributors\">\\n      <year>2020</year>\\n      <license>https://www.openstreetmap.org/copyright</license>\\n    </copyright>\\n    <link href=\"https://www.strava.com/routes/2951301224719649896\">\\n    </link>\\n  </metadata>\\n  <trk>\\n    <name>Marin Century Classic 2022</name>\\n    <link href=\"https://www.strava.com/routes/2951301224719649896\">\\n    </link>\\n    <type>Ride</type>\\n    <trkseg>\\n      <trkpt lat=\"38.11272\" lon=\"-122.65319000000001\">\\n        <ele>63.04</ele>\\n      </trkpt>\\n      <trkpt lat=\"38.11343\" lon=\"-122.65308000000002\">\\n        <ele>63.40000000000001</ele>\\n      </trkpt>\\n      <trkpt lat=\"38.1137\" lon=\"-122.65309\">\\n        <ele>63.68</ele>\\n      </trkpt>\\n      <trkpt lat=\"38.114250000000006\" lon=\"-122.65358\">\\n        <ele>64.76</ele>\\n      </trkpt>\\n      <trkpt lat=\"38.114610000000006\" lon=\"-122.65354\">\\n        <ele>65.55000000000001</ele>\\n      </trkpt>\\n      <trkpt lat=\"38.114810000000006\" lon=\"-122.65341000000001\">\\n        <ele>65.77000000000001</ele>\\n      </trkpt>\\n      <trkpt lat=\"38.114990000000006\" lon=\"-122.65309\">\\n        <ele>65.68</ele>\\n      </trkpt>\\n      <trkpt lat=\"38.115025002326384\" lon=\"-122.65235000023425\">\\n        <ele>65.03</ele>\\n      </trkpt>\\n      <trkpt lat=\"38.11506\" lon=\"-122.65161\">\\n        <ele>64.66000000000001</ele>\\n      </trkpt>\\n      <trkpt lat=\"38.11547\" lon=\"-122.6508\">\\n        <ele>65.0</ele>\\n      </trkpt>\\n      <trkpt lat=\"38.11563\" lon=\"-122.65031\">\\n        <ele>64.39999999999999</ele>\\n      </trkpt>\\n      <trkpt lat=\"38.115730'"
      ]
     },
     "execution_count": 5,
     "metadata": {},
     "output_type": "execute_result"
    }
   ],
   "source": [
    "# check out .gpx file as xml\n",
    "gpx.to_xml()[:2000]"
   ]
  },
  {
   "cell_type": "markdown",
   "id": "2e17e525-3f57-4c5c-8d4e-a16f0f0d0999",
   "metadata": {
    "tags": []
   },
   "source": [
    "# GPX Import to Dataframe\n",
    "---"
   ]
  },
  {
   "cell_type": "code",
   "execution_count": 6,
   "id": "2b8e105a-eecc-4ece-b2c5-7d7cd3864049",
   "metadata": {},
   "outputs": [
    {
     "name": "stdout",
     "output_type": "stream",
     "text": [
      "Tracks: 1\n",
      "No. of Track Points: 2849\n"
     ]
    },
    {
     "data": {
      "text/html": [
       "<div>\n",
       "<style scoped>\n",
       "    .dataframe tbody tr th:only-of-type {\n",
       "        vertical-align: middle;\n",
       "    }\n",
       "\n",
       "    .dataframe tbody tr th {\n",
       "        vertical-align: top;\n",
       "    }\n",
       "\n",
       "    .dataframe thead th {\n",
       "        text-align: right;\n",
       "    }\n",
       "</style>\n",
       "<table border=\"1\" class=\"dataframe\">\n",
       "  <thead>\n",
       "    <tr style=\"text-align: right;\">\n",
       "      <th></th>\n",
       "      <th>latitude</th>\n",
       "      <th>longitude</th>\n",
       "      <th>elevation</th>\n",
       "    </tr>\n",
       "  </thead>\n",
       "  <tbody>\n",
       "    <tr>\n",
       "      <th>0</th>\n",
       "      <td>38.11272</td>\n",
       "      <td>-122.65319</td>\n",
       "      <td>63.04</td>\n",
       "    </tr>\n",
       "    <tr>\n",
       "      <th>1</th>\n",
       "      <td>38.11343</td>\n",
       "      <td>-122.65308</td>\n",
       "      <td>63.40</td>\n",
       "    </tr>\n",
       "    <tr>\n",
       "      <th>2</th>\n",
       "      <td>38.11370</td>\n",
       "      <td>-122.65309</td>\n",
       "      <td>63.68</td>\n",
       "    </tr>\n",
       "    <tr>\n",
       "      <th>3</th>\n",
       "      <td>38.11425</td>\n",
       "      <td>-122.65358</td>\n",
       "      <td>64.76</td>\n",
       "    </tr>\n",
       "    <tr>\n",
       "      <th>4</th>\n",
       "      <td>38.11461</td>\n",
       "      <td>-122.65354</td>\n",
       "      <td>65.55</td>\n",
       "    </tr>\n",
       "  </tbody>\n",
       "</table>\n",
       "</div>"
      ],
      "text/plain": [
       "   latitude  longitude  elevation\n",
       "0  38.11272 -122.65319      63.04\n",
       "1  38.11343 -122.65308      63.40\n",
       "2  38.11370 -122.65309      63.68\n",
       "3  38.11425 -122.65358      64.76\n",
       "4  38.11461 -122.65354      65.55"
      ]
     },
     "execution_count": 6,
     "metadata": {},
     "output_type": "execute_result"
    }
   ],
   "source": [
    "# check length of tracks\n",
    "print(f'Tracks: {len(gpx.tracks)}')\n",
    "# check number of data points\n",
    "print(f'No. of Track Points: {gpx.get_track_points_no()}')\n",
    "\n",
    "# extract timestamp, lat, lon, and elevation from gpx file\n",
    "route_info = []\n",
    "\n",
    "for track in gpx.tracks:\n",
    "    for segment in track.segments:\n",
    "        for point in segment.points:\n",
    "            route_info.append({\n",
    "                'latitude': point.latitude,\n",
    "                'longitude': point.longitude,\n",
    "                'elevation': point.elevation,\n",
    "            })\n",
    "\n",
    "# create dataframe\n",
    "test_df = pd.DataFrame(route_info)\n",
    "test_df.head()"
   ]
  },
  {
   "cell_type": "code",
   "execution_count": 7,
   "id": "0286b1db-47b5-4b85-b87b-082c39278618",
   "metadata": {},
   "outputs": [
    {
     "data": {
      "text/plain": [
       "latitude     0\n",
       "longitude    0\n",
       "elevation    0\n",
       "dtype: int64"
      ]
     },
     "execution_count": 7,
     "metadata": {},
     "output_type": "execute_result"
    }
   ],
   "source": [
    "test_df.isnull().sum()"
   ]
  },
  {
   "cell_type": "markdown",
   "id": "e57d850c-d48a-4fbc-88c3-627c1a1cb149",
   "metadata": {
    "tags": []
   },
   "source": [
    "## Create Bearing Column"
   ]
  },
  {
   "cell_type": "code",
   "execution_count": 8,
   "id": "89c4ab96-404b-40fc-8bd4-ba31a35c62bd",
   "metadata": {},
   "outputs": [],
   "source": [
    "def get_bearing(lat1, lat2, long1, long2):\n",
    "    brng = Geodesic.WGS84.Inverse(lat1, long1, lat2, long2)['azi1']\n",
    "    return brng"
   ]
  },
  {
   "cell_type": "code",
   "execution_count": 9,
   "id": "cba5f88a-bb98-4a5f-a902-2539c17b2bcf",
   "metadata": {},
   "outputs": [
    {
     "data": {
      "text/plain": [
       "-24.017929532262528"
      ]
     },
     "execution_count": 9,
     "metadata": {},
     "output_type": "execute_result"
    }
   ],
   "source": [
    "get_bearing(38.773795, 38.773860, -121.363652, -121.363689)"
   ]
  },
  {
   "cell_type": "code",
   "execution_count": 10,
   "id": "466a6709-4929-41ce-ad33-bc0158c3e0db",
   "metadata": {},
   "outputs": [],
   "source": [
    "test_df['bearing'] = 0\n",
    "for i in range(1, len(test_df)):\n",
    "    lat1 = test_df.latitude.iloc[i-1]\n",
    "    lat2 = test_df.latitude.iloc[i]\n",
    "    long1 = test_df.longitude.iloc[i-1]\n",
    "    long2 = test_df.longitude.iloc[i]\n",
    "    bearing = get_bearing(lat1, lat2, long1, long2)\n",
    "    # https://stats.stackexchange.com/questions/283572/using-iloc-to-set-values\n",
    "    test_df.bearing.iloc[[i]] = bearing"
   ]
  },
  {
   "cell_type": "code",
   "execution_count": 11,
   "id": "7fc1b76c-8492-41aa-acda-09859e71b8b5",
   "metadata": {},
   "outputs": [
    {
     "data": {
      "text/html": [
       "<div>\n",
       "<style scoped>\n",
       "    .dataframe tbody tr th:only-of-type {\n",
       "        vertical-align: middle;\n",
       "    }\n",
       "\n",
       "    .dataframe tbody tr th {\n",
       "        vertical-align: top;\n",
       "    }\n",
       "\n",
       "    .dataframe thead th {\n",
       "        text-align: right;\n",
       "    }\n",
       "</style>\n",
       "<table border=\"1\" class=\"dataframe\">\n",
       "  <thead>\n",
       "    <tr style=\"text-align: right;\">\n",
       "      <th></th>\n",
       "      <th>latitude</th>\n",
       "      <th>longitude</th>\n",
       "      <th>elevation</th>\n",
       "      <th>bearing</th>\n",
       "    </tr>\n",
       "  </thead>\n",
       "  <tbody>\n",
       "    <tr>\n",
       "      <th>0</th>\n",
       "      <td>38.11272</td>\n",
       "      <td>-122.65319</td>\n",
       "      <td>63.04</td>\n",
       "      <td>0.000000</td>\n",
       "    </tr>\n",
       "    <tr>\n",
       "      <th>1</th>\n",
       "      <td>38.11343</td>\n",
       "      <td>-122.65308</td>\n",
       "      <td>63.40</td>\n",
       "      <td>6.978612</td>\n",
       "    </tr>\n",
       "    <tr>\n",
       "      <th>2</th>\n",
       "      <td>38.11370</td>\n",
       "      <td>-122.65309</td>\n",
       "      <td>63.68</td>\n",
       "      <td>-1.676102</td>\n",
       "    </tr>\n",
       "    <tr>\n",
       "      <th>3</th>\n",
       "      <td>38.11425</td>\n",
       "      <td>-122.65358</td>\n",
       "      <td>64.76</td>\n",
       "      <td>-35.140713</td>\n",
       "    </tr>\n",
       "    <tr>\n",
       "      <th>4</th>\n",
       "      <td>38.11461</td>\n",
       "      <td>-122.65354</td>\n",
       "      <td>65.55</td>\n",
       "      <td>5.016818</td>\n",
       "    </tr>\n",
       "  </tbody>\n",
       "</table>\n",
       "</div>"
      ],
      "text/plain": [
       "   latitude  longitude  elevation    bearing\n",
       "0  38.11272 -122.65319      63.04   0.000000\n",
       "1  38.11343 -122.65308      63.40   6.978612\n",
       "2  38.11370 -122.65309      63.68  -1.676102\n",
       "3  38.11425 -122.65358      64.76 -35.140713\n",
       "4  38.11461 -122.65354      65.55   5.016818"
      ]
     },
     "execution_count": 11,
     "metadata": {},
     "output_type": "execute_result"
    }
   ],
   "source": [
    "test_df.head()"
   ]
  },
  {
   "cell_type": "markdown",
   "id": "2e1769ec-ce80-4d0b-a32a-a994d1bf1f27",
   "metadata": {
    "tags": []
   },
   "source": [
    "# Create Elevation Columns\n",
    "---"
   ]
  },
  {
   "cell_type": "code",
   "execution_count": 12,
   "id": "5934c5f0-782b-4199-8209-69e45c697bbe",
   "metadata": {},
   "outputs": [
    {
     "data": {
      "text/html": [
       "<div>\n",
       "<style scoped>\n",
       "    .dataframe tbody tr th:only-of-type {\n",
       "        vertical-align: middle;\n",
       "    }\n",
       "\n",
       "    .dataframe tbody tr th {\n",
       "        vertical-align: top;\n",
       "    }\n",
       "\n",
       "    .dataframe thead th {\n",
       "        text-align: right;\n",
       "    }\n",
       "</style>\n",
       "<table border=\"1\" class=\"dataframe\">\n",
       "  <thead>\n",
       "    <tr style=\"text-align: right;\">\n",
       "      <th></th>\n",
       "      <th>latitude</th>\n",
       "      <th>longitude</th>\n",
       "      <th>elevation</th>\n",
       "      <th>bearing</th>\n",
       "      <th>ele_diff_m</th>\n",
       "      <th>total_ele_change_m</th>\n",
       "    </tr>\n",
       "  </thead>\n",
       "  <tbody>\n",
       "    <tr>\n",
       "      <th>0</th>\n",
       "      <td>38.11272</td>\n",
       "      <td>-122.65319</td>\n",
       "      <td>63.04</td>\n",
       "      <td>0.000000</td>\n",
       "      <td>0.00</td>\n",
       "      <td>0.00</td>\n",
       "    </tr>\n",
       "    <tr>\n",
       "      <th>1</th>\n",
       "      <td>38.11343</td>\n",
       "      <td>-122.65308</td>\n",
       "      <td>63.40</td>\n",
       "      <td>6.978612</td>\n",
       "      <td>0.36</td>\n",
       "      <td>0.36</td>\n",
       "    </tr>\n",
       "    <tr>\n",
       "      <th>2</th>\n",
       "      <td>38.11370</td>\n",
       "      <td>-122.65309</td>\n",
       "      <td>63.68</td>\n",
       "      <td>-1.676102</td>\n",
       "      <td>0.28</td>\n",
       "      <td>0.64</td>\n",
       "    </tr>\n",
       "    <tr>\n",
       "      <th>3</th>\n",
       "      <td>38.11425</td>\n",
       "      <td>-122.65358</td>\n",
       "      <td>64.76</td>\n",
       "      <td>-35.140713</td>\n",
       "      <td>1.08</td>\n",
       "      <td>1.72</td>\n",
       "    </tr>\n",
       "    <tr>\n",
       "      <th>4</th>\n",
       "      <td>38.11461</td>\n",
       "      <td>-122.65354</td>\n",
       "      <td>65.55</td>\n",
       "      <td>5.016818</td>\n",
       "      <td>0.79</td>\n",
       "      <td>2.51</td>\n",
       "    </tr>\n",
       "  </tbody>\n",
       "</table>\n",
       "</div>"
      ],
      "text/plain": [
       "   latitude  longitude  elevation    bearing  ele_diff_m  total_ele_change_m\n",
       "0  38.11272 -122.65319      63.04   0.000000        0.00                0.00\n",
       "1  38.11343 -122.65308      63.40   6.978612        0.36                0.36\n",
       "2  38.11370 -122.65309      63.68  -1.676102        0.28                0.64\n",
       "3  38.11425 -122.65358      64.76 -35.140713        1.08                1.72\n",
       "4  38.11461 -122.65354      65.55   5.016818        0.79                2.51"
      ]
     },
     "execution_count": 12,
     "metadata": {},
     "output_type": "execute_result"
    }
   ],
   "source": [
    "# ELEVATION CHANGE - METERS\n",
    "test_df['ele_diff_m'] = 0\n",
    "for i in range(1, len(test_df)-1):\n",
    "    e1 = test_df.iloc[i]['elevation']\n",
    "    e2 = test_df.iloc[i-1]['elevation']\n",
    "    test_df.at[i, 'ele_diff_m'] = (e1 - e2)\n",
    "test_df['total_ele_change_m'] = round(test_df['ele_diff_m'].cumsum(skipna = True), 4)\n",
    "test_df.head()"
   ]
  },
  {
   "cell_type": "markdown",
   "id": "83fdbe33-7f96-4e0d-a39b-7450d9be9d5d",
   "metadata": {
    "tags": []
   },
   "source": [
    "# Create Distance Columns\n",
    "---"
   ]
  },
  {
   "cell_type": "code",
   "execution_count": 13,
   "id": "1768d67c-f421-4480-bec2-87d613bb0c30",
   "metadata": {},
   "outputs": [
    {
     "data": {
      "text/html": [
       "<div>\n",
       "<style scoped>\n",
       "    .dataframe tbody tr th:only-of-type {\n",
       "        vertical-align: middle;\n",
       "    }\n",
       "\n",
       "    .dataframe tbody tr th {\n",
       "        vertical-align: top;\n",
       "    }\n",
       "\n",
       "    .dataframe thead th {\n",
       "        text-align: right;\n",
       "    }\n",
       "</style>\n",
       "<table border=\"1\" class=\"dataframe\">\n",
       "  <thead>\n",
       "    <tr style=\"text-align: right;\">\n",
       "      <th></th>\n",
       "      <th>latitude</th>\n",
       "      <th>longitude</th>\n",
       "      <th>elevation</th>\n",
       "      <th>bearing</th>\n",
       "      <th>ele_diff_m</th>\n",
       "      <th>total_ele_change_m</th>\n",
       "      <th>lat_lon</th>\n",
       "      <th>dist_diff_km</th>\n",
       "      <th>total_dist_km</th>\n",
       "    </tr>\n",
       "  </thead>\n",
       "  <tbody>\n",
       "    <tr>\n",
       "      <th>0</th>\n",
       "      <td>38.11272</td>\n",
       "      <td>-122.65319</td>\n",
       "      <td>63.04</td>\n",
       "      <td>0.000000</td>\n",
       "      <td>0.00</td>\n",
       "      <td>0.00</td>\n",
       "      <td>(38.11272, -122.65319000000001)</td>\n",
       "      <td>0.0000</td>\n",
       "      <td>0.0000</td>\n",
       "    </tr>\n",
       "    <tr>\n",
       "      <th>1</th>\n",
       "      <td>38.11343</td>\n",
       "      <td>-122.65308</td>\n",
       "      <td>63.40</td>\n",
       "      <td>6.978612</td>\n",
       "      <td>0.36</td>\n",
       "      <td>0.36</td>\n",
       "      <td>(38.11343, -122.65308000000002)</td>\n",
       "      <td>0.0795</td>\n",
       "      <td>0.0795</td>\n",
       "    </tr>\n",
       "    <tr>\n",
       "      <th>2</th>\n",
       "      <td>38.11370</td>\n",
       "      <td>-122.65309</td>\n",
       "      <td>63.68</td>\n",
       "      <td>-1.676102</td>\n",
       "      <td>0.28</td>\n",
       "      <td>0.64</td>\n",
       "      <td>(38.1137, -122.65309)</td>\n",
       "      <td>0.0300</td>\n",
       "      <td>0.1095</td>\n",
       "    </tr>\n",
       "    <tr>\n",
       "      <th>3</th>\n",
       "      <td>38.11425</td>\n",
       "      <td>-122.65358</td>\n",
       "      <td>64.76</td>\n",
       "      <td>-35.140713</td>\n",
       "      <td>1.08</td>\n",
       "      <td>1.72</td>\n",
       "      <td>(38.114250000000006, -122.65358)</td>\n",
       "      <td>0.0747</td>\n",
       "      <td>0.1842</td>\n",
       "    </tr>\n",
       "    <tr>\n",
       "      <th>4</th>\n",
       "      <td>38.11461</td>\n",
       "      <td>-122.65354</td>\n",
       "      <td>65.55</td>\n",
       "      <td>5.016818</td>\n",
       "      <td>0.79</td>\n",
       "      <td>2.51</td>\n",
       "      <td>(38.114610000000006, -122.65354)</td>\n",
       "      <td>0.0402</td>\n",
       "      <td>0.2244</td>\n",
       "    </tr>\n",
       "  </tbody>\n",
       "</table>\n",
       "</div>"
      ],
      "text/plain": [
       "   latitude  longitude  elevation    bearing  ele_diff_m  total_ele_change_m  \\\n",
       "0  38.11272 -122.65319      63.04   0.000000        0.00                0.00   \n",
       "1  38.11343 -122.65308      63.40   6.978612        0.36                0.36   \n",
       "2  38.11370 -122.65309      63.68  -1.676102        0.28                0.64   \n",
       "3  38.11425 -122.65358      64.76 -35.140713        1.08                1.72   \n",
       "4  38.11461 -122.65354      65.55   5.016818        0.79                2.51   \n",
       "\n",
       "                            lat_lon  dist_diff_km  total_dist_km  \n",
       "0   (38.11272, -122.65319000000001)        0.0000         0.0000  \n",
       "1   (38.11343, -122.65308000000002)        0.0795         0.0795  \n",
       "2             (38.1137, -122.65309)        0.0300         0.1095  \n",
       "3  (38.114250000000006, -122.65358)        0.0747         0.1842  \n",
       "4  (38.114610000000006, -122.65354)        0.0402         0.2244  "
      ]
     },
     "execution_count": 13,
     "metadata": {},
     "output_type": "execute_result"
    }
   ],
   "source": [
    "# DISTANCE - KILOMETERS\n",
    "test_df['lat_lon'] = [(lat, lon) for lat, lon in zip(test_df['latitude'], test_df['longitude'])]\n",
    "test_df['dist_diff_km'] = 0\n",
    "for i in range(1, len(test_df)-1):\n",
    "    loc1 = test_df.iloc[i]['lat_lon']\n",
    "    loc2 = test_df.iloc[i-1]['lat_lon']\n",
    "    test_df.at[i, 'dist_diff_km'] = round(hs.haversine(loc1, loc2), 4) # kilometers\n",
    "test_df['total_dist_km'] = test_df['dist_diff_km'].cumsum(skipna = True)\n",
    "test_df.head()"
   ]
  },
  {
   "cell_type": "code",
   "execution_count": 14,
   "id": "6bbf82af-66af-4096-b9be-664e23d0efd7",
   "metadata": {},
   "outputs": [
    {
     "data": {
      "text/html": [
       "<div>\n",
       "<style scoped>\n",
       "    .dataframe tbody tr th:only-of-type {\n",
       "        vertical-align: middle;\n",
       "    }\n",
       "\n",
       "    .dataframe tbody tr th {\n",
       "        vertical-align: top;\n",
       "    }\n",
       "\n",
       "    .dataframe thead th {\n",
       "        text-align: right;\n",
       "    }\n",
       "</style>\n",
       "<table border=\"1\" class=\"dataframe\">\n",
       "  <thead>\n",
       "    <tr style=\"text-align: right;\">\n",
       "      <th></th>\n",
       "      <th>latitude</th>\n",
       "      <th>longitude</th>\n",
       "      <th>elevation</th>\n",
       "      <th>bearing</th>\n",
       "      <th>ele_diff_m</th>\n",
       "      <th>total_ele_change_m</th>\n",
       "      <th>lat_lon</th>\n",
       "      <th>dist_diff_km</th>\n",
       "      <th>total_dist_km</th>\n",
       "    </tr>\n",
       "  </thead>\n",
       "  <tbody>\n",
       "    <tr>\n",
       "      <th>2844</th>\n",
       "      <td>38.11461</td>\n",
       "      <td>-122.65354</td>\n",
       "      <td>65.49</td>\n",
       "      <td>-152.817726</td>\n",
       "      <td>-0.18</td>\n",
       "      <td>2.45</td>\n",
       "      <td>(38.114610000000006, -122.65354)</td>\n",
       "      <td>0.0250</td>\n",
       "      <td>161.3451</td>\n",
       "    </tr>\n",
       "    <tr>\n",
       "      <th>2845</th>\n",
       "      <td>38.11425</td>\n",
       "      <td>-122.65358</td>\n",
       "      <td>64.76</td>\n",
       "      <td>-174.983157</td>\n",
       "      <td>-0.73</td>\n",
       "      <td>1.72</td>\n",
       "      <td>(38.114250000000006, -122.65358)</td>\n",
       "      <td>0.0402</td>\n",
       "      <td>161.3853</td>\n",
       "    </tr>\n",
       "    <tr>\n",
       "      <th>2846</th>\n",
       "      <td>38.11370</td>\n",
       "      <td>-122.65309</td>\n",
       "      <td>63.68</td>\n",
       "      <td>144.858985</td>\n",
       "      <td>-1.08</td>\n",
       "      <td>0.64</td>\n",
       "      <td>(38.1137, -122.65309)</td>\n",
       "      <td>0.0747</td>\n",
       "      <td>161.4600</td>\n",
       "    </tr>\n",
       "    <tr>\n",
       "      <th>2847</th>\n",
       "      <td>38.11343</td>\n",
       "      <td>-122.65308</td>\n",
       "      <td>63.40</td>\n",
       "      <td>178.323892</td>\n",
       "      <td>-0.28</td>\n",
       "      <td>0.36</td>\n",
       "      <td>(38.11343, -122.65308000000002)</td>\n",
       "      <td>0.0300</td>\n",
       "      <td>161.4900</td>\n",
       "    </tr>\n",
       "    <tr>\n",
       "      <th>2848</th>\n",
       "      <td>38.11299</td>\n",
       "      <td>-122.65314</td>\n",
       "      <td>63.22</td>\n",
       "      <td>-173.850794</td>\n",
       "      <td>0.00</td>\n",
       "      <td>0.36</td>\n",
       "      <td>(38.11299, -122.65314000000001)</td>\n",
       "      <td>0.0000</td>\n",
       "      <td>161.4900</td>\n",
       "    </tr>\n",
       "  </tbody>\n",
       "</table>\n",
       "</div>"
      ],
      "text/plain": [
       "      latitude  longitude  elevation     bearing  ele_diff_m  \\\n",
       "2844  38.11461 -122.65354      65.49 -152.817726       -0.18   \n",
       "2845  38.11425 -122.65358      64.76 -174.983157       -0.73   \n",
       "2846  38.11370 -122.65309      63.68  144.858985       -1.08   \n",
       "2847  38.11343 -122.65308      63.40  178.323892       -0.28   \n",
       "2848  38.11299 -122.65314      63.22 -173.850794        0.00   \n",
       "\n",
       "      total_ele_change_m                           lat_lon  dist_diff_km  \\\n",
       "2844                2.45  (38.114610000000006, -122.65354)        0.0250   \n",
       "2845                1.72  (38.114250000000006, -122.65358)        0.0402   \n",
       "2846                0.64             (38.1137, -122.65309)        0.0747   \n",
       "2847                0.36   (38.11343, -122.65308000000002)        0.0300   \n",
       "2848                0.36   (38.11299, -122.65314000000001)        0.0000   \n",
       "\n",
       "      total_dist_km  \n",
       "2844       161.3451  \n",
       "2845       161.3853  \n",
       "2846       161.4600  \n",
       "2847       161.4900  \n",
       "2848       161.4900  "
      ]
     },
     "execution_count": 14,
     "metadata": {},
     "output_type": "execute_result"
    }
   ],
   "source": [
    "test_df.tail()"
   ]
  },
  {
   "cell_type": "markdown",
   "id": "c00ca56b-e4eb-4c22-a513-4c14e5e959e7",
   "metadata": {
    "jp-MarkdownHeadingCollapsed": true,
    "tags": []
   },
   "source": [
    "# Time and Elapsed Time\n",
    "---\n",
    "*Using average and high means from training sets' time_diff_s for respective test datasets. Mean is reasonable and accounts for potential breaks that cause the outlier time differences between trackpoints when the Garmin sensor was paused.*"
   ]
  },
  {
   "cell_type": "markdown",
   "id": "8243a6b8-fed8-43b9-9142-db19b165a806",
   "metadata": {
    "jp-MarkdownHeadingCollapsed": true,
    "tags": []
   },
   "source": [
    "## Average Dataset Exploration"
   ]
  },
  {
   "cell_type": "code",
   "execution_count": 15,
   "id": "fd3d1845-bdc9-4805-88b9-08054dd0771d",
   "metadata": {},
   "outputs": [],
   "source": [
    "a_df = pd.read_csv('../data/average/a_df.csv')"
   ]
  },
  {
   "cell_type": "code",
   "execution_count": 16,
   "id": "0790be21-f65f-441c-b4d9-5a5ea4daf677",
   "metadata": {},
   "outputs": [
    {
     "data": {
      "text/plain": [
       "Index(['timestamp', 'latitude', 'longitude', 'elevation', 'dt', 'heart_rate',\n",
       "       'bearing', 'time_diff_s', 'total_time_s', 'ele_diff_m',\n",
       "       'total_ele_change_m', 'lat_lon', 'dist_diff_km', 'total_dist_km',\n",
       "       'temp', 'feels_like', 'pressure', 'humidity', 'dew_point', 'clouds',\n",
       "       'wind_speed', 'wind_deg'],\n",
       "      dtype='object')"
      ]
     },
     "execution_count": 16,
     "metadata": {},
     "output_type": "execute_result"
    }
   ],
   "source": [
    "a_df.columns"
   ]
  },
  {
   "cell_type": "code",
   "execution_count": 17,
   "id": "fce2d425-61d8-4c99-a557-88e7e142af4e",
   "metadata": {},
   "outputs": [
    {
     "data": {
      "text/plain": [
       "4.615185847743987"
      ]
     },
     "execution_count": 17,
     "metadata": {},
     "output_type": "execute_result"
    }
   ],
   "source": [
    "a_df['time_diff_s'].mean()"
   ]
  },
  {
   "cell_type": "code",
   "execution_count": 18,
   "id": "038ef9df-58f6-422c-98da-4036c83012b2",
   "metadata": {},
   "outputs": [
    {
     "data": {
      "text/plain": [
       "0.2952362022129464"
      ]
     },
     "execution_count": 18,
     "metadata": {},
     "output_type": "execute_result"
    }
   ],
   "source": [
    "# check percentage of trackpoints above mean\n",
    "a_df['time_diff_s'][a_df['time_diff_s'] > 4.615].count()/a_df['time_diff_s'].count()"
   ]
  },
  {
   "cell_type": "code",
   "execution_count": 19,
   "id": "4304c2ec-b163-4d35-b940-1d2757bffb94",
   "metadata": {},
   "outputs": [],
   "source": [
    "# a_df['time_diff_s'].value_counts(ascending = False).head(50)"
   ]
  },
  {
   "cell_type": "code",
   "execution_count": 20,
   "id": "300e093d-83a5-4bbe-9ee7-ac834ab3c9e1",
   "metadata": {},
   "outputs": [
    {
     "data": {
      "text/plain": [
       "<AxesSubplot:ylabel='time_diff_s'>"
      ]
     },
     "execution_count": 20,
     "metadata": {},
     "output_type": "execute_result"
    },
    {
     "data": {
      "image/png": "[encoded data removed]",
      "text/plain": [
       "<Figure size 720x432 with 1 Axes>"
      ]
     },
     "metadata": {
      "needs_background": "light"
     },
     "output_type": "display_data"
    }
   ],
   "source": [
    "plt.figure(figsize = (10,6))\n",
    "sns.boxplot(y=a_df['time_diff_s'])"
   ]
  },
  {
   "cell_type": "markdown",
   "id": "41af75c9-051c-4fc5-8a2b-4bc78505e3c4",
   "metadata": {
    "jp-MarkdownHeadingCollapsed": true,
    "tags": []
   },
   "source": [
    "## High Dataset Exploration"
   ]
  },
  {
   "cell_type": "code",
   "execution_count": 21,
   "id": "3ec7fcee-375f-440b-bcfe-892b45563555",
   "metadata": {},
   "outputs": [],
   "source": [
    "h_df = pd.read_csv('../data/high/h_df.csv')"
   ]
  },
  {
   "cell_type": "code",
   "execution_count": 22,
   "id": "7c80581e-0f02-46d2-ada5-6a964122af95",
   "metadata": {},
   "outputs": [
    {
     "data": {
      "text/plain": [
       "Index(['timestamp', 'latitude', 'longitude', 'elevation', 'dt', 'heart_rate',\n",
       "       'bearing', 'time_diff_s', 'total_time_s', 'ele_diff_m',\n",
       "       'total_ele_change_m', 'lat_lon', 'dist_diff_km', 'total_dist_km',\n",
       "       'temp', 'feels_like', 'pressure', 'humidity', 'dew_point', 'clouds',\n",
       "       'wind_speed', 'wind_deg'],\n",
       "      dtype='object')"
      ]
     },
     "execution_count": 22,
     "metadata": {},
     "output_type": "execute_result"
    }
   ],
   "source": [
    "h_df.columns"
   ]
  },
  {
   "cell_type": "code",
   "execution_count": 23,
   "id": "931473a0-a8b3-4dfb-8737-f714c9ed9e0c",
   "metadata": {},
   "outputs": [
    {
     "data": {
      "text/plain": [
       "4.248005181347151"
      ]
     },
     "execution_count": 23,
     "metadata": {},
     "output_type": "execute_result"
    }
   ],
   "source": [
    "h_df['time_diff_s'].mean()"
   ]
  },
  {
   "cell_type": "code",
   "execution_count": 24,
   "id": "fec9b19f-96e8-44e7-990d-f1fa93b3ed71",
   "metadata": {},
   "outputs": [
    {
     "data": {
      "text/plain": [
       "0.2665025906735751"
      ]
     },
     "execution_count": 24,
     "metadata": {},
     "output_type": "execute_result"
    }
   ],
   "source": [
    "# check percentage of trackpoints above mean\n",
    "h_df['time_diff_s'][h_df['time_diff_s'] > 4.248].count()/h_df['time_diff_s'].count()"
   ]
  },
  {
   "cell_type": "code",
   "execution_count": 25,
   "id": "e3ab9e4d-2a06-476f-a4b0-81e889607877",
   "metadata": {},
   "outputs": [],
   "source": [
    "# h_df['time_diff_s'].value_counts(ascending = False).head(50)"
   ]
  },
  {
   "cell_type": "code",
   "execution_count": 26,
   "id": "8591f888-de5f-46cf-ad07-c6b6b0aa434f",
   "metadata": {},
   "outputs": [
    {
     "data": {
      "text/plain": [
       "<AxesSubplot:ylabel='time_diff_s'>"
      ]
     },
     "execution_count": 26,
     "metadata": {},
     "output_type": "execute_result"
    },
    {
     "data": {
      "image/png": "[encoded data removed]",
      "text/plain": [
       "<Figure size 720x432 with 1 Axes>"
      ]
     },
     "metadata": {
      "needs_background": "light"
     },
     "output_type": "display_data"
    }
   ],
   "source": [
    "plt.figure(figsize = (10,6))\n",
    "sns.boxplot(y=h_df['time_diff_s'])"
   ]
  },
  {
   "cell_type": "markdown",
   "id": "7eca371a-267d-45be-80f8-2cc8b429a5da",
   "metadata": {
    "jp-MarkdownHeadingCollapsed": true,
    "tags": []
   },
   "source": [
    "# Create Average Test Dataset and High Test Dataset\n",
    "---"
   ]
  },
  {
   "cell_type": "code",
   "execution_count": 27,
   "id": "0fcc79d3-7767-4fac-ade2-af30a1eba8bd",
   "metadata": {},
   "outputs": [
    {
     "data": {
      "text/plain": [
       "Index(['latitude', 'longitude', 'elevation', 'bearing', 'ele_diff_m',\n",
       "       'total_ele_change_m', 'lat_lon', 'dist_diff_km', 'total_dist_km'],\n",
       "      dtype='object')"
      ]
     },
     "execution_count": 27,
     "metadata": {},
     "output_type": "execute_result"
    }
   ],
   "source": [
    "test_df.columns"
   ]
  },
  {
   "cell_type": "code",
   "execution_count": 28,
   "id": "2d71080f-d3ca-4f53-88db-d52c6031460e",
   "metadata": {},
   "outputs": [
    {
     "data": {
      "text/html": [
       "<div>\n",
       "<style scoped>\n",
       "    .dataframe tbody tr th:only-of-type {\n",
       "        vertical-align: middle;\n",
       "    }\n",
       "\n",
       "    .dataframe tbody tr th {\n",
       "        vertical-align: top;\n",
       "    }\n",
       "\n",
       "    .dataframe thead th {\n",
       "        text-align: right;\n",
       "    }\n",
       "</style>\n",
       "<table border=\"1\" class=\"dataframe\">\n",
       "  <thead>\n",
       "    <tr style=\"text-align: right;\">\n",
       "      <th></th>\n",
       "      <th>latitude</th>\n",
       "      <th>longitude</th>\n",
       "      <th>elevation</th>\n",
       "      <th>bearing</th>\n",
       "      <th>ele_diff_m</th>\n",
       "      <th>total_ele_change_m</th>\n",
       "      <th>lat_lon</th>\n",
       "      <th>dist_diff_km</th>\n",
       "      <th>total_dist_km</th>\n",
       "      <th>time_diff_s</th>\n",
       "      <th>total_time_s</th>\n",
       "    </tr>\n",
       "  </thead>\n",
       "  <tbody>\n",
       "    <tr>\n",
       "      <th>0</th>\n",
       "      <td>38.11272</td>\n",
       "      <td>-122.65319</td>\n",
       "      <td>63.04</td>\n",
       "      <td>0.000000</td>\n",
       "      <td>0.00</td>\n",
       "      <td>0.00</td>\n",
       "      <td>(38.11272, -122.65319000000001)</td>\n",
       "      <td>0.0000</td>\n",
       "      <td>0.0000</td>\n",
       "      <td>0.000000</td>\n",
       "      <td>0.000000</td>\n",
       "    </tr>\n",
       "    <tr>\n",
       "      <th>1</th>\n",
       "      <td>38.11343</td>\n",
       "      <td>-122.65308</td>\n",
       "      <td>63.40</td>\n",
       "      <td>6.978612</td>\n",
       "      <td>0.36</td>\n",
       "      <td>0.36</td>\n",
       "      <td>(38.11343, -122.65308000000002)</td>\n",
       "      <td>0.0795</td>\n",
       "      <td>0.0795</td>\n",
       "      <td>4.615186</td>\n",
       "      <td>4.615186</td>\n",
       "    </tr>\n",
       "    <tr>\n",
       "      <th>2</th>\n",
       "      <td>38.11370</td>\n",
       "      <td>-122.65309</td>\n",
       "      <td>63.68</td>\n",
       "      <td>-1.676102</td>\n",
       "      <td>0.28</td>\n",
       "      <td>0.64</td>\n",
       "      <td>(38.1137, -122.65309)</td>\n",
       "      <td>0.0300</td>\n",
       "      <td>0.1095</td>\n",
       "      <td>4.615186</td>\n",
       "      <td>9.230372</td>\n",
       "    </tr>\n",
       "    <tr>\n",
       "      <th>3</th>\n",
       "      <td>38.11425</td>\n",
       "      <td>-122.65358</td>\n",
       "      <td>64.76</td>\n",
       "      <td>-35.140713</td>\n",
       "      <td>1.08</td>\n",
       "      <td>1.72</td>\n",
       "      <td>(38.114250000000006, -122.65358)</td>\n",
       "      <td>0.0747</td>\n",
       "      <td>0.1842</td>\n",
       "      <td>4.615186</td>\n",
       "      <td>13.845558</td>\n",
       "    </tr>\n",
       "    <tr>\n",
       "      <th>4</th>\n",
       "      <td>38.11461</td>\n",
       "      <td>-122.65354</td>\n",
       "      <td>65.55</td>\n",
       "      <td>5.016818</td>\n",
       "      <td>0.79</td>\n",
       "      <td>2.51</td>\n",
       "      <td>(38.114610000000006, -122.65354)</td>\n",
       "      <td>0.0402</td>\n",
       "      <td>0.2244</td>\n",
       "      <td>4.615186</td>\n",
       "      <td>18.460743</td>\n",
       "    </tr>\n",
       "  </tbody>\n",
       "</table>\n",
       "</div>"
      ],
      "text/plain": [
       "   latitude  longitude  elevation    bearing  ele_diff_m  total_ele_change_m  \\\n",
       "0  38.11272 -122.65319      63.04   0.000000        0.00                0.00   \n",
       "1  38.11343 -122.65308      63.40   6.978612        0.36                0.36   \n",
       "2  38.11370 -122.65309      63.68  -1.676102        0.28                0.64   \n",
       "3  38.11425 -122.65358      64.76 -35.140713        1.08                1.72   \n",
       "4  38.11461 -122.65354      65.55   5.016818        0.79                2.51   \n",
       "\n",
       "                            lat_lon  dist_diff_km  total_dist_km  time_diff_s  \\\n",
       "0   (38.11272, -122.65319000000001)        0.0000         0.0000     0.000000   \n",
       "1   (38.11343, -122.65308000000002)        0.0795         0.0795     4.615186   \n",
       "2             (38.1137, -122.65309)        0.0300         0.1095     4.615186   \n",
       "3  (38.114250000000006, -122.65358)        0.0747         0.1842     4.615186   \n",
       "4  (38.114610000000006, -122.65354)        0.0402         0.2244     4.615186   \n",
       "\n",
       "   total_time_s  \n",
       "0      0.000000  \n",
       "1      4.615186  \n",
       "2      9.230372  \n",
       "3     13.845558  \n",
       "4     18.460743  "
      ]
     },
     "execution_count": 28,
     "metadata": {},
     "output_type": "execute_result"
    }
   ],
   "source": [
    "# create copy of test_df to assign average cycling performance time to\n",
    "a_test_df = test_df.copy()\n",
    "\n",
    "# assign mean of a_df['time_diff_s'] as a_test_df\n",
    "a_test_df['time_diff_s'] = a_df['time_diff_s'].mean()\n",
    "a_test_df['time_diff_s'][0] = 0\n",
    "\n",
    "# cumulative sum of time_diff_s for total_time_s\n",
    "a_test_df['total_time_s'] = a_test_df['time_diff_s'].cumsum(skipna = True)\n",
    "\n",
    "a_test_df.head()"
   ]
  },
  {
   "cell_type": "code",
   "execution_count": 29,
   "id": "300a7d17-3883-47b4-bfcb-dc5a26c7b384",
   "metadata": {},
   "outputs": [
    {
     "data": {
      "text/html": [
       "<div>\n",
       "<style scoped>\n",
       "    .dataframe tbody tr th:only-of-type {\n",
       "        vertical-align: middle;\n",
       "    }\n",
       "\n",
       "    .dataframe tbody tr th {\n",
       "        vertical-align: top;\n",
       "    }\n",
       "\n",
       "    .dataframe thead th {\n",
       "        text-align: right;\n",
       "    }\n",
       "</style>\n",
       "<table border=\"1\" class=\"dataframe\">\n",
       "  <thead>\n",
       "    <tr style=\"text-align: right;\">\n",
       "      <th></th>\n",
       "      <th>latitude</th>\n",
       "      <th>longitude</th>\n",
       "      <th>elevation</th>\n",
       "      <th>bearing</th>\n",
       "      <th>ele_diff_m</th>\n",
       "      <th>total_ele_change_m</th>\n",
       "      <th>lat_lon</th>\n",
       "      <th>dist_diff_km</th>\n",
       "      <th>total_dist_km</th>\n",
       "      <th>time_diff_s</th>\n",
       "      <th>total_time_s</th>\n",
       "    </tr>\n",
       "  </thead>\n",
       "  <tbody>\n",
       "    <tr>\n",
       "      <th>0</th>\n",
       "      <td>38.11272</td>\n",
       "      <td>-122.65319</td>\n",
       "      <td>63.04</td>\n",
       "      <td>0.000000</td>\n",
       "      <td>0.00</td>\n",
       "      <td>0.00</td>\n",
       "      <td>(38.11272, -122.65319000000001)</td>\n",
       "      <td>0.0000</td>\n",
       "      <td>0.0000</td>\n",
       "      <td>0.000000</td>\n",
       "      <td>0.000000</td>\n",
       "    </tr>\n",
       "    <tr>\n",
       "      <th>1</th>\n",
       "      <td>38.11343</td>\n",
       "      <td>-122.65308</td>\n",
       "      <td>63.40</td>\n",
       "      <td>6.978612</td>\n",
       "      <td>0.36</td>\n",
       "      <td>0.36</td>\n",
       "      <td>(38.11343, -122.65308000000002)</td>\n",
       "      <td>0.0795</td>\n",
       "      <td>0.0795</td>\n",
       "      <td>4.248005</td>\n",
       "      <td>4.248005</td>\n",
       "    </tr>\n",
       "    <tr>\n",
       "      <th>2</th>\n",
       "      <td>38.11370</td>\n",
       "      <td>-122.65309</td>\n",
       "      <td>63.68</td>\n",
       "      <td>-1.676102</td>\n",
       "      <td>0.28</td>\n",
       "      <td>0.64</td>\n",
       "      <td>(38.1137, -122.65309)</td>\n",
       "      <td>0.0300</td>\n",
       "      <td>0.1095</td>\n",
       "      <td>4.248005</td>\n",
       "      <td>8.496010</td>\n",
       "    </tr>\n",
       "    <tr>\n",
       "      <th>3</th>\n",
       "      <td>38.11425</td>\n",
       "      <td>-122.65358</td>\n",
       "      <td>64.76</td>\n",
       "      <td>-35.140713</td>\n",
       "      <td>1.08</td>\n",
       "      <td>1.72</td>\n",
       "      <td>(38.114250000000006, -122.65358)</td>\n",
       "      <td>0.0747</td>\n",
       "      <td>0.1842</td>\n",
       "      <td>4.248005</td>\n",
       "      <td>12.744016</td>\n",
       "    </tr>\n",
       "    <tr>\n",
       "      <th>4</th>\n",
       "      <td>38.11461</td>\n",
       "      <td>-122.65354</td>\n",
       "      <td>65.55</td>\n",
       "      <td>5.016818</td>\n",
       "      <td>0.79</td>\n",
       "      <td>2.51</td>\n",
       "      <td>(38.114610000000006, -122.65354)</td>\n",
       "      <td>0.0402</td>\n",
       "      <td>0.2244</td>\n",
       "      <td>4.248005</td>\n",
       "      <td>16.992021</td>\n",
       "    </tr>\n",
       "  </tbody>\n",
       "</table>\n",
       "</div>"
      ],
      "text/plain": [
       "   latitude  longitude  elevation    bearing  ele_diff_m  total_ele_change_m  \\\n",
       "0  38.11272 -122.65319      63.04   0.000000        0.00                0.00   \n",
       "1  38.11343 -122.65308      63.40   6.978612        0.36                0.36   \n",
       "2  38.11370 -122.65309      63.68  -1.676102        0.28                0.64   \n",
       "3  38.11425 -122.65358      64.76 -35.140713        1.08                1.72   \n",
       "4  38.11461 -122.65354      65.55   5.016818        0.79                2.51   \n",
       "\n",
       "                            lat_lon  dist_diff_km  total_dist_km  time_diff_s  \\\n",
       "0   (38.11272, -122.65319000000001)        0.0000         0.0000     0.000000   \n",
       "1   (38.11343, -122.65308000000002)        0.0795         0.0795     4.248005   \n",
       "2             (38.1137, -122.65309)        0.0300         0.1095     4.248005   \n",
       "3  (38.114250000000006, -122.65358)        0.0747         0.1842     4.248005   \n",
       "4  (38.114610000000006, -122.65354)        0.0402         0.2244     4.248005   \n",
       "\n",
       "   total_time_s  \n",
       "0      0.000000  \n",
       "1      4.248005  \n",
       "2      8.496010  \n",
       "3     12.744016  \n",
       "4     16.992021  "
      ]
     },
     "execution_count": 29,
     "metadata": {},
     "output_type": "execute_result"
    }
   ],
   "source": [
    "# create copy of test_df to assign average cycling performance time to\n",
    "h_test_df = test_df.copy()\n",
    "\n",
    "# assign mean of h_df['time_diff_s'] as h_test_df\n",
    "h_test_df['time_diff_s'] = h_df['time_diff_s'].mean()\n",
    "h_test_df['time_diff_s'][0] = 0\n",
    "\n",
    "# cumulative sum of time_diff_s for total_time_s\n",
    "h_test_df['total_time_s'] = h_test_df['time_diff_s'].cumsum(skipna = True)\n",
    "h_test_df.head()"
   ]
  },
  {
   "cell_type": "markdown",
   "id": "b12ff2bc-4d9c-4864-b046-4508bfdf94a5",
   "metadata": {
    "tags": []
   },
   "source": [
    "# Get Weather Variables for within 48-hour forecast\n",
    "---"
   ]
  },
  {
   "cell_type": "code",
   "execution_count": 30,
   "id": "c877ab28-8310-4f4a-a5ca-81483b30fada",
   "metadata": {},
   "outputs": [],
   "source": [
    "def get_weather(unix_datetime, lat, lon, API_key = API_key):\n",
    "    '''\n",
    "    Using the OpenWeather OneCall 3.0 API to pull weather data by Unix timestamp\n",
    "    Requires API key for at minimum Startup OpenWeather subscription\n",
    "    Input: UNIX datetime for time requesting, latitude and longitude of location\n",
    "    Output: Pandas dataframe for that datetime and location's weather\n",
    "    '''\n",
    "    \n",
    "    url_hist_point = f\"https://api.openweathermap.org/data/3.0/onecall/timemachine?lat={lat}&lon={lon}&dt={unix_datetime}&appid={API_key}\"\n",
    "    hist_point_req = requests.get(url_hist_point)\n",
    "\n",
    "    wd_hist = hist_point_req.json()\n",
    "\n",
    "    wd_hist_df = json_normalize(wd_hist['data'])\n",
    "    wd_hist_df = wd_hist_df[['dt', 'temp', 'feels_like', 'pressure', 'humidity',\n",
    "           'dew_point', 'clouds', 'wind_speed', 'wind_deg']]\n",
    "    \n",
    "    return wd_hist_df"
   ]
  },
  {
   "cell_type": "code",
   "execution_count": 31,
   "id": "60d5a850-d70c-4330-a483-68857ff28ab7",
   "metadata": {},
   "outputs": [],
   "source": [
    "def combine_df_forecast(df, unix_start_time):\n",
    "    \n",
    "    df['dt'] = unix_start_time + df['total_time_s'].astype(int)\n",
    "    \n",
    "    weather_df = pd.DataFrame()\n",
    "    for i in range(len(df)): # iterate through each trackpoint\n",
    "        # 600 calls per minute\n",
    "        unix = df['dt'][i]\n",
    "        lat = df['latitude'][i]\n",
    "        lon = df['longitude'][i]\n",
    "        weather = get_weather(unix, lat, lon) # get historical weather for trackpoint\n",
    "        weather_df = weather_df.append(weather) # append to weather dataframe\n",
    "\n",
    "    df = df.merge(weather_df, how = 'inner', on = 'dt') # merge activity dataframe with weather dataframe on unix time stamp\n",
    "    \n",
    "    # Convert dt UNIX to datetime UTC\n",
    "    df['datetime'] = df['dt'].apply(lambda x: datetime.fromtimestamp(x))\n",
    "    \n",
    "    return df"
   ]
  },
  {
   "cell_type": "markdown",
   "id": "1d85d45d-0533-4bf8-88ab-afa325148f9e",
   "metadata": {},
   "source": [
    "## Test Sets combined w/ Weather"
   ]
  },
  {
   "cell_type": "code",
   "execution_count": 32,
   "id": "f014c068-920b-482a-8782-61413bb73d55",
   "metadata": {},
   "outputs": [],
   "source": [
    "# a_test_df = combine_df_forecast(a_test_df, 1660748400) # forecast for 08/17/2022 from 08/12/2022\n",
    "# h_test_df = combine_df_forecast(h_test_df, 1660748400) # forecast for 08/17/2022 from 08/12/2022"
   ]
  },
  {
   "cell_type": "markdown",
   "id": "0aadf25d-0bd2-4bad-af00-aab9f0102e12",
   "metadata": {},
   "source": [
    "# Save Test CSVs"
   ]
  },
  {
   "cell_type": "code",
   "execution_count": 33,
   "id": "a6938dc4-a1ed-43d4-831a-62e7303143d6",
   "metadata": {},
   "outputs": [],
   "source": [
    "# a_test_df.to_csv('../data/a_test_df.csv', index = False)\n",
    "# h_test_df.to_csv('../data/h_test_df.csv', index = False)"
   ]
  },
  {
   "cell_type": "code",
   "execution_count": null,
   "id": "b233eaee-51ce-462c-98b4-befde7b4c9f3",
   "metadata": {},
   "outputs": [],
   "source": []
  }
 ],
 "metadata": {
  "kernelspec": {
   "display_name": "Python 3 (ipykernel)",
   "language": "python",
   "name": "python3"
  },
  "language_info": {
   "codemirror_mode": {
    "name": "ipython",
    "version": 3
   },
   "file_extension": ".py",
   "mimetype": "text/x-python",
   "name": "python",
   "nbconvert_exporter": "python",
   "pygments_lexer": "ipython3",
   "version": "3.9.12"
  }
 },
 "nbformat": 4,
 "nbformat_minor": 5
}
