{
 "cells": [
  {
   "cell_type": "markdown",
   "id": "0a3308d1-f610-4cf2-b4da-5e3209942a44",
   "metadata": {},
   "source": [
    "# STRAVA API AND CYCLING ACTIVITY SUMMARY DATA\n",
    "---\n",
    "---\n"
   ]
  },
  {
   "cell_type": "code",
   "execution_count": 1,
   "id": "50905b46-5ab2-400b-9686-f7c887a860c7",
   "metadata": {},
   "outputs": [],
   "source": [
    "# https://towardsdatascience.com/using-the-strava-api-and-pandas-to-explore-your-activity-data-d94901d9bfde\n",
    "# https://www.youtube.com/watch?v=sgscChKfGyg&t=258s\n",
    "# https://github.com/franchyze923/Code_From_Tutorials/blob/master/Strava_Api/strava_api.py\n",
    "# Lesson 5.01 APIs\n",
    "# Lesson 8.02 Timeseries"
   ]
  },
  {
   "cell_type": "markdown",
   "id": "2d7451d4-62ed-4871-8369-ea915f3e4dc2",
   "metadata": {
    "tags": []
   },
   "source": [
    "# Imports\n",
    "---"
   ]
  },
  {
   "cell_type": "code",
   "execution_count": 2,
   "id": "da91265f-c099-4eda-b56e-0b9b170c7ca6",
   "metadata": {},
   "outputs": [],
   "source": [
    "import pandas as pd\n",
    "from pandas import json_normalize\n",
    "import numpy as np\n",
    "import seaborn as sns\n",
    "import matplotlib.pyplot as plt\n",
    "\n",
    "import requests\n",
    "import urllib3\n",
    "\n",
    "%matplotlib inline\n",
    "pd.set_option('display.max_columns', None)"
   ]
  },
  {
   "cell_type": "markdown",
   "id": "6179f0d1-e837-40d0-98a0-d79b8b98e0df",
   "metadata": {},
   "source": [
    "# API\n",
    "---"
   ]
  },
  {
   "cell_type": "code",
   "execution_count": 3,
   "id": "c3791afa-9a70-4457-a746-5d08d06bb60f",
   "metadata": {},
   "outputs": [],
   "source": [
    "client_id = \"89682\"\n",
    "secret = '0211f1fcd1e21bf52f9690ed169fcbd4d886f602'\n",
    "refresh_token = '7a3f31cb96a242deb9e08de21eee388496d44bd0'"
   ]
  },
  {
   "cell_type": "code",
   "execution_count": 4,
   "id": "e0b81e0f-54e0-481f-bcd3-0c99ff8ed850",
   "metadata": {},
   "outputs": [
    {
     "name": "stdout",
     "output_type": "stream",
     "text": [
      "Requesting Token...\n",
      "\n",
      "Status: 200\n"
     ]
    }
   ],
   "source": [
    "urllib3.disable_warnings(urllib3.exceptions.InsecureRequestWarning)\n",
    "\n",
    "auth_url = \"https://www.strava.com/oauth/token\"\n",
    "activites_url = \"https://www.strava.com/api/v3/athlete/activities\"\n",
    "\n",
    "payload = {\n",
    "    'client_id': client_id,\n",
    "    'client_secret': secret,\n",
    "    'refresh_token': refresh_token,\n",
    "    'grant_type': \"refresh_token\",\n",
    "    'f': 'json'\n",
    "}\n",
    "\n",
    "print(\"Requesting Token...\\n\")\n",
    "res = requests.post(auth_url, data=payload, verify=False)\n",
    "access_token = res.json()['access_token']\n",
    "print(f'Status: {res.status_code}')\n",
    "\n",
    "header = {'Authorization': 'Bearer ' + access_token}\n",
    "param = {'per_page': 200, 'page': 1}\n",
    "my_dataset = requests.get(activites_url, headers=header, params=param).json()"
   ]
  },
  {
   "cell_type": "code",
   "execution_count": 5,
   "id": "60b1a8f2-32f8-4540-9b35-8be06f613657",
   "metadata": {},
   "outputs": [],
   "source": [
    "# JSON\n",
    "activities = json_normalize(my_dataset)"
   ]
  },
  {
   "cell_type": "code",
   "execution_count": 6,
   "id": "c1380d27-1b82-4135-b564-ece3fcf18ea7",
   "metadata": {},
   "outputs": [],
   "source": [
    "# activities.head()"
   ]
  },
  {
   "cell_type": "code",
   "execution_count": 7,
   "id": "2d478b96-d9e9-4942-a3c2-03f8b3158e71",
   "metadata": {},
   "outputs": [
    {
     "data": {
      "text/plain": [
       "Index(['resource_state', 'name', 'distance', 'moving_time', 'elapsed_time',\n",
       "       'total_elevation_gain', 'type', 'sport_type', 'id', 'start_date',\n",
       "       'start_date_local', 'timezone', 'utc_offset', 'location_city',\n",
       "       'location_state', 'location_country', 'achievement_count',\n",
       "       'kudos_count', 'comment_count', 'athlete_count', 'photo_count',\n",
       "       'trainer', 'commute', 'manual', 'private', 'visibility', 'flagged',\n",
       "       'gear_id', 'start_latlng', 'end_latlng', 'average_speed', 'max_speed',\n",
       "       'has_heartrate', 'heartrate_opt_out', 'display_hide_heartrate_option',\n",
       "       'upload_id', 'upload_id_str', 'external_id', 'from_accepted_tag',\n",
       "       'pr_count', 'total_photo_count', 'has_kudoed', 'athlete.id',\n",
       "       'athlete.resource_state', 'map.id', 'map.summary_polyline',\n",
       "       'map.resource_state', 'workout_type', 'average_cadence',\n",
       "       'average_heartrate', 'max_heartrate', 'elev_high', 'elev_low',\n",
       "       'suffer_score', 'average_watts', 'max_watts', 'weighted_average_watts',\n",
       "       'kilojoules', 'device_watts'],\n",
       "      dtype='object')"
      ]
     },
     "execution_count": 7,
     "metadata": {},
     "output_type": "execute_result"
    }
   ],
   "source": [
    "activities.columns"
   ]
  },
  {
   "cell_type": "code",
   "execution_count": 8,
   "id": "a9212268-5b52-4530-97ee-a3eb6cdbea16",
   "metadata": {},
   "outputs": [],
   "source": [
    "#Break date into start time and date\n",
    "activities['start_date_local'] = pd.to_datetime(activities['start_date_local'])\n",
    "activities['start_time'] = activities['start_date_local'].dt.time\n",
    "activities['start_date_local'] = activities['start_date_local'].dt.date"
   ]
  },
  {
   "cell_type": "code",
   "execution_count": 9,
   "id": "fb563d7c-b050-47a5-a489-8c455ab28730",
   "metadata": {},
   "outputs": [],
   "source": [
    "# clean up to wanted columns\n",
    "cols = ['id', 'type', 'start_date_local', 'start_time', 'distance', 'moving_time', 'elapsed_time', \n",
    "        'average_speed', 'max_speed', 'average_cadence', 'average_heartrate', \n",
    "        'max_heartrate', 'suffer_score', 'total_elevation_gain', 'elev_high', \n",
    "        'elev_low']\n",
    "activities = activities[cols]\n",
    "activities = activities[activities['type'] == 'Ride']"
   ]
  },
  {
   "cell_type": "code",
   "execution_count": 10,
   "id": "b23ee453-729f-4c0a-b8e7-7d502ce2f5f5",
   "metadata": {},
   "outputs": [
    {
     "data": {
      "text/html": [
       "<div>\n",
       "<style scoped>\n",
       "    .dataframe tbody tr th:only-of-type {\n",
       "        vertical-align: middle;\n",
       "    }\n",
       "\n",
       "    .dataframe tbody tr th {\n",
       "        vertical-align: top;\n",
       "    }\n",
       "\n",
       "    .dataframe thead th {\n",
       "        text-align: right;\n",
       "    }\n",
       "</style>\n",
       "<table border=\"1\" class=\"dataframe\">\n",
       "  <thead>\n",
       "    <tr style=\"text-align: right;\">\n",
       "      <th></th>\n",
       "      <th>id</th>\n",
       "      <th>type</th>\n",
       "      <th>start_date_local</th>\n",
       "      <th>start_time</th>\n",
       "      <th>distance</th>\n",
       "      <th>moving_time</th>\n",
       "      <th>elapsed_time</th>\n",
       "      <th>average_speed</th>\n",
       "      <th>max_speed</th>\n",
       "      <th>average_cadence</th>\n",
       "      <th>average_heartrate</th>\n",
       "      <th>max_heartrate</th>\n",
       "      <th>suffer_score</th>\n",
       "      <th>total_elevation_gain</th>\n",
       "      <th>elev_high</th>\n",
       "      <th>elev_low</th>\n",
       "    </tr>\n",
       "  </thead>\n",
       "  <tbody>\n",
       "    <tr>\n",
       "      <th>3</th>\n",
       "      <td>7624700027</td>\n",
       "      <td>Ride</td>\n",
       "      <td>2022-08-11</td>\n",
       "      <td>15:20:11</td>\n",
       "      <td>26598.9</td>\n",
       "      <td>4575</td>\n",
       "      <td>4750</td>\n",
       "      <td>5.814</td>\n",
       "      <td>8.734</td>\n",
       "      <td>64.5</td>\n",
       "      <td>127.7</td>\n",
       "      <td>158.0</td>\n",
       "      <td>30.0</td>\n",
       "      <td>54.0</td>\n",
       "      <td>38.4</td>\n",
       "      <td>15.8</td>\n",
       "    </tr>\n",
       "    <tr>\n",
       "      <th>4</th>\n",
       "      <td>7611476714</td>\n",
       "      <td>Ride</td>\n",
       "      <td>2022-08-09</td>\n",
       "      <td>12:33:34</td>\n",
       "      <td>35604.4</td>\n",
       "      <td>6523</td>\n",
       "      <td>7927</td>\n",
       "      <td>5.458</td>\n",
       "      <td>8.480</td>\n",
       "      <td>61.9</td>\n",
       "      <td>128.0</td>\n",
       "      <td>156.0</td>\n",
       "      <td>44.0</td>\n",
       "      <td>101.0</td>\n",
       "      <td>38.4</td>\n",
       "      <td>8.4</td>\n",
       "    </tr>\n",
       "    <tr>\n",
       "      <th>5</th>\n",
       "      <td>7610864586</td>\n",
       "      <td>Ride</td>\n",
       "      <td>2022-08-09</td>\n",
       "      <td>11:52:46</td>\n",
       "      <td>4376.1</td>\n",
       "      <td>1559</td>\n",
       "      <td>1559</td>\n",
       "      <td>2.807</td>\n",
       "      <td>5.350</td>\n",
       "      <td>30.5</td>\n",
       "      <td>84.2</td>\n",
       "      <td>98.0</td>\n",
       "      <td>2.0</td>\n",
       "      <td>11.0</td>\n",
       "      <td>35.0</td>\n",
       "      <td>19.0</td>\n",
       "    </tr>\n",
       "    <tr>\n",
       "      <th>6</th>\n",
       "      <td>7599904305</td>\n",
       "      <td>Ride</td>\n",
       "      <td>2022-08-07</td>\n",
       "      <td>11:42:57</td>\n",
       "      <td>4563.0</td>\n",
       "      <td>715</td>\n",
       "      <td>779</td>\n",
       "      <td>6.382</td>\n",
       "      <td>7.659</td>\n",
       "      <td>73.5</td>\n",
       "      <td>131.1</td>\n",
       "      <td>151.0</td>\n",
       "      <td>5.0</td>\n",
       "      <td>4.0</td>\n",
       "      <td>36.2</td>\n",
       "      <td>28.4</td>\n",
       "    </tr>\n",
       "    <tr>\n",
       "      <th>7</th>\n",
       "      <td>7594679706</td>\n",
       "      <td>Ride</td>\n",
       "      <td>2022-08-06</td>\n",
       "      <td>13:31:46</td>\n",
       "      <td>50172.3</td>\n",
       "      <td>7711</td>\n",
       "      <td>9425</td>\n",
       "      <td>6.507</td>\n",
       "      <td>10.842</td>\n",
       "      <td>69.1</td>\n",
       "      <td>152.8</td>\n",
       "      <td>173.0</td>\n",
       "      <td>204.0</td>\n",
       "      <td>125.0</td>\n",
       "      <td>49.4</td>\n",
       "      <td>13.2</td>\n",
       "    </tr>\n",
       "  </tbody>\n",
       "</table>\n",
       "</div>"
      ],
      "text/plain": [
       "           id  type start_date_local start_time  distance  moving_time  \\\n",
       "3  7624700027  Ride       2022-08-11   15:20:11   26598.9         4575   \n",
       "4  7611476714  Ride       2022-08-09   12:33:34   35604.4         6523   \n",
       "5  7610864586  Ride       2022-08-09   11:52:46    4376.1         1559   \n",
       "6  7599904305  Ride       2022-08-07   11:42:57    4563.0          715   \n",
       "7  7594679706  Ride       2022-08-06   13:31:46   50172.3         7711   \n",
       "\n",
       "   elapsed_time  average_speed  max_speed  average_cadence  average_heartrate  \\\n",
       "3          4750          5.814      8.734             64.5              127.7   \n",
       "4          7927          5.458      8.480             61.9              128.0   \n",
       "5          1559          2.807      5.350             30.5               84.2   \n",
       "6           779          6.382      7.659             73.5              131.1   \n",
       "7          9425          6.507     10.842             69.1              152.8   \n",
       "\n",
       "   max_heartrate  suffer_score  total_elevation_gain  elev_high  elev_low  \n",
       "3          158.0          30.0                  54.0       38.4      15.8  \n",
       "4          156.0          44.0                 101.0       38.4       8.4  \n",
       "5           98.0           2.0                  11.0       35.0      19.0  \n",
       "6          151.0           5.0                   4.0       36.2      28.4  \n",
       "7          173.0         204.0                 125.0       49.4      13.2  "
      ]
     },
     "execution_count": 10,
     "metadata": {},
     "output_type": "execute_result"
    }
   ],
   "source": [
    "activities.head()"
   ]
  },
  {
   "cell_type": "code",
   "execution_count": 11,
   "id": "762e44f8-55df-47ce-985a-d817991d22d9",
   "metadata": {},
   "outputs": [
    {
     "data": {
      "text/plain": [
       "(96, 16)"
      ]
     },
     "execution_count": 11,
     "metadata": {},
     "output_type": "execute_result"
    }
   ],
   "source": [
    "activities.shape"
   ]
  },
  {
   "cell_type": "code",
   "execution_count": 14,
   "id": "3ad6c689-4fb6-438e-9103-deeebf4aa021",
   "metadata": {},
   "outputs": [],
   "source": [
    "# activities.to_csv('../data/strava.csv', index = False)"
   ]
  },
  {
   "cell_type": "code",
   "execution_count": null,
   "id": "6db29bb8-e1fc-40f3-a60f-b875f64f6984",
   "metadata": {},
   "outputs": [],
   "source": []
  }
 ],
 "metadata": {
  "kernelspec": {
   "display_name": "Python 3 (ipykernel)",
   "language": "python",
   "name": "python3"
  },
  "language_info": {
   "codemirror_mode": {
    "name": "ipython",
    "version": 3
   },
   "file_extension": ".py",
   "mimetype": "text/x-python",
   "name": "python",
   "nbconvert_exporter": "python",
   "pygments_lexer": "ipython3",
   "version": "3.9.12"
  }
 },
 "nbformat": 4,
 "nbformat_minor": 5
}
