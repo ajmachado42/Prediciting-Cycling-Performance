{
 "cells": [
  {
   "cell_type": "code",
   "execution_count": 3,
   "id": "914f3a73-1f10-42a7-b613-73df95d55a49",
   "metadata": {},
   "outputs": [],
   "source": [
    "import pandas as pd\n",
    "from pandas import json_normalize\n",
    "import numpy as np\n",
    "import seaborn as sns\n",
    "import matplotlib.pyplot as plt\n",
    "from datetime import datetime\n",
    "\n",
    "# https://towardsdatascience.com/data-science-for-cycling-how-to-read-gpx-strava-routes-with-python-e45714d5da23\n",
    "import gpxpy\n",
    "import gpxpy.gpx\n",
    "\n",
    "# Lesson 5.02\n",
    "from bs4 import BeautifulSoup\n",
    "import lxml\n",
    "\n",
    "# https://stackoverflow.com/questions/54873868/python-calculate-bearing-between-two-lat-long\n",
    "from geographiclib.geodesic import Geodesic\n",
    "\n",
    "%matplotlib inline\n",
    "pd.set_option('display.max_columns', None)\n",
    "\n",
    "import warnings\n",
    "warnings.simplefilter(\"ignore\")"
   ]
  },
  {
   "cell_type": "code",
   "execution_count": 4,
   "id": "acccdf86-9718-4bcf-8d1d-10f6404ddae6",
   "metadata": {},
   "outputs": [],
   "source": [
    "# Open .gpx file and parse xml\n",
    "with open('../data/Marin Century Classic 2022.gpx', 'r') as gpx_file:\n",
    "    gpx = gpxpy.parse(gpx_file)"
   ]
  },
  {
   "cell_type": "code",
   "execution_count": 5,
   "id": "ade28906-51e2-42a4-816e-d85b346f638c",
   "metadata": {},
   "outputs": [
    {
     "name": "stdout",
     "output_type": "stream",
     "text": [
      "Tracks: 1\n",
      "No. of Track Points: 2849\n"
     ]
    }
   ],
   "source": [
    "# check length of tracks\n",
    "print(f'Tracks: {len(gpx.tracks)}')\n",
    "# check number of data points\n",
    "print(f'No. of Track Points: {gpx.get_track_points_no()}')"
   ]
  },
  {
   "cell_type": "code",
   "execution_count": 8,
   "id": "901a54c5-ab6b-4ef8-bd11-60ad79aad99f",
   "metadata": {},
   "outputs": [
    {
     "data": {
      "text/plain": [
       "'<?xml version=\"1.0\" encoding=\"UTF-8\"?>\\n<gpx xmlns=\"http://www.topografix.com/GPX/1/1\" xmlns:xsi=\"http://www.w3.org/2001/XMLSchema-instance\" xsi:schemaLocation=\"http://www.topografix.com/GPX/1/1 http://www.topografix.com/GPX/1/1/gpx.xsd\" version=\"1.1\" creator=\"StravaGPX\">\\n  <metadata>\\n    <name>Marin Century Classic 2022</name>\\n    <author>\\n      <name>Adriana Machado</name>\\n      <link href=\"https://www.strava.com/athletes/7321904\">\\n      </link>\\n    </author>\\n    <copyright author=\"OpenStreetMap contributors\">\\n      <year>2020</year>\\n      <license>https://www.openstreetmap.org/copyright</license>\\n    </copyright>\\n    <link href=\"https://www.strava.com/routes/2951301224719649896\">\\n    </link>\\n  </metadata>\\n  <trk>\\n    <name>Marin Century Classic 2022</name>\\n    <link href=\"https://www.strava.com/routes/2951301224719649896\">\\n    </link>\\n    <type>Ride</type>\\n    <trkseg>\\n      <trkpt lat=\"38.11272\" lon=\"-122.65319000000001\">\\n        <ele>63.04</ele>\\n      </trkpt>\\n      <trkpt lat=\"38.11343\" lon=\"-122.65308000000002\">\\n        <ele>63.40000000000001</ele>\\n      </trkpt>\\n      <trkpt lat=\"38.1137\" lon=\"-122.65309\">\\n        <ele>63.68</ele>\\n      </trkpt>\\n      <trkpt lat=\"38.114250000000006\" lon=\"-122.65358\">\\n        <ele>64.76</ele>\\n      </trkpt>\\n      <trkpt lat=\"38.114610000000006\" lon=\"-122.65354\">\\n        <ele>65.55000000000001</ele>\\n      </trkpt>\\n      <trkpt lat=\"38.114810000000006\" lon=\"-122.65341000000001\">\\n        <ele>65.77000000000001</ele>\\n      </trkpt>\\n      <trkpt lat=\"38.114990000000006\" lon=\"-122.65309\">\\n        <ele>65.68</ele>\\n      </trkpt>\\n      <trkpt lat=\"38.115025002326384\" lon=\"-122.65235000023425\">\\n        <ele>65.03</ele>\\n      </trkpt>\\n      <trkpt lat=\"38.11506\" lon=\"-122.65161\">\\n        <ele>64.66000000000001</ele>\\n      </trkpt>\\n      <trkpt lat=\"38.11547\" lon=\"-122.6508\">\\n        <ele>65.0</ele>\\n      </trkpt>\\n      <trkpt lat=\"38.11563\" lon=\"-122.65031\">\\n        <ele>64.39999999999999</ele>\\n      </trkpt>\\n      <trkpt lat=\"38.115730'"
      ]
     },
     "execution_count": 8,
     "metadata": {},
     "output_type": "execute_result"
    }
   ],
   "source": [
    "gpx.to_xml()[:2000]"
   ]
  },
  {
   "cell_type": "code",
   "execution_count": 9,
   "id": "984021aa-dc0a-4a83-a6db-2b152d4da52b",
   "metadata": {},
   "outputs": [],
   "source": [
    "# lat, lon, and elevation from gpx file\n",
    "route_info = []\n",
    "\n",
    "for track in gpx.tracks:\n",
    "    for segment in track.segments:\n",
    "        for point in segment.points:\n",
    "            route_info.append({\n",
    "                'latitude': point.latitude,\n",
    "                'longitude': point.longitude,\n",
    "                'elevation': point.elevation,\n",
    "            })"
   ]
  },
  {
   "cell_type": "code",
   "execution_count": 11,
   "id": "e2d01804-8eb7-4330-8c61-3118c677e768",
   "metadata": {},
   "outputs": [],
   "source": [
    "route_df = pd.DataFrame(route_info)"
   ]
  },
  {
   "cell_type": "code",
   "execution_count": 12,
   "id": "c2241a20-5cf5-48e2-80e5-42419e1002ec",
   "metadata": {},
   "outputs": [
    {
     "data": {
      "text/html": [
       "<div>\n",
       "<style scoped>\n",
       "    .dataframe tbody tr th:only-of-type {\n",
       "        vertical-align: middle;\n",
       "    }\n",
       "\n",
       "    .dataframe tbody tr th {\n",
       "        vertical-align: top;\n",
       "    }\n",
       "\n",
       "    .dataframe thead th {\n",
       "        text-align: right;\n",
       "    }\n",
       "</style>\n",
       "<table border=\"1\" class=\"dataframe\">\n",
       "  <thead>\n",
       "    <tr style=\"text-align: right;\">\n",
       "      <th></th>\n",
       "      <th>latitude</th>\n",
       "      <th>longitude</th>\n",
       "      <th>elevation</th>\n",
       "    </tr>\n",
       "  </thead>\n",
       "  <tbody>\n",
       "    <tr>\n",
       "      <th>0</th>\n",
       "      <td>38.11272</td>\n",
       "      <td>-122.65319</td>\n",
       "      <td>63.04</td>\n",
       "    </tr>\n",
       "    <tr>\n",
       "      <th>1</th>\n",
       "      <td>38.11343</td>\n",
       "      <td>-122.65308</td>\n",
       "      <td>63.40</td>\n",
       "    </tr>\n",
       "    <tr>\n",
       "      <th>2</th>\n",
       "      <td>38.11370</td>\n",
       "      <td>-122.65309</td>\n",
       "      <td>63.68</td>\n",
       "    </tr>\n",
       "    <tr>\n",
       "      <th>3</th>\n",
       "      <td>38.11425</td>\n",
       "      <td>-122.65358</td>\n",
       "      <td>64.76</td>\n",
       "    </tr>\n",
       "    <tr>\n",
       "      <th>4</th>\n",
       "      <td>38.11461</td>\n",
       "      <td>-122.65354</td>\n",
       "      <td>65.55</td>\n",
       "    </tr>\n",
       "  </tbody>\n",
       "</table>\n",
       "</div>"
      ],
      "text/plain": [
       "   latitude  longitude  elevation\n",
       "0  38.11272 -122.65319      63.04\n",
       "1  38.11343 -122.65308      63.40\n",
       "2  38.11370 -122.65309      63.68\n",
       "3  38.11425 -122.65358      64.76\n",
       "4  38.11461 -122.65354      65.55"
      ]
     },
     "execution_count": 12,
     "metadata": {},
     "output_type": "execute_result"
    }
   ],
   "source": [
    "route_df.head()"
   ]
  },
  {
   "cell_type": "code",
   "execution_count": null,
   "id": "fa436a65-0b5d-4c8e-8ac6-a4947c15eed8",
   "metadata": {},
   "outputs": [],
   "source": []
  }
 ],
 "metadata": {
  "kernelspec": {
   "display_name": "Python 3 (ipykernel)",
   "language": "python",
   "name": "python3"
  },
  "language_info": {
   "codemirror_mode": {
    "name": "ipython",
    "version": 3
   },
   "file_extension": ".py",
   "mimetype": "text/x-python",
   "name": "python",
   "nbconvert_exporter": "python",
   "pygments_lexer": "ipython3",
   "version": "3.9.12"
  }
 },
 "nbformat": 4,
 "nbformat_minor": 5
}
